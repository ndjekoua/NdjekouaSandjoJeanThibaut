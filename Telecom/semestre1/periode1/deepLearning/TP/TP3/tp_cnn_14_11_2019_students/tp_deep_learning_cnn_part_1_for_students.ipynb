{
  "nbformat": 4,
  "nbformat_minor": 0,
  "metadata": {
    "kernelspec": {
      "display_name": "Python 3",
      "language": "python",
      "name": "python3"
    },
    "language_info": {
      "codemirror_mode": {
        "name": "ipython",
        "version": 3
      },
      "file_extension": ".py",
      "mimetype": "text/x-python",
      "name": "python",
      "nbconvert_exporter": "python",
      "pygments_lexer": "ipython3",
      "version": "3.6.7"
    },
    "colab": {
      "name": "tp_deep_learning_cnn_part_1_for_students.ipynb",
      "provenance": []
    }
  },
  "cells": [
    {
      "cell_type": "markdown",
      "metadata": {
        "id": "BeEke7QMpRec",
        "colab_type": "text"
      },
      "source": [
        "# TP Coding Convolutional Neural Networks in tensorflow and keras\n",
        "\n",
        "TP author : Geoffroy Peeters, Alasdair Newson\n",
        "\n",
        "### Objective:\n",
        "\n",
        "We want to implement a Convolutional Neural Network (CNN) to do image recognition. For this we will use the well-known CIFAR-10 dataset https://www.cs.toronto.edu/~kriz/cifar.html.\n",
        "\n",
        "The CIFAR-10 dataset consists of 60000 32x32 colour images in 10 classes, with 6000 images per class. There are 50000 training images and 10000 test images.\n",
        "\n",
        "We will first code the simple ConvNet described below using \n",
        "- tensorflow https://www.tensorflow.org\n",
        "\n",
        "then do the same using\n",
        "- keras : https://keras.io\n",
        "\n",
        "\n",
        "The input of the CNN is a set of (32,32,3) image tensors. We apply :\n",
        "\n",
        "    - a Convolutional layer of 32 filters of shape (3,3), with stride (1,1) and padding='same' (i.e. we do not apply zero-padding)\n",
        "    - a ReLu activation function\n",
        "    \n",
        "    - a Convolutional layer of 32 filters of shape (3,3), with stride (1,1) and padding='same' (i.e. we do not apply zero-padding)\n",
        "    - a ReLu activation function\n",
        "    - a Max Pooling Layer of shape (2,2) and stride (2,2) (i.e. we reduce by two the size in each dimension)\n",
        "    \n",
        "    - a Convolutional layer of 32 filters of shape (3,3), with stride (1,1) and padding='same' (i.e. we do not apply zero-padding)\n",
        "    - a ReLu activation function\n",
        "    - a Max Pooling Layer of shape (2,2) and stride (2,2) (i.e. we reduce by two the size in each dimension)\n",
        "    \n",
        "    - We then Flatten the data (reduce them to a vector in order to be able to apply a Fully-Connected layer to it)\n",
        "    - A softmax activation function which outputs are the $P(y_c | X)$ (multi-class problem)\n",
        "\n",
        "### Your task:\n",
        "You need to add the missing parts in the code (parts between # --- START CODE HERE and # --- END CODE HERE)"
      ]
    },
    {
      "cell_type": "markdown",
      "metadata": {
        "id": "MiunbZbLpRed",
        "colab_type": "text"
      },
      "source": [
        "# Load packages"
      ]
    },
    {
      "cell_type": "code",
      "metadata": {
        "id": "moNqw2H0pRed",
        "colab_type": "code",
        "colab": {}
      },
      "source": [
        "%matplotlib inline\n",
        "import matplotlib.pyplot as plt\n",
        "import numpy as np"
      ],
      "execution_count": 0,
      "outputs": []
    },
    {
      "cell_type": "markdown",
      "metadata": {
        "id": "fo60o8ZRpRef",
        "colab_type": "text"
      },
      "source": [
        "## Import data\n",
        "\n",
        "We first import CIFAR-10 dataset."
      ]
    },
    {
      "cell_type": "code",
      "metadata": {
        "id": "SQMlCgbOpReg",
        "colab_type": "code",
        "outputId": "abe10f89-c5fc-4b64-aa21-f25abcae4d5d",
        "colab": {
          "base_uri": "https://localhost:8080/",
          "height": 67
        }
      },
      "source": [
        "from keras.utils.np_utils import to_categorical\n",
        "\n",
        "from keras.datasets import cifar10\n",
        "(X_train, y_train), (X_test, y_test) = cifar10.load_data()\n",
        "\n",
        "print(X_train.shape)\n",
        "print(X_test.shape)\n",
        "print(np.unique(y_train))"
      ],
      "execution_count": 46,
      "outputs": [
        {
          "output_type": "stream",
          "text": [
            "(50000, 32, 32, 3)\n",
            "(10000, 32, 32, 3)\n",
            "[0 1 2 3 4 5 6 7 8 9]\n"
          ],
          "name": "stdout"
        }
      ]
    },
    {
      "cell_type": "markdown",
      "metadata": {
        "id": "bjEhPjd-pRei",
        "colab_type": "text"
      },
      "source": [
        "The CIFAR-10 dataset has 10 classes. These are the following :"
      ]
    },
    {
      "cell_type": "code",
      "metadata": {
        "id": "lcB7tDmvpRei",
        "colab_type": "code",
        "colab": {}
      },
      "source": [
        "cifar_10_list = [ 'airplane', 'automobile','bird','cat','deer','dog','frog','horse','ship','truck']"
      ],
      "execution_count": 0,
      "outputs": []
    },
    {
      "cell_type": "markdown",
      "metadata": {
        "id": "y50oxEo_pRek",
        "colab_type": "text"
      },
      "source": [
        "### Display some of the images"
      ]
    },
    {
      "cell_type": "code",
      "metadata": {
        "id": "kOyKAd1WpRel",
        "colab_type": "code",
        "outputId": "292d672c-99ae-488e-a5b4-d1c4baf69163",
        "colab": {
          "base_uri": "https://localhost:8080/",
          "height": 338
        }
      },
      "source": [
        "#without plt the images will not remain; it will just print the last one.\n",
        "plt.figure(figsize=(10, 6))\n",
        "for idx,i in enumerate(range(100,110)):\n",
        "    plt.subplot(2, 5, idx+1)\n",
        "    plt.imshow(X_train[i, :, :, :])\n",
        "    plt.title(cifar_10_list[int(y_train[i])])"
      ],
      "execution_count": 48,
      "outputs": [
        {
          "output_type": "display_data",
          "data": {
            "image/png": "[encoded data removed]",
            "text/plain": [
              "<Figure size 720x432 with 10 Axes>"
            ]
          },
          "metadata": {
            "tags": []
          }
        }
      ]
    },
    {
      "cell_type": "code",
      "metadata": {
        "id": "tnWIhjHTpRen",
        "colab_type": "code",
        "outputId": "3ffff6b5-9575-49b8-a82b-129cd47fcbe2",
        "colab": {
          "base_uri": "https://localhost:8080/",
          "height": 34
        }
      },
      "source": [
        "y_train.shape"
      ],
      "execution_count": 49,
      "outputs": [
        {
          "output_type": "execute_result",
          "data": {
            "text/plain": [
              "(50000, 1)"
            ]
          },
          "metadata": {
            "tags": []
          },
          "execution_count": 49
        }
      ]
    },
    {
      "cell_type": "markdown",
      "metadata": {
        "id": "DJgy1atLpReo",
        "colab_type": "text"
      },
      "source": [
        "## Format conversion\n",
        "\n",
        "We now convert the format of the data. In the case of CNNs, and contrary to MLPs, the inputs are not simply vectors of arbitrary size. For example, in the case of images, it is important to distinguish the different dimensions (otherwise the network would not know how to carry out convolutions). Therefore, you need to carry out the following operation :\n",
        "\n",
        "- reshape the input ```X_train```and ```X_test``` to a set of matrices of size (32,32) and depth 3 (for the 3 R,G,B colors), convert the data to float32 and normalize them in the range [0,1]. The final dimensions of the image data should be : [batch_size, height, width, n_channels]\n",
        "\n",
        "Furthermore, as in the previous lab work, you must also convert the label vectors to matrices with k columns, where k is the number of classes. This allows us to carry out the cross-entropy for multi-class problems. Therefore :\n",
        "\n",
        "- convert the output label ```y_train``` and ```y_test``` to one-hot encoding format."
      ]
    },
    {
      "cell_type": "code",
      "metadata": {
        "id": "2BtgxJCipRep",
        "colab_type": "code",
        "outputId": "7403c2ff-d88d-4150-9753-001c0b0c7ef5",
        "colab": {
          "base_uri": "https://localhost:8080/",
          "height": 118
        }
      },
      "source": [
        "# input image dimensions\n",
        "img_rows, img_cols, nb_channels = 32, 32, 3\n",
        "nb_classes = 10\n",
        "#print(\"training before\", X_train.shape[0])\n",
        "# In case depth is 1 (black and white pictures) -> reshape to proper format\n",
        "X_train = X_train.reshape(X_train.shape[0], img_rows, img_cols, nb_channels)\n",
        "X_test = X_test.reshape(X_test.shape[0], img_rows, img_cols, nb_channels)\n",
        "\n",
        "X_train = X_train.astype('float32')\n",
        "X_test = X_test.astype('float32')\n",
        "X_train /= 255\n",
        "X_test /= 255\n",
        "\n",
        "#it's very important to convert classes to categorical for multiclass classification problems because it allows to use the sofmax\n",
        "#activation function; the tensorflow example for to_categorical method explain it very well.\n",
        "#This operation correspond to taking each class and converting it to OHE vector so the dimenssions of Y_train will be 5000(labels of each data point)*10(total number of classes)\n",
        "Y_train = to_categorical(y_train)\n",
        "Y_test = to_categorical(y_test)\n",
        "\n",
        "print('X_train shape:', X_train.shape)\n",
        "print('y_train shape:', y_train.shape)\n",
        "print('Y_train shape:', Y_train.shape)\n",
        "print('There is {} train data'.format(X_train.shape[0]))\n",
        "print('There is {} test data'.format(X_test.shape[0]))\n",
        "print(img_rows, img_cols, nb_channels)"
      ],
      "execution_count": 50,
      "outputs": [
        {
          "output_type": "stream",
          "text": [
            "X_train shape: (50000, 32, 32, 3)\n",
            "y_train shape: (50000, 1)\n",
            "Y_train shape: (50000, 10)\n",
            "There is 50000 train data\n",
            "There is 10000 test data\n",
            "32 32 3\n"
          ],
          "name": "stdout"
        }
      ]
    },
    {
      "cell_type": "markdown",
      "metadata": {
        "id": "PGrZG4ubpRer",
        "colab_type": "text"
      },
      "source": [
        "For memory and speed reasons, we are going to reduce the amount of training data :"
      ]
    },
    {
      "cell_type": "code",
      "metadata": {
        "id": "7-GhMN9mpRes",
        "colab_type": "code",
        "outputId": "af9bce07-855c-4fe4-84c7-5d17b5a4c11b",
        "colab": {
          "base_uri": "https://localhost:8080/",
          "height": 50
        }
      },
      "source": [
        "n_train_samples = 10000\n",
        "X_train = X_train[0:n_train_samples,:,:,:]\n",
        "Y_train = Y_train[0:n_train_samples,:]\n",
        "print(X_train.shape)\n",
        "print(Y_train.shape)"
      ],
      "execution_count": 51,
      "outputs": [
        {
          "output_type": "stream",
          "text": [
            "(10000, 32, 32, 3)\n",
            "(10000, 10)\n"
          ],
          "name": "stdout"
        }
      ]
    },
    {
      "cell_type": "markdown",
      "metadata": {
        "id": "9-wUksZKpReu",
        "colab_type": "text"
      },
      "source": [
        "# 1. CNN with tensorflow\n",
        "\n",
        "We are now going to create a CNN with Tensorflow, and train it on the previously loaded CIFAR dataset.\n",
        "- First define the input and output using ```tf.placeholder```\n",
        "- Define the weights W1,b1,W2,b2 of the CNN using ```tf.variable``` or ```tf.get_variable```\n",
        "    - You can initialize them using ```tf.contrib.layers.xavier_initializer```(see https://www.tensorflow.org/api_docs/python/tf/contrib/layers/xavier_initializer)\n",
        "- Perform the convolution using ```tf.nn.conv2d``` \n",
        "- Apply the activation function using ```tf.nn.relu```\n",
        "- Perform the max pooling using ```tf.nn.max_pool```\n",
        "- Flatten the output of the convolution using ```tf.contrib.layers.flatten```\n",
        "- Perform the Fully-Connected part using ```tf.contrib.layers.fully_connected```\n",
        "\n",
        "Also, note that in Tensorflow, you can carry out the softmax + cross entropy all in one step with the following function :\n",
        "\n",
        "- ```tf.nn.softmax_cross_entropy_with_logits()```\n",
        "\n",
        "This has the advantage of being optimised and stabilised by the programmers who wrote Tensorflow, so that you do not have numerical problems.\n",
        "\n",
        "$\\textbf{IMPORTANT NOTE}$ : Please note that this part in Tensorflow is just so that you have had some experience with CNNs in Tensorflow. So do not spend a lot of time trying to get great accuracy results. If you want to do this, do it in the Keras part."
      ]
    },
    {
      "cell_type": "code",
      "metadata": {
        "id": "8UHC0eHupReu",
        "colab_type": "code",
        "colab": {}
      },
      "source": [
        "import tensorflow as tf\n",
        "\n",
        "learning_rate = 0.01\n",
        "n_epochs = 20\n",
        "batch_size = 64\n",
        "\n",
        "# number of convolutional filters to use\n",
        "nb_filters = 32\n",
        "# convolution kernel size\n",
        "kernelSize = (3, 3)\n",
        "# size of pooling area for max pooling\n",
        "pool_size = (2, 2)\n",
        "\n",
        "\n",
        "# --- Size of the successice layers\n",
        "n_h_0 = nb_channels\n",
        "n_h_1 = nb_filters\n",
        "n_h_2 = nb_filters\n",
        "n_h_3 = nb_filters\n"
      ],
      "execution_count": 0,
      "outputs": []
    },
    {
      "cell_type": "code",
      "metadata": {
        "id": "7RhNpJBgpRew",
        "colab_type": "code",
        "outputId": "3de312be-2cbf-4785-a746-5bcfc4d94ec8",
        "colab": {
          "base_uri": "https://localhost:8080/",
          "height": 50
        }
      },
      "source": [
        "tf.reset_default_graph()\n",
        "\n",
        "# input tensor are of shape [batch, in_height, in_width, in_channels]  \n",
        "# filter / kernel tensor are of shape [filter_height, filter_width, in_channels, out_channels]\n",
        "\n",
        "# --- START CODE HERE\n",
        "\n",
        "#define the input\n",
        "filter_dimession = 3\n",
        "initializer = tf.contrib.layers.xavier_initializer()\n",
        "\n",
        "#tf.placeholder() i used the declare the input a nd the ouput of the network.\n",
        "X_input = tf.placeholder(tf.float32,shape = [None,img_rows,img_cols,nb_channels] , name =\"input\")\n",
        "Y_output = tf.placeholder(tf.float32,shape = [None,nb_classes],name = \"output\")\n",
        "\n",
        "\n",
        "#W1 represent the weights(which are also the filters); the shape should be something like (size1,size2,in_channels,out_channels)\n",
        "#it's important to notice each filter is associated with one bias!!\n",
        "W1 = tf.get_variable(initializer=tf.contrib.layers.xavier_initializer() , shape =[filter_dimession,filter_dimession, n_h_0, n_h_1] , name = \"weights1\" )\n",
        "b1 = tf.get_variable(initializer=tf.contrib.layers.xavier_initializer(),shape=[32],trainable=True, name='biases1')\n",
        "#W1 = tf.add(W1,b1)\n",
        "\n",
        "W2 = tf.get_variable(name = \"weights2\" ,shape = [filter_dimession,filter_dimession, n_h_1, n_h_2],initializer=tf.contrib.layers.xavier_initializer()  )\n",
        "b2 = tf.get_variable(initializer=tf.contrib.layers.xavier_initializer(), shape=[32],trainable=True, name='biases2')\n",
        "#W2 = tf.add(W2,b2)\n",
        "\n",
        "W3 = tf.get_variable(initializer=tf.contrib.layers.xavier_initializer() , shape = [filter_dimession,filter_dimession, n_h_2, n_h_3], name = \"weights3\" )\n",
        "b3 = tf.get_variable(initializer=tf.contrib.layers.xavier_initializer(), shape=[32],trainable=True, name='biases3')\n",
        "#W3 = tf.add(W3,b3)\n",
        "\n",
        "#NB: NEVER INITIALIZE WEIGHTS WITH ZEROS, BECAUSE THIS LEAD TO A REALLY BAD ACCURACY!!!!\n",
        "conv1 = tf.nn.conv2d(input = X_input, filter= W1,strides = [1,1],padding= \"SAME\",name=\"conv1\")\n",
        "conv1 = tf.nn.bias_add(conv1,b1)\n",
        "conv1 = tf.nn.relu(conv1, name = \"relu1\")\n",
        "\n",
        "conv2 = tf.nn.conv2d(conv1 , filter = W2 ,strides = [1,1],padding= \"SAME\",name=\"conv2\")\n",
        "conv2 = tf.nn.bias_add(conv2,b2)\n",
        "conv2 = tf.nn.relu(conv2, name = \"relu2\")\n",
        "\n",
        "pool1 = tf.nn.max_pool(conv2, ksize=pool_size, strides=pool_size,padding= \"SAME\")\n",
        "\n",
        "conv3 = tf.nn.conv2d(pool1, filter = W3,strides = [1,1],padding= \"SAME\",name=\"conv3\")\n",
        "conv3 = tf.nn.bias_add(conv3,b3)\n",
        "conv3 = tf.nn.relu(conv3, name = \"relu3\")\n",
        "\n",
        "pool2 = tf.nn.max_pool(conv3, ksize=pool_size, strides=pool_size, padding= \"SAME\")\n",
        "\n",
        "flattened_output = tf.contrib.layers.flatten(pool2)\n",
        "\n",
        "print(flattened_output.shape)\n",
        "Z4 = tf.contrib.layers.fully_connected(inputs = flattened_output , num_outputs= nb_classes,\n",
        "                           weights_initializer =tf.contrib.layers.xavier_initializer()\n",
        "                          ,biases_initializer=tf.zeros_initializer(),activation_fn = None)\n",
        "\n",
        "print(Z4.shape)\n",
        "# --- END CODE HERE\n",
        "\n",
        "cost = tf.reduce_mean(tf.nn.softmax_cross_entropy_with_logits(logits = Z4, labels = Y_output))\n",
        "optimizer = tf.train.AdamOptimizer(learning_rate = learning_rate).minimize(cost)"
      ],
      "execution_count": 53,
      "outputs": [
        {
          "output_type": "stream",
          "text": [
            "(?, 2048)\n",
            "(?, 10)\n"
          ],
          "name": "stdout"
        }
      ]
    },
    {
      "cell_type": "markdown",
      "metadata": {
        "id": "AIndCH4rpRey",
        "colab_type": "text"
      },
      "source": [
        "## Train the model"
      ]
    },
    {
      "cell_type": "code",
      "metadata": {
        "id": "OmcVxvKspRey",
        "colab_type": "code",
        "outputId": "f9461c0d-dccf-450b-84c7-d67e0e942134",
        "colab": {
          "base_uri": "https://localhost:8080/",
          "height": 665
        }
      },
      "source": [
        "init = tf.global_variables_initializer()\n",
        "#np.ceil(x) will return the smalles integer greater than x\n",
        "n_batches = int(np.ceil(X_train.shape[0] / float(batch_size)))\n",
        "costs = []\n",
        "with tf.Session() as sess:\n",
        "    #this will initialize al the required variblaes declared using the satement tf.varibale()\n",
        "    sess.run(init)\n",
        "    \n",
        "    for epoch in range(n_epochs):\n",
        "        minibatch_cost = 0.\n",
        "        for batch_idx in range(n_batches):\n",
        "            # BEGIN CODE HERE\n",
        "            #this subdivions of the input is mainly to make the training faster and avoid memory issues!!\n",
        "            X_batch = X_train[batch_idx*batch_size:batch_idx*batch_size+batch_size,:,:,:]\n",
        "            y_batch = Y_train[batch_idx*batch_size:batch_idx*batch_size+batch_size,:]\n",
        "            #temp_cost = cost.eval({X_input: X_batch, Y_output: y_batch})\n",
        "            opt,temp_cost = sess.run([optimizer,cost], feed_dict= {X_input: X_batch, Y_output: y_batch}) \n",
        "            # END CODE HERE\n",
        "            minibatch_cost += temp_cost / n_batches\n",
        "\n",
        "        if epoch % 1 == 0:\n",
        "            print (\"Cost after epoch %i: %f\" % (epoch, minibatch_cost))\n",
        "            \n",
        "        costs.append(minibatch_cost) \n",
        "        \n",
        "    plt.plot(np.squeeze(costs))\n",
        "    plt.ylabel('cost')\n",
        "    plt.xlabel('iterations (per tens)')\n",
        "    plt.title(\"Learning rate =\" + str(learning_rate))\n",
        "    plt.show()\n",
        "\n",
        "    # Calculate the correct predictions\n",
        "    predict_op = tf.argmax(Z4, 1)\n",
        "    correct_prediction = tf.equal(predict_op, tf.argmax(Y_output, 1))\n",
        "\n",
        "    # Calculate accuracy on the test set\n",
        "    accuracy = tf.reduce_mean(tf.cast(correct_prediction, \"float\"))\n",
        "    print(accuracy)\n",
        "    train_accuracy = accuracy.eval({X_input: X_train, Y_output: Y_train})\n",
        "    test_accuracy = accuracy.eval({X_input: X_test, Y_output: Y_test})\n",
        "    print(\"Train Accuracy:\", train_accuracy)\n",
        "    print(\"Test Accuracy:\", test_accuracy)\n",
        "    \n"
      ],
      "execution_count": 54,
      "outputs": [
        {
          "output_type": "stream",
          "text": [
            "Cost after epoch 0: 2.062121\n",
            "Cost after epoch 1: 1.714115\n",
            "Cost after epoch 2: 1.587963\n",
            "Cost after epoch 3: 1.525890\n",
            "Cost after epoch 4: 1.476500\n",
            "Cost after epoch 5: 1.455305\n",
            "Cost after epoch 6: 1.451705\n",
            "Cost after epoch 7: 1.413537\n",
            "Cost after epoch 8: 1.364494\n",
            "Cost after epoch 10: 1.321474\n",
            "Cost after epoch 11: 1.302775\n",
            "Cost after epoch 12: 1.317452\n",
            "Cost after epoch 13: 1.277948\n",
            "Cost after epoch 14: 1.284743\n",
            "Cost after epoch 15: 1.255873\n",
            "Cost after epoch 16: 1.271188\n",
            "Cost after epoch 17: 1.256302\n",
            "Cost after epoch 18: 1.257341\n",
            "Cost after epoch 19: 1.237325\n"
          ],
          "name": "stdout"
        },
        {
          "output_type": "display_data",
          "data": {
            "image/png": "[encoded data removed]",
            "text/plain": [
              "<Figure size 432x288 with 1 Axes>"
            ]
          },
          "metadata": {
            "tags": []
          }
        },
        {
          "output_type": "stream",
          "text": [
            "Tensor(\"Mean_1:0\", shape=(), dtype=float32)\n",
            "Train Accuracy: 0.5809\n",
            "Test Accuracy: 0.4859\n"
          ],
          "name": "stdout"
        }
      ]
    },
    {
      "cell_type": "markdown",
      "metadata": {
        "id": "1u5L4IUYpRe0",
        "colab_type": "text"
      },
      "source": [
        "The train accuracy after 20 epochs should be around 0.5. You do not have to push the training further than this, just make sure that the loss decreases and that the accuracy is reasonable. We will now create the same network in Keras."
      ]
    },
    {
      "cell_type": "markdown",
      "metadata": {
        "id": "okmMhjPQpRe1",
        "colab_type": "text"
      },
      "source": [
        "# 2. CNN with keras"
      ]
    },
    {
      "cell_type": "markdown",
      "metadata": {
        "id": "BuiUdDzlpRe1",
        "colab_type": "text"
      },
      "source": [
        "We are now going to create the same network with Keras. As we shall see, the interface is quite simplified in comparison to Tensorflow.\n",
        "\n",
        "## We first import keras packages"
      ]
    },
    {
      "cell_type": "code",
      "metadata": {
        "id": "h8esJnJQpRe2",
        "colab_type": "code",
        "outputId": "ca4d3ae9-937f-444e-d3d0-ee6d3cc8386b",
        "colab": {
          "base_uri": "https://localhost:8080/",
          "height": 34
        }
      },
      "source": [
        "tf.reset_default_graph()\n",
        "import keras\n",
        "from keras.models import Sequential, Model\n",
        "from keras.layers import Dense, Dropout, Activation, Flatten, Input\n",
        "from keras.layers import Conv2D, MaxPooling2D\n",
        "from keras import optimizers\n",
        "print(keras.__version__)"
      ],
      "execution_count": 11,
      "outputs": [
        {
          "output_type": "stream",
          "text": [
            "2.2.5\n"
          ],
          "name": "stdout"
        }
      ]
    },
    {
      "cell_type": "markdown",
      "metadata": {
        "id": "YueGrHzGpRe3",
        "colab_type": "text"
      },
      "source": [
        "## We define the parameters of the model, and of the training"
      ]
    },
    {
      "cell_type": "code",
      "metadata": {
        "id": "MBlQ2q8-pRe4",
        "colab_type": "code",
        "colab": {}
      },
      "source": [
        "input_shape = (img_rows, img_cols, nb_channels)"
      ],
      "execution_count": 0,
      "outputs": []
    },
    {
      "cell_type": "markdown",
      "metadata": {
        "id": "IhZpGkvIpRe6",
        "colab_type": "text"
      },
      "source": [
        "## Creating the CNN model in Keras using the Sequential API\n",
        "\n",
        "Keras has a simple way of adding layers to create a neural network. First, you can indicate to Keras that the model is 'sequential', that is to say, a straight-forward CNN. For this, you can use the following function :\n",
        "- ```model = Sequential()```\n",
        "\n",
        "After this, you can add layers with the function.\n",
        "\n",
        "- ```model.add()```\n",
        "\n",
        "You can then use the ```Conv2D```, ```Activation```, ```MaxPooling2D```, ```Flatten``` and ```Dense``` (fully connected) functions to specify different layer types. Note that in the case of this approach, you will have to specify the input image size in the first layer of the network. So, for example, if the first layer is convolutional :\n",
        "\n",
        "- model = Sequential()\n",
        "- model.add(Conv2D(nb_filters, kernel_size, input_shape=input_shape, name='Conv1'))\n",
        "\n",
        "\n",
        "## Creating the CNN model in Keras using the standard API\n",
        "\n",
        "Otherwise, another approach to creating the model is to explicitly create the input variable, and just cascade the different functions, as in Tensorflow. So, for the same example, we would have :\n",
        "\n",
        "- input = Input(shape=(img_rows,img_cols,nb_channels))\n",
        "- output = Conv2D(input_shape=self.img_shape,filters=nb_filters,kernel_size=kernel_size)(input)\n",
        "- model = Model(input, output)\n",
        "\n",
        "Create your CNN now with the network parameters specified above."
      ]
    },
    {
      "cell_type": "code",
      "metadata": {
        "id": "L3udj5mtpRe7",
        "colab_type": "code",
        "colab": {}
      },
      "source": [
        "# --- START CODE HERE\n",
        "nb_classes = 10\n",
        "model = Sequential()\n",
        "filter_size = (3,3)\n",
        "#the initialization of the kernel influences a lot the performance of the algorithm: different initializers have different impact.\n",
        "model.add(Conv2D(filters = 32, kernel_size = (3, 3), activation='relu',padding= \"same\",kernel_initializer= keras.initializers.RandomUniform(minval=-0.05, maxval=0.05, seed=None), input_shape=input_shape))\n",
        "\n",
        "model.add(Conv2D(filters = nb_filters, kernel_size = filter_size, activation='relu',padding =\"same\", kernel_initializer= \"random_uniform\",name='conv_2'))\n",
        "model.add(MaxPooling2D((2, 2)))\n",
        "\n",
        "model.add(Conv2D(filters = nb_filters, kernel_size = filter_size, activation='relu',padding =\"same\",kernel_initializer= \"random_uniform\", name='conv_3'))\n",
        "model.add(MaxPooling2D((2, 2), padding=\"same\"))\n",
        "\n",
        "model.add(Flatten())\n",
        "model.add(Dense(nb_classes, activation='softmax', name='dense_1'))\n",
        "\n",
        "# --- END CODE HERE"
      ],
      "execution_count": 0,
      "outputs": []
    },
    {
      "cell_type": "markdown",
      "metadata": {
        "id": "iUa95f7NpRe9",
        "colab_type": "text"
      },
      "source": [
        "## Compile the model\n",
        "\n",
        "We define here the ```loss``` that we will minimize and the ```optimizer``` (the specific algorithm used to perform gradient descent)."
      ]
    },
    {
      "cell_type": "code",
      "metadata": {
        "id": "NK8MS4pNpRe-",
        "colab_type": "code",
        "colab": {}
      },
      "source": [
        "model.compile(loss='categorical_crossentropy',\n",
        "              optimizer=optimizers.Adam(lr=learning_rate),\n",
        "              metrics=['accuracy'])"
      ],
      "execution_count": 0,
      "outputs": []
    },
    {
      "cell_type": "markdown",
      "metadata": {
        "id": "vaQt1oOupRfA",
        "colab_type": "text"
      },
      "source": [
        "## We display a summary of the model created (but not yet trained)"
      ]
    },
    {
      "cell_type": "code",
      "metadata": {
        "id": "nQB7mhaIpRfB",
        "colab_type": "code",
        "outputId": "2acdde14-348c-4b92-8333-1ffd3fbf32e3",
        "colab": {
          "base_uri": "https://localhost:8080/",
          "height": 386
        }
      },
      "source": [
        "#the number of trainable of parameters at each layers is equal to total number of weight of all the filters at each layer.\n",
        "#In this case 3*3(size of each filter) * 3(depth of each filter)*32(total number of filters at the first layer) + 32(each filter has a bias) = 896\n",
        "model.summary()"
      ],
      "execution_count": 38,
      "outputs": [
        {
          "output_type": "stream",
          "text": [
            "Model: \"sequential_4\"\n",
            "_________________________________________________________________\n",
            "Layer (type)                 Output Shape              Param #   \n",
            "=================================================================\n",
            "conv2d_2 (Conv2D)            (None, 32, 32, 32)        896       \n",
            "_________________________________________________________________\n",
            "conv_2 (Conv2D)              (None, 32, 32, 32)        9248      \n",
            "_________________________________________________________________\n",
            "max_pooling2d_7 (MaxPooling2 (None, 16, 16, 32)        0         \n",
            "_________________________________________________________________\n",
            "conv_3 (Conv2D)              (None, 16, 16, 32)        9248      \n",
            "_________________________________________________________________\n",
            "max_pooling2d_8 (MaxPooling2 (None, 8, 8, 32)          0         \n",
            "_________________________________________________________________\n",
            "flatten_4 (Flatten)          (None, 2048)              0         \n",
            "_________________________________________________________________\n",
            "dense_1 (Dense)              (None, 10)                20490     \n",
            "=================================================================\n",
            "Total params: 39,882\n",
            "Trainable params: 39,882\n",
            "Non-trainable params: 0\n",
            "_________________________________________________________________\n"
          ],
          "name": "stdout"
        }
      ]
    },
    {
      "cell_type": "markdown",
      "metadata": {
        "id": "CmQiHZP9pRfD",
        "colab_type": "text"
      },
      "source": [
        "## Perform the training"
      ]
    },
    {
      "cell_type": "code",
      "metadata": {
        "id": "eH62R9DIpRfE",
        "colab_type": "code",
        "outputId": "3da4ee15-9275-41ff-d3a5-a333846b204d",
        "colab": {
          "base_uri": "https://localhost:8080/",
          "height": 773
        }
      },
      "source": [
        "print(X_test.shape,Y_test.shape)\n",
        "model.fit(X_train, Y_train,\n",
        "           batch_size=batch_size, \n",
        "          nb_epoch=n_epochs,\n",
        "          verbose=1, \n",
        "          validation_data=(X_test, Y_test))"
      ],
      "execution_count": 39,
      "outputs": [
        {
          "output_type": "stream",
          "text": [
            "(10000, 32, 32, 3) (10000, 10)\n"
          ],
          "name": "stdout"
        },
        {
          "output_type": "stream",
          "text": [
            "/usr/local/lib/python3.6/dist-packages/ipykernel_launcher.py:6: UserWarning: The `nb_epoch` argument in `fit` has been renamed `epochs`.\n",
            "  \n"
          ],
          "name": "stderr"
        },
        {
          "output_type": "stream",
          "text": [
            "Train on 10000 samples, validate on 10000 samples\n",
            "Epoch 1/20\n",
            "10000/10000 [==============================] - 39s 4ms/step - loss: 2.0902 - acc: 0.2225 - val_loss: 1.9674 - val_acc: 0.2773\n",
            "Epoch 2/20\n",
            "10000/10000 [==============================] - 38s 4ms/step - loss: 1.9452 - acc: 0.2928 - val_loss: 1.8983 - val_acc: 0.3200\n",
            "Epoch 3/20\n",
            "10000/10000 [==============================] - 39s 4ms/step - loss: 1.8824 - acc: 0.3197 - val_loss: 1.8119 - val_acc: 0.3440\n",
            "Epoch 4/20\n",
            "10000/10000 [==============================] - 38s 4ms/step - loss: 1.7412 - acc: 0.3701 - val_loss: 1.7358 - val_acc: 0.3680\n",
            "Epoch 5/20\n",
            "10000/10000 [==============================] - 39s 4ms/step - loss: 1.6767 - acc: 0.3932 - val_loss: 1.7095 - val_acc: 0.3812\n",
            "Epoch 6/20\n",
            "10000/10000 [==============================] - 39s 4ms/step - loss: 1.6482 - acc: 0.4049 - val_loss: 1.7031 - val_acc: 0.3822\n",
            "Epoch 7/20\n",
            "10000/10000 [==============================] - 39s 4ms/step - loss: 1.6097 - acc: 0.4128 - val_loss: 1.6549 - val_acc: 0.3969\n",
            "Epoch 8/20\n",
            "10000/10000 [==============================] - 41s 4ms/step - loss: 1.5810 - acc: 0.4333 - val_loss: 1.7124 - val_acc: 0.3886\n",
            "Epoch 9/20\n",
            "10000/10000 [==============================] - 39s 4ms/step - loss: 1.5489 - acc: 0.4437 - val_loss: 1.6163 - val_acc: 0.4132\n",
            "Epoch 10/20\n",
            "10000/10000 [==============================] - 39s 4ms/step - loss: 1.5342 - acc: 0.4435 - val_loss: 1.6187 - val_acc: 0.4129\n",
            "Epoch 11/20\n",
            "10000/10000 [==============================] - 39s 4ms/step - loss: 1.5041 - acc: 0.4586 - val_loss: 1.6157 - val_acc: 0.4149\n",
            "Epoch 12/20\n",
            "10000/10000 [==============================] - 39s 4ms/step - loss: 1.4922 - acc: 0.4681 - val_loss: 1.6103 - val_acc: 0.4108\n",
            "Epoch 13/20\n",
            "10000/10000 [==============================] - 39s 4ms/step - loss: 1.4768 - acc: 0.4713 - val_loss: 1.6842 - val_acc: 0.4024\n",
            "Epoch 14/20\n",
            "10000/10000 [==============================] - 39s 4ms/step - loss: 1.4726 - acc: 0.4743 - val_loss: 1.6315 - val_acc: 0.4128\n",
            "Epoch 15/20\n",
            "10000/10000 [==============================] - 39s 4ms/step - loss: 1.4704 - acc: 0.4727 - val_loss: 1.5828 - val_acc: 0.4296\n",
            "Epoch 16/20\n",
            "10000/10000 [==============================] - 39s 4ms/step - loss: 1.4519 - acc: 0.4844 - val_loss: 1.6353 - val_acc: 0.4189\n",
            "Epoch 17/20\n",
            "10000/10000 [==============================] - 39s 4ms/step - loss: 1.4399 - acc: 0.4886 - val_loss: 1.6193 - val_acc: 0.4167\n",
            "Epoch 18/20\n",
            "10000/10000 [==============================] - 39s 4ms/step - loss: 1.4459 - acc: 0.4881 - val_loss: 1.5763 - val_acc: 0.4284\n",
            "Epoch 19/20\n",
            "10000/10000 [==============================] - 39s 4ms/step - loss: 1.4151 - acc: 0.4997 - val_loss: 1.7039 - val_acc: 0.4011\n",
            "Epoch 20/20\n",
            "10000/10000 [==============================] - 39s 4ms/step - loss: 1.4167 - acc: 0.5009 - val_loss: 1.5864 - val_acc: 0.4313\n"
          ],
          "name": "stdout"
        },
        {
          "output_type": "execute_result",
          "data": {
            "text/plain": [
              "<keras.callbacks.History at 0x7f58520ea7f0>"
            ]
          },
          "metadata": {
            "tags": []
          },
          "execution_count": 39
        }
      ]
    },
    {
      "cell_type": "markdown",
      "metadata": {
        "id": "lHMHOsNVpRfL",
        "colab_type": "text"
      },
      "source": [
        "## We evaluate the performances of the model on the test data"
      ]
    },
    {
      "cell_type": "code",
      "metadata": {
        "id": "bUZ2uyOxpRfM",
        "colab_type": "code",
        "outputId": "601a82b9-6e05-4baa-f4b9-6b19e440c750",
        "colab": {
          "base_uri": "https://localhost:8080/",
          "height": 50
        }
      },
      "source": [
        "score = model.evaluate(X_test, Y_test, verbose=False)\n",
        "print('Test score:', score[0])\n",
        "print('Test accuracy:', score[1])"
      ],
      "execution_count": 40,
      "outputs": [
        {
          "output_type": "stream",
          "text": [
            "Test score: 1.5864372791290282\n",
            "Test accuracy: 0.4313\n"
          ],
          "name": "stdout"
        }
      ]
    },
    {
      "cell_type": "markdown",
      "metadata": {
        "id": "LuQkeJ93pRfO",
        "colab_type": "text"
      },
      "source": [
        "Let's take a look at what the network has learned. What do you think ?"
      ]
    },
    {
      "cell_type": "code",
      "metadata": {
        "id": "rMCLdJLdpRfP",
        "colab_type": "code",
        "outputId": "791bc224-b63f-44d6-a503-46e84a9dac4e",
        "colab": {
          "base_uri": "https://localhost:8080/",
          "height": 338
        }
      },
      "source": [
        "plt.figure(figsize=(10, 6))\n",
        "for idx,i in enumerate(range(100,110)):\n",
        "    plt.subplot(2, 5, idx+1)\n",
        "    rand_ind = np.random.randint(0,X_test.shape[0])\n",
        "    predicted_class = np.argmax(np.squeeze(model.predict(np.expand_dims(X_test[rand_ind,:,:,:],axis=0))))\n",
        "    plt.imshow(X_test[rand_ind,:,:,:])\n",
        "    plt.title(cifar_10_list[int(predicted_class)])"
      ],
      "execution_count": 41,
      "outputs": [
        {
          "output_type": "display_data",
          "data": {
            "image/png": "[encoded data removed]",
            "text/plain": [
              "<Figure size 720x432 with 10 Axes>"
            ]
          },
          "metadata": {
            "tags": []
          }
        }
      ]
    },
    {
      "cell_type": "markdown",
      "metadata": {
        "id": "RxOUVwNepRfQ",
        "colab_type": "text"
      },
      "source": [
        "## Now, display all (32) trained filters of the first layer\n",
        "\n",
        "You can explore the network parameters easily with Keras. For example ```model.layers``` is a list of the layers of the network. Each element of the network contains the information necessary for this layer. To show the content of a layer i, type :\n",
        "\n",
        "```dir(model.layers[i])```\n",
        "\n",
        "Display all (32) trained filters of the first layer :"
      ]
    },
    {
      "cell_type": "code",
      "metadata": {
        "id": "YhPooogWpRfR",
        "colab_type": "code",
        "outputId": "b1380081-edfe-4193-e2f2-70d6840b9b11",
        "colab": {
          "base_uri": "https://localhost:8080/",
          "height": 979
        }
      },
      "source": [
        "print(model.layers[1].filters)\n",
        "print(model.layers[1].kernel_size)\n",
        "print(model.layers[1].get_weights()[0].shape)\n",
        "#get_weights returns and array [weights,biases]\n",
        "w = model.layers[0].get_weights()[0]\n",
        "print(w.shape)\n",
        "plt.figure(figsize=(10, 6))\n",
        "for num in range(0,32):\n",
        "    plt.subplot(8, 4, num+1)\n",
        "    # --- START CODE HERE\n",
        "    plt.imshow(w[:,:,:,num], cmap='gray')\n",
        "    # --- END CODE HERE    "
      ],
      "execution_count": 42,
      "outputs": [
        {
          "output_type": "stream",
          "text": [
            "Clipping input data to the valid range for imshow with RGB data ([0..1] for floats or [0..255] for integers).\n"
          ],
          "name": "stderr"
        },
        {
          "output_type": "stream",
          "text": [
            "32\n",
            "(3, 3)\n",
            "(3, 3, 32, 32)\n",
            "(3, 3, 3, 32)\n"
          ],
          "name": "stdout"
        },
        {
          "output_type": "stream",
          "text": [
            "Clipping input data to the valid range for imshow with RGB data ([0..1] for floats or [0..255] for integers).\n",
            "Clipping input data to the valid range for imshow with RGB data ([0..1] for floats or [0..255] for integers).\n",
            "Clipping input data to the valid range for imshow with RGB data ([0..1] for floats or [0..255] for integers).\n",
            "Clipping input data to the valid range for imshow with RGB data ([0..1] for floats or [0..255] for integers).\n",
            "Clipping input data to the valid range for imshow with RGB data ([0..1] for floats or [0..255] for integers).\n",
            "Clipping input data to the valid range for imshow with RGB data ([0..1] for floats or [0..255] for integers).\n",
            "Clipping input data to the valid range for imshow with RGB data ([0..1] for floats or [0..255] for integers).\n",
            "Clipping input data to the valid range for imshow with RGB data ([0..1] for floats or [0..255] for integers).\n",
            "Clipping input data to the valid range for imshow with RGB data ([0..1] for floats or [0..255] for integers).\n",
            "Clipping input data to the valid range for imshow with RGB data ([0..1] for floats or [0..255] for integers).\n",
            "Clipping input data to the valid range for imshow with RGB data ([0..1] for floats or [0..255] for integers).\n",
            "Clipping input data to the valid range for imshow with RGB data ([0..1] for floats or [0..255] for integers).\n",
            "Clipping input data to the valid range for imshow with RGB data ([0..1] for floats or [0..255] for integers).\n",
            "Clipping input data to the valid range for imshow with RGB data ([0..1] for floats or [0..255] for integers).\n",
            "Clipping input data to the valid range for imshow with RGB data ([0..1] for floats or [0..255] for integers).\n",
            "Clipping input data to the valid range for imshow with RGB data ([0..1] for floats or [0..255] for integers).\n",
            "Clipping input data to the valid range for imshow with RGB data ([0..1] for floats or [0..255] for integers).\n",
            "Clipping input data to the valid range for imshow with RGB data ([0..1] for floats or [0..255] for integers).\n",
            "Clipping input data to the valid range for imshow with RGB data ([0..1] for floats or [0..255] for integers).\n",
            "Clipping input data to the valid range for imshow with RGB data ([0..1] for floats or [0..255] for integers).\n",
            "Clipping input data to the valid range for imshow with RGB data ([0..1] for floats or [0..255] for integers).\n",
            "Clipping input data to the valid range for imshow with RGB data ([0..1] for floats or [0..255] for integers).\n",
            "Clipping input data to the valid range for imshow with RGB data ([0..1] for floats or [0..255] for integers).\n",
            "Clipping input data to the valid range for imshow with RGB data ([0..1] for floats or [0..255] for integers).\n",
            "Clipping input data to the valid range for imshow with RGB data ([0..1] for floats or [0..255] for integers).\n",
            "Clipping input data to the valid range for imshow with RGB data ([0..1] for floats or [0..255] for integers).\n",
            "Clipping input data to the valid range for imshow with RGB data ([0..1] for floats or [0..255] for integers).\n",
            "Clipping input data to the valid range for imshow with RGB data ([0..1] for floats or [0..255] for integers).\n",
            "Clipping input data to the valid range for imshow with RGB data ([0..1] for floats or [0..255] for integers).\n",
            "Clipping input data to the valid range for imshow with RGB data ([0..1] for floats or [0..255] for integers).\n",
            "Clipping input data to the valid range for imshow with RGB data ([0..1] for floats or [0..255] for integers).\n"
          ],
          "name": "stderr"
        },
        {
          "output_type": "display_data",
          "data": {
            "image/png": "[encoded data removed]",
            "text/plain": [
              "<Figure size 720x432 with 32 Axes>"
            ]
          },
          "metadata": {
            "tags": []
          }
        }
      ]
    },
    {
      "cell_type": "markdown",
      "metadata": {
        "id": "DloFLt2kpRfT",
        "colab_type": "text"
      },
      "source": [
        "# Evaluation\n",
        "\n",
        "To evaluate the work, you should rate the code for \n",
        "- 1) Tensorflow, declaration of inputs and weights : 2 points\n",
        "- 2) Tensorflow, declaration of model : 2 points\n",
        "- 3) Tensorflow, training : 2 points\n",
        "- 4) Keras : model : 2 points\n",
        "- 5) Keras : displaying weights : 2 points\n",
        "\n",
        "Each correct answer (correct formula/code and code runs) gives 2 points. Total over 10 points."
      ]
    }
  ]
}