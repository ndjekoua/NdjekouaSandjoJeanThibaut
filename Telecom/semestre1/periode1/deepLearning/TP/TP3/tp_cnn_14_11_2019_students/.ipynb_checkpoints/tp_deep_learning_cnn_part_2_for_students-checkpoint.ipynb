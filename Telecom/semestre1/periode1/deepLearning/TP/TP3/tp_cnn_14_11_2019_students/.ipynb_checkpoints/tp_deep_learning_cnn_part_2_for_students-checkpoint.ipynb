{
 "cells": [
  {
   "cell_type": "markdown",
   "metadata": {},
   "source": [
    "# TP Coding Convolutional Neural Networks in tensorflow and keras - part 2\n",
    "\n",
    "Author : Alasdair Newson\n",
    "\n",
    "alasdair.newson@telecom-paristech.fr\n",
    "\n",
    "In this session, we shall be looking at two subjects :\n",
    "\n",
    "- A way to visualise what networks are learning : the Deep Dream algorithm\n",
    "- Adversarial examples\n",
    "\n",
    "For this, we shall use a famous pretrained network : VGG16. At the heart of these applications is the calculation of the gradient of a loss function with respect to the image itself (instead of respect to the weights). The loss function will be defined depending on the application at hand.\n",
    "\n",
    "We can easily access certain well-known networks with the Keras programming framework. There are useful predefined function which allow us to load the weights, view the architecture etc. of the networks. We will specify these functions as necessary through the lab work. Unfortunately, the documentation for these functions is not very plentiful, but if you want to look at exactly what they do, you can look at the source code for help :\n",
    "\n",
    "https://github.com/keras-team/keras-applications/blob/master/keras_applications/vgg16.py\n",
    "\n",
    "https://github.com/keras-team/keras-applications/blob/master/keras_applications/imagenet_utils.py\n",
    "\n",
    "However, we will indicate how these functions work as the need arises.\n",
    "\n",
    "\n",
    "First, let's load the necessary packages."
   ]
  },
  {
   "cell_type": "code",
   "execution_count": null,
   "metadata": {},
   "outputs": [],
   "source": [
    "import numpy as np\n",
    "from keras.preprocessing.image import load_img,img_to_array\n",
    "from keras.applications import vgg16\n",
    "#from keras.applications import inception_v3\n",
    "from keras import backend as K\n",
    "from keras.layers import Input\n",
    "from matplotlib import pyplot as plt\n",
    "import matplotlib.image as mpimg"
   ]
  },
  {
   "cell_type": "markdown",
   "metadata": {},
   "source": [
    "You'll notice that we have loaded the 'backend'. This allows us to access certain functions of the underlying backend layer without knowing the framework-specific syntax : Keras deals with everything. As we shall see, this will be useful later on.\n",
    "\n",
    "Now, let's load one of the most famous networks, VGG16, and view it's architecture with the summary() function."
   ]
  },
  {
   "cell_type": "code",
   "execution_count": null,
   "metadata": {},
   "outputs": [],
   "source": [
    "# This removes all operations linked to training the model\n",
    "K.set_learning_phase(0)\n",
    "#load model. include_top=False means that we do not load the last fully connected layer(s) necessary for classification\n",
    "model=vgg16.VGG16(weights='imagenet',include_top=False)"
   ]
  },
  {
   "cell_type": "markdown",
   "metadata": {},
   "source": [
    "The 'summary' function gives a summary of the architecture so that we can reference its different layers"
   ]
  },
  {
   "cell_type": "code",
   "execution_count": null,
   "metadata": {},
   "outputs": [],
   "source": [
    "model.summary()"
   ]
  },
  {
   "cell_type": "markdown",
   "metadata": {},
   "source": [
    "You can extract one of the layers of the network with the following function"
   ]
  },
  {
   "cell_type": "code",
   "execution_count": null,
   "metadata": {},
   "outputs": [],
   "source": [
    "#put the layers in an easy-to-reference dictionary\n",
    "layer_dict = dict([ (layer.name,layer) for layer in model.layers])\n",
    "#get the layer corresponding to the 5th block and second convolution\n",
    "layer_out = layer_dict['block5_conv2'].output\n",
    "layer_out.shape"
   ]
  },
  {
   "cell_type": "markdown",
   "metadata": {},
   "source": [
    "You can also extract the weights of the convolutional filters in VGG16. You can do this with the following function :\n",
    "\n",
    "- weights = layer.get_weights()\n",
    "\n",
    "where 'layer' iterates throughout the 'model.layers' list. Note that this function returns the following :\n",
    "- [weights, biases] if the layer is convolutional. weights has size [m,n,filter_depth,n_filters]\n",
    "- an empty list otherwise\n",
    "\n",
    "Write a function which retrieves the weights of the network (you will have to test if the weights variable is empty at each iteration).\n",
    "    "
   ]
  },
  {
   "cell_type": "code",
   "execution_count": null,
   "metadata": {},
   "outputs": [],
   "source": [
    "def retrieve_weights(model):\n",
    "    weight_list = []\n",
    "    # BEGIN CODE HERE\n",
    "    # END CODE HERE\n",
    "    return weight_list"
   ]
  },
  {
   "cell_type": "markdown",
   "metadata": {},
   "source": [
    "Now, write a code that visualises a single channel of a filter of your choice. Reminder, to view a grey-level image, you can use :\n",
    "\n",
    "- plt.imshow(img,cmap=\"gray\")\n",
    "- plt.show()"
   ]
  },
  {
   "cell_type": "code",
   "execution_count": null,
   "metadata": {},
   "outputs": [],
   "source": [
    "weight_list = retrieve_weights(model)\n",
    "curr_weight = weight_list[2]\n",
    "curr_weight.shape\n",
    "plt.imshow(curr_weight[:,:,0,1],cmap=\"gray\")"
   ]
  },
  {
   "cell_type": "code",
   "execution_count": null,
   "metadata": {},
   "outputs": [],
   "source": [
    "curr_weight[:,:,0,1]"
   ]
  },
  {
   "cell_type": "markdown",
   "metadata": {},
   "source": [
    "As you can probably see, this visualisation is not of much use : we cannot really tell what is going on in the network. For this, let's turn to another approach : Deep Dream !"
   ]
  },
  {
   "cell_type": "markdown",
   "metadata": {},
   "source": [
    "## 2. Deep Dream\n",
    "\n",
    "We now proceed to carry out the Deep Dream algorithm. The idea of the Deep Dream algorithm is to find an image which maximises the response of a network at a certain layer : $\\textbf{this should help us understand what the network is learning}$. This can be done with an iterative algorithm, by simply carrying out gradient $\\textbf{ascension}$. We start with an input image and iteratively add the gradient of the average response of the features which interest us. A pseudo-code for this would be :\n",
    "\n",
    "- img = img_in\n",
    "- for i=1:n_iters\n",
    "    - img = img + grad_step $\\nabla_{img} \\mathcal{L}$,\n",
    "    \n",
    "where $\\mathcal{L}$ is the average response which interest us (you need to define this).\n",
    "\n",
    "Let's first define a function to preprocess the image. This is needed to put the image in the correct format for the VGG16 network. We also create a function to invert this process."
   ]
  },
  {
   "cell_type": "code",
   "execution_count": null,
   "metadata": {},
   "outputs": [],
   "source": [
    "def format_image(img_file=None):\n",
    "    \"\"\"\n",
    "    This function reads and formats an image so that it can be fed to the VGG16 network\n",
    "    \n",
    "    Parameters\n",
    "    ----------\n",
    "    img_file : image file name\n",
    "    \n",
    "    Returns\n",
    "    -------\n",
    "    img_out_vgg : the correctly formatted image for VGG16\n",
    "    img : the image as read by the load_img function of keras.preprocessing.image\n",
    "    \"\"\"\n",
    "    # read image\n",
    "    img = load_img(img_file)\n",
    "    # convert image to an array\n",
    "    img_out = img_to_array(img)\n",
    "    # preprocess the image to put in the correct format for use with the VGG16 network trained on imagenet\n",
    "    img_out_vgg = vgg16.preprocess_input(img_out)\n",
    "    # add a dimension at the beginning, coresponding to the batch dimension\n",
    "    img_out_vgg = np.expand_dims(img_out_vgg, axis=0)\n",
    "    return img_out_vgg, img\n",
    "\n",
    "def unformat_image(img_in):\n",
    "    \"\"\"\n",
    "    This function inverts the preprocessing applied to images for use in the VGG16 network\n",
    "    \n",
    "    Parameters\n",
    "    ----------\n",
    "    img_file : formatted image of shape (batch_size,m,n,3)\n",
    "    \n",
    "    Returns\n",
    "    -------\n",
    "    img_out : a m-by-n-by-3 array, representing an image that can be written to an image file\n",
    "    \"\"\"\n",
    "    #get rid of batch dimension\n",
    "    img_out=np.squeeze(img_in)\n",
    "    #remove offsets added by the VGG16 preprocessing\n",
    "    img_out[:, :, 0] += 103.939\n",
    "    img_out[:, :, 1] += 116.779\n",
    "    img_out[:, :, 2] += 123.68\n",
    "    # invert the order of the colours : BGR -> RGB\n",
    "    img_out = img_out[:, :, ::-1]\n",
    "    #clamp image to the range [0,255] and cast to uint8\n",
    "    img_out = np.clip(img_out, 0, 255).astype('uint8')\n",
    "    return img_out"
   ]
  },
  {
   "cell_type": "markdown",
   "metadata": {},
   "source": [
    "Now, we load the image. At the same time, we create a backend Tensor which has the correct format for the network.\n",
    "\n",
    "**NOTE** : if you are using colab, then you might not be able to easily upload the images of the lab work. In this case you can use download the image directly from the url given (this is done for you). To modify the behaviour, change the ```using_colab``` variable."
   ]
  },
  {
   "cell_type": "code",
   "execution_count": null,
   "metadata": {},
   "outputs": [],
   "source": [
    "using_colab = False\n",
    "\n",
    "#load image\n",
    "if (using_colab == True):\n",
    "    !wget \"https://perso.telecom-paristech.fr/anewson/doc/images/got.jpg\"\n",
    "    img_in,img_visu = format_image('got.jpg')\n",
    "else:\n",
    "    img_in,img_visu = format_image('images/got.jpg')\n",
    "#create a Tensor in the correct format for the network using the backend framework (Keras in this case)\n",
    "img_backend = model.input\n",
    "#show the input image\n",
    "plt.imshow(img_visu)\n",
    "plt.show()"
   ]
  },
  {
   "cell_type": "markdown",
   "metadata": {},
   "source": [
    "Now, we define the loss that we wish to maximise. This can be anything you wish, but the a common loss is simply the average response of a certain channel of a certain layer. Since these responses are all positive, due to the non-linearities used, we can safely take the average as a loss function to maximise.\n",
    "\n",
    "Define the loss as the average response of the 15th channel of the 5th layer, second convolution. Then define the gradients of loss with respect to the image.\n",
    "\n",
    "Note that all these operations should be done using the backend functionalities, since we are working on symbolic Tensors which have not yet been given numeric data. For example, use the following functions :\n",
    "- K.mean()\n",
    "- K.gradients(loss, image_variable)[0]  #we take the [0]th element here because the gradients function necessarily returns a list, even when the length of this list is 1"
   ]
  },
  {
   "cell_type": "code",
   "execution_count": null,
   "metadata": {},
   "outputs": [],
   "source": [
    "#BEGIN STUDENT CODE\n",
    "layer_out = ...\n",
    "#define loss\n",
    "loss = ...\n",
    "grads = ...\n",
    "#END STUDENT CODE"
   ]
  },
  {
   "cell_type": "markdown",
   "metadata": {},
   "source": [
    "Here, we use a little trick. Indeed, it may be the case that the gradients are far too small or far too large for updating, meaning that the updates do nothing or destroy the image. To avoid this, we normalise the gradients. Normalise the gradient in the following manner :\n",
    "\n",
    "- grad = grad/(max(mean(abs(grad)))\n",
    "\n",
    "Again, you must use the backend functions to manipulate the gradient (a Tensor)"
   ]
  },
  {
   "cell_type": "code",
   "execution_count": null,
   "metadata": {},
   "outputs": [],
   "source": [
    "# normalize the gradient\n",
    "grads_normalised = grads/ (K.maximum(K.mean(K.abs(grads)), K.epsilon()))"
   ]
  },
  {
   "cell_type": "markdown",
   "metadata": {},
   "source": [
    "Now, we need to define a function to retrieve the loss and gradients so as to maximise our loss function. This can done easily in Keras with the following syntax"
   ]
  },
  {
   "cell_type": "code",
   "execution_count": null,
   "metadata": {},
   "outputs": [],
   "source": [
    "get_loss_and_grads = K.function([img_backend],[loss,grads_normalised])"
   ]
  },
  {
   "cell_type": "markdown",
   "metadata": {},
   "source": [
    "We are now ready to carry out the Deep Dream algorithm using gradient ascent, yipee ! Iterate 'n_iterations' times, each time adding an epsilon of the gradient. "
   ]
  },
  {
   "cell_type": "code",
   "execution_count": null,
   "metadata": {},
   "outputs": [],
   "source": [
    "# first, reload image to make sure that we are not starting from a previous initialisation\n",
    "if (using_colab == True):\n",
    "    !wget \"https://perso.telecom-paristech.fr/anewson/doc/images/got.jpg\"\n",
    "    img_in,_ = format_image('got.jpg')\n",
    "else:\n",
    "    img_in,_ = format_image('images/got.jpg')\n",
    "    \n",
    "step = 0.1 # Gradient ascent step size\n",
    "n_iterations = 100  # Number of gradient ascent steps\n",
    "for ii in range(0,n_iterations):\n",
    "    loss_value,grads_value = get_loss_and_grads([img_in])\n",
    "    img_in = img_in + grads_value * step\n",
    "    if (ii%5==0):\n",
    "        print(\".\", end='')\n",
    "        img_out = unformat_image(np.copy(img_in))\n",
    "        plt.imshow(img_out)\n",
    "        plt.imsave('img_out_'+str(ii).zfill(3)+'.png',img_out)"
   ]
  },
  {
   "cell_type": "markdown",
   "metadata": {},
   "source": [
    "You can try different convolutional layers and see what the results are !"
   ]
  },
  {
   "cell_type": "markdown",
   "metadata": {},
   "source": [
    "## 3. Adversarial examples\n",
    "\n",
    "In this part of the lab work, we will explore the interesting case of adversarial examples. Adversarial examples are images which have been perturbed in a manner which makes the network misclassify the image.\n",
    "\n",
    "There are many ways to do this, however we can use a similar approach to the one used above, that is to say, we will use a gradient maximisation approach. This consists in iteratively adding the gradient of the loss with respect to the image, to the current image, in order to get a misclassified image.\n",
    "\n",
    "For this application, we need access to the last, classification, layer of the VGG16 network."
   ]
  },
  {
   "cell_type": "code",
   "execution_count": null,
   "metadata": {},
   "outputs": [],
   "source": [
    "# load model, including last (classification layer)\n",
    "model=vgg16.VGG16(weights='imagenet',include_top=True)\n",
    "#create layer dictionary\n",
    "layer_dict = dict([ (layer.name,layer) for layer in model.layers])\n",
    "#create backend Tensor\n",
    "img_backend = model.input\n",
    "# display architecture\n",
    "model.summary()"
   ]
  },
  {
   "cell_type": "markdown",
   "metadata": {},
   "source": [
    "We are going to take an image of a cat and try to misclassify it. First, read and format the image.\n",
    "\n",
    "NOTE !!!\n",
    "\n",
    "In the previous code, we were not interested in the fully connected layers, so the input image could be of any size (there were only convolutional and maxpool layers). Now, since we are using the fully connected layers, we need to make sure the input is of the correct size for the images in imagenet : 224x224. For this, we redefine the format_image function to force the image to a certain size"
   ]
  },
  {
   "cell_type": "code",
   "execution_count": null,
   "metadata": {},
   "outputs": [],
   "source": [
    "def format_image_classif(img_file,img_width=224,img_height=224):\n",
    "    \"\"\"\n",
    "    This function reads and formats an image so that it can be fed to the VGG16 network.\n",
    "    In this case, we wish to force the image size to a certain shape, since we want to use the image for\n",
    "    classification\n",
    "    \n",
    "    Parameters\n",
    "    ----------\n",
    "    img_file : image file name\n",
    "    img_width : the target image width\n",
    "    img_height : he target image height\n",
    "    \n",
    "    Returns\n",
    "    -------\n",
    "    img_out_vgg : the correctly formatted image for VGG16\n",
    "    img : the image as read by the load_img function of keras.preprocessing.image\n",
    "    \"\"\"\n",
    "    # read image. Force the image size to a certain shape (uses a resize of the pillow package)\n",
    "    img = load_img(img_file,target_size=(img_height,img_width))\n",
    "    # convert image to an array\n",
    "    img_out = img_to_array(img)\n",
    "    # preprocess the image to put in the correct format for use with the VGG16 network trained on imagenet\n",
    "    img_out_vgg = vgg16.preprocess_input(img_out)\n",
    "    # add a dimension at the beginning, coresponding to the batch dimension\n",
    "    img_out_vgg = np.expand_dims(img_out_vgg, axis=0)\n",
    "    return img_out_vgg, img"
   ]
  },
  {
   "cell_type": "code",
   "execution_count": null,
   "metadata": {},
   "outputs": [],
   "source": [
    "if (using_colab == True):\n",
    "    !wget \"https://perso.telecom-paristech.fr/anewson/doc/images/cat_small.png\"\n",
    "    img_in,img_visu = format_image_classif('cat_small.png')\n",
    "else:\n",
    "    img_in,img_visu = format_image_classif('images/cat_small.png')\n",
    "\n",
    "plt.imshow(img_visu)"
   ]
  },
  {
   "cell_type": "code",
   "execution_count": null,
   "metadata": {},
   "outputs": [],
   "source": [
    "img_in.shape"
   ]
  },
  {
   "cell_type": "markdown",
   "metadata": {},
   "source": [
    "Now, we need to retrieve the last (prediction) layer of the VGG network. Do this via the variable layer_dict created above, and calling the correct layer (similarly to when we called the 'block5_conv2' layer above)"
   ]
  },
  {
   "cell_type": "code",
   "execution_count": null,
   "metadata": {},
   "outputs": [],
   "source": [
    "#BEGIN STUDENT CODE\n",
    "#get last layer (prediction layer)\n",
    "last_layer = ...\n",
    "#create a function to get last layer of the VGG16 network (using the backend function)\n",
    "get_prediction_layer = ...\n",
    "#END STUDENT CODE"
   ]
  },
  {
   "cell_type": "markdown",
   "metadata": {},
   "source": [
    "We are going to try to force the image to recognise a 'reflex_camera'. This is number 759 of the imagenet classes. You can use any one you like in fact (apart from ones linked to cats, obviously). To see the list of classes go to :\n",
    "\n",
    "https://gist.github.com/yrevar/942d3a0ac09ec9e5eb3a\n",
    "\n",
    "Now, find the initial class of the cat image. Also display the top 5 classification results. For this, you can use the following functions :\n",
    "\n",
    "- model.predict(img) : classification prediction of the img variable\n",
    "- vgg16.decode_predictions(y, top=5)[0] : converts the numerical probabilities in the y variable to human readable classes. Here,"
   ]
  },
  {
   "cell_type": "code",
   "execution_count": null,
   "metadata": {},
   "outputs": [],
   "source": [
    "target_class = 759\n",
    "# BEGIN STUDENT CODE\n",
    "# carry out the network predictions on the example image\n",
    "y_predicted = ...\n",
    "#define the true class as the initial most likely class\n",
    "true_class = ...\n",
    "# print the top 5 predicted classes, with the prediction probability\n",
    "y_predicted_decoded = ...\n",
    "print(y_predicted_decoded)\n",
    "# END STUDENT CODE"
   ]
  },
  {
   "cell_type": "markdown",
   "metadata": {},
   "source": [
    "Now, redefine the loss to be the 'target_class' element of the last layer of the network. This is the element we shall try to maximise, in order to fool the network. Redefine also the (normalised) gradient as above, and create a function to extract the loss and the gradients, given an input image as above."
   ]
  },
  {
   "cell_type": "code",
   "execution_count": null,
   "metadata": {},
   "outputs": [],
   "source": [
    "#BEGIN STUDENT CODE\n",
    "# define loss and gradients\n",
    "\n",
    "# normalize the gradient\n",
    "\n",
    "# create function to retrieve loss and gradients of loss with respect to image\n",
    "\n",
    "#END STUDENT CODE\n"
   ]
  },
  {
   "cell_type": "markdown",
   "metadata": {},
   "source": [
    "We are now ready to perturb the image such that we misclassify it. Youhoo !"
   ]
  },
  {
   "cell_type": "code",
   "execution_count": null,
   "metadata": {
    "scrolled": true
   },
   "outputs": [],
   "source": [
    "#reload image, to make sure we are not starting from previous point\n",
    "img_in,_ = format_image_classif('images/cat_small.png')\n",
    "\n",
    "#parameters\n",
    "step = 0.5  # Gradient ascent step size\n",
    "n_iterations = 100  # Number of gradient ascent steps\n",
    "for ii in range(0,n_iterations):\n",
    "    loss_value,grads_value = get_loss_and_grads_class([img_in])\n",
    "    img_in = img_in + grads_value * step\n",
    "    if (ii%5==0):\n",
    "        img_show = unformat_image(np.copy(img_in))\n",
    "        plt.imsave('img_out_'+str(ii).zfill(3)+'.png',img_show)\n",
    "        #predict current model to see evolution of top classification\n",
    "        y_predicted = model.predict(img_in)\n",
    "        print(vgg16.decode_predictions(y_predicted, top=1)[0])\n",
    "print('End of optimisation')\n",
    "# finally, display misclassified image\n",
    "img_show = unformat_image(np.copy(img_in))\n",
    "plt.imshow(img_show)\n",
    "#show the final top 5 classes\n",
    "y_predicted = model.predict(img_in)\n",
    "print(vgg16.decode_predictions(y_predicted, top=5)[0])"
   ]
  },
  {
   "cell_type": "markdown",
   "metadata": {},
   "source": [
    "As you should probably see, the image is changed such that it is no longer is correctly classified. It should be classified as a 'reflex camera', or whatever you chose, with high probability. This is a problem, since a human is still able to see a cat ! Furthermore, the top 5 classifications have nothing to do with cats !! Even bigger problem !!!"
   ]
  },
  {
   "cell_type": "markdown",
   "metadata": {},
   "source": [
    "# Evaluation\n",
    "\n",
    "To evaluate the work, you should rate the code for :\n",
    "- 1) Deep dream, ```retrieve_weights``` : 2 points\n",
    "- 2) Deep dream, calculation of gradients (```loss``` and ```grads```) : 2 points\n",
    "- 3) Adversarial examples, ```last_layer``` and ```get_prediction_layer``` : 2 points\n",
    "- 4) Adversarial examples, ```y_predicted```, ```true_class``` and ```y_predicted_decoded```\n",
    "- 5) Adversarial examples, get loss, gradient, normalise gradient, create function to retrieve the loss and gradients : 2 points\n",
    "\n",
    "Each correct answer (correct formula/code and code runs) gives 2 points. Total over 10 points."
   ]
  }
 ],
 "metadata": {
  "kernelspec": {
   "display_name": "Python 3",
   "language": "python",
   "name": "python3"
  },
  "language_info": {
   "codemirror_mode": {
    "name": "ipython",
    "version": 3
   },
   "file_extension": ".py",
   "mimetype": "text/x-python",
   "name": "python",
   "nbconvert_exporter": "python",
   "pygments_lexer": "ipython3",
   "version": "3.6.7"
  }
 },
 "nbformat": 4,
 "nbformat_minor": 2
}
