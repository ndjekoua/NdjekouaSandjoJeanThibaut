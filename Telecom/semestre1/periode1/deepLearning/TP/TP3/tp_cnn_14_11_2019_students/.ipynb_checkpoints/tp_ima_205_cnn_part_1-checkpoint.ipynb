{
 "cells": [
  {
   "cell_type": "markdown",
   "metadata": {},
   "source": [
    "# TP Coding Convolutional Neural Networks in tensorflow and keras\n",
    "\n",
    "TP author : Geoffroy Peeters, Alasdair Newson\n",
    "\n",
    "### Objective:\n",
    "\n",
    "We want to implement a Convolutional Neural Network (CNN) to do image recognition. For this we will use the well-known CIFAR-10 dataset https://www.cs.toronto.edu/~kriz/cifar.html.\n",
    "\n",
    "The CIFAR-10 dataset consists of 60000 32x32 colour images in 10 classes, with 6000 images per class. There are 50000 training images and 10000 test images.\n",
    "\n",
    "We will first code the simple ConvNet described below using \n",
    "- tensorflow https://www.tensorflow.org\n",
    "\n",
    "then do the same using\n",
    "- keras : https://keras.io\n",
    "\n",
    "\n",
    "The input of the CNN is a set of (32,32,3) image tensors. We apply \n",
    "    - a Convolutional layer of 32 filters of shape (3,3), with stride (1,1) and padding='same' (i.e. we do not apply zero-padding)\n",
    "    - a ReLu activation function\n",
    "    - a Convolutional layer of 32 filters of shape (3,3), with stride (1,1) and padding='same' (i.e. we do not apply zero-padding)\n",
    "    - a ReLu activation function\n",
    "    - a Max Pooling Layer of shape (2,2) and stride (2,2à (i.e. we reduce by two the size in each dimension)\n",
    "    - We then Flatten the data (reduce them to a vector in order to be able to apply a Fully-Connected layer to it)\n",
    "    - A softmax activation function which outputs are the $P(y_c | X)$ (multi-class problem)\n",
    "\n",
    "\n",
    "<IMG SRC='./TP06_CNN_part_1.png'>\n",
    "\n",
    "### Your task:\n",
    "You need to add the missing parts in the code (parts between # --- START CODE HERE and # --- END CODE HERE)"
   ]
  },
  {
   "cell_type": "markdown",
   "metadata": {},
   "source": [
    "## An introduction to Tensorflow\n",
    "\n",
    "Tensorflow is a python framework, written by Google, for creating, training and testing neural networks. As with other frameworks, it provides tools for implementing dense layers, convolutional layers etc, as well as carrying out backgpropagation automatically. Tensorflow is quite low-level compared to tools such as Pytorch, so the definition of networks can be somewhat laborious, but on the other hand more precise.\n",
    "\n",
    "A core idea in Tensorflow is having a clear separation between the **definition** and the **execution** of a neural network. The definition corresponds to creating the computational graph. In this step, only symbolic variables are created, and these are fed to functions whose derivatives are known. The computational graph is saved internally by Tensorflow. When the user wishes to execute the network (for training or testing), the user is required to open a ```Session()``` and feed actual numerical values to the Tensorflow variables. At this point it is possible to carry out training/testing. We will now see in more detail how this works.\n",
    "\n",
    "### Importing Tensorflow\n",
    "\n",
    "To import tensorflow, you add the following line at the beginning of the Python code :\n",
    "\n",
    "- ```import tensorflow as tf```\n",
    "\n",
    "All functions and variable types associated with Tensorflow are then called using the following syntax :\n",
    "\n",
    "- ```tf.fun()``` (for a dummy function called fun)\n",
    "\n",
    "### Variable types and functions\n",
    "\n",
    "There are several functions and data types you need to understand in order to use Tensorflow. These are :\n",
    "\n",
    "- ```tf.Placeholder(tf.float32, shape=(...))``` : This function creates a variable to which numerical values can be fed. This can be, for example, the input data to the neural network or the data labels in the case of a classification problem \n",
    "- ```tf.Variable()``` : This creates a variable in Tensorflow which contains some trainable parameters of the neural network. The argument to this function should be a numerical variable/array which you want to use to initialise the variable. For example : ```tf.Variable(np.ones((3,3))```\n",
    "- ```tf.constant()``` : This creates a Tensorflow variable which remains constant. This could be, for example, a hyperparameter in the network. The argument to this function should be a numerical variable/array which you want to use to initialise the variable. For example : ```tf.constant(np.ones((3,3))```\n",
    "\n",
    "### Creating and training a network\n",
    "\n",
    "The definition of a network is just the application of several functions to the input placeholder, as well as a loss function applied to the last variable of the network, and a placeholder corresponding to the labels.\n",
    "\n",
    "To train/test the network, the user must first call the following function :\n",
    "\n",
    "- ```sess = tf.session()```\n",
    "\n",
    "This starts the environment where data can be fed to the neural network. Once this is done, the user can call the following function :\n",
    "\n",
    "- ```sess = tf.session()```\n",
    "\n",
    "At this point, the user can call the ```sess.run``` function to carry out either training or testing :\n",
    "\n",
    "```sess.run(optimizer, feed_dict={X: numerical_data, Y: labels})```\n",
    "\n",
    "Let's take a look at how this all works with some examples"
   ]
  },
  {
   "cell_type": "code",
   "execution_count": 19,
   "metadata": {},
   "outputs": [
    {
     "name": "stdout",
     "output_type": "stream",
     "text": [
      "a :  Tensor(\"Const_8:0\", shape=(), dtype=int32)\n",
      "c :  Tensor(\"add_6:0\", shape=(), dtype=int32)\n"
     ]
    }
   ],
   "source": [
    "import tensorflow as tf\n",
    "import numpy as np\n",
    "\n",
    "# create a Tensorflow constant, equal to 3\n",
    "a = tf.constant(3)\n",
    "# create a Tensorflow constant, equal to 2\n",
    "b = tf.constant(2)\n",
    "# define another variable \n",
    "c = a + b\n",
    "print('a : ',a)\n",
    "print('c : ',c)"
   ]
  },
  {
   "cell_type": "markdown",
   "metadata": {},
   "source": [
    "At this point, the variables a, b and c are purely symbolic (even though their values are fixed). To find its value, we need to create a session"
   ]
  },
  {
   "cell_type": "code",
   "execution_count": 20,
   "metadata": {},
   "outputs": [],
   "source": [
    "# to open a session\n",
    "sess = tf.Session()"
   ]
  },
  {
   "cell_type": "markdown",
   "metadata": {},
   "source": [
    "Now, we can use that session to execute the operations previously defined, and find the value of c"
   ]
  },
  {
   "cell_type": "code",
   "execution_count": 21,
   "metadata": {},
   "outputs": [
    {
     "name": "stdout",
     "output_type": "stream",
     "text": [
      "c :  5\n"
     ]
    }
   ],
   "source": [
    "sess.run(tf.global_variables_initializer())\n",
    "print('c : ', sess.run(c))\n",
    "# to close the session\n",
    "sess.close()"
   ]
  },
  {
   "cell_type": "markdown",
   "metadata": {},
   "source": [
    "In general, an easier syntax is the following (automatically closes the session) :"
   ]
  },
  {
   "cell_type": "code",
   "execution_count": 22,
   "metadata": {},
   "outputs": [
    {
     "name": "stdout",
     "output_type": "stream",
     "text": [
      "c :  5\n"
     ]
    }
   ],
   "source": [
    "with tf.Session() as sess:\n",
    "    print('c : ', sess.run(c))\n",
    "    "
   ]
  },
  {
   "cell_type": "markdown",
   "metadata": {},
   "source": [
    "Let's take a look at some placeholders now. We can give placeholders names for easier reference with the ```name``` argument."
   ]
  },
  {
   "cell_type": "code",
   "execution_count": 23,
   "metadata": {},
   "outputs": [],
   "source": [
    "x = tf.placeholder(\"float32\", name=\"input\")\n",
    "y = x + tf.constant(3.0)"
   ]
  },
  {
   "cell_type": "markdown",
   "metadata": {},
   "source": [
    "Now, we can find the value of y, given any input to the placeholder"
   ]
  },
  {
   "cell_type": "code",
   "execution_count": 25,
   "metadata": {},
   "outputs": [
    {
     "name": "stdout",
     "output_type": "stream",
     "text": [
      "y :  5.0\n",
      "y :  6.0\n"
     ]
    }
   ],
   "source": [
    "with tf.Session() as sess:\n",
    "    print('y : ',sess.run(y, feed_dict={x: 2}))\n",
    "    print('y : ',sess.run(y, feed_dict={x: 3}))"
   ]
  },
  {
   "cell_type": "markdown",
   "metadata": {},
   "source": [
    "We can also specify the size of the placeholder. Let's take the case of an image"
   ]
  },
  {
   "cell_type": "code",
   "execution_count": 27,
   "metadata": {},
   "outputs": [
    {
     "ename": "NameError",
     "evalue": "name 'grads' is not defined",
     "output_type": "error",
     "traceback": [
      "\u001b[0;31m---------------------------------------------------------------------------\u001b[0m",
      "\u001b[0;31mNameError\u001b[0m                                 Traceback (most recent call last)",
      "\u001b[0;32m<ipython-input-27-763abcf2e995>\u001b[0m in \u001b[0;36m<module>\u001b[0;34m\u001b[0m\n\u001b[1;32m     10\u001b[0m \u001b[0;34m\u001b[0m\u001b[0m\n\u001b[1;32m     11\u001b[0m \u001b[0;32mwith\u001b[0m \u001b[0mtf\u001b[0m\u001b[0;34m.\u001b[0m\u001b[0mSession\u001b[0m\u001b[0;34m(\u001b[0m\u001b[0;34m)\u001b[0m \u001b[0;32mas\u001b[0m \u001b[0msess\u001b[0m\u001b[0;34m:\u001b[0m\u001b[0;34m\u001b[0m\u001b[0;34m\u001b[0m\u001b[0m\n\u001b[0;32m---> 12\u001b[0;31m     \u001b[0mimg_out\u001b[0m \u001b[0;34m=\u001b[0m \u001b[0msess\u001b[0m\u001b[0;34m.\u001b[0m\u001b[0mrun\u001b[0m\u001b[0;34m(\u001b[0m\u001b[0mgrads\u001b[0m\u001b[0;34m,\u001b[0m \u001b[0mfeed_dict\u001b[0m\u001b[0;34m=\u001b[0m\u001b[0;34m{\u001b[0m\u001b[0mimg\u001b[0m\u001b[0;34m:\u001b[0m \u001b[0mimg_in\u001b[0m\u001b[0;34m}\u001b[0m\u001b[0;34m)\u001b[0m\u001b[0;34m\u001b[0m\u001b[0;34m\u001b[0m\u001b[0m\n\u001b[0m\u001b[1;32m     13\u001b[0m     \u001b[0mplt\u001b[0m\u001b[0;34m.\u001b[0m\u001b[0msubplot\u001b[0m\u001b[0;34m(\u001b[0m\u001b[0;36m1\u001b[0m\u001b[0;34m,\u001b[0m\u001b[0;36m2\u001b[0m\u001b[0;34m,\u001b[0m\u001b[0;36m1\u001b[0m\u001b[0;34m)\u001b[0m\u001b[0;34m\u001b[0m\u001b[0;34m\u001b[0m\u001b[0m\n\u001b[1;32m     14\u001b[0m     \u001b[0mplt\u001b[0m\u001b[0;34m.\u001b[0m\u001b[0mimshow\u001b[0m\u001b[0;34m(\u001b[0m\u001b[0mnp\u001b[0m\u001b[0;34m.\u001b[0m\u001b[0muint8\u001b[0m\u001b[0;34m(\u001b[0m\u001b[0;36m255.0\u001b[0m\u001b[0;34m*\u001b[0m\u001b[0mimg_in\u001b[0m\u001b[0;34m)\u001b[0m\u001b[0;34m)\u001b[0m\u001b[0;34m\u001b[0m\u001b[0;34m\u001b[0m\u001b[0m\n",
      "\u001b[0;31mNameError\u001b[0m: name 'grads' is not defined"
     ]
    }
   ],
   "source": [
    "from scipy.misc import face\n",
    "import matplotlib.pyplot as plt\n",
    "\n",
    "img_in = face().astype(np.float32)/255.0\n",
    "\n",
    "\n",
    "img_tf = tf.placeholder(\"float32\", shape=[img_in.shape[0], img_in.shape[1], 3], name=\"input\")\n",
    "# invert colours of image\n",
    "y = tf.abs(img_tf-1)\n",
    "\n",
    "with tf.Session() as sess:\n",
    "    img_out = sess.run(y, feed_dict={img: img_in})\n",
    "    plt.subplot(1,2,1)\n",
    "    plt.imshow(np.uint8(255.0*img_in))\n",
    "    plt.subplot(1,2,2)\n",
    "    plt.imshow(np.uint8(255.0*img_out))"
   ]
  },
  {
   "cell_type": "markdown",
   "metadata": {},
   "source": [
    "# Load packages"
   ]
  },
  {
   "cell_type": "code",
   "execution_count": 1,
   "metadata": {},
   "outputs": [],
   "source": [
    "%matplotlib inline\n",
    "import matplotlib.pyplot as plt\n",
    "import numpy as np"
   ]
  },
  {
   "cell_type": "markdown",
   "metadata": {},
   "source": [
    "## Import data\n",
    "\n",
    "We first import CIFAR-10 dataset."
   ]
  },
  {
   "cell_type": "code",
   "execution_count": 2,
   "metadata": {},
   "outputs": [
    {
     "name": "stderr",
     "output_type": "stream",
     "text": [
      "Using TensorFlow backend.\n"
     ]
    },
    {
     "name": "stdout",
     "output_type": "stream",
     "text": [
      "(50000, 32, 32, 3)\n",
      "(10000, 32, 32, 3)\n",
      "[0 1 2 3 4 5 6 7 8 9]\n"
     ]
    }
   ],
   "source": [
    "from keras.utils.np_utils import to_categorical\n",
    "\n",
    "#from keras.datasets import mnist\n",
    "#(X_train, y_train), (X_test, y_test) = mnist.load_data()\n",
    "\n",
    "# --- https://www.cs.toronto.edu/~kriz/cifar.html\n",
    "# --- TOREMOVE: https://github.com/keras-team/keras/blob/master/examples/cifar10_cnn.py\n",
    "from keras.datasets import cifar10\n",
    "(X_train, y_train), (X_test, y_test) = cifar10.load_data()\n",
    "\n",
    "print(X_train.shape)\n",
    "print(X_test.shape)\n",
    "print(np.unique(y_train))"
   ]
  },
  {
   "cell_type": "markdown",
   "metadata": {},
   "source": [
    "The CIFAR-10 dataset has 10 classes. These are the following :"
   ]
  },
  {
   "cell_type": "code",
   "execution_count": 3,
   "metadata": {},
   "outputs": [],
   "source": [
    "cifar_10_list = [ 'airplane', 'automobile','bird','cat','deer','dog','frog','horse','ship','truck']"
   ]
  },
  {
   "cell_type": "markdown",
   "metadata": {},
   "source": [
    "### Display some of the images"
   ]
  },
  {
   "cell_type": "code",
   "execution_count": 4,
   "metadata": {},
   "outputs": [
    {
     "data": {
      "image/png": "[encoded data removed]",
      "text/plain": [
       "<Figure size 720x432 with 10 Axes>"
      ]
     },
     "metadata": {
      "needs_background": "light"
     },
     "output_type": "display_data"
    }
   ],
   "source": [
    "plt.figure(figsize=(10, 6))\n",
    "for idx,i in enumerate(range(100,110)):\n",
    "    plt.subplot(2, 5, idx+1)\n",
    "    plt.imshow(X_train[i, :, :, :])\n",
    "    plt.title(cifar_10_list[int(y_train[i])])"
   ]
  },
  {
   "cell_type": "code",
   "execution_count": 5,
   "metadata": {},
   "outputs": [
    {
     "data": {
      "text/plain": [
       "(50000, 1)"
      ]
     },
     "execution_count": 5,
     "metadata": {},
     "output_type": "execute_result"
    }
   ],
   "source": [
    "y_train.shape"
   ]
  },
  {
   "cell_type": "markdown",
   "metadata": {},
   "source": [
    "## Format conversion\n",
    "\n",
    "We now convert the format of the data. In the case of CNNs, and contrary to MLPs, the inputs are not simply vectors of arbitrary size. For example, in the case of images, it is important to distinguish the different dimensions (otherwise the network would not know how to carry out convolutions). Therefore, you need to carry out the following operation :\n",
    "\n",
    "- reshape the input ```X_train```and ```X_test``` to a set of matrices of size (32,32) and depth 3 (for the 3 R,G,B colors), convert the data to float32 and normalize them in the range [0,1]. The final dimensions of the image data should be : [batch_size, height, width, n_channels]\n",
    "\n",
    "Furthermore, as in the previous lab work, you must also convert the label vectors to matrices with k columns, where k is the number of classes. This allows us to carry out the cross-entropy for multi-class problems. Therefore :\n",
    "\n",
    "- convert the output label ```y_train``` and ```y_test``` to one-hot encoding format."
   ]
  },
  {
   "cell_type": "code",
   "execution_count": 6,
   "metadata": {},
   "outputs": [
    {
     "name": "stdout",
     "output_type": "stream",
     "text": [
      "X_train shape: (50000, 32, 32, 3)\n",
      "y_train shape: (50000, 1)\n",
      "Y_train shape: (50000, 10)\n",
      "There is 50000 train data\n",
      "There is 10000 test data\n",
      "32 32 3\n"
     ]
    }
   ],
   "source": [
    "# input image dimensions\n",
    "img_rows, img_cols, nb_channels = 32, 32, 3\n",
    "nb_classes = 10\n",
    "\n",
    "# In case depth is 1 (black and white pictures) -> reshape to proper format\n",
    "X_train = X_train.reshape(X_train.shape[0], img_rows, img_cols, nb_channels)\n",
    "X_test = X_test.reshape(X_test.shape[0], img_rows, img_cols, nb_channels)\n",
    "\n",
    "X_train = X_train.astype('float32')\n",
    "X_test = X_test.astype('float32')\n",
    "X_train /= 255\n",
    "X_test /= 255\n",
    "\n",
    "Y_train = to_categorical(y_train)\n",
    "Y_test = to_categorical(y_test)\n",
    "\n",
    "print('X_train shape:', X_train.shape)\n",
    "print('y_train shape:', y_train.shape)\n",
    "print('Y_train shape:', Y_train.shape)\n",
    "print('There is {} train data'.format(X_train.shape[0]))\n",
    "print('There is {} test data'.format(X_test.shape[0]))\n",
    "print(img_rows, img_cols, nb_channels)"
   ]
  },
  {
   "cell_type": "markdown",
   "metadata": {},
   "source": [
    "For memory and speed reasons, we are going to reduce the amount of training data :"
   ]
  },
  {
   "cell_type": "code",
   "execution_count": 7,
   "metadata": {},
   "outputs": [
    {
     "name": "stdout",
     "output_type": "stream",
     "text": [
      "(10000, 32, 32, 3)\n",
      "(10000, 10)\n"
     ]
    }
   ],
   "source": [
    "n_train_samples = 10000\n",
    "X_train = X_train[0:n_train_samples,:,:,:]\n",
    "Y_train = Y_train[0:n_train_samples,:]\n",
    "print(X_train.shape)\n",
    "print(Y_train.shape)"
   ]
  },
  {
   "cell_type": "markdown",
   "metadata": {},
   "source": [
    "# 1. CNN with tensorflow\n",
    "\n",
    "We are now going to create a CNN with Tensorflow, and train it on the previously loaded CIFAR dataset.\n",
    "- First define the input and output using ```tf.placeholder```\n",
    "- Define the weights W1,b1,W2,b2 of the CNN using ```tf.get_variable```\n",
    "    - We initialize them using ```tf.contrib.layers.xavier_initializer```(see https://www.tensorflow.org/api_docs/python/tf/contrib/layers/xavier_initializer)\n",
    "- Perform the convolution using ```tf.nn.conv2d``` \n",
    "- Apply the activation function using ```tf.nn.relu```\n",
    "- Perform the max pooling using ```tf.nn.max_pool```\n",
    "- Flatten the output of the convolution using ```tf.contrib.layers.flatten```\n",
    "- Perform the Fully-Connected part using ```tf.contrib.layers.fully_connected```\n",
    "\n",
    "Also, note that in Tensorflow, you can carry out the softmax + cross entropy all in one step with the following function :\n",
    "\n",
    "- ```tf.nn.softmax_cross_entropy_with_logits()```\n",
    "\n",
    "This has the advantage of being optimised and stabilised by the programmers who wrote Tensorflow, so that you do not have numerical problems.\n",
    "\n",
    "$\\textbf{IMPORTANT NOTE}$ : Please note that this part in Tensorflow is just so that you have had some experience with CNNs in Tensorflow. The goal of the first part of the TP is to see that CNNs are easier to program in Keras. So do not spend a lot of time trying to get great accuracy results. If you want to do this, do it in the Keras part."
   ]
  },
  {
   "cell_type": "code",
   "execution_count": 8,
   "metadata": {},
   "outputs": [],
   "source": [
    "import tensorflow as tf\n",
    "\n",
    "learning_rate = 0.01\n",
    "n_epochs = 5\n",
    "batch_size = 64\n",
    "\n",
    "# number of convolutional filters to use\n",
    "nb_filters = 32\n",
    "# convolution kernel size\n",
    "kernel_size = (3, 3)\n",
    "# size of pooling area for max pooling\n",
    "pool_size = (2, 2)\n",
    "\n",
    "\n",
    "# --- Size of the successice layers\n",
    "n_h_0 = nb_channels\n",
    "n_h_1 = nb_filters\n",
    "n_h_2 = nb_filters"
   ]
  },
  {
   "cell_type": "code",
   "execution_count": null,
   "metadata": {},
   "outputs": [],
   "source": [
    "tf.reset_default_graph()\n",
    "\n",
    "# input tensor are of shape [batch, in_height, in_width, in_channels]  \n",
    "# filter / kernel tensor are of shape [filter_height, filter_width, in_channels, out_channels]\n",
    "\n",
    "\n",
    "# --- START CODE HERE\n",
    "X_input = tf.placeholder(tf.float32, shape=(None, img_rows, img_cols, nb_channels))\n",
    "Y_output = tf.placeholder(tf.float32, shape=(None, nb_classes))\n",
    "\n",
    "W1 = tf.get_variable(\"W1\", [kernel_size[0], kernel_size[1], n_h_0, n_h_1], initializer = tf.contrib.layers.xavier_initializer(seed = 0))\n",
    "W2 = tf.get_variable(\"W2\", [kernel_size[0], kernel_size[1], n_h_1, n_h_2], initializer = tf.contrib.layers.xavier_initializer(seed = 0))\n",
    "\n",
    "b1 = tf.get_variable(\"b1\", [n_h_1], initializer = tf.contrib.layers.xavier_initializer(seed = 0))\n",
    "b2 = tf.get_variable(\"b2\", [n_h_2], initializer = tf.contrib.layers.xavier_initializer(seed = 0))\n",
    "\n",
    "Z1 = tf.nn.conv2d(X_input, W1, strides = [1,1,1,1], padding = 'VALID')\n",
    "A1 = tf.nn.relu(Z1+b1)\n",
    "\n",
    "Z2 = tf.nn.conv2d(A1, W2, strides = [1,1,1,1], padding = 'VALID')\n",
    "A2 = tf.nn.relu(Z2+b2)\n",
    "P2 = tf.nn.max_pool(A2, ksize = [1, pool_size[0], pool_size[0], 1], strides = [1, pool_size[0], pool_size[0], 1], padding = 'VALID')\n",
    "\n",
    "P2 = tf.contrib.layers.flatten(P2)\n",
    "\n",
    "Z3 = tf.contrib.layers.fully_connected(inputs=P2, num_outputs=nb_classes, activation_fn=None)\n",
    "# --- END CODE HERE\n",
    "\n",
    "\n",
    "cost = tf.reduce_mean(tf.nn.softmax_cross_entropy_with_logits(logits = Z3, labels = Y_output))\n",
    "optimizer = tf.train.AdamOptimizer(learning_rate = learning_rate).minimize(cost)"
   ]
  },
  {
   "cell_type": "markdown",
   "metadata": {},
   "source": [
    "## Train the model"
   ]
  },
  {
   "cell_type": "code",
   "execution_count": null,
   "metadata": {},
   "outputs": [],
   "source": [
    "init = tf.global_variables_initializer()\n",
    "n_batches = int(np.ceil(X_train.shape[0] / float(batch_size)))\n",
    "costs = []\n",
    "\n",
    "with tf.Session() as sess:\n",
    "    sess.run(init)\n",
    "    \n",
    "    for epoch in range(n_epochs):\n",
    "        minibatch_cost = 0.\n",
    "        for batch_idx in range(n_batches):\n",
    "            start = batch_idx * batch_size\n",
    "            stop = start + batch_size\n",
    "            _ , temp_cost = sess.run([optimizer, cost], feed_dict={X_input: X_train[start: stop,:,:,:], Y_output: Y_train[start: stop,:]})\n",
    "            minibatch_cost += temp_cost / n_batches\n",
    "\n",
    "        if epoch % 1 == 0:\n",
    "            print (\"Cost after epoch %i: %f\" % (epoch, minibatch_cost))\n",
    "            \n",
    "        costs.append(minibatch_cost) \n",
    "        \n",
    "    plt.plot(np.squeeze(costs))\n",
    "    plt.ylabel('cost')\n",
    "    plt.xlabel('iterations (per tens)')\n",
    "    plt.title(\"Learning rate =\" + str(learning_rate))\n",
    "    plt.show()\n",
    "\n",
    "    # Calculate the correct predictions\n",
    "    predict_op = tf.argmax(Z3, 1)\n",
    "    correct_prediction = tf.equal(predict_op, tf.argmax(Y_output, 1))\n",
    "\n",
    "    # Calculate accuracy on the test set\n",
    "    accuracy = tf.reduce_mean(tf.cast(correct_prediction, \"float\"))\n",
    "    print(accuracy)\n",
    "    train_accuracy = accuracy.eval({X_input: X_train, Y_output: Y_train})\n",
    "    test_accuracy = accuracy.eval({X_input: X_test, Y_output: Y_test})\n",
    "    print(\"Train Accuracy:\", train_accuracy)\n",
    "    print(\"Test Accuracy:\", test_accuracy)\n",
    "    \n"
   ]
  },
  {
   "cell_type": "markdown",
   "metadata": {},
   "source": [
    "# 2. CNN with keras"
   ]
  },
  {
   "cell_type": "markdown",
   "metadata": {},
   "source": [
    "We are now going to create the same network with Keras. As we shall see, the interface is quite simplified in comparison to Tensorflow.\n",
    "\n",
    "## We first import keras packages"
   ]
  },
  {
   "cell_type": "code",
   "execution_count": 9,
   "metadata": {},
   "outputs": [
    {
     "name": "stdout",
     "output_type": "stream",
     "text": [
      "2.2.4\n"
     ]
    }
   ],
   "source": [
    "import keras\n",
    "from keras.models import Sequential, Model\n",
    "from keras.layers import Dense, Dropout, Activation, Flatten, Input\n",
    "from keras.layers import Conv2D, MaxPooling2D\n",
    "from keras import optimizers\n",
    "print(keras.__version__)"
   ]
  },
  {
   "cell_type": "markdown",
   "metadata": {},
   "source": [
    "## We define the parameters of the model, and of the training"
   ]
  },
  {
   "cell_type": "code",
   "execution_count": 10,
   "metadata": {},
   "outputs": [],
   "source": [
    "input_shape = (img_rows, img_cols, nb_channels)"
   ]
  },
  {
   "cell_type": "markdown",
   "metadata": {},
   "source": [
    "## Creating the CNN model in Keras using the Sequential API\n",
    "\n",
    "Keras has a simple way of adding layers to create a neural network. First, you can indicate to Keras that the model is 'sequential', that is to say, a straight-forward CNN. For this, you can use the following function :\n",
    "- ```model = Sequential()```\n",
    "\n",
    "After this, you can add layers with the function.\n",
    "\n",
    "- ```model.add()```\n",
    "\n",
    "You can then use the ```Conv2D```, ```Activation```, ```MaxPooling2D```, ```Flatten``` and ```Dense``` (fully connected) functions to specify different layer types. Note that in the case of this approach, you will have to specify the input image size in the first layer of the network. So, for example, if the first layer is convolutional :\n",
    "\n",
    "- model = Sequential()\n",
    "- model.add(Conv2D(nb_filters, kernel_size, input_shape=input_shape, name='Conv1'))\n",
    "\n",
    "\n",
    "## Creating the CNN model in Keras using the Sequential API\n",
    "\n",
    "Otherwise, another approach to creating the model is to explicitly create the input variable, and just cascade the different functions, as in Tensorflow. So, for the same example, we would have :\n",
    "\n",
    "- input = Input(shape=(img_rows,img_cols,nb_channels))\n",
    "- output = Conv2D(input_shape=self.img_shape,filters=nb_filters,kernel_size=kernel_size)(input)\n",
    "- model = Model(input, output)\n",
    "\n",
    "Create your CNN now with the network parameters specified above."
   ]
  },
  {
   "cell_type": "code",
   "execution_count": 15,
   "metadata": {},
   "outputs": [],
   "source": [
    "# --- START CODE HERE\n",
    "#model = Sequential()\n",
    "\n",
    "#model.add(Conv2D(nb_filters, kernel_size, padding='same', input_shape=input_shape, name='Conv1'))\n",
    "#model.add(Activation('relu', name='NL1'))\n",
    "\n",
    "#model.add(Conv2D(nb_filters, kernel_size, padding='same', name='Conv2'))\n",
    "#model.add(Activation('relu', name='NL2'))\n",
    "#model.add(MaxPooling2D(pool_size=pool_size, name='MaxPool2'))\n",
    "\n",
    "#model.add(Flatten(name='Flatten'))\n",
    "#model.add(Dense(nb_classes, name='FC4'))\n",
    "#model.add(Activation('softmax', name='NL4'))\n",
    "\n",
    "input_1 = Input(shape=(img_rows,img_cols,nb_channels))\n",
    "input_2 = Conv2D(filters=n_h_1, kernel_size=[kernel_size[0], kernel_size[1]])(input_1)\n",
    "input_3 = Activation('relu')(input_2)\n",
    "input_4 = Conv2D(filters=n_h_2,kernel_size=[kernel_size[0], kernel_size[1]])(input_3)\n",
    "input_5 = Activation('relu')(input_4)\n",
    "input_6 = MaxPooling2D(pool_size=(2, 2))(input_5)\n",
    "input_7 = Flatten()(input_6)\n",
    "\n",
    "input_8 = Dense(Y_train.shape[1])(input_7)#, activation= None\n",
    "output = Activation('softmax')(input_8)\n",
    "model = Model(input_1, output)\n",
    "\n",
    "# --- END CODE HERE"
   ]
  },
  {
   "cell_type": "markdown",
   "metadata": {},
   "source": [
    "## Compile the model\n",
    "\n",
    "We define here the ```loss``` that we will minimize and the ```optimizer``` (the specific algorithm used to perform gradient descent)."
   ]
  },
  {
   "cell_type": "code",
   "execution_count": 16,
   "metadata": {},
   "outputs": [],
   "source": [
    "model.compile(loss='categorical_crossentropy',\n",
    "              optimizer=optimizers.Adam(lr=learning_rate),\n",
    "              metrics=['accuracy'])"
   ]
  },
  {
   "cell_type": "markdown",
   "metadata": {},
   "source": [
    "## We display a summary of the model created (but not yet trained)"
   ]
  },
  {
   "cell_type": "code",
   "execution_count": 17,
   "metadata": {},
   "outputs": [
    {
     "name": "stdout",
     "output_type": "stream",
     "text": [
      "_________________________________________________________________\n",
      "Layer (type)                 Output Shape              Param #   \n",
      "=================================================================\n",
      "input_2 (InputLayer)         (None, 32, 32, 3)         0         \n",
      "_________________________________________________________________\n",
      "conv2d_3 (Conv2D)            (None, 30, 30, 32)        896       \n",
      "_________________________________________________________________\n",
      "activation_4 (Activation)    (None, 30, 30, 32)        0         \n",
      "_________________________________________________________________\n",
      "conv2d_4 (Conv2D)            (None, 28, 28, 32)        9248      \n",
      "_________________________________________________________________\n",
      "activation_5 (Activation)    (None, 28, 28, 32)        0         \n",
      "_________________________________________________________________\n",
      "max_pooling2d_2 (MaxPooling2 (None, 14, 14, 32)        0         \n",
      "_________________________________________________________________\n",
      "flatten_2 (Flatten)          (None, 6272)              0         \n",
      "_________________________________________________________________\n",
      "dense_2 (Dense)              (None, 10)                62730     \n",
      "_________________________________________________________________\n",
      "activation_6 (Activation)    (None, 10)                0         \n",
      "=================================================================\n",
      "Total params: 72,874\n",
      "Trainable params: 72,874\n",
      "Non-trainable params: 0\n",
      "_________________________________________________________________\n"
     ]
    }
   ],
   "source": [
    "model.summary()"
   ]
  },
  {
   "cell_type": "markdown",
   "metadata": {},
   "source": [
    "## Perform the training"
   ]
  },
  {
   "cell_type": "code",
   "execution_count": 18,
   "metadata": {},
   "outputs": [
    {
     "name": "stderr",
     "output_type": "stream",
     "text": [
      "/home/alasdair/anaconda3/envs/keras_env/lib/python3.6/site-packages/ipykernel_launcher.py:5: UserWarning: The `nb_epoch` argument in `fit` has been renamed `epochs`.\n",
      "  \"\"\"\n"
     ]
    },
    {
     "name": "stdout",
     "output_type": "stream",
     "text": [
      "Train on 10000 samples, validate on 10000 samples\n",
      "Epoch 1/5\n",
      "10000/10000 [==============================] - 10s 976us/step - loss: 2.1553 - acc: 0.2251 - val_loss: 1.9963 - val_acc: 0.2936\n",
      "Epoch 2/5\n",
      "10000/10000 [==============================] - 11s 1ms/step - loss: 1.9972 - acc: 0.2850 - val_loss: 1.9792 - val_acc: 0.2801\n",
      "Epoch 3/5\n",
      "10000/10000 [==============================] - 11s 1ms/step - loss: 1.9738 - acc: 0.2871 - val_loss: 1.9639 - val_acc: 0.2929\n",
      "Epoch 4/5\n",
      "10000/10000 [==============================] - 11s 1ms/step - loss: 1.9689 - acc: 0.2855 - val_loss: 1.9658 - val_acc: 0.2880\n",
      "Epoch 5/5\n",
      "10000/10000 [==============================] - 14s 1ms/step - loss: 1.9446 - acc: 0.2979 - val_loss: 1.9641 - val_acc: 0.2813\n"
     ]
    },
    {
     "data": {
      "text/plain": [
       "<keras.callbacks.History at 0x7f8191990c18>"
      ]
     },
     "execution_count": 18,
     "metadata": {},
     "output_type": "execute_result"
    }
   ],
   "source": [
    "model.fit(X_train, Y_train,\n",
    "          batch_size=batch_size, \n",
    "          nb_epoch=n_epochs,\n",
    "          verbose=1, \n",
    "          validation_data=(X_test, Y_test))"
   ]
  },
  {
   "cell_type": "markdown",
   "metadata": {},
   "source": [
    "## We evaluate the performances of the model on the test data"
   ]
  },
  {
   "cell_type": "code",
   "execution_count": null,
   "metadata": {},
   "outputs": [],
   "source": [
    "score = model.evaluate(X_test, Y_test, verbose=False)\n",
    "print('Test score:', score[0])\n",
    "print('Test accuracy:', score[1])"
   ]
  },
  {
   "cell_type": "markdown",
   "metadata": {},
   "source": [
    "Let's take a look at what the network has learned. What do you think ?"
   ]
  },
  {
   "cell_type": "code",
   "execution_count": null,
   "metadata": {},
   "outputs": [],
   "source": [
    "plt.figure(figsize=(10, 6))\n",
    "for idx,i in enumerate(range(100,110)):\n",
    "    plt.subplot(2, 5, idx+1)\n",
    "    rand_ind = np.random.randint(0,X_test.shape[0])\n",
    "    predicted_class = np.argmax(np.squeeze(model.predict(np.expand_dims(X_test[rand_ind,:,:,:],axis=0))))\n",
    "    plt.imshow(X_test[rand_ind,:,:,:])\n",
    "    plt.title(cifar_10_list[int(predicted_class)])"
   ]
  },
  {
   "cell_type": "markdown",
   "metadata": {},
   "source": [
    "## We display all (32) trained filters of the first layer"
   ]
  },
  {
   "cell_type": "code",
   "execution_count": null,
   "metadata": {},
   "outputs": [],
   "source": [
    "print(model.layers[0].filters)\n",
    "print(model.layers[0].kernel_size)\n",
    "print(model.layers[0].get_weights()[0].shape)\n",
    "plt.figure(figsize=(10, 6))\n",
    "for num in range(0,32):\n",
    "    plt.subplot(8, 4, num+1)\n",
    "    # --- START CODE HERE\n",
    "    plt.imshow(model.layers[0].get_weights()[0][:,:,0,num])\n",
    "    # --- END CODE HERE    "
   ]
  },
  {
   "cell_type": "code",
   "execution_count": null,
   "metadata": {},
   "outputs": [],
   "source": []
  }
 ],
 "metadata": {
  "kernelspec": {
   "display_name": "Python 3",
   "language": "python",
   "name": "python3"
  },
  "language_info": {
   "codemirror_mode": {
    "name": "ipython",
    "version": 3
   },
   "file_extension": ".py",
   "mimetype": "text/x-python",
   "name": "python",
   "nbconvert_exporter": "python",
   "pygments_lexer": "ipython3",
   "version": "3.6.7"
  }
 },
 "nbformat": 4,
 "nbformat_minor": 1
}
