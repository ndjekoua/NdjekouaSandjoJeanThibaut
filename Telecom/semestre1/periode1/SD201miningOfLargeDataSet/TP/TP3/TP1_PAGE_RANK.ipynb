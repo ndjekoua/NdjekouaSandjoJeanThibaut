{
  "nbformat": 4,
  "nbformat_minor": 0,
  "metadata": {
    "colab": {
      "name": "TP1_PAGE_RANK.ipynb",
      "provenance": []
    },
    "kernelspec": {
      "name": "python3",
      "display_name": "Python 3"
    }
  },
  "cells": [
    {
      "cell_type": "code",
      "metadata": {
        "id": "PXCu1ZsmzzMC",
        "colab_type": "code",
        "colab": {}
      },
      "source": [
        "#STEP-1: Import Libraries\n",
        "\n",
        "# Code to read csv file into colaboratory:\n",
        "!pip install -U -q PyDrive\n",
        "from pydrive.auth import GoogleAuth\n",
        "from pydrive.drive import GoogleDrive\n",
        "from google.colab import auth\n",
        "from oauth2client.client import GoogleCredentials\n"
      ],
      "execution_count": 0,
      "outputs": []
    },
    {
      "cell_type": "code",
      "metadata": {
        "id": "DuIHBz6F0FZq",
        "colab_type": "code",
        "colab": {}
      },
      "source": [
        "#STEP-2: Autheticate E-Mail ID\n",
        "\n",
        "auth.authenticate_user()\n",
        "gauth = GoogleAuth()\n",
        "gauth.credentials = GoogleCredentials.get_application_default()\n",
        "drive = GoogleDrive(gauth)\n"
      ],
      "execution_count": 0,
      "outputs": []
    },
    {
      "cell_type": "code",
      "metadata": {
        "id": "DhLEFuyq0usV",
        "colab_type": "code",
        "colab": {}
      },
      "source": [
        "#STEP-3: Get File from Drive using file-ID\n",
        "#2.1 Get the file\n",
        "downloaded = drive.CreateFile({'id':'1dxSzH1vXTrfI6QKECiKfNgzFU1gsUaBY'}) # replace the id with id of file you want to access\n",
        "downloaded.GetContentFile('input.txt')"
      ],
      "execution_count": 0,
      "outputs": []
    },
    {
      "cell_type": "code",
      "metadata": {
        "id": "Tyy0IspA09dZ",
        "colab_type": "code",
        "colab": {}
      },
      "source": [
        "#Exercise on Python and PageRank\n",
        "from scipy.sparse import coo_matrix\n",
        "import numpy as np\n",
        "from numpy.linalg import norm\n",
        "import re\n",
        "import os\n",
        "import sys"
      ],
      "execution_count": 0,
      "outputs": []
    },
    {
      "cell_type": "code",
      "metadata": {
        "id": "1XMOAVai1E35",
        "colab_type": "code",
        "colab": {}
      },
      "source": [
        "\n",
        "def myPageRank(G_file_name, epsilon, beta):\n",
        "\n",
        "    M = buildMatrix(G_file_name)[1]\n",
        "    N = buildMatrix(G_file_name)[0]\n",
        "    A = beta * M + (1 - beta) / N\n",
        "    Pi = np.array([1 / N for x in range(int(N))])\n",
        "    while True:\n",
        "        ancientPi = Pi\n",
        "        Pi = A.dot(ancientPi)\n",
        "        if norm((Pi - ancientPi), ord=1) < epsilon:\n",
        "            break\n",
        "    return Pi"
      ],
      "execution_count": 0,
      "outputs": []
    },
    {
      "cell_type": "code",
      "metadata": {
        "id": "eXCMY1jb1L6N",
        "colab_type": "code",
        "colab": {}
      },
      "source": [
        "def buildMatrix(G_file_name):\n",
        "    # G is a list a lines of the kind i j denoting that there is an edge between node i and j (from j to i)\n",
        "    with open(G_file_name, \"r\") as file:\n",
        "        lines = file.readlines()\n",
        "    file.close()\n",
        "    i_list = np.array([])\n",
        "    j_list = np.array([])\n",
        "    for line in lines:\n",
        "        i_list = np.append(i_list, int(line.split()[0]) - 1)\n",
        "    for line in lines:\n",
        "        j_list = np.append(j_list, int(line.split()[1]) - 1)\n",
        "\n",
        "    N = int(max(np.append(i_list, j_list)) + 1)\n",
        "    data = [0 for x in range(len(i_list))]\n",
        "    for j in j_list:\n",
        "        k = j_list.tolist().count(j)  # number of successors of the page j\n",
        "        for index in [x for x, y in enumerate(j_list) if y == j]:\n",
        "            data[index] = 1 / k\n",
        "    M = coo_matrix((data, (i_list, j_list)), shape=(N,N)).toarray()\n",
        "    return (N, M)\n"
      ],
      "execution_count": 0,
      "outputs": []
    },
    {
      "cell_type": "code",
      "metadata": {
        "id": "8SWibg5G1S26",
        "colab_type": "code",
        "outputId": "95d3d0f0-9a9d-4b01-bd15-38284762f912",
        "colab": {
          "base_uri": "https://localhost:8080/",
          "height": 50
        }
      },
      "source": [
        "#try the pageRank algorithm with beta =1 and beta = 0.8\n",
        "input_path = \"input.txt\"\n",
        "print(myPageRank(input_path,epsilon=0.001,beta=1))\n",
        "print(myPageRank(input_path, epsilon = 0.001, beta = 0.8))"
      ],
      "execution_count": 25,
      "outputs": [
        {
          "output_type": "stream",
          "text": [
            "[0.28588104 0.14288076 0.14273834 0.14288076 0.14273834 0.14288076]\n",
            "[0.27139475 0.15083741 0.14697392 0.14191    0.14697392 0.14191   ]\n"
          ],
          "name": "stdout"
        }
      ]
    },
    {
      "cell_type": "code",
      "metadata": {
        "id": "AMQfrtD12SaV",
        "colab_type": "code",
        "outputId": "55e4f5e9-c882-4b1e-ae48-d5d1b19be251",
        "colab": {
          "base_uri": "https://localhost:8080/",
          "height": 185
        }
      },
      "source": [
        "path = \"../home/\"\n",
        "dictionary = {}\n",
        "i = 1\n",
        "hyperlinks = []\n",
        "added_links = {}\n",
        "\n",
        "new_file_name = \"web_graph.txt\"\n",
        "new_file = open(new_file_name, \"w+\")\n",
        "\n",
        "#fill out the dictionary\n",
        "for file_name in os.listdir(path):\n",
        "    dictionary[file_name] = i\n",
        "    i += 1\n",
        "\n",
        "for file_name in os.listdir(path):\n",
        "    with open(path + file_name, \"r\",encoding = 'utf-8') as file:\n",
        "        file_text = file.read()\n",
        "        hyperlinks = re.findall('a href=\"([^\\'\" >]+)', file_text)\n",
        "        for html in hyperlinks:\n",
        "          pair = str(dictionary[html]) + \" \" + str(dictionary[file_name])\n",
        "          #avoid duplicating edges and self loop!!\n",
        "          if pair not in added_links and dictionary[html] != dictionary[file_name]:\n",
        "           added_links[pair] = pair\n",
        "           new_file.write(str(dictionary[html]) + \" \" + str(dictionary[file_name]) + \"\\n\")\n",
        "    file.close()\n",
        "\n",
        "new_file.close()\n",
        "#run the PageRank algorithm on the web graph\n",
        "PageRankVector = myPageRank(new_file_name,0.000001,1)\n",
        "print(PageRankVector)"
      ],
      "execution_count": 26,
      "outputs": [
        {
          "output_type": "stream",
          "text": [
            "[0.00159455 0.02496645 0.01815372 0.00928726 0.01335785 0.02565619\n",
            " 0.02938855 0.03075377 0.02483268 0.01668184 0.00175311 0.01344423\n",
            " 0.01275943 0.00129537 0.00848136 0.04148382 0.01575606 0.01409285\n",
            " 0.00456868 0.01346004 0.01451225 0.04165843 0.00673632 0.02411051\n",
            " 0.02098956 0.01065226 0.03492241 0.01554446 0.00902775 0.01605159\n",
            " 0.01533718 0.01764223 0.01323734 0.00273082 0.02620188 0.03334321\n",
            " 0.00873455 0.02066656 0.01124797 0.02843645 0.03143648 0.02444299\n",
            " 0.02106389 0.01750945 0.01914779 0.01754211 0.0049297  0.02507493\n",
            " 0.03689479 0.01106887 0.0200194  0.00534582 0.0150683  0.00587831\n",
            " 0.05102562]\n"
          ],
          "name": "stdout"
        }
      ]
    }
  ]
}