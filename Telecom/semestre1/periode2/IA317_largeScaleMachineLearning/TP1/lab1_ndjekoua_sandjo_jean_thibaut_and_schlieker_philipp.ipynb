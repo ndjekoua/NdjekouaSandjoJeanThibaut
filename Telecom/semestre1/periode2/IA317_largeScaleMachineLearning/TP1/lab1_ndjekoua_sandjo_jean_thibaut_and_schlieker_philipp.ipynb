{
  "nbformat": 4,
  "nbformat_minor": 0,
  "metadata": {
    "anaconda-cloud": {},
    "kernelspec": {
      "display_name": "Python 3",
      "language": "python",
      "name": "python3"
    },
    "language_info": {
      "codemirror_mode": {
        "name": "ipython",
        "version": 3
      },
      "file_extension": ".py",
      "mimetype": "text/x-python",
      "name": "python",
      "nbconvert_exporter": "python",
      "pygments_lexer": "ipython3",
      "version": "3.6.8"
    },
    "colab": {
      "name": "lab1_ndjekoua sandjo_jean thibaut_and_schlieker_philipp.ipynb",
      "provenance": []
    }
  },
  "cells": [
    {
      "cell_type": "markdown",
      "metadata": {
        "id": "OaXt5wwAq51z",
        "colab_type": "text"
      },
      "source": [
        "# LAB: Random Projections : SOLUTIONS"
      ]
    },
    {
      "cell_type": "markdown",
      "metadata": {
        "id": "SC5iap60q510",
        "colab_type": "text"
      },
      "source": [
        "\n",
        "#### Authors: R. M. Gower\n",
        "\n",
        "## Aim\n",
        "\n",
        "The aim of this material is to\n",
        "- to show that in practice dimension reduction can be used with no loss of accuracy on some problem\n",
        "- code efficient sparse random projections\n",
        "- apply sparse random projections together with knearestneighbors\n",
        "\n",
        "\n",
        "## VERY IMPORTANT\n",
        "\n",
        "- This work **must be done by pairs of students**.\n",
        "- Each paris of students must send their jupyter notebook **before the 24th of November at 21:59** to **gowerrobert@gmail.com**\n",
        "- The **name of the file must be** constructed as in the next cell\n",
        "\n",
        "# Gentle reminder: no evaluation if you don't respect this EXACTLY\n",
        "\n",
        "### How to construct the name of your file"
      ]
    },
    {
      "cell_type": "code",
      "metadata": {
        "id": "JfmH5l19q511",
        "colab_type": "code",
        "colab": {
          "base_uri": "https://localhost:8080/",
          "height": 34
        },
        "outputId": "914058f8-0108-4b19-c427-4640a5c57369"
      },
      "source": [
        "# Change here using YOUR first and last names\n",
        "fn1 = \"ndjekoua sandjo\"\n",
        "ln1 = \"jean thibaut\"\n",
        "fn2 = \"philipp\"\n",
        "ln2 = \"schlieker\"\n",
        "\n",
        "filename = \"_\".join(map(lambda s: s.strip().lower(), \n",
        "                        [\"lab1\", ln1, fn1, \"and\", ln2, fn2])) + \".ipynb\"\n",
        "print(filename)"
      ],
      "execution_count": 1,
      "outputs": [
        {
          "output_type": "stream",
          "text": [
            "lab1_jean thibaut_ndjekoua sandjo_and_schlieker_philipp.ipynb\n"
          ],
          "name": "stdout"
        }
      ]
    },
    {
      "cell_type": "code",
      "metadata": {
        "id": "00q87__4q515",
        "colab_type": "code",
        "colab": {}
      },
      "source": [
        "#Throughout the notebook you will find commented boxes like this one\n",
        "\n",
        "### TODO ###   \n",
        "# please implement blabla\n",
        "#############"
      ],
      "execution_count": 0,
      "outputs": []
    },
    {
      "cell_type": "markdown",
      "metadata": {
        "id": "gzHjvdNdq518",
        "colab_type": "text"
      },
      "source": [
        "These boxes need to be replaced by code as explained in the boxes.\n",
        "Solutions will online tomorrow. Good luck!"
      ]
    },
    {
      "cell_type": "code",
      "metadata": {
        "id": "H0ydyiC3q519",
        "colab_type": "code",
        "colab": {}
      },
      "source": [
        "%matplotlib inline"
      ],
      "execution_count": 0,
      "outputs": []
    },
    {
      "cell_type": "code",
      "metadata": {
        "id": "SX32GQhCq52A",
        "colab_type": "code",
        "colab": {}
      },
      "source": [
        "import numpy as np\n",
        "from scipy.linalg import norm\n",
        "import matplotlib.pyplot as plt"
      ],
      "execution_count": 0,
      "outputs": []
    },
    {
      "cell_type": "code",
      "metadata": {
        "id": "pT8aqwV1q52C",
        "colab_type": "code",
        "colab": {}
      },
      "source": [
        "from sklearn.datasets import load_svmlight_file\n",
        "from sklearn.model_selection import train_test_split\n",
        "from sklearn.linear_model import LogisticRegression    #Logistic Regression\n",
        "from sklearn.neighbors import KNeighborsClassifier \n",
        "\n",
        "def get_data(dataname):\n",
        "    data = load_svmlight_file(dataname)\n",
        "    return data[0], data[1]\n",
        "\n",
        "\n",
        "# Supress warnings\n",
        "# import warnings filter\n",
        "from warnings import simplefilter\n",
        "# ignore all future warnings\n",
        "simplefilter(action='ignore', category=FutureWarning)"
      ],
      "execution_count": 0,
      "outputs": []
    },
    {
      "cell_type": "markdown",
      "metadata": {
        "id": "jwTzbqYzq52E",
        "colab_type": "text"
      },
      "source": [
        "## EXERCISE 1: \n",
        "\n",
        "Use LogisticRegression classifier of Scikit-learn to experimentally confirm the following corollary proven in class and test random sparse projections\n",
        "\n",
        "### Corollary of Range Space Preserving Theorem  \n",
        "\n",
        "Let \n",
        "$$ X^\\top = [x_1, \\ldots, x_n]\\in \\mathbb{R}^{n\\times d},$$\n",
        "be our data matrix and let\n",
        "$$  X X^\\top= [\\hat{x}_1, \\ldots, \\hat{x}_n]^\\top \\in \\mathbb{R}^{d\\times d}. $$\n",
        "We can find a solution to the following training problem\n",
        "$$ w^* \\in \\min_{w \\in \\mathbb{R}^d}  \\frac{1}{n}\\sum_{i=1}^n \\ell_i(\\langle x_i,w \\rangle) \\hspace{3cm} (I)$$\n",
        "by instead solving \n",
        "$$ \\hat{w}^* \\in \\min_{w \\in \\mathbb{R}^n}  \\frac{1}{n}\\sum_{i=1}^n \\ell_i(\\langle \\hat{x}_i,w \\rangle) \\hspace{3cm} (II)$$\n",
        "and  $ X ^\\top \\hat{w}^*$ is a solution to $(I)$\n",
        "\n",
        "**NOTE:** The matrix $X$ is transposed with respect to the data matrix defined in class and in the lectures ! Be careful with dimnensions!\n",
        "### End Corollary\n",
        "\n",
        "1) [2pts] Show that by setting the regularization parameter close to zero (C = 10^9) in LogisticRegression, the score obtained by training using $X$ and $XX^\\top$ is the same\n",
        "  \n",
        "2) [2pts] Compute a solution $w^*_1$  by directly solving (I).  Compare this $w^*_1$ to the recovered solution $X \\hat{w}^*$. Are they the same? Justify based on Corollary.\n",
        "\n",
        "3) [6pts] Using a random generated gaussian matrix $W \\in\\mathbb{R}^{d\\times r}$ , project the data matrix $X \\rightarrow XW$. Test for different values of r and\n",
        "apply logistic regression to the resulting projected matrix. Can you explain what you observe? "
      ]
    },
    {
      "cell_type": "code",
      "metadata": {
        "id": "24L4z7srq52F",
        "colab_type": "code",
        "colab": {
          "base_uri": "https://localhost:8080/",
          "height": 34
        },
        "outputId": "8f5c5432-5092-4d27-91fe-9168377572c0"
      },
      "source": [
        "# download the colon-cancer data set from \n",
        "# https://www.csie.ntu.edu.tw/~cjlin/libsvmtools/datasets/binary/colon-cancer.bz2\n",
        "# Unpack and place in the same folder as this python notebook\n",
        "dataname = \"colon-cancer\"  \n",
        "X, y = get_data(dataname)\n",
        "X_train, X_test, y_train, y_test = train_test_split(X, y, test_size=0.33, random_state=42)\n",
        "n, d = X_train.shape\n",
        "print('{n} data points and {d} features'.format(n = n,d =d))"
      ],
      "execution_count": 6,
      "outputs": [
        {
          "output_type": "stream",
          "text": [
            "41 data points and 2000 features\n"
          ],
          "name": "stdout"
        }
      ]
    },
    {
      "cell_type": "code",
      "metadata": {
        "id": "gMMWoYkRq52H",
        "colab_type": "code",
        "colab": {
          "base_uri": "https://localhost:8080/",
          "height": 50
        },
        "outputId": "df3570ed-03bd-408a-c264-8c09c73c1a75"
      },
      "source": [
        "C0 = 10**9 # almost no regularization, since this is the inverse of the regularization parameter, i.e, C = 1/lambda\n",
        "log_reg = LogisticRegression(C = C0) # , multi_class = \"multinomial\"\n",
        "log_reg.fit(X_train, y_train)\n",
        "print('Accuracy on the training set: {:.3f}'.format(log_reg.score(X_train,y_train)))\n",
        "print('Accuracy on the test set: {:.3f}'.format(log_reg.score(X_test,y_test)))"
      ],
      "execution_count": 7,
      "outputs": [
        {
          "output_type": "stream",
          "text": [
            "Accuracy on the training set: 1.000\n",
            "Accuracy on the test set: 0.619\n"
          ],
          "name": "stdout"
        }
      ]
    },
    {
      "cell_type": "code",
      "metadata": {
        "id": "1vNysFKcq52J",
        "colab_type": "code",
        "colab": {
          "base_uri": "https://localhost:8080/",
          "height": 84
        },
        "outputId": "915858ff-dd34-4763-e548-885a00121f23"
      },
      "source": [
        "### TODO ###   \n",
        "# 2)  Compute a solution $w^*_1$  by directly solving (I).  \n",
        "# Compare this $w^*_1$ to the recovered solution $X^\\top \\hat{w}^*$.\n",
        "# Are they the same? Justify based on Corollary.\n",
        "\n",
        "# Compute Solution for $w^*_1$\n",
        "log_reg_w = LogisticRegression(C = C0)\n",
        "log_reg_w.fit(X_train, y_train)\n",
        "print('Accuracy for solving X on the training set: {:.3f}'.format(log_reg_w.score(X_train,y_train)))\n",
        "print('Accuracy for solving X on the test set: {:.3f}'.format(log_reg_w.score(X_test,y_test)))\n",
        "\n",
        "# Compute Solution for $X^\\top \\hat{w}^*$\n",
        "log_reg_ws = LogisticRegression(C = C0)\n",
        "log_reg_ws.fit(X_train*X_train.T, y_train)\n",
        "print('Accuracy for solving XXT on the training set: {:.3f}'.format(log_reg_ws.score(X_train*X_train.T,y_train)))\n",
        "print('Accuracy for solving XXT on the test set: {:.3f}'.format(log_reg_ws.score(X_test*X_train.T,y_test)))\n"
      ],
      "execution_count": 8,
      "outputs": [
        {
          "output_type": "stream",
          "text": [
            "Accuracy for solving X on the training set: 1.000\n",
            "Accuracy for solving X on the test set: 0.619\n",
            "Accuracy for solving XXT on the training set: 1.000\n",
            "Accuracy for solving XXT on the test set: 0.619\n"
          ],
          "name": "stdout"
        }
      ]
    },
    {
      "cell_type": "markdown",
      "metadata": {
        "id": "qOH84z2Cq52M",
        "colab_type": "text"
      },
      "source": [
        "#ANSWER TO QUESTION 1: \n",
        "as we can see from the previous output, the the accuracy obtained applying the test set on the trained models using both the models trained with\n",
        "$XX^\\top $ and $ X$ are the same. So the corollary is verified.\n",
        "\n",
        "#ANSWER TO QUESTION 2:\n",
        " The solutions are not identical, but we don't expect them to be necessarily identical, since the only thing $ X ^\\top \\hat{w}^*$ is showing, is that it is A solution and not the solution! In order to show that, we can recover the original coefficients and see if they also solve X_test.\n",
        "By doing so, we can see that $ X ^\\top \\hat{w}^*$ is A solution to (I) as shown by the Corollary of Range Space Preserving Theorem"
      ]
    },
    {
      "cell_type": "code",
      "metadata": {
        "id": "10SxT2zwq52M",
        "colab_type": "code",
        "colab": {
          "base_uri": "https://localhost:8080/",
          "height": 67
        },
        "outputId": "38f5165e-21a4-46c3-de85-59cba164e270"
      },
      "source": [
        "# Calculate the differences between the solution for $w^*_1$ and the recovered solution for $X^\\top \\hat{w}^*$\n",
        "dist = np.sum(log_reg_w.coef_ - log_reg_ws.coef_ * X_train )\n",
        "print('Difference between $w^*_1$ and the recovered solution for Xtop: {:.3f}'.format(dist))\n",
        "\n",
        "# Hence we could expect that xtop * X_train will be a solution to X_test\n",
        "log_reg_ws.coef_ = log_reg_ws.coef_ * X_train\n",
        "\n",
        "print('Accuracy for solving X with the recovered coefficient from X_top on the training set: {:.3f}'.format(log_reg_ws.score(X_train,y_train)))\n",
        "print('Accuracy for solving X with the recovered coefficient from X_top on the test set: {:.3f}'.format(log_reg_ws.score(X_test,y_test)))"
      ],
      "execution_count": 9,
      "outputs": [
        {
          "output_type": "stream",
          "text": [
            "Difference between $w^*_1$ and the recovered solution for Xtop: 1.941\n",
            "Accuracy for solving X with the recovered coefficient from X_top on the training set: 1.000\n",
            "Accuracy for solving X with the recovered coefficient from X_top on the test set: 0.619\n"
          ],
          "name": "stdout"
        }
      ]
    },
    {
      "cell_type": "code",
      "metadata": {
        "id": "f4zyZE_yq52O",
        "colab_type": "code",
        "colab": {
          "base_uri": "https://localhost:8080/",
          "height": 464
        },
        "outputId": "f0c48250-ae71-4990-8a1d-5cfa0ec12bc2"
      },
      "source": [
        "### TODO ### \n",
        "## Choose a range of different projected dimensions to test\n",
        "## Suggested range of projected dimensions:\n",
        "upperbnd = d\n",
        "project_dimensions = range(1,upperbnd,int((upperbnd )/10))\n",
        "#############\n",
        "test_accuracy = []\n",
        "training_accuracy = []\n",
        "s = 20\n",
        "for r in project_dimensions: \n",
        "    ### TODO ###        \n",
        "    # 3)    project the data matrix $X \\rightarrow XW$ using Gaussian and fit, \n",
        "    #      transform and score using Logstic Regression\n",
        "    \n",
        "    W = np.random.normal(size=(d,r))\n",
        "    \n",
        "    # Fit Logistic Regression\n",
        "    log_reg = LogisticRegression(C = C0)\n",
        "    log_reg.fit(X_train * W, y_train)\n",
        "\n",
        "    # Recover Coefficients\n",
        "    log_reg.coef_ = log_reg.coef_.dot(W.T)\n",
        "\n",
        "    trainscore=log_reg.score(X_train,y_train)\n",
        "    training_accuracy.append(trainscore)\n",
        "    testscore=log_reg.score(X_test,y_test)\n",
        "    test_accuracy.append(testscore)\n",
        "    #############\n",
        "    print (\"project dimension %4d gives: (train, test) =  (%.4f, %.4f)\" % (r, trainscore,testscore))\n",
        "# coef_recover= log_regt.coef_.dot(X_train.transpose())\n",
        "\n",
        "plt.plot(project_dimensions,training_accuracy, label='Accuracy of the training set')\n",
        "plt.plot(project_dimensions,test_accuracy, label='Accuracy of the test set')\n",
        "plt.ylabel('Accuracy')\n",
        "plt.xlabel('Projected Dimension')\n",
        "plt.legend()\n",
        "index_max = np.argmax(test_accuracy)\n",
        "print(\"Best score was for r =%5d with: (train, test) =  (%.4f, %.4f)\"% (project_dimensions[index_max], training_accuracy[index_max],test_accuracy[index_max]))"
      ],
      "execution_count": 10,
      "outputs": [
        {
          "output_type": "stream",
          "text": [
            "project dimension    1 gives: (train, test) =  (0.6829, 0.5714)\n",
            "project dimension  201 gives: (train, test) =  (1.0000, 0.6190)\n",
            "project dimension  401 gives: (train, test) =  (1.0000, 0.7619)\n",
            "project dimension  601 gives: (train, test) =  (1.0000, 0.6190)\n",
            "project dimension  801 gives: (train, test) =  (1.0000, 0.6190)\n",
            "project dimension 1001 gives: (train, test) =  (1.0000, 0.6190)\n",
            "project dimension 1201 gives: (train, test) =  (1.0000, 0.6190)\n",
            "project dimension 1401 gives: (train, test) =  (1.0000, 0.6190)\n",
            "project dimension 1601 gives: (train, test) =  (1.0000, 0.6190)\n",
            "project dimension 1801 gives: (train, test) =  (1.0000, 0.6190)\n",
            "Best score was for r =  401 with: (train, test) =  (1.0000, 0.7619)\n"
          ],
          "name": "stdout"
        },
        {
          "output_type": "display_data",
          "data": {
            "image/png": "[encoded data removed]",
            "text/plain": [
              "<Figure size 432x288 with 1 Axes>"
            ]
          },
          "metadata": {
            "tags": []
          }
        }
      ]
    },
    {
      "cell_type": "markdown",
      "metadata": {
        "id": "5jbH0lSFq52Q",
        "colab_type": "text"
      },
      "source": [
        "#ANSWER TO QUESTION 3 \n",
        "The accuracies obtained here are quite similiar to the ones we obtained in the previous exercise. The partially improved accuracy can be explained by taking into account that by reducing the dimensions the problem of overfitting is reduced. Also from a certain value on, the accuracy on the training set becomes constant while it starts decreasing on the test set. So in conclusion, it's better to choose small values for the projected dimession r."
      ]
    },
    {
      "cell_type": "markdown",
      "metadata": {
        "id": "6vHjE7pTq52R",
        "colab_type": "text"
      },
      "source": [
        "## Exercise 2:\n",
        "\n",
        "In class we used \n",
        "$$ X \\rightarrow W^\\top X $$\n",
        "But here it is instead\n",
        "$$ X \\rightarrow X W $$\n",
        "\n",
        "\n",
        "\n",
        "Now we will train a model using a large text based data set. For this you need to code the following random transform $W \\in \\mathbb{R}^{d \\times r}$ that takes a sparsity parameter $s$ as an input and outputs a matrix\n",
        "\n",
        "$$ W_{ij}  = \\sqrt{\\frac{s}{r}}\n",
        "\\begin{cases}\n",
        "1 \\quad & \\mbox{with probability }\\frac{1}{2s} \\\\\n",
        "0 \\quad & \\mbox{with probability }1-\\frac{1}{s} \\\\\n",
        "-1 \\quad & \\mbox{with probability }\\frac{1}{2s} \n",
        "\\end{cases}$$\n",
        "\n",
        "* Code a function Generate_Sparse_Transform$(s,r,d)$ that takes an input  \n",
        "   * sparsity parameter  $s$\n",
        "   * input dimension $d \\in \\mathbb{N}$\n",
        "   * lower dimensional projected dimension $r \\in \\mathbb{N}$\n",
        "and gives as outputs the matrix $W$ stored in an efficient sparse format such as the CSC formart (see scipy.sparse.csc_matrix)\n",
        "\n",
        "* Code a function Apply_Sparse_Transform$(R,X)$ that takes an input\n",
        "   * the random transform $W$ as generated by  Generate\\_sparse\\_transform$(s,r,d)$\n",
        "   * a given data matrix $X \\in \\mathbb{R}^{n\\times d}$\n",
        "the output will be $XW$.\n",
        "\n",
        "\n",
        "*Note* if you have not implemented this efficiently, you will probably run out of memory!  \n",
        "\n",
        "\n",
        "We will test if random projections are able to preserve pairwise distances by applying K-Neighrest Neighbors to projected data.\n",
        "\n",
        "1) [6pts] Code the above two functions (their stub is provided below)\n",
        "\n",
        "\n",
        "2) [1pt] Load the data set X. Then fit, transform and score sklearn's KNeighborsClassifier on this data, where \n",
        "$X = $ {anthracyclineTaxaneChemotherapy, sector.scale}. Below you will find how to load this data.\n",
        "\n",
        "3) [3pts] Repeat the previous step, but first randomly project that data using X -> XW. Repeat this test for different values of the sparsity parameter s and projected dimension parameter r. What can you conclude? \n",
        "\n",
        "*Hint* As a rule of thumb $s = \\sqrt{r}$, $s= \\log(r)$ or simply $s=20$ often works well.\n"
      ]
    },
    {
      "cell_type": "code",
      "metadata": {
        "id": "kgVR28Dkq52R",
        "colab_type": "code",
        "colab": {}
      },
      "source": [
        "import scipy\n",
        "from sklearn.utils.extmath import safe_sparse_dot   ## <-- I recommend using this function\n",
        "from sklearn.utils.random import sample_without_replacement  ## <-- I recommend using this function\n",
        "\n",
        "def GenerateSparseTransform(s,r,d):\n",
        "    ### TODO ### \n",
        "    ##  Implement this function. Make sure that W is a sparse matrix!\n",
        "    #############\n",
        "    val = np.sqrt(s/r)\n",
        "    \n",
        "    cnt = 0\n",
        "    \n",
        "    data = []\n",
        "    rowindex = []\n",
        "    colptr = []\n",
        "       \n",
        "    for i in range(r):\n",
        "        for j in range(d):\n",
        "            rand = np.random.random()\n",
        "                        \n",
        "            if rand < (1/(2 * s)):\n",
        "                v = val\n",
        "            elif rand < (1-(1/(2.0 * s))):\n",
        "                v = 0\n",
        "            else:\n",
        "                v = -val\n",
        "            \n",
        "            if v != 0:\n",
        "                data.append(v)\n",
        "                rowindex.append(j)\n",
        "                colptr.append(i)\n",
        "\n",
        "    W=scipy.sparse.csc_matrix((data, (rowindex, colptr)), shape=(d, r))\n",
        "    return W\n",
        "\n",
        "def ApplySparseTransform(W,X_):\n",
        "#     W   : Sparse randomly generated matrix of size d by r\n",
        "#     X_  : Data matrix to be compressed, of size n by d\n",
        "#    NOTE: The dimensions of W and X_ are such that the product X_*W is defined (which is different that what we used in class)\n",
        "    ### TODO ### \n",
        "    ##  Implement this function. Make sure that W is a sparse matrix!\n",
        "    #############\n",
        "    \n",
        "    #d = (X_.shape[0], W[0][1])    \n",
        "    #Xtransformed = np.zeros(shape = d)\n",
        "\n",
        "    #for i in range(d[0]):\n",
        "    #    ptr = 0\n",
        "    #    for j in range(d[1]):\n",
        "    #        for p in range(ptr, ptr + W[3][j]):\n",
        "    #            Xtransformed[i,j] += X_[i,W[2][ptr]] * W[1][ptr]\n",
        "    \n",
        "    # Since a library function was given in the beginning, let's use that one since it will be better in any case, then the own implementation\n",
        "    \n",
        "    Xtransformed = safe_sparse_dot(X_, W)\n",
        "    return Xtransformed"
      ],
      "execution_count": 0,
      "outputs": []
    },
    {
      "cell_type": "markdown",
      "metadata": {
        "id": "ct4ouSohq52T",
        "colab_type": "text"
      },
      "source": [
        "## Load and test easier data set *anthracyclineTaxaneChemotherapy*"
      ]
    },
    {
      "cell_type": "code",
      "metadata": {
        "id": "IWyAeMeuq52U",
        "colab_type": "code",
        "colab": {}
      },
      "source": [
        "from sklearn.datasets import fetch_openml\n",
        "chemo = fetch_openml(name='anthracyclineTaxaneChemotherapy')"
      ],
      "execution_count": 0,
      "outputs": []
    },
    {
      "cell_type": "code",
      "metadata": {
        "id": "IPJMn8G8q52V",
        "colab_type": "code",
        "colab": {}
      },
      "source": [
        "X = chemo.data\n",
        "y = chemo.target"
      ],
      "execution_count": 0,
      "outputs": []
    },
    {
      "cell_type": "markdown",
      "metadata": {
        "id": "3UyhgMT6q52X",
        "colab_type": "text"
      },
      "source": [
        "### if fetch_openml fails  \n",
        "**ALTERNATIVE HACK for loading the data**\n",
        "  \n",
        "* downloard the data from data set in arff format from: https://www.openml.org/d/1085\n",
        " \n",
        "* place data in the same folder as this notebook and run the code in the next cell"
      ]
    },
    {
      "cell_type": "code",
      "metadata": {
        "id": "u0DCrimyq52Y",
        "colab_type": "code",
        "colab": {
          "base_uri": "https://localhost:8080/",
          "height": 54
        },
        "outputId": "3ae7ff51-8f8e-432d-ad0b-861bbca356ae"
      },
      "source": [
        "## ALTERNATIVE HACK for loading anthracyclineTaxaneChemotherapy ## \n",
        "\"\"\"from scipy.io import arff\n",
        "dataset = arff.loadarff('phpCLGrjq.arff')\n",
        "import pandas as pd\n",
        "Xdf = pd.DataFrame(dataset[0])\n",
        "Xy = Xdf.as_matrix()\n",
        "n_rows, n_cols = Xy.shape\n",
        "X = Xy[:,:-1]\n",
        "X = np.float_(X)\n",
        "y = Xy[:,-1]\n",
        "y = (np.int_(y))*2-3\"\"\""
      ],
      "execution_count": 15,
      "outputs": [
        {
          "output_type": "execute_result",
          "data": {
            "text/plain": [
              "\"from scipy.io import arff\\ndataset = arff.loadarff('phpCLGrjq.arff')\\nimport pandas as pd\\nXdf = pd.DataFrame(dataset[0])\\nXy = Xdf.as_matrix()\\nn_rows, n_cols = Xy.shape\\nX = Xy[:,:-1]\\nX = np.float_(X)\\ny = Xy[:,-1]\\ny = (np.int_(y))*2-3\""
            ]
          },
          "metadata": {
            "tags": []
          },
          "execution_count": 15
        }
      ]
    },
    {
      "cell_type": "code",
      "metadata": {
        "id": "nFLpk569q52Z",
        "colab_type": "code",
        "colab": {
          "base_uri": "https://localhost:8080/",
          "height": 34
        },
        "outputId": "e1fbcfbd-1a5f-4ea3-ce23-2da19661aa1e"
      },
      "source": [
        "# split test and training. Only use 20% of data for testing because data set is small. \n",
        "X_train, X_test, y_train, y_test = train_test_split(X, y, test_size=0.20, random_state=42) \n",
        "n, d = X_train.shape\n",
        "print('{n} training data points and {d} features'.format(n = n,d =d))"
      ],
      "execution_count": 16,
      "outputs": [
        {
          "output_type": "stream",
          "text": [
            "127 training data points and 61359 features\n"
          ],
          "name": "stdout"
        }
      ]
    },
    {
      "cell_type": "code",
      "metadata": {
        "id": "P4fV301hq52c",
        "colab_type": "code",
        "colab": {
          "base_uri": "https://localhost:8080/",
          "height": 34
        },
        "outputId": "84a6bc61-1e33-4bbc-bca7-e0072da82beb"
      },
      "source": [
        "# 2) fit, transform and score the knn Classifier\n",
        "n_neighbors =2 # <-- use this number of neighbours\n",
        "knn = KNeighborsClassifier(n_neighbors=n_neighbors)\n",
        "\n",
        "knn.fit(X_train,y_train)\n",
        "trainscore = knn.score(X_train, y_train)\n",
        "training_accuracy.append(trainscore)\n",
        "testscore = knn.score(X_test, y_test)\n",
        "test_accuracy.append(knn.score(X_test, y_test))\n",
        "print (\"project dim %5d gives: (train, test) =  (%.4f, %.4f)\" % (d, trainscore,testscore))"
      ],
      "execution_count": 17,
      "outputs": [
        {
          "output_type": "stream",
          "text": [
            "project dim 61359 gives: (train, test) =  (0.8425, 0.5625)\n"
          ],
          "name": "stdout"
        }
      ]
    },
    {
      "cell_type": "code",
      "metadata": {
        "id": "BU7Amueoq52f",
        "colab_type": "code",
        "colab": {
          "base_uri": "https://localhost:8080/",
          "height": 464
        },
        "outputId": "ec66e21f-def1-4333-80de-729bce6e75a9"
      },
      "source": [
        "test_accuracy = []\n",
        "training_accuracy = []\n",
        "n_neighbors =2  #< -- I recommend 2 neighbors\n",
        "\n",
        "## Suggested range of projected dimensions:\n",
        "upperbnd = int(min(10*n,d/2))\n",
        "minbnd = int(max(n/20,d/2000))\n",
        "project_dimensions = range(minbnd,upperbnd,int((upperbnd -minbnd)/10))\n",
        "\n",
        "knn = KNeighborsClassifier(n_neighbors=n_neighbors)\n",
        "    \n",
        "for r in project_dimensions:  \n",
        "    W = GenerateSparseTransform(s =20, r= r,d = d) # function coded above\n",
        "    Xt_train = ApplySparseTransform(W,X_train)  # function coded above\n",
        "    Xt_test =  ApplySparseTransform(W,X_test)  # function coded above\n",
        "    knn.fit(Xt_train,y_train)\n",
        "    trainscore = knn.score(Xt_train, y_train)\n",
        "    training_accuracy.append(trainscore)\n",
        "    testscore = knn.score(Xt_test, y_test)\n",
        "    test_accuracy.append(knn.score(Xt_test, y_test))\n",
        "    print (\"project dim %5d gives: (train, test) =  (%.4f, %.4f)\" % (r, trainscore,testscore))\n",
        "\n",
        "list_proj_dims = list(project_dimensions)\n",
        "plt.plot(list_proj_dims,training_accuracy, label='Accuracy of the training set')\n",
        "plt.plot(list_proj_dims,test_accuracy, label='Accuracy of the test set')\n",
        "plt.ylabel('Accuracy')\n",
        "plt.xlabel('Projected Dimension')\n",
        "plt.legend()\n",
        "index_max = np.argmax(test_accuracy)\n",
        "print(\"Best score was for r =%5d with: (train, test) =  (%.4f, %.4f)\"% (list_proj_dims[index_max], training_accuracy[index_max],test_accuracy[index_max]))"
      ],
      "execution_count": 18,
      "outputs": [
        {
          "output_type": "stream",
          "text": [
            "project dim    30 gives: (train, test) =  (0.8189, 0.6875)\n",
            "project dim   154 gives: (train, test) =  (0.8504, 0.5938)\n",
            "project dim   278 gives: (train, test) =  (0.8110, 0.5312)\n",
            "project dim   402 gives: (train, test) =  (0.7953, 0.5625)\n",
            "project dim   526 gives: (train, test) =  (0.8346, 0.5625)\n",
            "project dim   650 gives: (train, test) =  (0.8661, 0.6250)\n",
            "project dim   774 gives: (train, test) =  (0.8425, 0.5000)\n",
            "project dim   898 gives: (train, test) =  (0.8346, 0.5625)\n",
            "project dim  1022 gives: (train, test) =  (0.8110, 0.6250)\n",
            "project dim  1146 gives: (train, test) =  (0.8110, 0.6562)\n",
            "Best score was for r =   30 with: (train, test) =  (0.8189, 0.6875)\n"
          ],
          "name": "stdout"
        },
        {
          "output_type": "display_data",
          "data": {
            "image/png": "[encoded data removed]",
            "text/plain": [
              "<Figure size 432x288 with 1 Axes>"
            ]
          },
          "metadata": {
            "tags": []
          }
        }
      ]
    },
    {
      "cell_type": "markdown",
      "metadata": {
        "id": "xYd0dLwRq52h",
        "colab_type": "text"
      },
      "source": [
        "## Load and test HARDER data set *sector.scale*  \n",
        "**(only try this data set after successfully testing the anthracyclineTaxaneChemotherapy data set)**"
      ]
    },
    {
      "cell_type": "code",
      "metadata": {
        "id": "_SNPKiTUq52i",
        "colab_type": "code",
        "colab": {
          "base_uri": "https://localhost:8080/",
          "height": 34
        },
        "outputId": "06939b86-8ca6-473d-fa8d-e097e8907d5b"
      },
      "source": [
        "# Download the data set from:\n",
        "# https://www.csie.ntu.edu.tw/~cjlin/libsvmtools/datasets/multiclass/sector/sector.scale.bz2\n",
        "# place data in the same folder as this python notebook\n",
        "dataname = \"sector.scale\"  \n",
        "X, y = get_data(dataname)\n",
        "n, d = X.shape\n",
        "print('{n} data points and {d} features'.format(n = n,d =d))"
      ],
      "execution_count": 19,
      "outputs": [
        {
          "output_type": "stream",
          "text": [
            "6412 data points and 55197 features\n"
          ],
          "name": "stdout"
        }
      ]
    },
    {
      "cell_type": "code",
      "metadata": {
        "id": "iYPDPScKq52o",
        "colab_type": "code",
        "colab": {
          "base_uri": "https://localhost:8080/",
          "height": 34
        },
        "outputId": "457996e0-fe52-4a18-cc20-55dd67186375"
      },
      "source": [
        "# split test and training \n",
        "X_train, X_test, y_train, y_test = train_test_split(X, y, test_size=0.33, random_state=42)\n",
        "n, d = X_train.shape\n",
        "print('{n} trainig data points and {d} features'.format(n = n,d =d))"
      ],
      "execution_count": 20,
      "outputs": [
        {
          "output_type": "stream",
          "text": [
            "4296 trainig data points and 55197 features\n"
          ],
          "name": "stdout"
        }
      ]
    },
    {
      "cell_type": "code",
      "metadata": {
        "id": "Yi57gXIvq52t",
        "colab_type": "code",
        "colab": {}
      },
      "source": [
        "### TODO ### \n",
        "## repeat the same experiments for this larger data set\n",
        "## HINT: Only test project dimensions r <= int(min(2*n,d/2))\n",
        "#############"
      ],
      "execution_count": 0,
      "outputs": []
    },
    {
      "cell_type": "code",
      "metadata": {
        "id": "d7bxHqmZq52v",
        "colab_type": "code",
        "colab": {
          "base_uri": "https://localhost:8080/",
          "height": 481
        },
        "outputId": "986568bf-d3ce-4845-bb0c-108e1a65812a"
      },
      "source": [
        "test_accuracy = []\n",
        "training_accuracy = []\n",
        "n_neighbors =1   ## <-- I recommend using this\n",
        "knn = KNeighborsClassifier(n_neighbors=n_neighbors)\n",
        "\n",
        "upperbnd = int(min(2*n,d/2))\n",
        "minbnd = int(max(n/20,d/2000))\n",
        "project_dimensions = range(minbnd,upperbnd,int((upperbnd -minbnd)/10))\n",
        "    \n",
        "for r in project_dimensions:  \n",
        "    ### TODO ###   \n",
        "    # 3)    project the data matrix $X \\rightarrow XW$ using Gaussian and fit, \n",
        "    #      transform and score using knn  \n",
        "    W = GenerateSparseTransform(s=20, r= r,d = d) # function coded above\n",
        "    Xt_train = ApplySparseTransform(W,X_train)  # function coded above\n",
        "    Xt_test =  ApplySparseTransform(W,X_test)  # function coded above\n",
        "    knn.fit(Xt_train,y_train)\n",
        "    trainscore = knn.score(Xt_train, y_train)\n",
        "    training_accuracy.append(trainscore)\n",
        "    testscore = knn.score(Xt_test, y_test)\n",
        "    test_accuracy.append(knn.score(Xt_test, y_test))\n",
        "    #############\n",
        "    print (\"project dim %5d gives: (train, test) =  (%.4f, %.4f)\" % (r, trainscore,testscore))\n",
        "\n",
        "list_proj_dims = list(project_dimensions)\n",
        "plt.plot(list_proj_dims,training_accuracy, label='Accuracy of the training set')\n",
        "plt.plot(list_proj_dims,test_accuracy, label='Accuracy of the test set')\n",
        "plt.ylabel('Accuracy')\n",
        "plt.xlabel('Projected Dimension')\n",
        "plt.legend()\n",
        "index_max = np.argmax(test_accuracy)\n",
        "print(\"Best score was for r =%5d with: (train, test) =  (%.4f, %.4f)\"% (list_proj_dims[index_max], training_accuracy[index_max],test_accuracy[index_max]))"
      ],
      "execution_count": 22,
      "outputs": [
        {
          "output_type": "stream",
          "text": [
            "project dim   214 gives: (train, test) =  (1.0000, 0.7623)\n",
            "project dim  1051 gives: (train, test) =  (1.0000, 0.8629)\n",
            "project dim  1888 gives: (train, test) =  (1.0000, 0.8767)\n",
            "project dim  2725 gives: (train, test) =  (1.0000, 0.8762)\n",
            "project dim  3562 gives: (train, test) =  (1.0000, 0.8795)\n",
            "project dim  4399 gives: (train, test) =  (1.0000, 0.8781)\n",
            "project dim  5236 gives: (train, test) =  (1.0000, 0.8823)\n",
            "project dim  6073 gives: (train, test) =  (1.0000, 0.8781)\n",
            "project dim  6910 gives: (train, test) =  (1.0000, 0.8809)\n",
            "project dim  7747 gives: (train, test) =  (1.0000, 0.8828)\n",
            "project dim  8584 gives: (train, test) =  (1.0000, 0.8790)\n",
            "Best score was for r = 7747 with: (train, test) =  (1.0000, 0.8828)\n"
          ],
          "name": "stdout"
        },
        {
          "output_type": "display_data",
          "data": {
            "image/png": "[encoded data removed]",
            "text/plain": [
              "<Figure size 432x288 with 1 Axes>"
            ]
          },
          "metadata": {
            "tags": []
          }
        }
      ]
    },
    {
      "cell_type": "markdown",
      "metadata": {
        "id": "BCES1cFcq52x",
        "colab_type": "text"
      },
      "source": [
        "## Bonus question\n",
        "\n",
        "Using the Jonhson-Lindenstrauss Lemma, we can have an estimate for the projected dimension using\n",
        "\n",
        "$$r = \\frac{1}{\\epsilon^2}\\log(n/\\delta) $$\n",
        "\n",
        "1) Write a function for calculating this given suggested project dimension r. \n",
        "2) Test for each of the above data sets with \\epsilon = 0.05 = \\delta and compare to your results. "
      ]
    },
    {
      "cell_type": "code",
      "metadata": {
        "id": "R5oX_08iq52y",
        "colab_type": "code",
        "colab": {}
      },
      "source": [
        "delta = .05\n",
        "eps = 0.05\n",
        "def ComputeJL(n,delta,eps):\n",
        "    \n",
        "    return int((1 / epsilon**2)*np.log(n/delta))\n"
      ],
      "execution_count": 0,
      "outputs": []
    },
    {
      "cell_type": "markdown",
      "metadata": {
        "id": "bHmAV8PqA-LC",
        "colab_type": "text"
      },
      "source": [
        "#TEST OF PRJECTED DIMESSION r WITH THE CHEMO DATA SET\n",
        "\n",
        "NB: the accuracy using a value of r obtained from the Jonhson-Lindenstrauss Lemma(0.65) is quite similar to the best accuracy obtained testing with different values of r.\n"
      ]
    },
    {
      "cell_type": "code",
      "metadata": {
        "id": "mYedwslbBBjq",
        "colab_type": "code",
        "colab": {
          "base_uri": "https://localhost:8080/",
          "height": 50
        },
        "outputId": "749f5f74-ba04-42c2-f3bc-b406349941a7"
      },
      "source": [
        "X = chemo.data\n",
        "y = chemo.target\n",
        "# split test and training. Only use 20% of data for testing because data set is small. \n",
        "X_train, X_test, y_train, y_test = train_test_split(X, y, test_size=0.20, random_state=42) \n",
        "n, d = X_train.shape\n",
        "print('{n} training data points and {d} features'.format(n = n,d =d))\n",
        "r = ComputeJL(n = n,delta=delta,eps=eps)\n",
        "#train on the transformed data\n",
        "#W has shape d*r\n",
        "W = GenerateSparseTransform(s =20, r= r,d = d) # function coded above\n",
        "Xt_train = ApplySparseTransform(W,X_train)  # function coded above\n",
        "Xt_test =  ApplySparseTransform(W,X_test)  # function coded above\n",
        "knn.fit(Xt_train,y_train)\n",
        "trainscore = knn.score(Xt_train, y_train)\n",
        "training_accuracy.append(trainscore)\n",
        "testscore = knn.score(Xt_test, y_test)\n",
        "test_accuracy.append(knn.score(Xt_test, y_test))\n",
        "print (\"project dim %5d gives: (train, test) =  (%.4f, %.4f)\" % (r, trainscore,testscore))"
      ],
      "execution_count": 31,
      "outputs": [
        {
          "output_type": "stream",
          "text": [
            "127 training data points and 61359 features\n",
            "project dim  3135 gives: (train, test) =  (1.0000, 0.6250)\n"
          ],
          "name": "stdout"
        }
      ]
    },
    {
      "cell_type": "markdown",
      "metadata": {
        "id": "ZGihpkhABDnI",
        "colab_type": "text"
      },
      "source": [
        "#TEST OF THE PROJECTED DIMESSION WITH THE HARDER DATA SET: sector.scale\n",
        "\n",
        "We shall also notice here how the accuracy obtained using the Jonhson-Lindenstrauss Lemma is quite similar to the best accuracy obtained trying with different values of r. "
      ]
    },
    {
      "cell_type": "code",
      "metadata": {
        "id": "UF6NRDCjBFzx",
        "colab_type": "code",
        "colab": {
          "base_uri": "https://localhost:8080/",
          "height": 50
        },
        "outputId": "2c96fdc8-4068-40da-f92c-44b941fc5954"
      },
      "source": [
        "X, y = get_data(dataname)\n",
        "n, d = X.shape\n",
        "\n",
        "# split test and training \n",
        "X_train, X_test, y_train, y_test = train_test_split(X, y, test_size=0.33, random_state=42)\n",
        "n, d = X_train.shape\n",
        "print('{n} trainig data points and {d} features'.format(n = n,d =d))\n",
        "\n",
        "r = ComputeJL(n = n,delta=delta,eps=eps)\n",
        "#train on the transformed data\n",
        "#W has shape d*r\n",
        "W = GenerateSparseTransform(s =20, r= r,d = d) # function coded above\n",
        "Xt_train = ApplySparseTransform(W,X_train)  # function coded above\n",
        "Xt_test =  ApplySparseTransform(W,X_test)  # function coded above\n",
        "knn.fit(Xt_train,y_train)\n",
        "trainscore = knn.score(Xt_train, y_train)\n",
        "training_accuracy.append(trainscore)\n",
        "testscore = knn.score(Xt_test, y_test)\n",
        "test_accuracy.append(knn.score(Xt_test, y_test))\n",
        "print (\"project dim %5d gives: (train, test) =  (%.4f, %.4f)\" % (r, trainscore,testscore))"
      ],
      "execution_count": 32,
      "outputs": [
        {
          "output_type": "stream",
          "text": [
            "4296 trainig data points and 55197 features\n",
            "project dim  4544 gives: (train, test) =  (1.0000, 0.8781)\n"
          ],
          "name": "stdout"
        }
      ]
    }
  ]
}