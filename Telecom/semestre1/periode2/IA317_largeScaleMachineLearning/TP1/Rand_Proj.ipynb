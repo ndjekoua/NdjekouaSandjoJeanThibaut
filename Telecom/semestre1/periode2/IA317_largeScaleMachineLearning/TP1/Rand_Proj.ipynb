{
  "nbformat": 4,
  "nbformat_minor": 0,
  "metadata": {
    "anaconda-cloud": {},
    "kernelspec": {
      "display_name": "Python 3",
      "language": "python",
      "name": "python3"
    },
    "language_info": {
      "codemirror_mode": {
        "name": "ipython",
        "version": 3
      },
      "file_extension": ".py",
      "mimetype": "text/x-python",
      "name": "python",
      "nbconvert_exporter": "python",
      "pygments_lexer": "ipython3",
      "version": "3.6.8"
    },
    "colab": {
      "name": "Rand_Proj.ipynb",
      "provenance": []
    }
  },
  "cells": [
    {
      "cell_type": "markdown",
      "metadata": {
        "id": "r3YSRfUzA-dz",
        "colab_type": "text"
      },
      "source": [
        "# LAB: Random Projections : SOLUTIONS"
      ]
    },
    {
      "cell_type": "markdown",
      "metadata": {
        "id": "bcn6ANNSA-d2",
        "colab_type": "text"
      },
      "source": [
        "\n",
        "#### Authors: R. M. Gower\n",
        "\n",
        "## Aim\n",
        "\n",
        "The aim of this material is to\n",
        "- to show that in practice dimension reduction can be used with no loss of accuracy on some problem\n",
        "- code efficient sparse random projections\n",
        "- apply sparse random projections together with knearestneighbors\n",
        "\n",
        "\n",
        "## VERY IMPORTANT\n",
        "\n",
        "- This work **must be done by pairs of students**.\n",
        "- Each paris of students must send their jupyter notebook **before the 24th of November at 21:59** to **gowerrobert@gmail.com**\n",
        "- The **name of the file must be** constructed as in the next cell\n",
        "\n",
        "# Gentle reminder: no evaluation if you don't respect this EXACTLY\n",
        "\n",
        "### How to construct the name of your file"
      ]
    },
    {
      "cell_type": "code",
      "metadata": {
        "id": "bmMRPriNA-d4",
        "colab_type": "code",
        "outputId": "c8f6dab2-b491-4e59-fa11-1f63e82c8402",
        "colab": {
          "base_uri": "https://localhost:8080/",
          "height": 34
        }
      },
      "source": [
        "# Change here using YOUR first and last names\n",
        "fn1 = \"robert\"\n",
        "ln1 = \"gower\"\n",
        "fn2 = \"pascal\"\n",
        "ln2 = \"bianchi\"\n",
        "\n",
        "filename = \"_\".join(map(lambda s: s.strip().lower(), \n",
        "                        [\"lab1\", ln1, fn1, \"and\", ln2, fn2])) + \".ipynb\"\n",
        "print(filename)"
      ],
      "execution_count": 10,
      "outputs": [
        {
          "output_type": "stream",
          "text": [
            "lab1_gower_robert_and_bianchi_pascal.ipynb\n"
          ],
          "name": "stdout"
        }
      ]
    },
    {
      "cell_type": "code",
      "metadata": {
        "id": "b0QdzU_ZA-d8",
        "colab_type": "code",
        "colab": {}
      },
      "source": [
        "#Throughout the notebook you will find commented boxes like this one\n",
        "\n",
        "### TODO ###   \n",
        "# please implement blabla\n",
        "#############"
      ],
      "execution_count": 0,
      "outputs": []
    },
    {
      "cell_type": "markdown",
      "metadata": {
        "id": "PEPnVt4bA-d_",
        "colab_type": "text"
      },
      "source": [
        "These boxes need to be replaced by code as explained in the boxes.\n",
        "Solutions will online tomorrow. Good luck!"
      ]
    },
    {
      "cell_type": "code",
      "metadata": {
        "id": "PhBIRZZiA-eA",
        "colab_type": "code",
        "colab": {}
      },
      "source": [
        "%matplotlib inline"
      ],
      "execution_count": 0,
      "outputs": []
    },
    {
      "cell_type": "code",
      "metadata": {
        "id": "Oj22SEX8A-eC",
        "colab_type": "code",
        "colab": {}
      },
      "source": [
        "import numpy as np\n",
        "from scipy.linalg import norm\n",
        "import matplotlib.pyplot as plt"
      ],
      "execution_count": 0,
      "outputs": []
    },
    {
      "cell_type": "code",
      "metadata": {
        "id": "vv4iP6AVA-eF",
        "colab_type": "code",
        "colab": {}
      },
      "source": [
        "from sklearn.datasets import load_svmlight_file\n",
        "from sklearn.model_selection import train_test_split\n",
        "from sklearn.linear_model import LogisticRegression    #Logistic Regression\n",
        "from sklearn.neighbors import KNeighborsClassifier \n",
        "\n",
        "!pip install -U -q PyDrive\n",
        "from pydrive.auth import GoogleAuth\n",
        "from pydrive.drive import GoogleDrive\n",
        "from google.colab import auth\n",
        "from oauth2client.client import GoogleCredentials\n",
        "\n",
        "def get_data(dataname):\n",
        "    data = load_svmlight_file(dataname)\n",
        "    return data[0], data[1]"
      ],
      "execution_count": 0,
      "outputs": []
    },
    {
      "cell_type": "code",
      "metadata": {
        "id": "NbmqfIVGDOUk",
        "colab_type": "code",
        "colab": {}
      },
      "source": [
        "#auth.authenticate_user()\n",
        "#gauth = GoogleAuth()\n",
        "#gauth.credentials = GoogleCredentials.get_application_default()\n",
        "#drive = GoogleDrive(gauth)"
      ],
      "execution_count": 0,
      "outputs": []
    },
    {
      "cell_type": "code",
      "metadata": {
        "id": "aTVWHpEbDfYf",
        "colab_type": "code",
        "outputId": "4f443a60-630a-48c0-a986-ec2acc5a5c1e",
        "colab": {
          "base_uri": "https://localhost:8080/",
          "height": 34
        }
      },
      "source": [
        "!ls"
      ],
      "execution_count": 16,
      "outputs": [
        {
          "output_type": "stream",
          "text": [
            "colon-cancer  sample_data\n"
          ],
          "name": "stdout"
        }
      ]
    },
    {
      "cell_type": "markdown",
      "metadata": {
        "id": "K1tWjsdQA-eH",
        "colab_type": "text"
      },
      "source": [
        "## EXERCISE 1: \n",
        "\n",
        "Use LogisticRegression classifier of Scikit-learn to experimentally confirm the following corollary proven in class and test random sparse projections\n",
        "\n",
        "### Corollary of Range Space Preserving Theorem  \n",
        "\n",
        "Let \n",
        "$$ X^\\top = [x_1, \\ldots, x_n]\\in \\mathbb{R}^{n\\times d},$$ \n",
        "be our data matrix and let\n",
        "$$  X X^\\top= [\\hat{x}_1, \\ldots, \\hat{x}_n]^\\top \\in \\mathbb{R}^{n\\times n}. $$\n",
        "We can find a solution to the following training problem\n",
        "$$ w^* \\in \\min_{w \\in \\mathbb{R}^d}  \\frac{1}{n}\\sum_{i=1}^n \\ell_i(\\langle x_i,w \\rangle) \\hspace{3cm} (I)$$\n",
        "by instead solving \n",
        "$$ \\hat{w}^* \\in \\min_{w \\in \\mathbb{R}^n}  \\frac{1}{n}\\sum_{i=1}^n \\ell_i(\\langle \\hat{x}_i,w \\rangle) \\hspace{3cm} (II)$$\n",
        "and  $ X ^\\top \\hat{w}^*$ is a solution to $(I)$\n",
        "\n",
        "**NOTE:** The matrix $X$ is transposed with respect to the data matrix defined in class and in the lectures ! Be careful with dimnensions!\n",
        "### End Corollary\n",
        "\n",
        "1) [2pts] Show that by setting the regularization parameter close to zero (C = 10^9) in LogisticRegression, the score obtained by training using $X$ and $XX^\\top$ is the same\n",
        "  \n",
        "2) [2pts] Compute a solution $w^*_1$  by directly solving (I).  Compare this $w^*_1$ to the recovered solution $X \\hat{w}^*$. Are they the same? Justify based on Corollary.\n",
        "\n",
        "3) [6pts] Using a random generated gaussian matrix $W \\in\\mathbb{R}^{d\\times r}$ , project the data matrix $X \\rightarrow XW$. Test for different values of r and\n",
        "apply logistic regression to the resulting projected matrix. Can you explain what you observe? "
      ]
    },
    {
      "cell_type": "code",
      "metadata": {
        "id": "kVdvby96A-eI",
        "colab_type": "code",
        "outputId": "e00e605f-3d5d-4b12-8830-6ca87ccd2a58",
        "colab": {
          "base_uri": "https://localhost:8080/",
          "height": 34
        }
      },
      "source": [
        "# download the colon-cancer data set from \n",
        "# https://www.csie.ntu.edu.tw/~cjlin/libsvmtools/datasets/binary/colon-cancer.bz2\n",
        "# Unpack and place in the same folder as this python notebook\n",
        "dataname = \"colon-cancer\"  \n",
        "X, y = get_data(dataname)\n",
        "X_train, X_test, y_train, y_test = train_test_split(X, y, test_size=0.33, random_state=42)\n",
        "n, d = X_train.shape\n",
        "print('{n} data points and {d} features'.format(n = n,d =d))"
      ],
      "execution_count": 17,
      "outputs": [
        {
          "output_type": "stream",
          "text": [
            "41 data points and 2000 features\n"
          ],
          "name": "stdout"
        }
      ]
    },
    {
      "cell_type": "code",
      "metadata": {
        "id": "CwWpEsQwA-eM",
        "colab_type": "code",
        "outputId": "830ad6a2-6e27-42b4-9578-58da7323e2d3",
        "colab": {
          "base_uri": "https://localhost:8080/",
          "height": 104
        }
      },
      "source": [
        "C0 = 10**9 # almost no regularization, since this is the inverse of the regularization parameter, i.e, C = 1/lambda\n",
        "log_reg = LogisticRegression(C = C0) # , multi_class = \"multinomial\"\n",
        "log_reg.fit(X_train, y_train)\n",
        "w_start_original = log_reg.coef_\n",
        "print('Accuracy on the training set: {:.3f}'.format(log_reg.score(X_train,y_train)))\n",
        "print('Accuracy on the test set: {:.3f}'.format(log_reg.score(X_test,y_test)))"
      ],
      "execution_count": 18,
      "outputs": [
        {
          "output_type": "stream",
          "text": [
            "Accuracy on the training set: 1.000\n",
            "Accuracy on the test set: 0.619\n"
          ],
          "name": "stdout"
        },
        {
          "output_type": "stream",
          "text": [
            "/usr/local/lib/python3.6/dist-packages/sklearn/linear_model/logistic.py:432: FutureWarning: Default solver will be changed to 'lbfgs' in 0.22. Specify a solver to silence this warning.\n",
            "  FutureWarning)\n"
          ],
          "name": "stderr"
        }
      ]
    },
    {
      "cell_type": "markdown",
      "metadata": {
        "id": "S5_dSExRRD9j",
        "colab_type": "text"
      },
      "source": [
        "1) this transformation allows to reduce the dimensionality of the features and produce the same result : we move from X_train = 41*2000 -> 41*41\n",
        "\n",
        "\n",
        "NB: we should also modify the test set so that is equal to size_test*41\n",
        "\n",
        "This transformation is suitable for data with a high number of features(medical data) because it allows to reduce the dimensionality of the features.\n",
        "\n",
        "Since the accuracy is the same, we can conclude that w_start is equivalent to w_hat_start"
      ]
    },
    {
      "cell_type": "code",
      "metadata": {
        "id": "z7kgdUxkA-eQ",
        "colab_type": "code",
        "outputId": "1aff725c-50f1-4852-eb91-717e8c6038f6",
        "colab": {
          "base_uri": "https://localhost:8080/",
          "height": 138
        }
      },
      "source": [
        "### TODO ###   \n",
        "# 2)  Compute a solution $w^*_1$  by directly solving (I).  \n",
        "# Compare this $w^*_1$ to the recovered solution $X^\\top \\hat{w}^*$.\n",
        "# Are they the same? Justify based on Corollary.\n",
        "#############\n",
        "\n",
        "C0 = 10**9 # almost no regularization, since this is the inverse of the regularization parameter, i.e, C = 1/lambda\n",
        "log_reg = LogisticRegression(C = C0) # , multi_class = \"multinomial\"\n",
        "XX_transpose = X_train*np.transpose(X_train)\n",
        "XX_transpose_test = X_test*np.transpose(X_train)\n",
        "\n",
        "log_reg.fit(X_train,y_train)\n",
        "#retrieve the weights directly and store them\n",
        "w_hat = log_reg.coef_\n",
        "\n",
        "print('Accuracy on the training set with the original matrix: {:.3f}'.format(log_reg.score(X_train,y_train)))\n",
        "print('Accuracy on the test set with the original test matrix: {:.3f} '.format(log_reg.score(X_test,y_test)))\n",
        "log_reg.fit(XX_transpose, y_train)\n",
        "#compute the weights of the original problem using the ones the reduced trained model\n",
        "w_start = log_reg.coef_*X_train\n",
        "\n",
        "print('Accuracy on the training set with the new matrix: {:.3f}'.format(log_reg.score(XX_transpose,y_train)))\n",
        "print('Accuracy on the test set with the new test matrix: {:.3f}'.format(log_reg.score(XX_transpose_test,y_test)))\n"
      ],
      "execution_count": 19,
      "outputs": [
        {
          "output_type": "stream",
          "text": [
            "Accuracy on the training set with the original matrix: 1.000\n",
            "Accuracy on the test set with the original test matrix: 0.619 \n",
            "Accuracy on the training set with the new matrix: 1.000\n",
            "Accuracy on the test set with the new test matrix: 0.619\n"
          ],
          "name": "stdout"
        },
        {
          "output_type": "stream",
          "text": [
            "/usr/local/lib/python3.6/dist-packages/sklearn/linear_model/logistic.py:432: FutureWarning: Default solver will be changed to 'lbfgs' in 0.22. Specify a solver to silence this warning.\n",
            "  FutureWarning)\n"
          ],
          "name": "stderr"
        }
      ]
    },
    {
      "cell_type": "markdown",
      "metadata": {
        "id": "gddS8sAracyT",
        "colab_type": "text"
      },
      "source": [
        "#ANSWER TO QUESTION 1\n",
        "\n",
        "as we can see from the previous output, the the accuracy obtained applying the test set on the trained models using both the models trained with\n",
        "$XX^\\top $ and $ X$ are the same. So the corollary is verified."
      ]
    },
    {
      "cell_type": "code",
      "metadata": {
        "id": "fT1x4-cSdj9o",
        "colab_type": "code",
        "colab": {
          "base_uri": "https://localhost:8080/",
          "height": 101
        },
        "outputId": "8a7bb79a-fc3c-4838-a607-933b9ef06e44"
      },
      "source": [
        "print(\"the weigths w_hat are : \\n\",w_hat)\n",
        "print(\"weigths of the reduced trained model {} \".format(w_start))"
      ],
      "execution_count": 20,
      "outputs": [
        {
          "output_type": "stream",
          "text": [
            "the weigths w_hat are : \n",
            " [[ 0.04296465 -0.00564798 -0.02613171 ... -0.07430194  0.02770236\n",
            "  -0.01613266]]\n",
            "weigths of the reduced trained model [[ 0.05613221 -0.00071171 -0.02246715 ... -0.08036085  0.05063783\n",
            "  -0.0020157 ]] \n"
          ],
          "name": "stdout"
        }
      ]
    },
    {
      "cell_type": "markdown",
      "metadata": {
        "id": "bGIXOWdOfgpQ",
        "colab_type": "text"
      },
      "source": [
        "#ANSWER TO QUESTION 2\n",
        "As we can from the previous output of the, weigths are different and this is actually coherent with the corollary be because $ X ^\\top \\hat{w}^*$ is just **a** to the original problem. so there are many others solutions"
      ]
    },
    {
      "cell_type": "code",
      "metadata": {
        "id": "khGY3aOnA-eU",
        "colab_type": "code",
        "colab": {
          "base_uri": "https://localhost:8080/",
          "height": 820
        },
        "outputId": "a3e87bf3-9c55-4819-8e7c-7de0e5c80bde"
      },
      "source": [
        "### TODO ### \n",
        "## Choose a range of different projected dimensions to test\n",
        "## Suggested range of projected dimensions:\n",
        "upperbnd = d\n",
        "project_dimensions = range(1,upperbnd,int((upperbnd )/10))\n",
        "#############\n",
        "test_accuracy = []\n",
        "training_accuracy = []\n",
        "s = 20\n",
        "for r in project_dimensions: \n",
        "    ### TODO ###   \n",
        "    # 3)    project the data matrix $X \\rightarrow XW$ using Gaussian and fit, \n",
        "    #      transform and score using Logstic Regression\n",
        "    # trainscore =  ??\n",
        "    W = a = np.random.normal(0,1,size=(d,r))\n",
        "    X_W = X_train*W\n",
        "    X_W_test = X_test*W\n",
        "    C0 = 10**9 # almost no regularization, since this is the inverse of the regularization parameter, i.e, C = 1/lambda\n",
        "    log_reg = LogisticRegression(C = C0) # , multi_class = \"multinomial\"\n",
        "    log_reg.fit(X_W, y_train)\n",
        "   # print('Accuracy on the training set with the new matrix: {:.3f}'.format(log_reg.score(XX_transpose,y_train)))\n",
        "    #print('Accuracy on the test set with the new test matrix: {:.3f}'.format(log_reg.score(XX_transpose_test,y_test)))\n",
        "\n",
        "    trainscore= log_reg.score(X_W,y_train) # Change this!\n",
        "    training_accuracy.append(trainscore)\n",
        "    # testscore = ??\n",
        "    testscore= log_reg.score(X_W_test,y_test) # Change this!\n",
        "    test_accuracy.append(testscore)\n",
        "    #############\n",
        "    print (\"project dimension %4d gives: (train, test) =  (%.4f, %.4f)\" % (r, trainscore,testscore))\n",
        "# coef_recover= log_regt.coef_.dot(X_train.transpose())\n",
        "\n",
        "plt.plot(project_dimensions,training_accuracy, label='Accuracy of the training set')\n",
        "plt.plot(project_dimensions,test_accuracy, label='Accuracy of the test set')\n",
        "plt.ylabel('Accuracy')\n",
        "plt.xlabel('Projected Dimension')\n",
        "plt.legend()\n",
        "index_max = np.argmax(test_accuracy)\n",
        "print(\"Best score was for r =%5d with: (train, test) =  (%.4f, %.4f)\"% (project_dimensions[index_max], training_accuracy[index_max],test_accuracy[index_max]))"
      ],
      "execution_count": 21,
      "outputs": [
        {
          "output_type": "stream",
          "text": [
            "project dimension    1 gives: (train, test) =  (0.6829, 0.5714)\n"
          ],
          "name": "stdout"
        },
        {
          "output_type": "stream",
          "text": [
            "/usr/local/lib/python3.6/dist-packages/sklearn/linear_model/logistic.py:432: FutureWarning: Default solver will be changed to 'lbfgs' in 0.22. Specify a solver to silence this warning.\n",
            "  FutureWarning)\n",
            "/usr/local/lib/python3.6/dist-packages/sklearn/linear_model/logistic.py:432: FutureWarning: Default solver will be changed to 'lbfgs' in 0.22. Specify a solver to silence this warning.\n",
            "  FutureWarning)\n"
          ],
          "name": "stderr"
        },
        {
          "output_type": "stream",
          "text": [
            "project dimension  201 gives: (train, test) =  (1.0000, 0.5714)\n"
          ],
          "name": "stdout"
        },
        {
          "output_type": "stream",
          "text": [
            "/usr/local/lib/python3.6/dist-packages/sklearn/linear_model/logistic.py:432: FutureWarning: Default solver will be changed to 'lbfgs' in 0.22. Specify a solver to silence this warning.\n",
            "  FutureWarning)\n"
          ],
          "name": "stderr"
        },
        {
          "output_type": "stream",
          "text": [
            "project dimension  401 gives: (train, test) =  (1.0000, 0.7143)\n"
          ],
          "name": "stdout"
        },
        {
          "output_type": "stream",
          "text": [
            "/usr/local/lib/python3.6/dist-packages/sklearn/linear_model/logistic.py:432: FutureWarning: Default solver will be changed to 'lbfgs' in 0.22. Specify a solver to silence this warning.\n",
            "  FutureWarning)\n"
          ],
          "name": "stderr"
        },
        {
          "output_type": "stream",
          "text": [
            "project dimension  601 gives: (train, test) =  (1.0000, 0.7143)\n"
          ],
          "name": "stdout"
        },
        {
          "output_type": "stream",
          "text": [
            "/usr/local/lib/python3.6/dist-packages/sklearn/linear_model/logistic.py:432: FutureWarning: Default solver will be changed to 'lbfgs' in 0.22. Specify a solver to silence this warning.\n",
            "  FutureWarning)\n"
          ],
          "name": "stderr"
        },
        {
          "output_type": "stream",
          "text": [
            "project dimension  801 gives: (train, test) =  (1.0000, 0.5714)\n"
          ],
          "name": "stdout"
        },
        {
          "output_type": "stream",
          "text": [
            "/usr/local/lib/python3.6/dist-packages/sklearn/linear_model/logistic.py:432: FutureWarning: Default solver will be changed to 'lbfgs' in 0.22. Specify a solver to silence this warning.\n",
            "  FutureWarning)\n"
          ],
          "name": "stderr"
        },
        {
          "output_type": "stream",
          "text": [
            "project dimension 1001 gives: (train, test) =  (1.0000, 0.5714)\n"
          ],
          "name": "stdout"
        },
        {
          "output_type": "stream",
          "text": [
            "/usr/local/lib/python3.6/dist-packages/sklearn/linear_model/logistic.py:432: FutureWarning: Default solver will be changed to 'lbfgs' in 0.22. Specify a solver to silence this warning.\n",
            "  FutureWarning)\n"
          ],
          "name": "stderr"
        },
        {
          "output_type": "stream",
          "text": [
            "project dimension 1201 gives: (train, test) =  (1.0000, 0.6190)\n"
          ],
          "name": "stdout"
        },
        {
          "output_type": "stream",
          "text": [
            "/usr/local/lib/python3.6/dist-packages/sklearn/linear_model/logistic.py:432: FutureWarning: Default solver will be changed to 'lbfgs' in 0.22. Specify a solver to silence this warning.\n",
            "  FutureWarning)\n"
          ],
          "name": "stderr"
        },
        {
          "output_type": "stream",
          "text": [
            "project dimension 1401 gives: (train, test) =  (1.0000, 0.5714)\n"
          ],
          "name": "stdout"
        },
        {
          "output_type": "stream",
          "text": [
            "/usr/local/lib/python3.6/dist-packages/sklearn/linear_model/logistic.py:432: FutureWarning: Default solver will be changed to 'lbfgs' in 0.22. Specify a solver to silence this warning.\n",
            "  FutureWarning)\n"
          ],
          "name": "stderr"
        },
        {
          "output_type": "stream",
          "text": [
            "project dimension 1601 gives: (train, test) =  (1.0000, 0.6190)\n"
          ],
          "name": "stdout"
        },
        {
          "output_type": "stream",
          "text": [
            "/usr/local/lib/python3.6/dist-packages/sklearn/linear_model/logistic.py:432: FutureWarning: Default solver will be changed to 'lbfgs' in 0.22. Specify a solver to silence this warning.\n",
            "  FutureWarning)\n"
          ],
          "name": "stderr"
        },
        {
          "output_type": "stream",
          "text": [
            "project dimension 1801 gives: (train, test) =  (1.0000, 0.6667)\n",
            "Best score was for r =  401 with: (train, test) =  (1.0000, 0.7143)\n"
          ],
          "name": "stdout"
        },
        {
          "output_type": "display_data",
          "data": {
            "image/png": "[encoded data removed]",
            "text/plain": [
              "<Figure size 432x288 with 1 Axes>"
            ]
          },
          "metadata": {
            "tags": []
          }
        }
      ]
    },
    {
      "cell_type": "markdown",
      "metadata": {
        "id": "dypxXpvGZ4Lc",
        "colab_type": "text"
      },
      "source": [
        "#ANSWER TO QUESTION 3\n",
        "we can notice from the previous graph how for quite small values of the projected dimenssion r, the accuracy actually get better when we increase the size of the projected dimenssion. From a certain value on, the accuracy on the training set becomes constant while it starts decreasing on the test set. So in conclusion, it's better to choose small values for the projected dimession r."
      ]
    },
    {
      "cell_type": "markdown",
      "metadata": {
        "id": "kCEnn9D7A-eY",
        "colab_type": "text"
      },
      "source": [
        "## Exercise 2:\n",
        "\n",
        "In class we used \n",
        "$$ X \\rightarrow W^\\top X $$\n",
        "But here it is instead\n",
        "$$ X \\rightarrow X W $$\n",
        "\n",
        "\n",
        "\n",
        "Now we will train a model using a large text based data set. For this you need to code the following random transform $W \\in \\mathbb{R}^{d \\times r}$ that takes a sparsity parameter $s$ as an input and outputs a matrix\n",
        "\n",
        "$$ W_{ij}  = \\sqrt{\\frac{s}{r}}\n",
        "\\begin{cases}\n",
        "1 \\quad & \\mbox{with probability }\\frac{1}{2s} \\\\\n",
        "0 \\quad & \\mbox{with probability }1-\\frac{1}{s} \\\\\n",
        "-1 \\quad & \\mbox{with probability }\\frac{1}{2s} \n",
        "\\end{cases}$$\n",
        "\n",
        "* Code a function Generate_Sparse_Transform$(s,r,d)$ that takes an input  \n",
        "   * sparsity parameter  $s$\n",
        "   * input dimension $d \\in \\mathbb{N}$\n",
        "   * lower dimensional projected dimension $r \\in \\mathbb{N}$\n",
        "and gives as outputs the matrix $W$ stored in an efficient sparse format such as the CSC formart (see scipy.sparse.csc_matrix)\n",
        "\n",
        "* Code a function Apply_Sparse_Transform$(R,X)$ that takes an input\n",
        "   * the random transform $W$ as generated by  Generate\\_sparse\\_transform$(s,r,d)$\n",
        "   * a given data matrix $X \\in \\mathbb{R}^{n\\times d}$\n",
        "the output will be $XW$.\n",
        "\n",
        "\n",
        "*Note* if you have not implemented this efficiently, you will probably run out of memory!  \n",
        "\n",
        "\n",
        "We will test if random projections are able to preserve pairwise distances by applying K-Neighrest Neighbors to projected data.\n",
        "\n",
        "1) [6pts] Code the above two functions (their stub is provided below)\n",
        "\n",
        "\n",
        "2) [1pt] Load the data set X. Then fit, transform and score sklearn's KNeighborsClassifier on this data, where \n",
        "$X = $ {anthracyclineTaxaneChemotherapy, sector.scale}. Below you will find how to load this data.\n",
        "\n",
        "3) [3pts] Repeat the previous step, but first randomly project that data using X -> XW. Repeat this test for different values of the sparsity parameter s and projected dimension parameter r. What can you conclude? \n",
        "\n",
        "*Hint* As a rule of thumb $s = \\sqrt{r}$, $s= \\log(r)$ or simply $s=20$ often works well.\n"
      ]
    },
    {
      "cell_type": "code",
      "metadata": {
        "id": "Y-ix3LjbA-eY",
        "colab_type": "code",
        "colab": {}
      },
      "source": [
        "import scipy\n",
        "from sklearn.utils.extmath import safe_sparse_dot   ## <-- I recommend using this function\n",
        "from sklearn.utils.random import sample_without_replacement  ## <-- I recommend using this function\n",
        "from scipy.sparse import csc_matrix\n",
        "import math\n",
        "r=41\n",
        "d=2000\n",
        "def GenerateSparseTransform(s,r,d):\n",
        "    ### TODO ### \n",
        "    ##  Implement this function. Make sure that W is a sparse matrix!\n",
        "    #############\n",
        "    \n",
        "    \n",
        "    const_val = np.sqrt(s/r)\n",
        "    data = []\n",
        "    rowindex = []\n",
        "    colptr = []\n",
        "    for col in range(0,r):#column\n",
        "        for row in range(0,d):#row\n",
        "            \n",
        "            num = np.random.binomial(1,1/s)\n",
        "            #print(num)\n",
        "            if num == 0:\n",
        "                continue\n",
        "                \n",
        "            num = np.random.binomial(1,0.5)\n",
        "            #print(num)\n",
        "            if num == 0:\n",
        "                prob = -1\n",
        "\n",
        "            else:\n",
        "                prob = 1\n",
        "            \n",
        "            prob = prob * const_val\n",
        "            \n",
        "            data.append(prob)\n",
        "            rowindex.append(row)\n",
        "            colptr.append(col)\n",
        "            \n",
        "    W = []\n",
        "    W.append(data)\n",
        "    W.append(rowindex)\n",
        "    W.append(colptr)\n",
        "    \n",
        "    W =scipy.sparse.csc_matrix((data, (rowindex, colptr)), shape=(d, r))\n",
        "    \n",
        "    return W\n",
        "\n",
        "#W =GenerateSparseTransform(math.sqrt(r),r,d)\n",
        "#print(np.where(np.asarray(W) != 0),np.asarray(W))\n",
        "\n",
        "def ApplySparseTransform(W,X_):\n",
        "#     W   : Sparse randomly generated matrix of size d by r\n",
        "#     X_  : Data matrix to be compressed, of size n by d\n",
        "#    NOTE: The dimensions of W and X_ are such that the product X_*W is defined (which is different that what we used in class)\n",
        "    ### TODO ### \n",
        "    ##  Implement this function. Make sure that W is a sparse matrix!\n",
        "    #############\n",
        "    Xtransformed = safe_sparse_dot(X_, W)\n",
        "    return Xtransformed\n",
        "\n"
      ],
      "execution_count": 0,
      "outputs": []
    },
    {
      "cell_type": "markdown",
      "metadata": {
        "id": "snq0cplOA-eb",
        "colab_type": "text"
      },
      "source": [
        "## Load and test easier data set *anthracyclineTaxaneChemotherapy*"
      ]
    },
    {
      "cell_type": "code",
      "metadata": {
        "id": "sEr_xpFvA-eb",
        "colab_type": "code",
        "colab": {}
      },
      "source": [
        "from sklearn.datasets import fetch_openml\n",
        "chemo = fetch_openml(name='anthracyclineTaxaneChemotherapy')"
      ],
      "execution_count": 0,
      "outputs": []
    },
    {
      "cell_type": "code",
      "metadata": {
        "id": "-83xQ-JzA-eh",
        "colab_type": "code",
        "colab": {}
      },
      "source": [
        "X = chemo.data\n",
        "y = chemo.target"
      ],
      "execution_count": 0,
      "outputs": []
    },
    {
      "cell_type": "markdown",
      "metadata": {
        "id": "g2JhXBxLA-el",
        "colab_type": "text"
      },
      "source": [
        "### if fetch_openml fails  \n",
        "**ALTERNATIVE HACK for loading the data**\n",
        "  \n",
        "* downloard the data from data set in arff format from: https://www.openml.org/d/1085\n",
        " \n",
        "* place data in the same folder as this notebook and run the code in the next cell"
      ]
    },
    {
      "cell_type": "code",
      "metadata": {
        "id": "GJA88UGfA-en",
        "colab_type": "code",
        "colab": {
          "base_uri": "https://localhost:8080/",
          "height": 54
        },
        "outputId": "3a940e52-b9b8-4324-a49e-c5a8ba7f53f8"
      },
      "source": [
        "## ALTERNATIVE HACK for loading anthracyclineTaxaneChemotherapy ## \n",
        "\"\"\"from scipy.io import arff\n",
        "dataset = arff.loadarff('phpCLGrjq.arff')\n",
        "import pandas as pd\n",
        "Xdf = pd.DataFrame(dataset[0])\n",
        "Xy = Xdf.as_matrix()\n",
        "n_rows, n_cols = Xy.shape\n",
        "X = Xy[:,:-1]\n",
        "X = np.float_(X)\n",
        "y = Xy[:,-1]\n",
        "y = (np.int_(y))*2-3\"\"\""
      ],
      "execution_count": 25,
      "outputs": [
        {
          "output_type": "execute_result",
          "data": {
            "text/plain": [
              "\"from scipy.io import arff\\ndataset = arff.loadarff('phpCLGrjq.arff')\\nimport pandas as pd\\nXdf = pd.DataFrame(dataset[0])\\nXy = Xdf.as_matrix()\\nn_rows, n_cols = Xy.shape\\nX = Xy[:,:-1]\\nX = np.float_(X)\\ny = Xy[:,-1]\\ny = (np.int_(y))*2-3\""
            ]
          },
          "metadata": {
            "tags": []
          },
          "execution_count": 25
        }
      ]
    },
    {
      "cell_type": "code",
      "metadata": {
        "id": "ppmFrN5JA-ep",
        "colab_type": "code",
        "colab": {
          "base_uri": "https://localhost:8080/",
          "height": 34
        },
        "outputId": "bd1796ae-3457-4746-ef27-6453d9a82aa0"
      },
      "source": [
        "# split test and training. Only use 20% of data for testing because data set is small. \n",
        "X_train, X_test, y_train, y_test = train_test_split(X, y, test_size=0.20, random_state=42) \n",
        "n, d = X_train.shape\n",
        "print('{n} training data points and {d} features'.format(n = n,d =d))"
      ],
      "execution_count": 26,
      "outputs": [
        {
          "output_type": "stream",
          "text": [
            "127 training data points and 61359 features\n"
          ],
          "name": "stdout"
        }
      ]
    },
    {
      "cell_type": "code",
      "metadata": {
        "id": "H-fvTloEA-er",
        "colab_type": "code",
        "colab": {
          "base_uri": "https://localhost:8080/",
          "height": 34
        },
        "outputId": "ca392b83-aeb8-43c5-8d6e-278c982e0011"
      },
      "source": [
        "# 2) fit, transform and score the knn Classifier\n",
        "n_neighbors =2 # <-- use this number of neighbours\n",
        "knn = KNeighborsClassifier(n_neighbors=n_neighbors)\n",
        "\n",
        "knn.fit(X_train,y_train)\n",
        "trainscore = knn.score(X_train, y_train)\n",
        "training_accuracy.append(trainscore)\n",
        "testscore = knn.score(X_test, y_test)\n",
        "test_accuracy.append(knn.score(X_test, y_test))\n",
        "print (\"project dim %5d gives: (train, test) =  (%.4f, %.4f)\" % (d, trainscore,testscore))"
      ],
      "execution_count": 27,
      "outputs": [
        {
          "output_type": "stream",
          "text": [
            "project dim 61359 gives: (train, test) =  (0.8425, 0.5625)\n"
          ],
          "name": "stdout"
        }
      ]
    },
    {
      "cell_type": "code",
      "metadata": {
        "id": "7IfglSCWA-et",
        "colab_type": "code",
        "colab": {
          "base_uri": "https://localhost:8080/",
          "height": 464
        },
        "outputId": "8a809622-8361-48cd-a18b-2a2d36a6cb30"
      },
      "source": [
        "test_accuracy = []\n",
        "training_accuracy = []\n",
        "n_neighbors =2  #< -- I recommend 2 neighbors\n",
        "\n",
        "## Suggested range of projected dimensions:\n",
        "upperbnd = int(min(10*n,d/2))\n",
        "minbnd = int(max(n/20,d/2000))\n",
        "project_dimensions = range(minbnd,upperbnd,int((upperbnd -minbnd)/10))\n",
        "\n",
        "knn = KNeighborsClassifier(n_neighbors=n_neighbors)\n",
        "    \n",
        "for r in project_dimensions:  \n",
        "    W = GenerateSparseTransform(s =20, r= r,d = d) # function coded above\n",
        "    Xt_train = ApplySparseTransform(W,X_train)  # function coded above\n",
        "    Xt_test =  ApplySparseTransform(W,X_test)  # function coded above\n",
        "    knn.fit(Xt_train,y_train)\n",
        "    trainscore = knn.score(Xt_train, y_train)\n",
        "    training_accuracy.append(trainscore)\n",
        "    testscore = knn.score(Xt_test, y_test)\n",
        "    test_accuracy.append(knn.score(Xt_test, y_test))\n",
        "    print (\"project dim %5d gives: (train, test) =  (%.4f, %.4f)\" % (r, trainscore,testscore))\n",
        "\n",
        "list_proj_dims = list(project_dimensions)\n",
        "#these 2 instructions will \n",
        "plt.plot(list_proj_dims,training_accuracy, label='Accuracy of the training set')\n",
        "plt.plot(list_proj_dims,test_accuracy, label='Accuracy of the test set')\n",
        "plt.ylabel('Accuracy')\n",
        "plt.xlabel('Projected Dimension')\n",
        "plt.legend()\n",
        "index_max = np.argmax(test_accuracy)\n",
        "print(\"Best score was for r =%5d with: (train, test) =  (%.4f, %.4f)\"% (list_proj_dims[index_max], training_accuracy[index_max],test_accuracy[index_max]))"
      ],
      "execution_count": 28,
      "outputs": [
        {
          "output_type": "stream",
          "text": [
            "project dim    30 gives: (train, test) =  (0.7480, 0.5625)\n",
            "project dim   154 gives: (train, test) =  (0.8110, 0.5938)\n",
            "project dim   278 gives: (train, test) =  (0.7795, 0.5938)\n",
            "project dim   402 gives: (train, test) =  (0.8189, 0.6250)\n",
            "project dim   526 gives: (train, test) =  (0.8583, 0.5000)\n",
            "project dim   650 gives: (train, test) =  (0.8740, 0.5625)\n",
            "project dim   774 gives: (train, test) =  (0.8346, 0.5312)\n",
            "project dim   898 gives: (train, test) =  (0.8504, 0.5938)\n",
            "project dim  1022 gives: (train, test) =  (0.8425, 0.5938)\n",
            "project dim  1146 gives: (train, test) =  (0.8425, 0.5625)\n",
            "Best score was for r =  402 with: (train, test) =  (0.8189, 0.6250)\n"
          ],
          "name": "stdout"
        },
        {
          "output_type": "display_data",
          "data": {
            "image/png": "[encoded data removed]",
            "text/plain": [
              "<Figure size 432x288 with 1 Axes>"
            ]
          },
          "metadata": {
            "tags": []
          }
        }
      ]
    },
    {
      "cell_type": "markdown",
      "metadata": {
        "id": "AQPBS0KYA-ew",
        "colab_type": "text"
      },
      "source": [
        "## Load and test HARDER data set *sector.scale*  \n",
        "**(only try this data set after successfully testing the anthracyclineTaxaneChemotherapy data set)**"
      ]
    },
    {
      "cell_type": "code",
      "metadata": {
        "id": "XNdYgPISA-ex",
        "colab_type": "code",
        "colab": {
          "base_uri": "https://localhost:8080/",
          "height": 34
        },
        "outputId": "6a9f666d-93a8-4694-fe96-be80822e37a2"
      },
      "source": [
        "# Download the data set from:\n",
        "# https://www.csie.ntu.edu.tw/~cjlin/libsvmtools/datasets/multiclass/sector/sector.scale.bz2\n",
        "# place data in the same folder as this python notebook\n",
        "dataname = \"sector.scale\"  \n",
        "X, y = get_data(dataname)\n",
        "n, d = X.shape\n",
        "print('{n} data points and {d} features'.format(n = n,d =d))"
      ],
      "execution_count": 30,
      "outputs": [
        {
          "output_type": "stream",
          "text": [
            "6412 data points and 55197 features\n"
          ],
          "name": "stdout"
        }
      ]
    },
    {
      "cell_type": "code",
      "metadata": {
        "id": "WRrvLLEsA-e0",
        "colab_type": "code",
        "colab": {
          "base_uri": "https://localhost:8080/",
          "height": 34
        },
        "outputId": "2d21e96e-966e-4c5a-cbbd-f35f835d8355"
      },
      "source": [
        "# split test and training \n",
        "X_train, X_test, y_train, y_test = train_test_split(X, y, test_size=0.33, random_state=42)\n",
        "n, d = X_train.shape\n",
        "print('{n} trainig data points and {d} features'.format(n = n,d =d))"
      ],
      "execution_count": 31,
      "outputs": [
        {
          "output_type": "stream",
          "text": [
            "4296 trainig data points and 55197 features\n"
          ],
          "name": "stdout"
        }
      ]
    },
    {
      "cell_type": "code",
      "metadata": {
        "id": "e9toBQ3eA-e4",
        "colab_type": "code",
        "colab": {}
      },
      "source": [
        "### TODO ### \n",
        "## repeat the same experiments for this larger data set\n",
        "## HINT: Only test project dimensions r <= int(min(2*n,d/2))\n",
        "#############"
      ],
      "execution_count": 0,
      "outputs": []
    },
    {
      "cell_type": "code",
      "metadata": {
        "id": "8GRJAn6kA-e-",
        "colab_type": "code",
        "colab": {
          "base_uri": "https://localhost:8080/",
          "height": 464
        },
        "outputId": "7337a7dc-c459-48cc-d32f-431fb5cb5f43"
      },
      "source": [
        "test_accuracy = []\n",
        "training_accuracy = []\n",
        "n_neighbors =1   ## <-- I recommend using this\n",
        "knn = KNeighborsClassifier(n_neighbors=n_neighbors)\n",
        "    \n",
        "for r in project_dimensions:  \n",
        "    ### TODO ###   \n",
        "    # 3)    project the data matrix $X \\rightarrow XW$ using Gaussian and fit, \n",
        "    #      transform and score using knn\n",
        "    # W = GenerateSparseTransform(???)\n",
        "    # Xt_train = ApplySparseTransform(W,X_train)\n",
        "    # Xt_test =  ApplySparseTransform(W,X_test)\n",
        "    # trainscore =  ??\n",
        "    # training_accuracy.append(trainscore)\n",
        "    # testscore = ??\n",
        "    # test_accuracy.append(testscore)\n",
        "    #############\n",
        "    W = GenerateSparseTransform(s =20, r= r,d = d) # function coded above\n",
        "    Xt_train = ApplySparseTransform(W,X_train)  # function coded above\n",
        "    Xt_test =  ApplySparseTransform(W,X_test)  # function coded above\n",
        "    knn.fit( Xt_train,y_train)\n",
        "    trainscore = knn.score(Xt_train, y_train)\n",
        "    training_accuracy.append(trainscore)\n",
        "    testscore = knn.score(Xt_test, y_test)\n",
        "    test_accuracy.append(knn.score(Xt_test, y_test))\n",
        "    print (\"project dim %5d gives: (train, test) =  (%.4f, %.4f)\" % (r, trainscore,testscore))\n",
        "\n",
        "list_proj_dims = list(project_dimensions)\n",
        "plt.plot(list_proj_dims,training_accuracy, label='Accuracy of the training set')\n",
        "plt.plot(list_proj_dims,test_accuracy, label='Accuracy of the test set')\n",
        "plt.ylabel('Accuracy')\n",
        "plt.xlabel('Projected Dimension')\n",
        "plt.legend()\n",
        "index_max = np.argmax(test_accuracy)\n",
        "print(\"Best score was for r =%5d with: (train, test) =  (%.4f, %.4f)\"% (list_proj_dims[index_max], training_accuracy[index_max],test_accuracy[index_max]))"
      ],
      "execution_count": 34,
      "outputs": [
        {
          "output_type": "stream",
          "text": [
            "project dim    30 gives: (train, test) =  (1.0000, 0.3171)\n",
            "project dim   154 gives: (train, test) =  (1.0000, 0.6645)\n",
            "project dim   278 gives: (train, test) =  (1.0000, 0.7968)\n",
            "project dim   402 gives: (train, test) =  (1.0000, 0.8233)\n",
            "project dim   526 gives: (train, test) =  (1.0000, 0.8426)\n",
            "project dim   650 gives: (train, test) =  (1.0000, 0.8549)\n",
            "project dim   774 gives: (train, test) =  (1.0000, 0.8549)\n",
            "project dim   898 gives: (train, test) =  (1.0000, 0.8592)\n",
            "project dim  1022 gives: (train, test) =  (1.0000, 0.8672)\n",
            "project dim  1146 gives: (train, test) =  (1.0000, 0.8752)\n",
            "Best score was for r = 1146 with: (train, test) =  (1.0000, 0.8752)\n"
          ],
          "name": "stdout"
        },
        {
          "output_type": "display_data",
          "data": {
            "image/png": "[encoded data removed]",
            "text/plain": [
              "<Figure size 432x288 with 1 Axes>"
            ]
          },
          "metadata": {
            "tags": []
          }
        }
      ]
    },
    {
      "cell_type": "markdown",
      "metadata": {
        "id": "UCXe-vGRA-fB",
        "colab_type": "text"
      },
      "source": [
        "## Bonus question\n",
        "\n",
        "Using the Jonhson-Lindenstrauss Lemma, we can have an estimate for the projected dimension using\n",
        "\n",
        "$$r = \\frac{1}{\\epsilon^2}\\log(n/\\delta) $$\n",
        "\n",
        "1) Write a function for calculating this given suggested project dimension r. \n",
        "\n",
        "2) Test for each of the above data sets with \\epsilon = 0.05 = \\delta and compare to your results. "
      ]
    },
    {
      "cell_type": "code",
      "metadata": {
        "id": "m8nDZWAexIV8",
        "colab_type": "code",
        "colab": {}
      },
      "source": [
        "eps= 0.05\n",
        "delta = eps\n",
        "def ComputeJL(n,delta,eps):\n",
        "    result = (1/(eps*eps))*(np.log(n/delta))\n",
        "    return int(result)"
      ],
      "execution_count": 0,
      "outputs": []
    },
    {
      "cell_type": "markdown",
      "metadata": {
        "id": "981g-eZVFp6X",
        "colab_type": "text"
      },
      "source": [
        "#TEST OF PRJECTED DIMESSION r WITH THE CHEMO DATA SET\n",
        "\n",
        "NB: the accuracy using a value of r obtained from the Jonhson-Lindenstrauss Lemma(0.65) is quite similar to the best accuracy obtained testing with different values of r.\n"
      ]
    },
    {
      "cell_type": "code",
      "metadata": {
        "id": "F64DzTswF24e",
        "colab_type": "code",
        "colab": {
          "base_uri": "https://localhost:8080/",
          "height": 50
        },
        "outputId": "a7094f12-80b5-4775-b502-f540e7f65899"
      },
      "source": [
        "X = chemo.data\n",
        "y = chemo.target\n",
        "# split test and training. Only use 20% of data for testing because data set is small. \n",
        "X_train, X_test, y_train, y_test = train_test_split(X, y, test_size=0.20, random_state=42) \n",
        "n, d = X_train.shape\n",
        "print('{n} training data points and {d} features'.format(n = n,d =d))\n",
        "r = ComputeJL(n = n,delta=delta,eps=eps)\n",
        "#train on the transformed data\n",
        "#W has shape d*r\n",
        "W = GenerateSparseTransform(s =20, r= r,d = d) # function coded above\n",
        "Xt_train = ApplySparseTransform(W,X_train)  # function coded above\n",
        "Xt_test =  ApplySparseTransform(W,X_test)  # function coded above\n",
        "knn.fit(Xt_train,y_train)\n",
        "trainscore = knn.score(Xt_train, y_train)\n",
        "training_accuracy.append(trainscore)\n",
        "testscore = knn.score(Xt_test, y_test)\n",
        "test_accuracy.append(knn.score(Xt_test, y_test))\n",
        "print (\"project dim %5d gives: (train, test) =  (%.4f, %.4f)\" % (r, trainscore,testscore))"
      ],
      "execution_count": 43,
      "outputs": [
        {
          "output_type": "stream",
          "text": [
            "127 training data points and 61359 features\n",
            "project dim  3135 gives: (train, test) =  (1.0000, 0.6562)\n"
          ],
          "name": "stdout"
        }
      ]
    },
    {
      "cell_type": "markdown",
      "metadata": {
        "id": "1NQLnxJNHavS",
        "colab_type": "text"
      },
      "source": [
        "#TEST OF THE PROJECTED DIMESSION WITH THE HARDER DATA SET: sector.scale\n",
        "\n",
        "We shall also notice here how the accuracy obtained using the Jonhson-Lindenstrauss Lemma is quite similar to the best accuracy obtained trying with different values of r. "
      ]
    },
    {
      "cell_type": "code",
      "metadata": {
        "id": "0zR4r3B3Hvu0",
        "colab_type": "code",
        "colab": {
          "base_uri": "https://localhost:8080/",
          "height": 50
        },
        "outputId": "a0eaf979-f598-4971-aee4-77b079ea1633"
      },
      "source": [
        "X, y = get_data(dataname)\n",
        "n, d = X.shape\n",
        "\n",
        "# split test and training \n",
        "X_train, X_test, y_train, y_test = train_test_split(X, y, test_size=0.33, random_state=42)\n",
        "n, d = X_train.shape\n",
        "print('{n} trainig data points and {d} features'.format(n = n,d =d))\n",
        "\n",
        "r = ComputeJL(n = n,delta=delta,eps=eps)\n",
        "#train on the transformed data\n",
        "#W has shape d*r\n",
        "W = GenerateSparseTransform(s =20, r= r,d = d) # function coded above\n",
        "Xt_train = ApplySparseTransform(W,X_train)  # function coded above\n",
        "Xt_test =  ApplySparseTransform(W,X_test)  # function coded above\n",
        "knn.fit(Xt_train,y_train)\n",
        "trainscore = knn.score(Xt_train, y_train)\n",
        "training_accuracy.append(trainscore)\n",
        "testscore = knn.score(Xt_test, y_test)\n",
        "test_accuracy.append(knn.score(Xt_test, y_test))\n",
        "print (\"project dim %5d gives: (train, test) =  (%.4f, %.4f)\" % (r, trainscore,testscore))"
      ],
      "execution_count": 44,
      "outputs": [
        {
          "output_type": "stream",
          "text": [
            "4296 trainig data points and 55197 features\n",
            "project dim  4544 gives: (train, test) =  (1.0000, 0.8814)\n"
          ],
          "name": "stdout"
        }
      ]
    }
  ]
}