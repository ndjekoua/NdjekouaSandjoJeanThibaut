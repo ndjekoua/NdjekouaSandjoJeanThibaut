{
  "nbformat": 4,
  "nbformat_minor": 0,
  "metadata": {
    "kernelspec": {
      "display_name": "Python 3",
      "language": "python",
      "name": "python3"
    },
    "language_info": {
      "codemirror_mode": {
        "name": "ipython",
        "version": 3
      },
      "file_extension": ".py",
      "mimetype": "text/x-python",
      "name": "python",
      "nbconvert_exporter": "python",
      "pygments_lexer": "ipython3",
      "version": "3.7.2"
    },
    "colab": {
      "name": "TP0_titanic_blank.ipynb",
      "provenance": [],
      "collapsed_sections": []
    }
  },
  "cells": [
    {
      "cell_type": "markdown",
      "metadata": {
        "id": "gGrt28OvUPvc",
        "colab_type": "text"
      },
      "source": [
        "<h1><center>Practice of Large Scale Machine Learning - TP0 Titanic<center></h1>\n",
        "<h2><center>ATHENS 2019<center></h2>"
      ]
    },
    {
      "cell_type": "markdown",
      "metadata": {
        "id": "kFPyAWMAUPvh",
        "colab_type": "text"
      },
      "source": [
        "# Introduction\n",
        "\n",
        "The goal of this TP (Travaux Pratiques) is to build a model which predicts whether a passenger of the Titanic would have survived. It is a binary classification problme because the output of the built model is either 0 (deceased) or 1 (survived). \n",
        "\n",
        "#### For any remark or suggestion, please feel free to contact us at: \n",
        "#### pascal.bianchi@telecom-paris.fr\n",
        "#### nidham.gazagnadou@telecom-paris.fr"
      ]
    },
    {
      "cell_type": "code",
      "metadata": {
        "id": "SWqgPyiDUmHM",
        "colab_type": "code",
        "outputId": "9827cd78-c149-4259-e489-17a529f7f5f7",
        "colab": {
          "base_uri": "https://localhost:8080/",
          "height": 34
        }
      },
      "source": [
        "from google.colab import drive\n",
        "drive.mount('/content/gdrive')\n",
        "root_path = 'gdrive/My Drive/tp_avazu/data/'  # your new root path"
      ],
      "execution_count": 477,
      "outputs": [
        {
          "output_type": "stream",
          "text": [
            "Drive already mounted at /content/gdrive; to attempt to forcibly remount, call drive.mount(\"/content/gdrive\", force_remount=True).\n"
          ],
          "name": "stdout"
        }
      ]
    },
    {
      "cell_type": "code",
      "metadata": {
        "id": "Uf4pNwPPUPvj",
        "colab_type": "code",
        "outputId": "b78f977f-53b7-4eb2-f90a-6e59d4c99d28",
        "colab": {
          "base_uri": "https://localhost:8080/",
          "height": 34
        }
      },
      "source": [
        "import numpy as np\n",
        "import pandas as pd\n",
        "import os\n",
        "import warnings\n",
        "warnings.filterwarnings(\"ignore\")\n",
        "!ls"
      ],
      "execution_count": 478,
      "outputs": [
        {
          "output_type": "stream",
          "text": [
            "gdrive\tsample_data\n"
          ],
          "name": "stdout"
        }
      ]
    },
    {
      "cell_type": "markdown",
      "metadata": {
        "id": "M2XpBb9ZUPvs",
        "colab_type": "text"
      },
      "source": [
        "# The dataset"
      ]
    },
    {
      "cell_type": "markdown",
      "metadata": {
        "id": "sc-SYg_dUPvu",
        "colab_type": "text"
      },
      "source": [
        "<font color=\"red\">**Question:**\n",
        "    <br>\n",
        "    Load the csv file *'data_tp/titanic_train.csv'* into a dataframe. Use the function 'os.path.join()' to indicate the full path. \n",
        "</font>"
      ]
    },
    {
      "cell_type": "code",
      "metadata": {
        "id": "3zEExvOhUPvx",
        "colab_type": "code",
        "colab": {}
      },
      "source": [
        "full_path = os.path.join(root_path,\"titanic_train.csv\")\n",
        "df = pd.read_csv(full_path)"
      ],
      "execution_count": 0,
      "outputs": []
    },
    {
      "cell_type": "markdown",
      "metadata": {
        "id": "Y87YcqdoUPv2",
        "colab_type": "text"
      },
      "source": [
        "<font color=\"red\">**Question:**\n",
        "    <br>\n",
        "    Inspect the data, and show the first rows using the 'df.head()' method.\n",
        "</font>"
      ]
    },
    {
      "cell_type": "code",
      "metadata": {
        "id": "duD25zuTUPv4",
        "colab_type": "code",
        "outputId": "a44633df-81f7-4e53-f823-2c34f2c90998",
        "colab": {
          "base_uri": "https://localhost:8080/",
          "height": 195
        }
      },
      "source": [
        "#NOTE: the default value for n is actually 5, so i could even ommit to specify it!!\n",
        "df.head(n=5)\n"
      ],
      "execution_count": 480,
      "outputs": [
        {
          "output_type": "execute_result",
          "data": {
            "text/html": [
              "<div>\n",
              "<style scoped>\n",
              "    .dataframe tbody tr th:only-of-type {\n",
              "        vertical-align: middle;\n",
              "    }\n",
              "\n",
              "    .dataframe tbody tr th {\n",
              "        vertical-align: top;\n",
              "    }\n",
              "\n",
              "    .dataframe thead th {\n",
              "        text-align: right;\n",
              "    }\n",
              "</style>\n",
              "<table border=\"1\" class=\"dataframe\">\n",
              "  <thead>\n",
              "    <tr style=\"text-align: right;\">\n",
              "      <th></th>\n",
              "      <th>PassengerId</th>\n",
              "      <th>Survived</th>\n",
              "      <th>Pclass</th>\n",
              "      <th>Name</th>\n",
              "      <th>Sex</th>\n",
              "      <th>Age</th>\n",
              "      <th>SibSp</th>\n",
              "      <th>Parch</th>\n",
              "      <th>Ticket</th>\n",
              "      <th>Fare</th>\n",
              "      <th>Cabin</th>\n",
              "      <th>Embarked</th>\n",
              "    </tr>\n",
              "  </thead>\n",
              "  <tbody>\n",
              "    <tr>\n",
              "      <th>0</th>\n",
              "      <td>1</td>\n",
              "      <td>0</td>\n",
              "      <td>3</td>\n",
              "      <td>Braund, Mr. Owen Harris</td>\n",
              "      <td>male</td>\n",
              "      <td>22.0</td>\n",
              "      <td>1</td>\n",
              "      <td>0</td>\n",
              "      <td>A/5 21171</td>\n",
              "      <td>7.2500</td>\n",
              "      <td>NaN</td>\n",
              "      <td>S</td>\n",
              "    </tr>\n",
              "    <tr>\n",
              "      <th>1</th>\n",
              "      <td>2</td>\n",
              "      <td>1</td>\n",
              "      <td>1</td>\n",
              "      <td>Cumings, Mrs. John Bradley (Florence Briggs Th...</td>\n",
              "      <td>female</td>\n",
              "      <td>38.0</td>\n",
              "      <td>1</td>\n",
              "      <td>0</td>\n",
              "      <td>PC 17599</td>\n",
              "      <td>71.2833</td>\n",
              "      <td>C85</td>\n",
              "      <td>C</td>\n",
              "    </tr>\n",
              "    <tr>\n",
              "      <th>2</th>\n",
              "      <td>3</td>\n",
              "      <td>1</td>\n",
              "      <td>3</td>\n",
              "      <td>Heikkinen, Miss. Laina</td>\n",
              "      <td>female</td>\n",
              "      <td>26.0</td>\n",
              "      <td>0</td>\n",
              "      <td>0</td>\n",
              "      <td>STON/O2. 3101282</td>\n",
              "      <td>7.9250</td>\n",
              "      <td>NaN</td>\n",
              "      <td>S</td>\n",
              "    </tr>\n",
              "    <tr>\n",
              "      <th>3</th>\n",
              "      <td>4</td>\n",
              "      <td>1</td>\n",
              "      <td>1</td>\n",
              "      <td>Futrelle, Mrs. Jacques Heath (Lily May Peel)</td>\n",
              "      <td>female</td>\n",
              "      <td>35.0</td>\n",
              "      <td>1</td>\n",
              "      <td>0</td>\n",
              "      <td>113803</td>\n",
              "      <td>53.1000</td>\n",
              "      <td>C123</td>\n",
              "      <td>S</td>\n",
              "    </tr>\n",
              "    <tr>\n",
              "      <th>4</th>\n",
              "      <td>5</td>\n",
              "      <td>0</td>\n",
              "      <td>3</td>\n",
              "      <td>Allen, Mr. William Henry</td>\n",
              "      <td>male</td>\n",
              "      <td>35.0</td>\n",
              "      <td>0</td>\n",
              "      <td>0</td>\n",
              "      <td>373450</td>\n",
              "      <td>8.0500</td>\n",
              "      <td>NaN</td>\n",
              "      <td>S</td>\n",
              "    </tr>\n",
              "  </tbody>\n",
              "</table>\n",
              "</div>"
            ],
            "text/plain": [
              "   PassengerId  Survived  Pclass  ...     Fare Cabin  Embarked\n",
              "0            1         0       3  ...   7.2500   NaN         S\n",
              "1            2         1       1  ...  71.2833   C85         C\n",
              "2            3         1       3  ...   7.9250   NaN         S\n",
              "3            4         1       1  ...  53.1000  C123         S\n",
              "4            5         0       3  ...   8.0500   NaN         S\n",
              "\n",
              "[5 rows x 12 columns]"
            ]
          },
          "metadata": {
            "tags": []
          },
          "execution_count": 480
        }
      ]
    },
    {
      "cell_type": "markdown",
      "metadata": {
        "id": "6hiprzlPf2At",
        "colab_type": "text"
      },
      "source": [
        "### <font color=\"blue\">Compute some preliminary statistics</font>\n",
        "More information about DataFrames at:\n",
        "<br>\n",
        "https://pandas.pydata.org/pandas-docs/stable/generated/pandas.DataFrame.html\n",
        "\n",
        "### <font color=\"blue\">Titanic dataset</font>\n",
        "<br>\n",
        "Some columns' name are not self-explicit. For more detail about the meaning of the different columns:\n",
        "\n",
        "\n",
        "https://www.kaggle.com/c/titanic/data\n",
        "\n",
        "https://cran.r-project.org/web/packages/titanic/titanic.pdf"
      ]
    },
    {
      "cell_type": "markdown",
      "metadata": {
        "id": "VoM_DI5KUPv9",
        "colab_type": "text"
      },
      "source": [
        "<font color=\"red\">**Question:**\n",
        "    <br>\n",
        "    Use the '.describe()' method in order to answer the following questions:\n",
        "    <br>\n",
        "- What is the average age of the passengers?\n",
        "    <br>\n",
        "- How old is the oldest passenger?\n",
        "    <br>\n",
        "- What percentage of survivors among the passengers?\n",
        "</font>"
      ]
    },
    {
      "cell_type": "code",
      "metadata": {
        "id": "xijY0ZglUPv_",
        "colab_type": "code",
        "outputId": "b7bdb1e9-ecbd-4705-b83e-b1638ab364d9",
        "colab": {
          "base_uri": "https://localhost:8080/",
          "height": 284
        }
      },
      "source": [
        "df.describe()"
      ],
      "execution_count": 481,
      "outputs": [
        {
          "output_type": "execute_result",
          "data": {
            "text/html": [
              "<div>\n",
              "<style scoped>\n",
              "    .dataframe tbody tr th:only-of-type {\n",
              "        vertical-align: middle;\n",
              "    }\n",
              "\n",
              "    .dataframe tbody tr th {\n",
              "        vertical-align: top;\n",
              "    }\n",
              "\n",
              "    .dataframe thead th {\n",
              "        text-align: right;\n",
              "    }\n",
              "</style>\n",
              "<table border=\"1\" class=\"dataframe\">\n",
              "  <thead>\n",
              "    <tr style=\"text-align: right;\">\n",
              "      <th></th>\n",
              "      <th>PassengerId</th>\n",
              "      <th>Survived</th>\n",
              "      <th>Pclass</th>\n",
              "      <th>Age</th>\n",
              "      <th>SibSp</th>\n",
              "      <th>Parch</th>\n",
              "      <th>Fare</th>\n",
              "    </tr>\n",
              "  </thead>\n",
              "  <tbody>\n",
              "    <tr>\n",
              "      <th>count</th>\n",
              "      <td>891.000000</td>\n",
              "      <td>891.000000</td>\n",
              "      <td>891.000000</td>\n",
              "      <td>714.000000</td>\n",
              "      <td>891.000000</td>\n",
              "      <td>891.000000</td>\n",
              "      <td>891.000000</td>\n",
              "    </tr>\n",
              "    <tr>\n",
              "      <th>mean</th>\n",
              "      <td>446.000000</td>\n",
              "      <td>0.383838</td>\n",
              "      <td>2.308642</td>\n",
              "      <td>29.699118</td>\n",
              "      <td>0.523008</td>\n",
              "      <td>0.381594</td>\n",
              "      <td>32.204208</td>\n",
              "    </tr>\n",
              "    <tr>\n",
              "      <th>std</th>\n",
              "      <td>257.353842</td>\n",
              "      <td>0.486592</td>\n",
              "      <td>0.836071</td>\n",
              "      <td>14.526497</td>\n",
              "      <td>1.102743</td>\n",
              "      <td>0.806057</td>\n",
              "      <td>49.693429</td>\n",
              "    </tr>\n",
              "    <tr>\n",
              "      <th>min</th>\n",
              "      <td>1.000000</td>\n",
              "      <td>0.000000</td>\n",
              "      <td>1.000000</td>\n",
              "      <td>0.420000</td>\n",
              "      <td>0.000000</td>\n",
              "      <td>0.000000</td>\n",
              "      <td>0.000000</td>\n",
              "    </tr>\n",
              "    <tr>\n",
              "      <th>25%</th>\n",
              "      <td>223.500000</td>\n",
              "      <td>0.000000</td>\n",
              "      <td>2.000000</td>\n",
              "      <td>20.125000</td>\n",
              "      <td>0.000000</td>\n",
              "      <td>0.000000</td>\n",
              "      <td>7.910400</td>\n",
              "    </tr>\n",
              "    <tr>\n",
              "      <th>50%</th>\n",
              "      <td>446.000000</td>\n",
              "      <td>0.000000</td>\n",
              "      <td>3.000000</td>\n",
              "      <td>28.000000</td>\n",
              "      <td>0.000000</td>\n",
              "      <td>0.000000</td>\n",
              "      <td>14.454200</td>\n",
              "    </tr>\n",
              "    <tr>\n",
              "      <th>75%</th>\n",
              "      <td>668.500000</td>\n",
              "      <td>1.000000</td>\n",
              "      <td>3.000000</td>\n",
              "      <td>38.000000</td>\n",
              "      <td>1.000000</td>\n",
              "      <td>0.000000</td>\n",
              "      <td>31.000000</td>\n",
              "    </tr>\n",
              "    <tr>\n",
              "      <th>max</th>\n",
              "      <td>891.000000</td>\n",
              "      <td>1.000000</td>\n",
              "      <td>3.000000</td>\n",
              "      <td>80.000000</td>\n",
              "      <td>8.000000</td>\n",
              "      <td>6.000000</td>\n",
              "      <td>512.329200</td>\n",
              "    </tr>\n",
              "  </tbody>\n",
              "</table>\n",
              "</div>"
            ],
            "text/plain": [
              "       PassengerId    Survived      Pclass  ...       SibSp       Parch        Fare\n",
              "count   891.000000  891.000000  891.000000  ...  891.000000  891.000000  891.000000\n",
              "mean    446.000000    0.383838    2.308642  ...    0.523008    0.381594   32.204208\n",
              "std     257.353842    0.486592    0.836071  ...    1.102743    0.806057   49.693429\n",
              "min       1.000000    0.000000    1.000000  ...    0.000000    0.000000    0.000000\n",
              "25%     223.500000    0.000000    2.000000  ...    0.000000    0.000000    7.910400\n",
              "50%     446.000000    0.000000    3.000000  ...    0.000000    0.000000   14.454200\n",
              "75%     668.500000    1.000000    3.000000  ...    1.000000    0.000000   31.000000\n",
              "max     891.000000    1.000000    3.000000  ...    8.000000    6.000000  512.329200\n",
              "\n",
              "[8 rows x 7 columns]"
            ]
          },
          "metadata": {
            "tags": []
          },
          "execution_count": 481
        }
      ]
    },
    {
      "cell_type": "markdown",
      "metadata": {
        "id": "OTyZBmSrKR1z",
        "colab_type": "text"
      },
      "source": [
        "#Your answer here\n",
        " **1)** avarage age of passengers : 29,69\n",
        "\n",
        " **2)** How old is the oldest passenger ? 80\n",
        "\n",
        " **3**\n"
      ]
    },
    {
      "cell_type": "markdown",
      "metadata": {
        "id": "hJNCgwbbf2A4",
        "colab_type": "text"
      },
      "source": [
        "### <font color=\"blue\">Distribution of the data</font>\n",
        "More info about *df.describe()* method at:\n",
        "<br>\n",
        "https://pandas.pydata.org/pandas-docs/stable/generated/pandas.DataFrame.describe.html#pandas.DataFrame.describe"
      ]
    },
    {
      "cell_type": "markdown",
      "metadata": {
        "id": "_HI2qxC9UPwD",
        "colab_type": "text"
      },
      "source": [
        "<font color=\"red\">**Question:**\n",
        "    <br>\n",
        "    Compute and give the number of men and the number of survivors among the men using pandas' method \"df.sum\"\n",
        "</font>\n",
        "\n",
        "NB: The result of this expression (df[df['Sex']== \"male\" ]) is list of element where each element is either true or False; but python interpret False as 0 and true as 1 so we just need sum up in oder to have the total number that satisfies the condition"
      ]
    },
    {
      "cell_type": "code",
      "metadata": {
        "id": "zOm9RwPtUPwF",
        "colab_type": "code",
        "outputId": "3c01eaa3-7c15-4ff8-9eb4-9fdc30677508",
        "colab": {
          "base_uri": "https://localhost:8080/",
          "height": 34
        }
      },
      "source": [
        " print(\"the number of man is {}\".format((df['Sex'] == \"male\").sum())) # Fill here"
      ],
      "execution_count": 482,
      "outputs": [
        {
          "output_type": "stream",
          "text": [
            "the number of man is 577\n"
          ],
          "name": "stdout"
        }
      ]
    },
    {
      "cell_type": "code",
      "metadata": {
        "id": "KjazjWFXUPwJ",
        "colab_type": "code",
        "outputId": "af11c32f-9db8-4994-8a87-a96ddcb45d95",
        "colab": {
          "base_uri": "https://localhost:8080/",
          "height": 34
        }
      },
      "source": [
        "df2 =df[df['Sex']== \"male\" ] # Fill here\n",
        "df2 = df2[df[\"Survived\"] ==1]\n",
        "print(\"the total number of passengers who survived is {}\".format(df2[\"Survived\"].sum(axis =0)))\n"
      ],
      "execution_count": 483,
      "outputs": [
        {
          "output_type": "stream",
          "text": [
            "the total number of passengers who survived is 109\n"
          ],
          "name": "stdout"
        }
      ]
    },
    {
      "cell_type": "markdown",
      "metadata": {
        "colab_type": "text",
        "id": "NbBhbbfgKq1E"
      },
      "source": [
        "Your answer here\n",
        "\n",
        "**1)** the total number of men is 577\n",
        "\n",
        "**2)** The total number of passengers who survived among the men is 109"
      ]
    },
    {
      "cell_type": "markdown",
      "metadata": {
        "id": "CiCQk941UPwO",
        "colab_type": "text"
      },
      "source": [
        "<font color=\"red\">**Question:**\n",
        "    <br>\n",
        "    Plot the histogram of ages and of classes. One can use the method \"df.hist\". Precise the name of the axes.\n",
        "</font>\n",
        "\n",
        "NB:The parameter bin of the hist method is number of group we want to have in the histogram."
      ]
    },
    {
      "cell_type": "code",
      "metadata": {
        "id": "DlZkuGN7UPwP",
        "colab_type": "code",
        "colab": {}
      },
      "source": [
        "import matplotlib.pyplot as plt\n",
        "%matplotlib inline"
      ],
      "execution_count": 0,
      "outputs": []
    },
    {
      "cell_type": "code",
      "metadata": {
        "id": "XwOoL7gTUPwS",
        "colab_type": "code",
        "outputId": "288294a4-8bc5-4238-c182-1c5810c09559",
        "colab": {
          "base_uri": "https://localhost:8080/",
          "height": 282
        }
      },
      "source": [
        "nb_bins = 8 # Fill here for the age histogram\n",
        "df[\"Age\"].hist(bins=nb_bins)"
      ],
      "execution_count": 485,
      "outputs": [
        {
          "output_type": "execute_result",
          "data": {
            "text/plain": [
              "<matplotlib.axes._subplots.AxesSubplot at 0x7f8ce74ff588>"
            ]
          },
          "metadata": {
            "tags": []
          },
          "execution_count": 485
        },
        {
          "output_type": "display_data",
          "data": {
            "image/png": "[encoded data removed]",
            "text/plain": [
              "<Figure size 432x288 with 1 Axes>"
            ]
          },
          "metadata": {
            "tags": []
          }
        }
      ]
    },
    {
      "cell_type": "code",
      "metadata": {
        "id": "Gv2fii2uUPwX",
        "colab_type": "code",
        "outputId": "78b85ce0-39d3-45b7-8da4-30a7b32d47c2",
        "colab": {
          "base_uri": "https://localhost:8080/",
          "height": 282
        }
      },
      "source": [
        "nb_bins = 2 # Fill here for the class histogram\n",
        "df[\"Survived\"].hist(bins=nb_bins)"
      ],
      "execution_count": 486,
      "outputs": [
        {
          "output_type": "execute_result",
          "data": {
            "text/plain": [
              "<matplotlib.axes._subplots.AxesSubplot at 0x7f8ce74a5cf8>"
            ]
          },
          "metadata": {
            "tags": []
          },
          "execution_count": 486
        },
        {
          "output_type": "display_data",
          "data": {
            "image/png": "[encoded data removed]",
            "text/plain": [
              "<Figure size 432x288 with 1 Axes>"
            ]
          },
          "metadata": {
            "tags": []
          }
        }
      ]
    },
    {
      "cell_type": "markdown",
      "metadata": {
        "id": "jTkHHM4kUPwb",
        "colab_type": "text"
      },
      "source": [
        "# Missing data preprocessing"
      ]
    },
    {
      "cell_type": "markdown",
      "metadata": {
        "id": "SqvM2QSdUPwc",
        "colab_type": "text"
      },
      "source": [
        "<font color=\"red\">**Question:**\n",
        "    <br>\n",
        "    Estimate the number of missing data per column using the \"df.count\" method.\n",
        "</font>\n",
        "\n",
        "len(df) returns the number of rows of the dataframe\n",
        "df.count() returns for each columns the number of non missing values\n",
        "\n",
        "NB: we could also use : flights_missing = flights.isna() which returns a dataframe with the same dimessions but containing only boolean.\n",
        "then we can apply mean,count on that dataframe"
      ]
    },
    {
      "cell_type": "code",
      "metadata": {
        "id": "ZogiXvWEUPwd",
        "colab_type": "code",
        "outputId": "43aa25b9-548e-44ea-f551-a0ad0eda04a6",
        "colab": {
          "base_uri": "https://localhost:8080/",
          "height": 235
        }
      },
      "source": [
        "print(len(df) -df.count())"
      ],
      "execution_count": 487,
      "outputs": [
        {
          "output_type": "stream",
          "text": [
            "PassengerId      0\n",
            "Survived         0\n",
            "Pclass           0\n",
            "Name             0\n",
            "Sex              0\n",
            "Age            177\n",
            "SibSp            0\n",
            "Parch            0\n",
            "Ticket           0\n",
            "Fare             0\n",
            "Cabin          687\n",
            "Embarked         2\n",
            "dtype: int64\n"
          ],
          "name": "stdout"
        }
      ]
    },
    {
      "cell_type": "markdown",
      "metadata": {
        "id": "fS_GFpvsf2Bg",
        "colab_type": "text"
      },
      "source": [
        "### <font color=\"blue\">Using count method</font>\n",
        "\n",
        "The *df.count* method \"Count[s] non-NA cells for each column or row.\"\n",
        "<br>\n",
        "As explained in the documentation:\n",
        "<br>\n",
        "https://pandas.pydata.org/pandas-docs/stable/generated/pandas.DataFrame.count.html#pandas.DataFrame.count"
      ]
    },
    {
      "cell_type": "markdown",
      "metadata": {
        "id": "aPIxGgREUPwg",
        "colab_type": "text"
      },
      "source": [
        "<font color=\"red\">**Question:**\n",
        "    <br>\n",
        "    Indicate which columns are non-informative or that contain to many missing values and remove them using the \"df.drop\" method. Do not forget to set the parameter \"inplace\" to \"True\".\n",
        "</font>"
      ]
    },
    {
      "cell_type": "code",
      "metadata": {
        "id": "vQfz5QQOUPwh",
        "colab_type": "code",
        "outputId": "2189c9f4-50d1-4110-da7d-c9e68ab8a26b",
        "colab": {
          "base_uri": "https://localhost:8080/",
          "height": 84
        }
      },
      "source": [
        "print(df.columns.values)\n",
        "df.drop(columns=['Age','Cabin'], axis=1,inplace=True) # Fill here\n",
        "print(df.columns.values)"
      ],
      "execution_count": 488,
      "outputs": [
        {
          "output_type": "stream",
          "text": [
            "['PassengerId' 'Survived' 'Pclass' 'Name' 'Sex' 'Age' 'SibSp' 'Parch'\n",
            " 'Ticket' 'Fare' 'Cabin' 'Embarked']\n",
            "['PassengerId' 'Survived' 'Pclass' 'Name' 'Sex' 'SibSp' 'Parch' 'Ticket'\n",
            " 'Fare' 'Embarked']\n"
          ],
          "name": "stdout"
        }
      ]
    },
    {
      "cell_type": "markdown",
      "metadata": {
        "colab_type": "text",
        "id": "-NwataweNOAJ"
      },
      "source": [
        "Your answer here\n",
        "\n",
        "The columns **age** and **cabin** are non informative because because they contains too many missing values."
      ]
    },
    {
      "cell_type": "markdown",
      "metadata": {
        "id": "18hDvCCkUPwl",
        "colab_type": "text"
      },
      "source": [
        "<font color=\"red\">**Question:**\n",
        "    <br>\n",
        "    Using the \"fillna()\" method, create a new dataframe where NaN are replaced by the median of the corresponding column.\n",
        "</font>"
      ]
    },
    {
      "cell_type": "code",
      "metadata": {
        "id": "kyoi-ii-UPwn",
        "colab_type": "code",
        "colab": {}
      },
      "source": [
        "#is this feasible since the only column that have missing values is embarke and does not contains numerical values??"
      ],
      "execution_count": 0,
      "outputs": []
    },
    {
      "cell_type": "markdown",
      "metadata": {
        "id": "VPy9kGzgUPwq",
        "colab_type": "text"
      },
      "source": [
        "<font color=\"red\">**Question:**\n",
        "    <br>\n",
        "    Verify that there are not missing data anymore using '.count()'. If there are still some, delete the corresponding lines with '.dropna()'.\n",
        "</font>"
      ]
    },
    {
      "cell_type": "code",
      "metadata": {
        "id": "UvpvROyQmPLc",
        "colab_type": "code",
        "colab": {}
      },
      "source": [
        ""
      ],
      "execution_count": 0,
      "outputs": []
    },
    {
      "cell_type": "code",
      "metadata": {
        "id": "x8MDo-PbUPwq",
        "colab_type": "code",
        "outputId": "b4f23c72-1b48-4660-eca1-e31a2236e0e2",
        "colab": {
          "base_uri": "https://localhost:8080/",
          "height": 202
        }
      },
      "source": [
        "df =df.dropna(axis=0)\n",
        "print(len(df) -df.count())\n",
        "#Since the length of the dataframe is equal to the total number of NOT a NaN -> there not missing values anymore!!"
      ],
      "execution_count": 490,
      "outputs": [
        {
          "output_type": "stream",
          "text": [
            "PassengerId    0\n",
            "Survived       0\n",
            "Pclass         0\n",
            "Name           0\n",
            "Sex            0\n",
            "SibSp          0\n",
            "Parch          0\n",
            "Ticket         0\n",
            "Fare           0\n",
            "Embarked       0\n",
            "dtype: int64\n"
          ],
          "name": "stdout"
        }
      ]
    },
    {
      "cell_type": "markdown",
      "metadata": {
        "id": "TA_Yc-hAUPwu",
        "colab_type": "text"
      },
      "source": [
        "# Categorical variables encoding"
      ]
    },
    {
      "cell_type": "markdown",
      "metadata": {
        "id": "ydu2wepQUPwv",
        "colab_type": "text"
      },
      "source": [
        "<font color=\"red\">**Question:**\n",
        "    <br>\n",
        "    Verify that 'Sex' and 'Embarked' are the only categorical variables. One could for instance make use of the \"df.dtypes\" method.\n",
        "</font>"
      ]
    },
    {
      "cell_type": "code",
      "metadata": {
        "id": "qOFj-ZWZUPww",
        "colab_type": "code",
        "outputId": "2c277eaa-97f5-40ff-f96c-17d7f715d796",
        "colab": {
          "base_uri": "https://localhost:8080/",
          "height": 202
        }
      },
      "source": [
        "df.dtypes"
      ],
      "execution_count": 491,
      "outputs": [
        {
          "output_type": "execute_result",
          "data": {
            "text/plain": [
              "PassengerId      int64\n",
              "Survived         int64\n",
              "Pclass           int64\n",
              "Name            object\n",
              "Sex             object\n",
              "SibSp            int64\n",
              "Parch            int64\n",
              "Ticket          object\n",
              "Fare           float64\n",
              "Embarked        object\n",
              "dtype: object"
            ]
          },
          "metadata": {
            "tags": []
          },
          "execution_count": 491
        }
      ]
    },
    {
      "cell_type": "markdown",
      "metadata": {
        "id": "McG84ikIUPwz",
        "colab_type": "text"
      },
      "source": [
        "<font color=\"red\">**Question:**\n",
        "    <br>\n",
        "    With the help of the Pandas' function \"pd.get_dummies\" or of (it is a bit more difficult) scikit learn methods \"LabelEncoder\" and \"OneHotEncode\", cast these columns into one-hot variables. Check the scikit learn document for more information:\n",
        "<br>\n",
        "http://scikit-learn.org/stable/modules/generated/sklearn.preprocessing.OneHotEncoder.html#sklearn.preprocessing.OneHotEncoder\n",
        "<font>\n",
        "\n",
        "**NB** In the function pd.get_dummies() the attribute drop_first=True means that we will use a OHE of shorter dimenssion eg: for the attribute embarked, if embarked_s = 0 and embarked_q =0 -> embarked_c should be 1"
      ]
    },
    {
      "cell_type": "code",
      "metadata": {
        "id": "K7Ee82RZUPw0",
        "colab_type": "code",
        "outputId": "0d61abd1-7288-468e-f5b9-2af1d66c6ed6",
        "colab": {
          "base_uri": "https://localhost:8080/",
          "height": 212
        }
      },
      "source": [
        "print(df[\"Embarked\"].unique())\n",
        "sex = pd.get_dummies(df,columns=[\"Sex\"], drop_first=True) # Fill here for sex feature\n",
        "embark = pd.get_dummies(df,columns=[\"Embarked\"], drop_first=True) # Fill here for embarked feature\n",
        "embark.head()\n",
        "#sex.head()"
      ],
      "execution_count": 492,
      "outputs": [
        {
          "output_type": "stream",
          "text": [
            "['S' 'C' 'Q']\n"
          ],
          "name": "stdout"
        },
        {
          "output_type": "execute_result",
          "data": {
            "text/html": [
              "<div>\n",
              "<style scoped>\n",
              "    .dataframe tbody tr th:only-of-type {\n",
              "        vertical-align: middle;\n",
              "    }\n",
              "\n",
              "    .dataframe tbody tr th {\n",
              "        vertical-align: top;\n",
              "    }\n",
              "\n",
              "    .dataframe thead th {\n",
              "        text-align: right;\n",
              "    }\n",
              "</style>\n",
              "<table border=\"1\" class=\"dataframe\">\n",
              "  <thead>\n",
              "    <tr style=\"text-align: right;\">\n",
              "      <th></th>\n",
              "      <th>PassengerId</th>\n",
              "      <th>Survived</th>\n",
              "      <th>Pclass</th>\n",
              "      <th>Name</th>\n",
              "      <th>Sex</th>\n",
              "      <th>SibSp</th>\n",
              "      <th>Parch</th>\n",
              "      <th>Ticket</th>\n",
              "      <th>Fare</th>\n",
              "      <th>Embarked_Q</th>\n",
              "      <th>Embarked_S</th>\n",
              "    </tr>\n",
              "  </thead>\n",
              "  <tbody>\n",
              "    <tr>\n",
              "      <th>0</th>\n",
              "      <td>1</td>\n",
              "      <td>0</td>\n",
              "      <td>3</td>\n",
              "      <td>Braund, Mr. Owen Harris</td>\n",
              "      <td>male</td>\n",
              "      <td>1</td>\n",
              "      <td>0</td>\n",
              "      <td>A/5 21171</td>\n",
              "      <td>7.2500</td>\n",
              "      <td>0</td>\n",
              "      <td>1</td>\n",
              "    </tr>\n",
              "    <tr>\n",
              "      <th>1</th>\n",
              "      <td>2</td>\n",
              "      <td>1</td>\n",
              "      <td>1</td>\n",
              "      <td>Cumings, Mrs. John Bradley (Florence Briggs Th...</td>\n",
              "      <td>female</td>\n",
              "      <td>1</td>\n",
              "      <td>0</td>\n",
              "      <td>PC 17599</td>\n",
              "      <td>71.2833</td>\n",
              "      <td>0</td>\n",
              "      <td>0</td>\n",
              "    </tr>\n",
              "    <tr>\n",
              "      <th>2</th>\n",
              "      <td>3</td>\n",
              "      <td>1</td>\n",
              "      <td>3</td>\n",
              "      <td>Heikkinen, Miss. Laina</td>\n",
              "      <td>female</td>\n",
              "      <td>0</td>\n",
              "      <td>0</td>\n",
              "      <td>STON/O2. 3101282</td>\n",
              "      <td>7.9250</td>\n",
              "      <td>0</td>\n",
              "      <td>1</td>\n",
              "    </tr>\n",
              "    <tr>\n",
              "      <th>3</th>\n",
              "      <td>4</td>\n",
              "      <td>1</td>\n",
              "      <td>1</td>\n",
              "      <td>Futrelle, Mrs. Jacques Heath (Lily May Peel)</td>\n",
              "      <td>female</td>\n",
              "      <td>1</td>\n",
              "      <td>0</td>\n",
              "      <td>113803</td>\n",
              "      <td>53.1000</td>\n",
              "      <td>0</td>\n",
              "      <td>1</td>\n",
              "    </tr>\n",
              "    <tr>\n",
              "      <th>4</th>\n",
              "      <td>5</td>\n",
              "      <td>0</td>\n",
              "      <td>3</td>\n",
              "      <td>Allen, Mr. William Henry</td>\n",
              "      <td>male</td>\n",
              "      <td>0</td>\n",
              "      <td>0</td>\n",
              "      <td>373450</td>\n",
              "      <td>8.0500</td>\n",
              "      <td>0</td>\n",
              "      <td>1</td>\n",
              "    </tr>\n",
              "  </tbody>\n",
              "</table>\n",
              "</div>"
            ],
            "text/plain": [
              "   PassengerId  Survived  Pclass  ...     Fare Embarked_Q  Embarked_S\n",
              "0            1         0       3  ...   7.2500          0           1\n",
              "1            2         1       1  ...  71.2833          0           0\n",
              "2            3         1       3  ...   7.9250          0           1\n",
              "3            4         1       1  ...  53.1000          0           1\n",
              "4            5         0       3  ...   8.0500          0           1\n",
              "\n",
              "[5 rows x 11 columns]"
            ]
          },
          "metadata": {
            "tags": []
          },
          "execution_count": 492
        }
      ]
    },
    {
      "cell_type": "code",
      "metadata": {
        "id": "QB_C93XA4cDi",
        "colab_type": "code",
        "colab": {}
      },
      "source": [
        "embark.drop(columns=[\"PassengerId\",\"Survived\",\"Pclass\",\"Name\",\"SibSp\",\"Parch\",\"Ticket\",\"Fare\",\"Sex\"], inplace=True)\n",
        "sex.drop(columns=[\"PassengerId\",\"Survived\",\"Pclass\",\"Name\",\"SibSp\",\"Parch\",\"Ticket\",\"Fare\",\"Embarked\"], inplace=True)\n",
        "df.drop(columns=[\"Sex\",\"Embarked\"], inplace=True) # Columns to delete"
      ],
      "execution_count": 0,
      "outputs": []
    },
    {
      "cell_type": "markdown",
      "metadata": {
        "id": "0JH9x4UNUPw4",
        "colab_type": "text"
      },
      "source": [
        "<font color=\"red\">**Question**:\n",
        "    <br>\n",
        "    Delete (if not already done) the categorical columns 'Sex' and 'Embarked'. The final DataFrame should only contain the one-hot enconding of the 'Sex' and 'Embarked' columns. \n",
        "<font>"
      ]
    },
    {
      "cell_type": "code",
      "metadata": {
        "id": "BNmrsweiUPw4",
        "colab_type": "code",
        "colab": {
          "base_uri": "https://localhost:8080/",
          "height": 195
        },
        "outputId": "0122ebc7-6fa5-4748-975f-fb6ffca20fce"
      },
      "source": [
        "\n",
        "df = pd.concat([df,sex,embark], axis=1) # Fill here to concatenate df and the new encoded columns\n",
        "df.head()\n",
        "#sex.head()"
      ],
      "execution_count": 494,
      "outputs": [
        {
          "output_type": "execute_result",
          "data": {
            "text/html": [
              "<div>\n",
              "<style scoped>\n",
              "    .dataframe tbody tr th:only-of-type {\n",
              "        vertical-align: middle;\n",
              "    }\n",
              "\n",
              "    .dataframe tbody tr th {\n",
              "        vertical-align: top;\n",
              "    }\n",
              "\n",
              "    .dataframe thead th {\n",
              "        text-align: right;\n",
              "    }\n",
              "</style>\n",
              "<table border=\"1\" class=\"dataframe\">\n",
              "  <thead>\n",
              "    <tr style=\"text-align: right;\">\n",
              "      <th></th>\n",
              "      <th>PassengerId</th>\n",
              "      <th>Survived</th>\n",
              "      <th>Pclass</th>\n",
              "      <th>Name</th>\n",
              "      <th>SibSp</th>\n",
              "      <th>Parch</th>\n",
              "      <th>Ticket</th>\n",
              "      <th>Fare</th>\n",
              "      <th>Sex_male</th>\n",
              "      <th>Embarked_Q</th>\n",
              "      <th>Embarked_S</th>\n",
              "    </tr>\n",
              "  </thead>\n",
              "  <tbody>\n",
              "    <tr>\n",
              "      <th>0</th>\n",
              "      <td>1</td>\n",
              "      <td>0</td>\n",
              "      <td>3</td>\n",
              "      <td>Braund, Mr. Owen Harris</td>\n",
              "      <td>1</td>\n",
              "      <td>0</td>\n",
              "      <td>A/5 21171</td>\n",
              "      <td>7.2500</td>\n",
              "      <td>1</td>\n",
              "      <td>0</td>\n",
              "      <td>1</td>\n",
              "    </tr>\n",
              "    <tr>\n",
              "      <th>1</th>\n",
              "      <td>2</td>\n",
              "      <td>1</td>\n",
              "      <td>1</td>\n",
              "      <td>Cumings, Mrs. John Bradley (Florence Briggs Th...</td>\n",
              "      <td>1</td>\n",
              "      <td>0</td>\n",
              "      <td>PC 17599</td>\n",
              "      <td>71.2833</td>\n",
              "      <td>0</td>\n",
              "      <td>0</td>\n",
              "      <td>0</td>\n",
              "    </tr>\n",
              "    <tr>\n",
              "      <th>2</th>\n",
              "      <td>3</td>\n",
              "      <td>1</td>\n",
              "      <td>3</td>\n",
              "      <td>Heikkinen, Miss. Laina</td>\n",
              "      <td>0</td>\n",
              "      <td>0</td>\n",
              "      <td>STON/O2. 3101282</td>\n",
              "      <td>7.9250</td>\n",
              "      <td>0</td>\n",
              "      <td>0</td>\n",
              "      <td>1</td>\n",
              "    </tr>\n",
              "    <tr>\n",
              "      <th>3</th>\n",
              "      <td>4</td>\n",
              "      <td>1</td>\n",
              "      <td>1</td>\n",
              "      <td>Futrelle, Mrs. Jacques Heath (Lily May Peel)</td>\n",
              "      <td>1</td>\n",
              "      <td>0</td>\n",
              "      <td>113803</td>\n",
              "      <td>53.1000</td>\n",
              "      <td>0</td>\n",
              "      <td>0</td>\n",
              "      <td>1</td>\n",
              "    </tr>\n",
              "    <tr>\n",
              "      <th>4</th>\n",
              "      <td>5</td>\n",
              "      <td>0</td>\n",
              "      <td>3</td>\n",
              "      <td>Allen, Mr. William Henry</td>\n",
              "      <td>0</td>\n",
              "      <td>0</td>\n",
              "      <td>373450</td>\n",
              "      <td>8.0500</td>\n",
              "      <td>1</td>\n",
              "      <td>0</td>\n",
              "      <td>1</td>\n",
              "    </tr>\n",
              "  </tbody>\n",
              "</table>\n",
              "</div>"
            ],
            "text/plain": [
              "   PassengerId  Survived  Pclass  ... Sex_male  Embarked_Q  Embarked_S\n",
              "0            1         0       3  ...        1           0           1\n",
              "1            2         1       1  ...        0           0           0\n",
              "2            3         1       3  ...        0           0           1\n",
              "3            4         1       1  ...        0           0           1\n",
              "4            5         0       3  ...        1           0           1\n",
              "\n",
              "[5 rows x 11 columns]"
            ]
          },
          "metadata": {
            "tags": []
          },
          "execution_count": 494
        }
      ]
    },
    {
      "cell_type": "markdown",
      "metadata": {
        "id": "gw0KiNzrUPw8",
        "colab_type": "text"
      },
      "source": [
        "# Logistic regression"
      ]
    },
    {
      "cell_type": "code",
      "metadata": {
        "id": "3Ck5yZCmUPw8",
        "colab_type": "code",
        "colab": {
          "base_uri": "https://localhost:8080/",
          "height": 202
        },
        "outputId": "a1a486ba-c983-4eb2-9082-bafffd46ab3f"
      },
      "source": [
        "# Output and design matrix\n",
        "#conveet all the string values into int or float\n",
        "for column_name,values in df.items():\n",
        "  if values.dtype==\"object\":\n",
        "   labels,unique = values.factorize()\n",
        "   df[column_name] = labels\n",
        "\n",
        "y = df.Survived.values # output\n",
        "X = df.drop(columns=\"Survived\").values # design matrix\n",
        "feature_names = df.drop(columns=\"Survived\").columns\n",
        "print(y[:5])\n",
        "print(X[:5,:])"
      ],
      "execution_count": 495,
      "outputs": [
        {
          "output_type": "stream",
          "text": [
            "[0 1 1 1 0]\n",
            "[[ 1.      3.      0.      1.      0.      0.      7.25    1.      0.\n",
            "   1.    ]\n",
            " [ 2.      1.      1.      1.      0.      1.     71.2833  0.      0.\n",
            "   0.    ]\n",
            " [ 3.      3.      2.      0.      0.      2.      7.925   0.      0.\n",
            "   1.    ]\n",
            " [ 4.      1.      3.      1.      0.      3.     53.1     0.      0.\n",
            "   1.    ]\n",
            " [ 5.      3.      4.      0.      0.      4.      8.05    1.      0.\n",
            "   1.    ]]\n"
          ],
          "name": "stdout"
        }
      ]
    },
    {
      "cell_type": "markdown",
      "metadata": {
        "id": "hxwzFr_tUPw_",
        "colab_type": "text"
      },
      "source": [
        "<font color=\"red\">**Question:**\n",
        "    <br>\n",
        "    Use scikit-learn and the LogisticRegression class of sklearn.linear_model in order to train a classifier on the training data. Try to justify the choice of your parameters.\n",
        "</font>"
      ]
    },
    {
      "cell_type": "markdown",
      "metadata": {
        "collapsed": true,
        "id": "NsZ3hzF3UPw_",
        "colab_type": "text"
      },
      "source": [
        "For futher information, one can read the documentation: \n",
        "<br>\n",
        "http://scikit-learn.org/stable/modules/generated/sklearn.linear_model.LogisticRegression.html#sklearn.linear_model.LogisticRegression"
      ]
    },
    {
      "cell_type": "code",
      "metadata": {
        "id": "3wAzkHQkUPxB",
        "colab_type": "code",
        "colab": {}
      },
      "source": [
        "from sklearn.linear_model import LogisticRegression "
      ],
      "execution_count": 0,
      "outputs": []
    },
    {
      "cell_type": "code",
      "metadata": {
        "id": "D63QcpP5UPxD",
        "colab_type": "code",
        "colab": {
          "base_uri": "https://localhost:8080/",
          "height": 67
        },
        "outputId": "002ec41e-7650-4e47-b983-ff37a1b165c8"
      },
      "source": [
        "## You might get a warning about the solver. You should precise one like *lbfgs*\n",
        "## And one about number of iterations, so increase *max_iter* until convergence.\n",
        "classifier = LogisticRegression(C=1e15,verbose=3) # Set C=1e15\n",
        "classifier.fit(X,y)\n",
        "print(classifier.coef_[0])"
      ],
      "execution_count": 497,
      "outputs": [
        {
          "output_type": "stream",
          "text": [
            "[LibLinear][-1.17998594e-01 -8.44818460e-01  1.18378298e-01 -2.48621915e-01\n",
            " -8.74475958e-02 -3.47996771e-04  2.25896566e-03 -2.73941632e+00\n",
            " -2.13282695e-01 -4.53269527e-01]\n"
          ],
          "name": "stdout"
        }
      ]
    },
    {
      "cell_type": "markdown",
      "metadata": {
        "id": "eB2sHYuGUPxF",
        "colab_type": "text"
      },
      "source": [
        "# Performance evaluation"
      ]
    },
    {
      "cell_type": "markdown",
      "metadata": {
        "id": "bxsNkCXDUPxH",
        "colab_type": "text"
      },
      "source": [
        "<font color=\"red\">**Question:**\n",
        "    <br>\n",
        "    Using the \"train_test_split\" function of the module sklearn.model_selection, divide the DataFrame into a training DataFrame and a test one (one will take 90% of the dataset for the training set and 10% for the test set).\n",
        "</font>"
      ]
    },
    {
      "cell_type": "markdown",
      "metadata": {
        "id": "JmhgNrbjUPxI",
        "colab_type": "text"
      },
      "source": [
        "For futher information, one can read the documentation: \n",
        "<br>\n",
        "http://scikit-learn.org/stable/modules/generated/sklearn.model_selection.train_test_split.html#sklearn.model_selection.train_test_split"
      ]
    },
    {
      "cell_type": "markdown",
      "metadata": {
        "id": "91huDnWjUPxJ",
        "colab_type": "text"
      },
      "source": [
        "<font color=\"red\">**Question:**\n",
        "    <br>\n",
        "    Which parameter would make our split repoducible?\n",
        "</font>"
      ]
    },
    {
      "cell_type": "code",
      "metadata": {
        "id": "4Hy9pdsWUPxJ",
        "colab_type": "code",
        "colab": {}
      },
      "source": [
        "from sklearn.model_selection import train_test_split\n",
        "#NB since train_size id not specified, it's assumed to be the complemetìnt of the test_size.\n",
        "Xtrain, Xtest, ytrain, ytest = train_test_split(X,y, test_size=0.10, random_state=42)"
      ],
      "execution_count": 0,
      "outputs": []
    },
    {
      "cell_type": "markdown",
      "metadata": {
        "colab_type": "text",
        "id": "SmxOV87zQ_XD"
      },
      "source": [
        "Your answer here\n",
        "\n",
        "in order to allow a reproducible split, we need to specify in the split function random_state = int !!"
      ]
    },
    {
      "cell_type": "markdown",
      "metadata": {
        "id": "hRGPlEERUPxN",
        "colab_type": "text"
      },
      "source": [
        "<font color=\"red\">**Question:**\n",
        "    <br>\n",
        "    Train the model on the training set using one of the algorithms seen before.\n",
        "</font>"
      ]
    },
    {
      "cell_type": "code",
      "metadata": {
        "id": "sAY-JGb4UPxO",
        "colab_type": "code",
        "colab": {
          "base_uri": "https://localhost:8080/",
          "height": 101
        },
        "outputId": "22d3fab6-04de-435a-8e3d-a9aa2b8dae41"
      },
      "source": [
        "classifier = LogisticRegression(C=1e15,verbose=2)\n",
        "classifier.fit(Xtrain,ytrain)"
      ],
      "execution_count": 499,
      "outputs": [
        {
          "output_type": "stream",
          "text": [
            "[LibLinear]"
          ],
          "name": "stdout"
        },
        {
          "output_type": "execute_result",
          "data": {
            "text/plain": [
              "LogisticRegression(C=1000000000000000.0, class_weight=None, dual=False,\n",
              "                   fit_intercept=True, intercept_scaling=1, l1_ratio=None,\n",
              "                   max_iter=100, multi_class='warn', n_jobs=None, penalty='l2',\n",
              "                   random_state=None, solver='warn', tol=0.0001, verbose=2,\n",
              "                   warm_start=False)"
            ]
          },
          "metadata": {
            "tags": []
          },
          "execution_count": 499
        }
      ]
    },
    {
      "cell_type": "markdown",
      "metadata": {
        "id": "uMP6dKo2UPxR",
        "colab_type": "text"
      },
      "source": [
        "### Confusion matrix/Matrice de confusion"
      ]
    },
    {
      "cell_type": "markdown",
      "metadata": {
        "id": "_whjWMmcUPxT",
        "colab_type": "text"
      },
      "source": [
        "The confusion matrix is defined as/La matrice de confusion est\n",
        "$$\n",
        "\\begin{pmatrix}\n",
        "TP & FP \\\\ FN & TN\n",
        "\\end{pmatrix}\n",
        "$$\n",
        "where\n",
        "- TP = number of true positives (true value is 1, prediciton is 1)\n",
        "- FP = number of false positives (true value is 0, prediciton is 1: type I error or \"false alarm\")\n",
        "- FN = number of false negatives (true value is 1, prediciton is 0: type II error or \"miss\")\n",
        "- TN = number of true positives (true value is 0, prediciton is 0)"
      ]
    },
    {
      "cell_type": "markdown",
      "metadata": {
        "id": "Yno9_KKpUPxT",
        "colab_type": "text"
      },
      "source": [
        "<font color=\"red\">**Question:**\n",
        "    <br>\n",
        "    With the help of the \"confusion_matrix\" function from the module sklearn.metrics, compute the confusion matrix in order to evaluate the performance of the classifier.\n",
        "</font>"
      ]
    },
    {
      "cell_type": "code",
      "metadata": {
        "id": "W2c0WdvEUPxU",
        "colab_type": "code",
        "colab": {
          "base_uri": "https://localhost:8080/",
          "height": 50
        },
        "outputId": "c990a54c-1b37-4935-f860-ee3ea7693eb6"
      },
      "source": [
        "from sklearn.metrics import confusion_matrix\n",
        "hard = classifier.predict(Xtest)\n",
        "confusion_matrix_ = confusion_matrix(ytest, hard)\n",
        "print(confusion_matrix_)"
      ],
      "execution_count": 500,
      "outputs": [
        {
          "output_type": "stream",
          "text": [
            "[[46 12]\n",
            " [ 5 26]]\n"
          ],
          "name": "stdout"
        }
      ]
    },
    {
      "cell_type": "markdown",
      "metadata": {
        "id": "0743EXDuUPxW",
        "colab_type": "text"
      },
      "source": [
        "<font color=\"red\">**Question:**\n",
        "    <br>\n",
        "    Complete the last two lines and compare both confusion matrices.\n",
        "</font>"
      ]
    },
    {
      "cell_type": "code",
      "metadata": {
        "id": "NOWaTGArUPxW",
        "colab_type": "code",
        "colab": {
          "base_uri": "https://localhost:8080/",
          "height": 50
        },
        "outputId": "63d57ac1-ba02-433f-b554-61e994a025ac"
      },
      "source": [
        "p = (ytest==1)      # number of positive outputs\n",
        "n = (ytest==0)      # number of negative outputs\n",
        "\n",
        "t = (ytest==hard)   # Entries: 1 if prediction is correct\n",
        "f = (ytest!=hard)   # Entries: 1 if prediction is wrong\n",
        "\n",
        "TP = (t & p).sum()  # number of true positive predictions  \n",
        "TN = (n&t).sum()            # number of true negative predictions\n",
        "FP =  (p&f).sum()           # number of false positive predictions\n",
        "FN = (n&f).sum()          # number of false negative predictions\n",
        "\n",
        "confusion_matrix_handmade = np.array([[TP, FP],[FN, TN]])\n",
        "print(confusion_matrix_handmade)"
      ],
      "execution_count": 501,
      "outputs": [
        {
          "output_type": "stream",
          "text": [
            "[[26  5]\n",
            " [12 46]]\n"
          ],
          "name": "stdout"
        }
      ]
    },
    {
      "cell_type": "markdown",
      "metadata": {
        "colab_type": "text",
        "id": "0gVh8w2wRC90"
      },
      "source": [
        "Your answer here\n",
        "\n",
        "we can norice the 2 confusion matrices are inverted."
      ]
    },
    {
      "cell_type": "markdown",
      "metadata": {
        "id": "RxR9ii0qUPxZ",
        "colab_type": "text"
      },
      "source": [
        "<font color=\"red\">**Question:**\n",
        "    <br>\n",
        "    Estimate:\n",
        "- the probability of false alarm (or false positive rate), i.e. the probability of predicting '1' when the true label is '0'\n",
        "- the sensitivity (or true positive rate), i.e. the probability of predicting '1' when the true label is '1' \n",
        "</font>"
      ]
    },
    {
      "cell_type": "code",
      "metadata": {
        "id": "mQgyH4T5UPxZ",
        "colab_type": "code",
        "colab": {
          "base_uri": "https://localhost:8080/",
          "height": 34
        },
        "outputId": "10072b2f-d8c5-4d8a-ef56-765361934729"
      },
      "source": [
        "proba_false_alarm = FP/(TN+FP)\n",
        "sensitivity = TP/(TP+FN)\n",
        "print(proba_false_alarm,sensitivity)"
      ],
      "execution_count": 502,
      "outputs": [
        {
          "output_type": "stream",
          "text": [
            "0.09803921568627451 0.6842105263157895\n"
          ],
          "name": "stdout"
        }
      ]
    },
    {
      "cell_type": "markdown",
      "metadata": {
        "colab_type": "text",
        "id": "O8EY7SO7RF1O"
      },
      "source": [
        "Your answer here\n",
        "\n",
        "**1)** proba_false_alarm = 0.09803921568627451 \n",
        "\n",
        "**2)** sensitivy = 0.6842105263157895"
      ]
    },
    {
      "cell_type": "markdown",
      "metadata": {
        "id": "27VHQxYyUPxb",
        "colab_type": "text"
      },
      "source": [
        "## ROC curve\n",
        "\n",
        "If one reduces the threshold, the number or false alarms increases as is the power.\n",
        "The ROC curve is the set of the pairs (pfa, power) for all possible thresholds."
      ]
    },
    {
      "cell_type": "markdown",
      "metadata": {
        "id": "3FlOuvCeUPxc",
        "colab_type": "text"
      },
      "source": [
        "<font color=\"red\">**Question:**\n",
        "    <br>\n",
        "    Using the \"roc_curve\" function of the sklearn.metrics module, plot the ROC curve ('sensitivity' vs 'proba_false_alarm'). Then compute the AUC using 'roc_auc_score' from sklearn.metrics.\n",
        "</font>"
      ]
    },
    {
      "cell_type": "code",
      "metadata": {
        "id": "Gfu_DdQ4UPxd",
        "colab_type": "code",
        "colab": {}
      },
      "source": [
        "from sklearn.metrics import roc_curve,roc_auc_score#, ..."
      ],
      "execution_count": 0,
      "outputs": []
    },
    {
      "cell_type": "code",
      "metadata": {
        "id": "C2Wgvt_6UPxf",
        "colab_type": "code",
        "colab": {
          "base_uri": "https://localhost:8080/",
          "height": 265
        },
        "outputId": "b19b0d06-0a5f-4b2b-8590-d20b050dfecb"
      },
      "source": [
        "fpr, tpr, thresholds = roc_curve(ytest,hard)\n",
        "#soft = ...\n",
        "\n",
        "plt.plot(fpr,tpr )\n",
        "plt.grid()"
      ],
      "execution_count": 504,
      "outputs": [
        {
          "output_type": "display_data",
          "data": {
            "image/png": "[encoded data removed]",
            "text/plain": [
              "<Figure size 432x288 with 1 Axes>"
            ]
          },
          "metadata": {
            "tags": []
          }
        }
      ]
    },
    {
      "cell_type": "code",
      "metadata": {
        "id": "TnMpvb0qUPxg",
        "colab_type": "code",
        "colab": {
          "base_uri": "https://localhost:8080/",
          "height": 34
        },
        "outputId": "7cda9cc1-9ba9-4794-b6e3-5cc80334efab"
      },
      "source": [
        "# Compute AUC here\n",
        "print(\"the AUC is {}\".format(roc_auc_score(ytest,hard)))"
      ],
      "execution_count": 505,
      "outputs": [
        {
          "output_type": "stream",
          "text": [
            "the AUC is 0.8159065628476085\n"
          ],
          "name": "stdout"
        }
      ]
    },
    {
      "cell_type": "markdown",
      "metadata": {
        "collapsed": true,
        "id": "4Oix1IVXUPxj",
        "colab_type": "text"
      },
      "source": [
        "Good Job ! :-)"
      ]
    }
  ]
}