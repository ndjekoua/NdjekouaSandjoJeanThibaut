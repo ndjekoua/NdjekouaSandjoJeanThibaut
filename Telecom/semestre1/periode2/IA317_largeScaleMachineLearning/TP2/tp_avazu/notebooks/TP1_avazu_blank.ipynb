{
  "nbformat": 4,
  "nbformat_minor": 0,
  "metadata": {
    "kernelspec": {
      "display_name": "Python 3",
      "language": "python",
      "name": "python3"
    },
    "language_info": {
      "codemirror_mode": {
        "name": "ipython",
        "version": 3
      },
      "file_extension": ".py",
      "mimetype": "text/x-python",
      "name": "python",
      "nbconvert_exporter": "python",
      "pygments_lexer": "ipython3",
      "version": "3.7.2"
    },
    "colab": {
      "name": "TP1_avazu_blank.ipynb",
      "provenance": [],
      "collapsed_sections": [
        "1xrsFhCiYcT5",
        "Aw0uqHqTYcVd",
        "cF3oNg2BYcWo",
        "lahZdWm6YcXT"
      ]
    }
  },
  "cells": [
    {
      "cell_type": "markdown",
      "metadata": {
        "id": "5BnGYg5FYcTb",
        "colab_type": "text"
      },
      "source": [
        "<h1><center>Practice of Large Scale Machine Learning - TP1 Avazu<center></h1>\n",
        "<h2><center>IA317 DEADLINE 20/12/2019<center></h2>\n"
      ]
    },
    {
      "cell_type": "markdown",
      "metadata": {
        "id": "N2QU9Lk5YcTk",
        "colab_type": "text"
      },
      "source": [
        "#Introduction\n",
        "\n",
        "In online advertising, click-through rate (CTR) is a very important metric for evaluating ad performance. As a result, click prediction systems are essential and widely used for sponsored search and real-time bidding. The goal of this TP is to build and test prediction models on 11 days of Avazu data.\n",
        "\n",
        "#### For any remark or suggestion, please feel free to contact us at: \n",
        "#### pascal.bianchi@telecom-paris.fr\n",
        "#### nidham.gazagnadou@telecom-paris.fr\n",
        "#### kevin.elgui@telecom-paris.fr"
      ]
    },
    {
      "cell_type": "code",
      "metadata": {
        "id": "z2yZusf12lgP",
        "colab_type": "code",
        "outputId": "9b85f23e-b01b-4693-d892-ff0d454df977",
        "colab": {
          "base_uri": "https://localhost:8080/",
          "height": 33
        }
      },
      "source": [
        "import sys\n",
        "import os\n",
        "from google.colab import drive\n",
        "\n",
        "drive.mount('/content/gdrive')\n",
        "root_path = 'gdrive/My Drive/tp_avazu/'  # your new root path\n",
        "\n",
        "sys.path.append(os.path.join(root_path, 'notebooks')) # for importing from utils.py"
      ],
      "execution_count": 2,
      "outputs": [
        {
          "output_type": "stream",
          "text": [
            "Drive already mounted at /content/gdrive; to attempt to forcibly remount, call drive.mount(\"/content/gdrive\", force_remount=True).\n"
          ],
          "name": "stdout"
        }
      ]
    },
    {
      "cell_type": "markdown",
      "metadata": {
        "id": "vxsbsRu7YcTo",
        "colab_type": "text"
      },
      "source": [
        "<font color=\"red\">**Question:**\n",
        "    Import the needed packages: numpy, pandas etc..\n",
        "</font>"
      ]
    },
    {
      "cell_type": "code",
      "metadata": {
        "id": "T60UC4foYcTr",
        "colab_type": "code",
        "colab": {}
      },
      "source": [
        "import numpy as np\n",
        "import pandas as pd\n",
        "import matplotlib.pyplot as plt\n",
        "import seaborn as sns\n",
        "import datetime\n",
        "%matplotlib inline"
      ],
      "execution_count": 0,
      "outputs": []
    },
    {
      "cell_type": "code",
      "metadata": {
        "id": "Fz9emRwgHPNC",
        "colab_type": "code",
        "colab": {}
      },
      "source": [
        "## Try to run de cell\n",
        "from utils import plotlift"
      ],
      "execution_count": 0,
      "outputs": []
    },
    {
      "cell_type": "markdown",
      "metadata": {
        "id": "1xrsFhCiYcT5",
        "colab_type": "text"
      },
      "source": [
        "# The dataset"
      ]
    },
    {
      "cell_type": "markdown",
      "metadata": {
        "id": "eOZWhU4lYcT9",
        "colab_type": "text"
      },
      "source": [
        "<font color=\"red\">**Question:**\n",
        "    Load the data *'data_tp/train-1000000'* into a pandas DataFrame. Use the function 'os.path.join()' to indicate the full path. Then, display the first lines with the \".head()\" method.\n",
        "    <br>\n",
        "</font>\n",
        "**Remark**: the features meaning is available at https://www.kaggle.com/c/avazu-ctr-prediction/data"
      ]
    },
    {
      "cell_type": "code",
      "metadata": {
        "id": "tWvQXG4uYcUB",
        "colab_type": "code",
        "colab": {}
      },
      "source": [
        "full_path = os.path.join(root_path,\"data/train-1000000\")\n",
        "df = pd.read_csv(full_path)"
      ],
      "execution_count": 0,
      "outputs": []
    },
    {
      "cell_type": "code",
      "metadata": {
        "id": "uLSo2y32YcUK",
        "colab_type": "code",
        "outputId": "4c852567-d587-4901-cce9-6bb79312815d",
        "colab": {
          "base_uri": "https://localhost:8080/",
          "height": 216
        }
      },
      "source": [
        "df.head() # Fill here"
      ],
      "execution_count": 6,
      "outputs": [
        {
          "output_type": "execute_result",
          "data": {
            "text/html": [
              "<div>\n",
              "<style scoped>\n",
              "    .dataframe tbody tr th:only-of-type {\n",
              "        vertical-align: middle;\n",
              "    }\n",
              "\n",
              "    .dataframe tbody tr th {\n",
              "        vertical-align: top;\n",
              "    }\n",
              "\n",
              "    .dataframe thead th {\n",
              "        text-align: right;\n",
              "    }\n",
              "</style>\n",
              "<table border=\"1\" class=\"dataframe\">\n",
              "  <thead>\n",
              "    <tr style=\"text-align: right;\">\n",
              "      <th></th>\n",
              "      <th>id</th>\n",
              "      <th>click</th>\n",
              "      <th>hour</th>\n",
              "      <th>C1</th>\n",
              "      <th>banner_pos</th>\n",
              "      <th>site_id</th>\n",
              "      <th>site_domain</th>\n",
              "      <th>site_category</th>\n",
              "      <th>app_id</th>\n",
              "      <th>app_domain</th>\n",
              "      <th>app_category</th>\n",
              "      <th>device_id</th>\n",
              "      <th>device_ip</th>\n",
              "      <th>device_model</th>\n",
              "      <th>device_type</th>\n",
              "      <th>device_conn_type</th>\n",
              "      <th>C14</th>\n",
              "      <th>C15</th>\n",
              "      <th>C16</th>\n",
              "      <th>C17</th>\n",
              "      <th>C18</th>\n",
              "      <th>C19</th>\n",
              "      <th>C20</th>\n",
              "      <th>C21</th>\n",
              "    </tr>\n",
              "  </thead>\n",
              "  <tbody>\n",
              "    <tr>\n",
              "      <th>0</th>\n",
              "      <td>3.983206e+18</td>\n",
              "      <td>0</td>\n",
              "      <td>14102915</td>\n",
              "      <td>1005</td>\n",
              "      <td>1</td>\n",
              "      <td>e151e245</td>\n",
              "      <td>7e091613</td>\n",
              "      <td>f028772b</td>\n",
              "      <td>ecad2386</td>\n",
              "      <td>7801e8d9</td>\n",
              "      <td>07d7df22</td>\n",
              "      <td>a99f214a</td>\n",
              "      <td>fb6566d3</td>\n",
              "      <td>be87996b</td>\n",
              "      <td>1</td>\n",
              "      <td>2</td>\n",
              "      <td>4687</td>\n",
              "      <td>320</td>\n",
              "      <td>50</td>\n",
              "      <td>423</td>\n",
              "      <td>2</td>\n",
              "      <td>39</td>\n",
              "      <td>100148</td>\n",
              "      <td>32</td>\n",
              "    </tr>\n",
              "    <tr>\n",
              "      <th>1</th>\n",
              "      <td>7.756884e+18</td>\n",
              "      <td>0</td>\n",
              "      <td>14103007</td>\n",
              "      <td>1002</td>\n",
              "      <td>0</td>\n",
              "      <td>cb809abf</td>\n",
              "      <td>74acf31a</td>\n",
              "      <td>50e219e0</td>\n",
              "      <td>ecad2386</td>\n",
              "      <td>7801e8d9</td>\n",
              "      <td>07d7df22</td>\n",
              "      <td>9b7af851</td>\n",
              "      <td>ac5a4a77</td>\n",
              "      <td>7e6190f3</td>\n",
              "      <td>0</td>\n",
              "      <td>0</td>\n",
              "      <td>17894</td>\n",
              "      <td>320</td>\n",
              "      <td>50</td>\n",
              "      <td>2039</td>\n",
              "      <td>2</td>\n",
              "      <td>39</td>\n",
              "      <td>100077</td>\n",
              "      <td>32</td>\n",
              "    </tr>\n",
              "    <tr>\n",
              "      <th>2</th>\n",
              "      <td>6.941774e+17</td>\n",
              "      <td>0</td>\n",
              "      <td>14102711</td>\n",
              "      <td>1005</td>\n",
              "      <td>0</td>\n",
              "      <td>85f751fd</td>\n",
              "      <td>c4e18dd6</td>\n",
              "      <td>50e219e0</td>\n",
              "      <td>e9739828</td>\n",
              "      <td>df32afa9</td>\n",
              "      <td>cef3e649</td>\n",
              "      <td>a99f214a</td>\n",
              "      <td>748e298a</td>\n",
              "      <td>3c55fad5</td>\n",
              "      <td>1</td>\n",
              "      <td>0</td>\n",
              "      <td>22684</td>\n",
              "      <td>320</td>\n",
              "      <td>50</td>\n",
              "      <td>2619</td>\n",
              "      <td>1</td>\n",
              "      <td>163</td>\n",
              "      <td>100055</td>\n",
              "      <td>71</td>\n",
              "    </tr>\n",
              "    <tr>\n",
              "      <th>3</th>\n",
              "      <td>2.664154e+18</td>\n",
              "      <td>1</td>\n",
              "      <td>14102903</td>\n",
              "      <td>1005</td>\n",
              "      <td>0</td>\n",
              "      <td>85f751fd</td>\n",
              "      <td>c4e18dd6</td>\n",
              "      <td>50e219e0</td>\n",
              "      <td>a5184c22</td>\n",
              "      <td>b8d325c3</td>\n",
              "      <td>0f2161f8</td>\n",
              "      <td>a99f214a</td>\n",
              "      <td>a50da3d4</td>\n",
              "      <td>c5cc73c1</td>\n",
              "      <td>1</td>\n",
              "      <td>0</td>\n",
              "      <td>23222</td>\n",
              "      <td>320</td>\n",
              "      <td>50</td>\n",
              "      <td>2676</td>\n",
              "      <td>0</td>\n",
              "      <td>35</td>\n",
              "      <td>100176</td>\n",
              "      <td>221</td>\n",
              "    </tr>\n",
              "    <tr>\n",
              "      <th>4</th>\n",
              "      <td>1.480510e+19</td>\n",
              "      <td>0</td>\n",
              "      <td>14102902</td>\n",
              "      <td>1005</td>\n",
              "      <td>1</td>\n",
              "      <td>791b5571</td>\n",
              "      <td>fd13bc73</td>\n",
              "      <td>f028772b</td>\n",
              "      <td>ecad2386</td>\n",
              "      <td>7801e8d9</td>\n",
              "      <td>07d7df22</td>\n",
              "      <td>a99f214a</td>\n",
              "      <td>d5f88679</td>\n",
              "      <td>a5bce124</td>\n",
              "      <td>1</td>\n",
              "      <td>0</td>\n",
              "      <td>8330</td>\n",
              "      <td>320</td>\n",
              "      <td>50</td>\n",
              "      <td>761</td>\n",
              "      <td>3</td>\n",
              "      <td>175</td>\n",
              "      <td>100081</td>\n",
              "      <td>23</td>\n",
              "    </tr>\n",
              "  </tbody>\n",
              "</table>\n",
              "</div>"
            ],
            "text/plain": [
              "             id  click      hour    C1  banner_pos  ...   C17 C18  C19     C20  C21\n",
              "0  3.983206e+18      0  14102915  1005           1  ...   423   2   39  100148   32\n",
              "1  7.756884e+18      0  14103007  1002           0  ...  2039   2   39  100077   32\n",
              "2  6.941774e+17      0  14102711  1005           0  ...  2619   1  163  100055   71\n",
              "3  2.664154e+18      1  14102903  1005           0  ...  2676   0   35  100176  221\n",
              "4  1.480510e+19      0  14102902  1005           1  ...   761   3  175  100081   23\n",
              "\n",
              "[5 rows x 24 columns]"
            ]
          },
          "metadata": {
            "tags": []
          },
          "execution_count": 6
        }
      ]
    },
    {
      "cell_type": "markdown",
      "metadata": {
        "id": "Cbg9-3qRYcUQ",
        "colab_type": "text"
      },
      "source": [
        "<font color=\"red\">**Question:**\n",
        "    What is the 'click' frequency in the dataset?\n",
        "    <br>\n",
        "    Hint: 'click' is a binary output (0 or 1)\n",
        "</font>"
      ]
    },
    {
      "cell_type": "code",
      "metadata": {
        "id": "l-1q2lVuYcUS",
        "colab_type": "code",
        "outputId": "6a06dfeb-50b2-46b8-b4ff-5291bcb971a5",
        "colab": {
          "base_uri": "https://localhost:8080/",
          "height": 33
        }
      },
      "source": [
        "(df['click']==1).sum()/len(df) # Fill here"
      ],
      "execution_count": 7,
      "outputs": [
        {
          "output_type": "execute_result",
          "data": {
            "text/plain": [
              "0.169971"
            ]
          },
          "metadata": {
            "tags": []
          },
          "execution_count": 7
        }
      ]
    },
    {
      "cell_type": "markdown",
      "metadata": {
        "id": "OTyZBmSrKR1z",
        "colab_type": "text"
      },
      "source": [
        "#Your answer here\n",
        "\n",
        "The click frequency in the dataet is *0.169971*"
      ]
    },
    {
      "cell_type": "markdown",
      "metadata": {
        "id": "6dFgRBOeYcUY",
        "colab_type": "text"
      },
      "source": [
        "We note that the Avazu dataset is very unbalanced. The 'click' class represents less than a fifth of the whole database. We already know that a classifier always predicting 'click'=0 will have good preformances in terms of error rate (around 0.17). The ROC and lift curves will be better performance metrics."
      ]
    },
    {
      "cell_type": "markdown",
      "metadata": {
        "id": "BFGwt6vTYcUa",
        "colab_type": "text"
      },
      "source": [
        "<font color=\"red\">**Question:**\n",
        "    What are the categorical features? Using the 'df.nunique()' method, compute the number of distincts values for each of these features.\n",
        "</font>"
      ]
    },
    {
      "cell_type": "code",
      "metadata": {
        "id": "2eLXMTTkYcUb",
        "colab_type": "code",
        "outputId": "8c030ee6-7b94-4719-cfe6-18ee660c7c7b",
        "colab": {
          "base_uri": "https://localhost:8080/",
          "height": 401
        }
      },
      "source": [
        "#FROM THE INPUT DF HOW TO CHECK A FEATURE HAVE CATEGORICAL DT SINCE IT MAY ALSO BE INT LIKE C1,C2,C3 ect.... -> all features where the total number of distinct values os different from\n",
        "#the length of the DF are categorical features.\n",
        "# Fill here\n",
        "unique_features = df.nunique(axis=0) \n",
        "total_features = 0\n",
        "for column_name, values in df.items():\n",
        "  total_features +=1\n",
        "  if unique_features[column_name] != len(df):\n",
        "   total_features += unique_features[column_name]\n",
        "   print(\"the number of distinct values of {}\".format(column_name,),\"is {}\".format(unique_features[column_name]))\n",
        "#df.nunique(axis=0)  \n"
      ],
      "execution_count": 8,
      "outputs": [
        {
          "output_type": "stream",
          "text": [
            "the number of distinct values of click is 2\n",
            "the number of distinct values of hour is 240\n",
            "the number of distinct values of C1 is 7\n",
            "the number of distinct values of banner_pos is 7\n",
            "the number of distinct values of site_id is 2651\n",
            "the number of distinct values of site_domain is 2871\n",
            "the number of distinct values of site_category is 22\n",
            "the number of distinct values of app_id is 3157\n",
            "the number of distinct values of app_domain is 198\n",
            "the number of distinct values of app_category is 26\n",
            "the number of distinct values of device_id is 150501\n",
            "the number of distinct values of device_ip is 555248\n",
            "the number of distinct values of device_model is 5168\n",
            "the number of distinct values of device_type is 5\n",
            "the number of distinct values of device_conn_type is 4\n",
            "the number of distinct values of C14 is 2243\n",
            "the number of distinct values of C15 is 8\n",
            "the number of distinct values of C16 is 9\n",
            "the number of distinct values of C17 is 420\n",
            "the number of distinct values of C18 is 4\n",
            "the number of distinct values of C19 is 66\n",
            "the number of distinct values of C20 is 163\n",
            "the number of distinct values of C21 is 60\n"
          ],
          "name": "stdout"
        }
      ]
    },
    {
      "cell_type": "markdown",
      "metadata": {
        "colab_type": "text",
        "id": "0lirn-2rfmn_"
      },
      "source": [
        "#Your answer here\n",
        "\n",
        "The categorical features are :\n",
        "* **site_id** number of distinct values **2651**\n",
        "\n",
        "* **site_domain** number of distinct values **2871**\n",
        "\n",
        "* **site_category** number of distinct values **22**\n",
        "\n",
        "* **app_id** number of distinct values **3157**\n",
        "\n",
        "* **app_domain** number of distinct values **198**\n",
        "\n",
        "* **app_category** number of distinct values **26**\n",
        "\n",
        "* **device_id** number of distinct values **150501**\n",
        "\n",
        "* **device_ip** number of distinct values **555248**\n",
        "\n",
        "* **device_model** number of distinct values **5168**\n",
        "\n",
        "* **C1** number of distinct values  **7**\n",
        "\n",
        "* **C14** number of distinct values  **2243**\n",
        "\n",
        "* **C15** number of distinct values **8**\n",
        "\n",
        "* **C16** number of distinct values  **9**\n",
        "\n",
        "* **C17** number of distict values  **420**\n",
        "\n",
        "* **C18** number of distinct values ** 4**\n",
        "\n",
        "* **C19**number of distinct values   **66**\n",
        "\n",
        "* **C20** number of distinct values **163**\n",
        "\n",
        "* **C21** number of distinct values **60**"
      ]
    },
    {
      "cell_type": "markdown",
      "metadata": {
        "id": "OGJwlJ6VYcUj",
        "colab_type": "text"
      },
      "source": [
        "<font color=\"red\">**Question:**\n",
        "    If one does a dummy encoding of all categorical variables, what would be the dimension of the model?\n",
        "    In other words: what would be the dimension of our big feature vector encoded with dummies. \n",
        "    <br>\n",
        "    Hint: if you have just 1 feature with 3 categories A, B and C, you would have a vector of dimension 3 (or 2 if you use drop_first=True).\n",
        "</font>"
      ]
    },
    {
      "cell_type": "code",
      "metadata": {
        "id": "DL2wN3tXYcUk",
        "colab_type": "code",
        "outputId": "b3d109e4-afc3-437b-97e9-6b34872226f0",
        "colab": {
          "base_uri": "https://localhost:8080/",
          "height": 33
        }
      },
      "source": [
        "#df.nunique().values\n",
        "print(\"The total size of the feature vector is {}\".format(total_features))"
      ],
      "execution_count": 9,
      "outputs": [
        {
          "output_type": "stream",
          "text": [
            "The total size of the feature vector is 723104\n"
          ],
          "name": "stdout"
        }
      ]
    },
    {
      "cell_type": "markdown",
      "metadata": {
        "colab_type": "text",
        "id": "4sfr6kkTfn1_"
      },
      "source": [
        "#Your answer here\n",
        "\n",
        "Te total size of the feature vector is **723104**"
      ]
    },
    {
      "cell_type": "markdown",
      "metadata": {
        "id": "_PYpWlX6YcUq",
        "colab_type": "text"
      },
      "source": [
        "<font color=\"red\">**Question:**\n",
        "    Analyze the 'hour' column: which format is used? How can we transform/simply this feature?\n",
        "</font>"
      ]
    },
    {
      "cell_type": "code",
      "metadata": {
        "id": "zfbvfYBfYcUr",
        "colab_type": "code",
        "outputId": "2dd6e251-798a-4f13-c97f-7e10cb3486ae",
        "colab": {
          "base_uri": "https://localhost:8080/",
          "height": 217
        }
      },
      "source": [
        "print(df[\"hour\"].head()) # Fill here\n",
        "print(df[\"hour\"].tail()) # Fill here"
      ],
      "execution_count": 10,
      "outputs": [
        {
          "output_type": "stream",
          "text": [
            "0    14102915\n",
            "1    14103007\n",
            "2    14102711\n",
            "3    14102903\n",
            "4    14102902\n",
            "Name: hour, dtype: int64\n",
            "999995    14102602\n",
            "999996    14102101\n",
            "999997    14102318\n",
            "999998    14102908\n",
            "999999    14102600\n",
            "Name: hour, dtype: int64\n"
          ],
          "name": "stdout"
        }
      ]
    },
    {
      "cell_type": "markdown",
      "metadata": {
        "colab_type": "text",
        "id": "Wyc_XCRmfoWk"
      },
      "source": [
        "#Your answer here\n",
        "\n",
        "The hour column is composed by a date where (YYMMDDHH):\n",
        "\n",
        "+ The fisrt carachters represent the last 2 digit of the year(YY)\n",
        "\n",
        "+ The next 2 represent the month(MM)\n",
        "\n",
        "+ the next 2 represent the day(DD)\n",
        "\n",
        "+ the last represent the hour(DD)\n",
        "\n",
        "This could be easily understood from the function datesplit defined below."
      ]
    },
    {
      "cell_type": "markdown",
      "metadata": {
        "id": "oTQo-GPRYcUw",
        "colab_type": "text"
      },
      "source": [
        "<font color=\"red\">**Question:**\n",
        "    Run and understand the following script.\n",
        "</font>"
      ]
    },
    {
      "cell_type": "code",
      "metadata": {
        "id": "kOKSh2RjYcUz",
        "colab_type": "code",
        "outputId": "12a718aa-2ac1-4bca-bdd5-6a88505df5f4",
        "colab": {
          "base_uri": "https://localhost:8080/",
          "height": 33
        }
      },
      "source": [
        "import datetime\n",
        "\n",
        "def datesplit(originalDate):\n",
        "    originalDate = str(originalDate)\n",
        "    \n",
        "    year = int(\"20\" + originalDate[0:2])\n",
        "    month = int(originalDate[2:4])\n",
        "    day = int(originalDate[4:6])\n",
        "    hour = int(originalDate[6:8])\n",
        "    \n",
        "    return datetime.datetime(year, month, day, hour)\n",
        "\n",
        "# Exemple :\n",
        "datesplit(14102915).weekday(), datesplit(14102915).hour"
      ],
      "execution_count": 11,
      "outputs": [
        {
          "output_type": "execute_result",
          "data": {
            "text/plain": [
              "(2, 15)"
            ]
          },
          "metadata": {
            "tags": []
          },
          "execution_count": 11
        }
      ]
    },
    {
      "cell_type": "markdown",
      "metadata": {
        "id": "CrRiyg01YcU4",
        "colab_type": "text"
      },
      "source": [
        "<font color=\"red\">**Question:**\n",
        "    Using the \".apply( ... )\" method, create a 'weekday' for the day of the week. Then, replace the 'hour' column by the hour.\n",
        "</font>"
      ]
    },
    {
      "cell_type": "markdown",
      "metadata": {
        "id": "hFhI2HFgYcU6",
        "colab_type": "text"
      },
      "source": [
        "To answer this question you have to understand that applies takes a function as argument\n",
        "<br>\n",
        "\"lambda x: ... \" is used to create local unamed function of x\n",
        "<br>\n",
        "Check the documentation: https://docs.python.org/3/tutorial/controlflow.html#lambda-expressions"
      ]
    },
    {
      "cell_type": "code",
      "metadata": {
        "id": "nDWxoncVYcU7",
        "colab_type": "code",
        "colab": {}
      },
      "source": [
        "df['weekday'] = df['hour'].apply(lambda x: datesplit(x).weekday() ) # Fill here\n",
        "df['hour'] = df['hour'].apply(lambda x: datesplit(x).hour) # Fill here"
      ],
      "execution_count": 0,
      "outputs": []
    },
    {
      "cell_type": "markdown",
      "metadata": {
        "id": "t7e9LOv6YcU_",
        "colab_type": "text"
      },
      "source": [
        "<font color=\"red\">**Question:**\n",
        "    Using the \".groupby( ... )\" method, visualize the influence of the hour and of the day on the 'click' frequency (take the \".mean()\"!). To do so, plot 'click' vs 'hour' and 'click' vs 'weekday' curves.\n",
        "    <br>\n",
        "    Precise the name of the axes.\n",
        "</font>"
      ]
    },
    {
      "cell_type": "code",
      "metadata": {
        "id": "fLJVdQ-6YcVA",
        "colab_type": "code",
        "outputId": "4f507c1e-8671-4d19-f421-ef50bb534569",
        "colab": {
          "base_uri": "https://localhost:8080/",
          "height": 602
        }
      },
      "source": [
        "print(df.groupby([\"hour\"]).mean()[\"click\"]) # Fill here for the influence of the hour\n",
        "print(df.groupby(\"weekday\").mean()[\"click\"]) # Fill here for the influence of the day"
      ],
      "execution_count": 13,
      "outputs": [
        {
          "output_type": "stream",
          "text": [
            "hour\n",
            "0     0.182707\n",
            "1     0.185734\n",
            "2     0.175552\n",
            "3     0.175367\n",
            "4     0.159664\n",
            "5     0.162126\n",
            "6     0.169315\n",
            "7     0.177490\n",
            "8     0.163418\n",
            "9     0.159042\n",
            "10    0.162613\n",
            "11    0.171025\n",
            "12    0.171659\n",
            "13    0.168032\n",
            "14    0.178075\n",
            "15    0.183737\n",
            "16    0.180076\n",
            "17    0.173271\n",
            "18    0.164072\n",
            "19    0.165725\n",
            "20    0.158402\n",
            "21    0.162384\n",
            "22    0.166847\n",
            "23    0.170733\n",
            "Name: click, dtype: float64\n",
            "weekday\n",
            "0    0.183143\n",
            "1    0.161577\n",
            "2    0.158675\n",
            "3    0.173795\n",
            "4    0.173392\n",
            "5    0.183995\n",
            "6    0.183105\n",
            "Name: click, dtype: float64\n"
          ],
          "name": "stdout"
        }
      ]
    },
    {
      "cell_type": "code",
      "metadata": {
        "id": "QD2kpLa-YcVF",
        "colab_type": "code",
        "outputId": "ed5cf0b9-fe8b-4d84-b112-99ce226ca1ce",
        "colab": {
          "base_uri": "https://localhost:8080/",
          "height": 296
        }
      },
      "source": [
        "plt.plot(df.groupby(\"hour\").mean()[\"click\"]); # Fill here for the influence of the hour\n",
        "plt.xlabel(\"HOUR\")\n",
        "plt.ylabel(\"CLICK RATE\")"
      ],
      "execution_count": 14,
      "outputs": [
        {
          "output_type": "execute_result",
          "data": {
            "text/plain": [
              "Text(0, 0.5, 'CLICK RATE')"
            ]
          },
          "metadata": {
            "tags": []
          },
          "execution_count": 14
        },
        {
          "output_type": "display_data",
          "data": {
            "image/png": "[encoded data removed]",
            "text/plain": [
              "<Figure size 432x288 with 1 Axes>"
            ]
          },
          "metadata": {
            "tags": []
          }
        }
      ]
    },
    {
      "cell_type": "code",
      "metadata": {
        "id": "o3fFdYYTYcVW",
        "colab_type": "code",
        "outputId": "a72a33aa-4b7a-4768-96a0-0852ad3b05ac",
        "colab": {
          "base_uri": "https://localhost:8080/",
          "height": 297
        }
      },
      "source": [
        "plt.plot(df.groupby(\"weekday\").mean()[\"click\"]); # Fill here for the influence of the day\n",
        "plt.xlabel(\"weekday\")\n",
        "plt.ylabel(\"CLICK RATE\")"
      ],
      "execution_count": 15,
      "outputs": [
        {
          "output_type": "execute_result",
          "data": {
            "text/plain": [
              "Text(0, 0.5, 'CLICK RATE')"
            ]
          },
          "metadata": {
            "tags": []
          },
          "execution_count": 15
        },
        {
          "output_type": "display_data",
          "data": {
            "image/png": "[encoded data removed]",
            "text/plain": [
              "<Figure size 432x288 with 1 Axes>"
            ]
          },
          "metadata": {
            "tags": []
          }
        }
      ]
    },
    {
      "cell_type": "markdown",
      "metadata": {
        "id": "Aw0uqHqTYcVd",
        "colab_type": "text"
      },
      "source": [
        "# Preliminary work and first model"
      ]
    },
    {
      "cell_type": "markdown",
      "metadata": {
        "id": "6hlQCIDoYcVf",
        "colab_type": "text"
      },
      "source": [
        "Start by understanding the features with few modalities:\n",
        "'hour', 'weekday', 'C1', 'banner_pos', 'site_category', 'app_category', 'device_type', 'device_conn_type', 'C15', 'C16', 'C18', 'C21'."
      ]
    },
    {
      "cell_type": "markdown",
      "metadata": {
        "id": "pl8OmuiOYcVg",
        "colab_type": "text"
      },
      "source": [
        "<font color=\"red\">**Question:**\n",
        "    For instance, inspect the columns 'C15' (dimension of the advert) and 'site_category': visualize the clicks mean.\n",
        "</font>"
      ]
    },
    {
      "cell_type": "code",
      "metadata": {
        "id": "T0_3X-c3YcVi",
        "colab_type": "code",
        "outputId": "b7ffa449-ec3f-4aa5-b2ef-5e353a5f75a0",
        "colab": {
          "base_uri": "https://localhost:8080/",
          "height": 296
        }
      },
      "source": [
        "plt.plot(df.groupby(\"C15\").mean()[\"click\"]); # Fill here: inspect 'C15' using '.groupby'\n",
        "plt.xlabel(\"C15\")\n",
        "plt.ylabel(\"CLICK RATE\")"
      ],
      "execution_count": 16,
      "outputs": [
        {
          "output_type": "execute_result",
          "data": {
            "text/plain": [
              "Text(0, 0.5, 'CLICK RATE')"
            ]
          },
          "metadata": {
            "tags": []
          },
          "execution_count": 16
        },
        {
          "output_type": "display_data",
          "data": {
            "image/png": "[encoded data removed]",
            "text/plain": [
              "<Figure size 432x288 with 1 Axes>"
            ]
          },
          "metadata": {
            "tags": []
          }
        }
      ]
    },
    {
      "cell_type": "code",
      "metadata": {
        "id": "BjHI9kpZYcVm",
        "colab_type": "code",
        "outputId": "674a2dd1-989c-447e-c79a-17c6e77619c3",
        "colab": {
          "base_uri": "https://localhost:8080/",
          "height": 297
        }
      },
      "source": [
        "plt.plot(df.groupby(\"site_category\").mean()[\"click\"]); # Fill here: inspect 'site_category' using '.groupby'\n",
        "plt.xlabel(\"site_category\")\n",
        "plt.ylabel(\"CLICK RATE\")"
      ],
      "execution_count": 17,
      "outputs": [
        {
          "output_type": "execute_result",
          "data": {
            "text/plain": [
              "Text(0, 0.5, 'CLICK RATE')"
            ]
          },
          "metadata": {
            "tags": []
          },
          "execution_count": 17
        },
        {
          "output_type": "display_data",
          "data": {
            "image/png": "[encoded data removed]",
            "text/plain": [
              "<Figure size 432x288 with 1 Axes>"
            ]
          },
          "metadata": {
            "tags": []
          }
        }
      ]
    },
    {
      "cell_type": "markdown",
      "metadata": {
        "id": "MLfdMT-qYcVr",
        "colab_type": "text"
      },
      "source": [
        "<font color=\"red\">**Question:**\n",
        "    Some site categories have a null click rate. Why? Display the 'count()' of each modality.\n",
        "    <br><br>\n",
        "    Hint: you can use the method \".value_counts()\"\n",
        "</font>"
      ]
    },
    {
      "cell_type": "code",
      "metadata": {
        "id": "0FkctWqDYcVt",
        "colab_type": "code",
        "outputId": "b227f5bf-1845-45da-db7d-4e18e473ef3e",
        "colab": {
          "base_uri": "https://localhost:8080/",
          "height": 401
        }
      },
      "source": [
        "# is the question well understood??\n",
        "df.site_category.value_counts() # Fill here"
      ],
      "execution_count": 18,
      "outputs": [
        {
          "output_type": "execute_result",
          "data": {
            "text/plain": [
              "50e219e0    408921\n",
              "f028772b    313339\n",
              "28905ebd    182020\n",
              "3e814130     75667\n",
              "f66779e6      6365\n",
              "75fa27f6      4007\n",
              "335d28a8      3351\n",
              "76b2941d      2573\n",
              "c0dd3be3      1026\n",
              "72722551       676\n",
              "dedf689d       624\n",
              "70fb0e29       608\n",
              "0569f928       429\n",
              "8fd0aea4       189\n",
              "a818d37a        81\n",
              "42a36e14        62\n",
              "e787de0e        28\n",
              "bcf865d9        16\n",
              "5378d028        11\n",
              "9ccfa2ea         5\n",
              "da34532e         1\n",
              "c706e647         1\n",
              "Name: site_category, dtype: int64"
            ]
          },
          "metadata": {
            "tags": []
          },
          "execution_count": 18
        }
      ]
    },
    {
      "cell_type": "markdown",
      "metadata": {
        "id": "ru25QWd0YcVy",
        "colab_type": "text"
      },
      "source": [
        "It is practical to visualize both columns in parallel:"
      ]
    },
    {
      "cell_type": "code",
      "metadata": {
        "id": "9JwsJNMGYcV0",
        "colab_type": "code",
        "outputId": "503b3b34-a33c-4397-a372-9b4551065ea1",
        "colab": {
          "base_uri": "https://localhost:8080/",
          "height": 286
        }
      },
      "source": [
        "col = 'C1'\n",
        "a = pd.DataFrame([df.groupby(col).mean()['click'], df.groupby(col).count()['click']]).transpose()\n",
        "a.columns = ['mean', 'count']\n",
        "a.sort_values(by='count', ascending=False)"
      ],
      "execution_count": 19,
      "outputs": [
        {
          "output_type": "execute_result",
          "data": {
            "text/html": [
              "<div>\n",
              "<style scoped>\n",
              "    .dataframe tbody tr th:only-of-type {\n",
              "        vertical-align: middle;\n",
              "    }\n",
              "\n",
              "    .dataframe tbody tr th {\n",
              "        vertical-align: top;\n",
              "    }\n",
              "\n",
              "    .dataframe thead th {\n",
              "        text-align: right;\n",
              "    }\n",
              "</style>\n",
              "<table border=\"1\" class=\"dataframe\">\n",
              "  <thead>\n",
              "    <tr style=\"text-align: right;\">\n",
              "      <th></th>\n",
              "      <th>mean</th>\n",
              "      <th>count</th>\n",
              "    </tr>\n",
              "    <tr>\n",
              "      <th>C1</th>\n",
              "      <th></th>\n",
              "      <th></th>\n",
              "    </tr>\n",
              "  </thead>\n",
              "  <tbody>\n",
              "    <tr>\n",
              "      <th>1005</th>\n",
              "      <td>0.169474</td>\n",
              "      <td>918606.0</td>\n",
              "    </tr>\n",
              "    <tr>\n",
              "      <th>1002</th>\n",
              "      <td>0.211157</td>\n",
              "      <td>54907.0</td>\n",
              "    </tr>\n",
              "    <tr>\n",
              "      <th>1010</th>\n",
              "      <td>0.095497</td>\n",
              "      <td>22409.0</td>\n",
              "    </tr>\n",
              "    <tr>\n",
              "      <th>1012</th>\n",
              "      <td>0.177295</td>\n",
              "      <td>2854.0</td>\n",
              "    </tr>\n",
              "    <tr>\n",
              "      <th>1007</th>\n",
              "      <td>0.035591</td>\n",
              "      <td>871.0</td>\n",
              "    </tr>\n",
              "    <tr>\n",
              "      <th>1001</th>\n",
              "      <td>0.027027</td>\n",
              "      <td>222.0</td>\n",
              "    </tr>\n",
              "    <tr>\n",
              "      <th>1008</th>\n",
              "      <td>0.106870</td>\n",
              "      <td>131.0</td>\n",
              "    </tr>\n",
              "  </tbody>\n",
              "</table>\n",
              "</div>"
            ],
            "text/plain": [
              "          mean     count\n",
              "C1                      \n",
              "1005  0.169474  918606.0\n",
              "1002  0.211157   54907.0\n",
              "1010  0.095497   22409.0\n",
              "1012  0.177295    2854.0\n",
              "1007  0.035591     871.0\n",
              "1001  0.027027     222.0\n",
              "1008  0.106870     131.0"
            ]
          },
          "metadata": {
            "tags": []
          },
          "execution_count": 19
        }
      ]
    },
    {
      "cell_type": "markdown",
      "metadata": {
        "colab_type": "text",
        "id": "a07QsALahvnV"
      },
      "source": [
        "#Your answer here\n",
        "\n",
        "Some sites have a null click rate because they have never been clicked."
      ]
    },
    {
      "cell_type": "markdown",
      "metadata": {
        "id": "5iAVEnE4YcV5",
        "colab_type": "text"
      },
      "source": [
        "<font color=\"red\">**Question:**\n",
        "    Divide the dataset into a training and test set with sklearn (use the following options: test_size=0.1, random_state=100).\n",
        "    <br>\n",
        "    Warning: do not use 'id' as a feature.\n",
        "</font>"
      ]
    },
    {
      "cell_type": "code",
      "metadata": {
        "id": "7Mc0hmCsYcV7",
        "colab_type": "code",
        "colab": {}
      },
      "source": [
        "from sklearn.model_selection import train_test_split\n",
        "df.head()\n",
        "Y = df[\"click\"].values\n",
        "df.drop([\"id\",\"click\"],axis = 1)\n",
        "X = df.values\n",
        "Xtrain, Xtest, ytrain, ytest = train_test_split(X,Y,test_size = 0.1,random_state = 100)"
      ],
      "execution_count": 0,
      "outputs": []
    },
    {
      "cell_type": "markdown",
      "metadata": {
        "id": "y94Vsm-wYcV_",
        "colab_type": "text"
      },
      "source": [
        "# First work on a reduced number of features"
      ]
    },
    {
      "cell_type": "markdown",
      "metadata": {
        "id": "HffuIJthYcV_",
        "colab_type": "text"
      },
      "source": [
        "<font color=\"red\">**Question:**\n",
        "    Put in a list the selected columns: 'hour', 'weekday', 'C1', 'banner_pos', 'site_category', 'app_category', 'device_type', 'device_conn_type', 'C15', 'C16', 'C18', 'C21'.\n",
        "</font>"
      ]
    },
    {
      "cell_type": "code",
      "metadata": {
        "id": "b87fxoxuYcWB",
        "colab_type": "code",
        "outputId": "6b50cd53-0522-4a64-d83f-3a466bf381da",
        "colab": {
          "base_uri": "https://localhost:8080/",
          "height": 196
        }
      },
      "source": [
        "some_columns = ['hour', 'weekday', 'C1', 'banner_pos', 'site_category', 'app_category', \n",
        "                'device_type', 'device_conn_type', 'C15', 'C16', 'C18', 'C21']\n",
        "\n",
        "#to be removed because we need the datframe later on!!\n",
        "#get the list of columns to be removed from the dataframe.                \n",
        "to_be_removed = df.drop(columns=some_columns,axis=1).columns\n",
        "df = df.drop(columns=to_be_removed,axis=1)\n",
        "\n",
        "#we need to redefine Xtrain/Xtest because the features have changed.\n",
        "X = df.values\n",
        "Xtrain, Xtest, ytrain, ytest = train_test_split(X,Y,test_size = 0.1,random_state = 100)\n",
        "df.head()    "
      ],
      "execution_count": 21,
      "outputs": [
        {
          "output_type": "execute_result",
          "data": {
            "text/html": [
              "<div>\n",
              "<style scoped>\n",
              "    .dataframe tbody tr th:only-of-type {\n",
              "        vertical-align: middle;\n",
              "    }\n",
              "\n",
              "    .dataframe tbody tr th {\n",
              "        vertical-align: top;\n",
              "    }\n",
              "\n",
              "    .dataframe thead th {\n",
              "        text-align: right;\n",
              "    }\n",
              "</style>\n",
              "<table border=\"1\" class=\"dataframe\">\n",
              "  <thead>\n",
              "    <tr style=\"text-align: right;\">\n",
              "      <th></th>\n",
              "      <th>hour</th>\n",
              "      <th>C1</th>\n",
              "      <th>banner_pos</th>\n",
              "      <th>site_category</th>\n",
              "      <th>app_category</th>\n",
              "      <th>device_type</th>\n",
              "      <th>device_conn_type</th>\n",
              "      <th>C15</th>\n",
              "      <th>C16</th>\n",
              "      <th>C18</th>\n",
              "      <th>C21</th>\n",
              "      <th>weekday</th>\n",
              "    </tr>\n",
              "  </thead>\n",
              "  <tbody>\n",
              "    <tr>\n",
              "      <th>0</th>\n",
              "      <td>15</td>\n",
              "      <td>1005</td>\n",
              "      <td>1</td>\n",
              "      <td>f028772b</td>\n",
              "      <td>07d7df22</td>\n",
              "      <td>1</td>\n",
              "      <td>2</td>\n",
              "      <td>320</td>\n",
              "      <td>50</td>\n",
              "      <td>2</td>\n",
              "      <td>32</td>\n",
              "      <td>2</td>\n",
              "    </tr>\n",
              "    <tr>\n",
              "      <th>1</th>\n",
              "      <td>7</td>\n",
              "      <td>1002</td>\n",
              "      <td>0</td>\n",
              "      <td>50e219e0</td>\n",
              "      <td>07d7df22</td>\n",
              "      <td>0</td>\n",
              "      <td>0</td>\n",
              "      <td>320</td>\n",
              "      <td>50</td>\n",
              "      <td>2</td>\n",
              "      <td>32</td>\n",
              "      <td>3</td>\n",
              "    </tr>\n",
              "    <tr>\n",
              "      <th>2</th>\n",
              "      <td>11</td>\n",
              "      <td>1005</td>\n",
              "      <td>0</td>\n",
              "      <td>50e219e0</td>\n",
              "      <td>cef3e649</td>\n",
              "      <td>1</td>\n",
              "      <td>0</td>\n",
              "      <td>320</td>\n",
              "      <td>50</td>\n",
              "      <td>1</td>\n",
              "      <td>71</td>\n",
              "      <td>0</td>\n",
              "    </tr>\n",
              "    <tr>\n",
              "      <th>3</th>\n",
              "      <td>3</td>\n",
              "      <td>1005</td>\n",
              "      <td>0</td>\n",
              "      <td>50e219e0</td>\n",
              "      <td>0f2161f8</td>\n",
              "      <td>1</td>\n",
              "      <td>0</td>\n",
              "      <td>320</td>\n",
              "      <td>50</td>\n",
              "      <td>0</td>\n",
              "      <td>221</td>\n",
              "      <td>2</td>\n",
              "    </tr>\n",
              "    <tr>\n",
              "      <th>4</th>\n",
              "      <td>2</td>\n",
              "      <td>1005</td>\n",
              "      <td>1</td>\n",
              "      <td>f028772b</td>\n",
              "      <td>07d7df22</td>\n",
              "      <td>1</td>\n",
              "      <td>0</td>\n",
              "      <td>320</td>\n",
              "      <td>50</td>\n",
              "      <td>3</td>\n",
              "      <td>23</td>\n",
              "      <td>2</td>\n",
              "    </tr>\n",
              "  </tbody>\n",
              "</table>\n",
              "</div>"
            ],
            "text/plain": [
              "   hour    C1  banner_pos site_category  ... C16  C18  C21  weekday\n",
              "0    15  1005           1      f028772b  ...  50    2   32        2\n",
              "1     7  1002           0      50e219e0  ...  50    2   32        3\n",
              "2    11  1005           0      50e219e0  ...  50    1   71        0\n",
              "3     3  1005           0      50e219e0  ...  50    0  221        2\n",
              "4     2  1005           1      f028772b  ...  50    3   23        2\n",
              "\n",
              "[5 rows x 12 columns]"
            ]
          },
          "metadata": {
            "tags": []
          },
          "execution_count": 21
        }
      ]
    },
    {
      "cell_type": "markdown",
      "metadata": {
        "id": "bZQ0i2YMYcWD",
        "colab_type": "text"
      },
      "source": [
        "<font color=\"red\"> - Importer CategoricalEncoder de sklearn.preprocessing.  \n",
        "- Fitter le CategoricalEncoder sur les données de train restreintes aux colonnes ci-dessus.  \n",
        "- Transformer les données de train et de test en dummies.\n",
        "</font>"
      ]
    },
    {
      "cell_type": "markdown",
      "metadata": {
        "id": "bLD-KxNcYcWF",
        "colab_type": "text"
      },
      "source": [
        "<font color=\"red\">**Question:**\n",
        "    <br>\n",
        "    - Import OneHotEncoder from sklearn.preprocessing\n",
        "    <br>\n",
        "    - Transform the training and the test data restricted to the selected columns\n",
        "</font>\n",
        "\n",
        "NB: After applying fit_transform tothe data, we obtained a new dataframe wehre each categorical feature is transformed (using fit) and then the dataframe is also transformed (using trasnform)"
      ]
    },
    {
      "cell_type": "code",
      "metadata": {
        "id": "GDx0mpYYYcWG",
        "colab_type": "code",
        "colab": {}
      },
      "source": [
        "from sklearn.preprocessing import OneHotEncoder\n",
        "ohe = OneHotEncoder()\n",
        "Xtrain_oh = ohe.fit_transform(Xtrain) # fit the transformation of Xtrain restricted to selected columns\n",
        "\n",
        "#we do not need to do the fit here again because it's already previously, so the ohe object will use the previuosly defined encoding to transfrom Xtest\n",
        "Xtest_oh = ohe.transform(Xtest)# and transform Xtest restricted to selected columns"
      ],
      "execution_count": 0,
      "outputs": []
    },
    {
      "cell_type": "markdown",
      "metadata": {
        "id": "FN5GjuyzYcWI",
        "colab_type": "text"
      },
      "source": [
        "<font color=\"red\">**Question:**\n",
        "    What is the new number of features?\n",
        "</font>"
      ]
    },
    {
      "cell_type": "code",
      "metadata": {
        "id": "Syvv31BuYcWL",
        "colab_type": "code",
        "outputId": "dae6db0f-ef4e-4d21-e5ba-6db14d7a65d3",
        "colab": {
          "base_uri": "https://localhost:8080/",
          "height": 33
        }
      },
      "source": [
        "\n",
        "print(\"the new  number of features is {}\".format(len(Xtrain_oh[ 1,:].toarray()[0])))"
      ],
      "execution_count": 23,
      "outputs": [
        {
          "output_type": "stream",
          "text": [
            "the new  number of features is 183\n"
          ],
          "name": "stdout"
        }
      ]
    },
    {
      "cell_type": "markdown",
      "metadata": {
        "colab_type": "text",
        "id": "X2JQVVfTi4Zs"
      },
      "source": [
        "Your answer here\n",
        "\n",
        "the new  number of features is **183**"
      ]
    },
    {
      "cell_type": "markdown",
      "metadata": {
        "id": "HUWRg9VaYcWQ",
        "colab_type": "text"
      },
      "source": [
        "<font color=\"red\">**Question:**\n",
        "    Visualize the first row of the design matrix you have got. Do not forget to convert it into a \"numpy.array\" using the method \".toarray()\".\n",
        "</font>"
      ]
    },
    {
      "cell_type": "code",
      "metadata": {
        "id": "KteEhxlwYcWR",
        "colab_type": "code",
        "outputId": "1dcbab17-0e5d-488b-e607-ea9ea62b9346",
        "colab": {
          "base_uri": "https://localhost:8080/",
          "height": 217
        }
      },
      "source": [
        "Xtrain_oh[1,:].toarray()"
      ],
      "execution_count": 24,
      "outputs": [
        {
          "output_type": "execute_result",
          "data": {
            "text/plain": [
              "array([[0., 0., 0., 0., 0., 0., 0., 0., 0., 0., 0., 0., 0., 0., 0., 0.,\n",
              "        0., 0., 0., 0., 0., 0., 1., 0., 0., 0., 1., 0., 0., 0., 0., 1.,\n",
              "        0., 0., 0., 0., 0., 0., 0., 0., 0., 0., 0., 1., 0., 0., 0., 0.,\n",
              "        0., 0., 0., 0., 0., 0., 0., 0., 0., 0., 0., 0., 0., 0., 0., 0.,\n",
              "        0., 0., 0., 0., 0., 0., 0., 0., 0., 0., 0., 0., 0., 0., 0., 0.,\n",
              "        0., 0., 0., 0., 0., 1., 0., 1., 0., 0., 0., 0., 1., 0., 0., 0.,\n",
              "        0., 0., 1., 0., 0., 0., 0., 0., 0., 1., 0., 0., 0., 0., 0., 0.,\n",
              "        1., 0., 0., 0., 0., 0., 0., 0., 0., 0., 0., 0., 0., 0., 0., 0.,\n",
              "        0., 0., 0., 0., 0., 0., 0., 0., 0., 0., 1., 0., 0., 0., 0., 0.,\n",
              "        0., 0., 0., 0., 0., 0., 0., 0., 0., 0., 0., 0., 0., 0., 0., 0.,\n",
              "        0., 0., 0., 0., 0., 0., 0., 0., 0., 0., 0., 0., 0., 0., 0., 0.,\n",
              "        0., 1., 0., 0., 0., 0., 0.]])"
            ]
          },
          "metadata": {
            "tags": []
          },
          "execution_count": 24
        }
      ]
    },
    {
      "cell_type": "markdown",
      "metadata": {
        "id": "GcIpiLHYYcWU",
        "colab_type": "text"
      },
      "source": [
        "<font color=\"red\">**Question:**\n",
        "    Import and fit a logistic regression model on your the encoded data.\n",
        "</font>"
      ]
    },
    {
      "cell_type": "code",
      "metadata": {
        "id": "r8a0SxavYcWV",
        "colab_type": "code",
        "outputId": "2607ef81-bc12-438e-9dcc-790c2686dd0d",
        "colab": {
          "base_uri": "https://localhost:8080/",
          "height": 154
        }
      },
      "source": [
        "from sklearn.linear_model import LogisticRegression\n",
        "lr = LogisticRegression(C=1e15)\n",
        "lr.fit(Xtrain_oh,ytrain)"
      ],
      "execution_count": 25,
      "outputs": [
        {
          "output_type": "stream",
          "text": [
            "/usr/local/lib/python3.6/dist-packages/sklearn/linear_model/logistic.py:432: FutureWarning: Default solver will be changed to 'lbfgs' in 0.22. Specify a solver to silence this warning.\n",
            "  FutureWarning)\n"
          ],
          "name": "stderr"
        },
        {
          "output_type": "execute_result",
          "data": {
            "text/plain": [
              "LogisticRegression(C=1000000000000000.0, class_weight=None, dual=False,\n",
              "                   fit_intercept=True, intercept_scaling=1, l1_ratio=None,\n",
              "                   max_iter=100, multi_class='warn', n_jobs=None, penalty='l2',\n",
              "                   random_state=None, solver='warn', tol=0.0001, verbose=0,\n",
              "                   warm_start=False)"
            ]
          },
          "metadata": {
            "tags": []
          },
          "execution_count": 25
        }
      ]
    },
    {
      "cell_type": "markdown",
      "metadata": {
        "id": "0iuQIQj-YcWZ",
        "colab_type": "text"
      },
      "source": [
        "<font color=\"red\">**Question:**\n",
        "    With '.predict' and 'predict_proba', display the hard and soft decision you get on test data.\n",
        "</font>"
      ]
    },
    {
      "cell_type": "code",
      "metadata": {
        "id": "TYiTfHIWYcWa",
        "colab_type": "code",
        "colab": {}
      },
      "source": [
        "hard = lr.predict(Xtest_oh)\n",
        "soft = lr.predict_proba(Xtest_oh)"
      ],
      "execution_count": 0,
      "outputs": []
    },
    {
      "cell_type": "markdown",
      "metadata": {
        "id": "npfzy9N3YcWc",
        "colab_type": "text"
      },
      "source": [
        "<font color=\"red\">**Question:**\n",
        "    Compute the probability of error using sklearn.metrics 'accuracy_score' function. Comment.\n",
        "</font>"
      ]
    },
    {
      "cell_type": "code",
      "metadata": {
        "id": "hIB33gPiYcWd",
        "colab_type": "code",
        "outputId": "22d77c11-f4c8-46e7-ba63-5d48ae22ede8",
        "colab": {
          "base_uri": "https://localhost:8080/",
          "height": 33
        }
      },
      "source": [
        "from sklearn.metrics import accuracy_score\n",
        "accuracy = accuracy_score(ytest,hard) # Fill here\n",
        "print(\"the probability of error is : {}\".format(1-accuracy))"
      ],
      "execution_count": 27,
      "outputs": [
        {
          "output_type": "stream",
          "text": [
            "the probability of error is : 0.16957999999999995\n"
          ],
          "name": "stdout"
        }
      ]
    },
    {
      "cell_type": "markdown",
      "metadata": {
        "colab_type": "text",
        "id": "Pdi72JJUoYb_"
      },
      "source": [
        "Your answer here\n",
        "\n",
        "the probability of error is : **0.16957999999999995**"
      ]
    },
    {
      "cell_type": "markdown",
      "metadata": {
        "id": "ER4oZTUjYcWf",
        "colab_type": "text"
      },
      "source": [
        "<font color=\"red\">**Question:**\n",
        "    Plot the ROC curve. Then compute the log loss and the Area Under the Curve ROC.\n",
        "</font>\n",
        "\n",
        "NB: soft contains 2 columns which corrspond to the probability of the 2 classes (0 or 1), but in our case we want to work with the probability to belong to 1 so we use the second column."
      ]
    },
    {
      "cell_type": "code",
      "metadata": {
        "id": "Mj-LeKtqYcWf",
        "colab_type": "code",
        "outputId": "bccd8c15-bb3b-4ef2-f143-13781279466b",
        "colab": {
          "base_uri": "https://localhost:8080/",
          "height": 372
        }
      },
      "source": [
        "from sklearn.metrics import roc_curve\n",
        "\n",
        "false_pos_rate, true_pos_rate, thresholds = roc_curve(ytest,soft[:,1])\n",
        "print(false_pos_rate,true_pos_rate)\n",
        "plt.plot(false_pos_rate,true_pos_rate)\n",
        "\n",
        "plt.grid()\n",
        "plt.plot([0, 1], [0, 1], 'r--')\n",
        "plt.xlabel('False Positive Rate', fontsize=16)\n",
        "plt.ylabel('True Positive Rate', fontsize=16)\n",
        "plt.title('ROC curve', fontsize=20)"
      ],
      "execution_count": 28,
      "outputs": [
        {
          "output_type": "stream",
          "text": [
            "[0.00000000e+00 1.20483379e-05 2.40966759e-05 ... 9.99903613e-01\n",
            " 9.99927710e-01 1.00000000e+00] [0.00000000e+00 0.00000000e+00 5.88200694e-05 ... 1.00000000e+00\n",
            " 1.00000000e+00 1.00000000e+00]\n"
          ],
          "name": "stdout"
        },
        {
          "output_type": "execute_result",
          "data": {
            "text/plain": [
              "Text(0.5, 1.0, 'ROC curve')"
            ]
          },
          "metadata": {
            "tags": []
          },
          "execution_count": 28
        },
        {
          "output_type": "display_data",
          "data": {
            "image/png": "[encoded data removed]",
            "text/plain": [
              "<Figure size 432x288 with 1 Axes>"
            ]
          },
          "metadata": {
            "tags": []
          }
        }
      ]
    },
    {
      "cell_type": "code",
      "metadata": {
        "id": "RNxlXhDhYcWi",
        "colab_type": "code",
        "outputId": "8cd92735-69e9-4ac3-c3ae-3a7853d28e5e",
        "colab": {
          "base_uri": "https://localhost:8080/",
          "height": 33
        }
      },
      "source": [
        "from sklearn.metrics import log_loss , roc_auc_score\n",
        "\n",
        "log_loss(ytest,soft[:,1]), roc_auc_score(ytest,soft[:,1])"
      ],
      "execution_count": 29,
      "outputs": [
        {
          "output_type": "execute_result",
          "data": {
            "text/plain": [
              "(0.4251151549501186, 0.676316794307507)"
            ]
          },
          "metadata": {
            "tags": []
          },
          "execution_count": 29
        }
      ]
    },
    {
      "cell_type": "markdown",
      "metadata": {
        "id": "KPbreB3bYcWl",
        "colab_type": "text"
      },
      "source": [
        "<font color=\"red\">**Question:**\n",
        "    Import the 'plot_lift' function from 'utils.py' and plot the lift curve. What is the lift of the first fifth of the population identified by the test?\n",
        "</font>"
      ]
    },
    {
      "cell_type": "code",
      "metadata": {
        "id": "0VxLpfo9YcWl",
        "colab_type": "code",
        "outputId": "4b682588-3b59-480a-aa49-da12da4d8f24",
        "colab": {
          "base_uri": "https://localhost:8080/",
          "height": 338
        }
      },
      "source": [
        "from utils import plotlift\n",
        "print(ytest.shape,soft[0],hard.shape)\n",
        "plotlift(y_true=ytest,soft_pred= soft[:,1])\n",
        "# The following line just plots a vertical line for you to answer the second part of the question\n",
        "plt.axvline(x= 1/5 , linestyle='--', color='r') # Fill here\n",
        "\n",
        "plt.xlabel('Proportion of the dataset', fontsize=16)\n",
        "plt.ylabel('Lift', fontsize=16)\n",
        "plt.title('Lift curve', fontsize=20)\n",
        "plt.plot()"
      ],
      "execution_count": 30,
      "outputs": [
        {
          "output_type": "stream",
          "text": [
            "(100000,) [0.75803115 0.24196885] (100000,)\n"
          ],
          "name": "stdout"
        },
        {
          "output_type": "execute_result",
          "data": {
            "text/plain": [
              "[]"
            ]
          },
          "metadata": {
            "tags": []
          },
          "execution_count": 30
        },
        {
          "output_type": "display_data",
          "data": {
            "image/png": "[encoded data removed]",
            "text/plain": [
              "<Figure size 432x288 with 1 Axes>"
            ]
          },
          "metadata": {
            "tags": []
          }
        }
      ]
    },
    {
      "cell_type": "markdown",
      "metadata": {
        "colab_type": "text",
        "id": "WM_lg75foaLV"
      },
      "source": [
        "Your answer here\n",
        "\n",
        "the lift is **0.2**"
      ]
    },
    {
      "cell_type": "markdown",
      "metadata": {
        "id": "cF3oNg2BYcWo",
        "colab_type": "text"
      },
      "source": [
        "# Complete model"
      ]
    },
    {
      "cell_type": "markdown",
      "metadata": {
        "id": "guGisntUYcWo",
        "colab_type": "text"
      },
      "source": [
        "As an example, we now focus on the 'site_id' column.\n",
        "\n",
        "<font color=\"red\">**Question:**\n",
        "    <br>\n",
        "    - For each modality, compute the number of occurrences in the dataset and the average of clicks for this modality \n",
        "    <br>\n",
        "    - With 'sns.joiplot', represent the set of points (count, mean) for each modality\n",
        "</font>"
      ]
    },
    {
      "cell_type": "code",
      "metadata": {
        "id": "EWjvCk-JYcWp",
        "colab_type": "code",
        "colab": {}
      },
      "source": [
        "import seaborn as sns"
      ],
      "execution_count": 0,
      "outputs": []
    },
    {
      "cell_type": "code",
      "metadata": {
        "id": "T__2itFfYcWr",
        "colab_type": "code",
        "outputId": "ca1923b8-fa44-4d20-840e-d9bcb0dd5d95",
        "colab": {
          "base_uri": "https://localhost:8080/",
          "height": 865
        }
      },
      "source": [
        "#to be removed!!\n",
        "df = pd.read_csv(full_path)\n",
        "col = 'site_id'\n",
        "a = pd.DataFrame([df.groupby(col).mean()['click'], df.groupby(col).count()['click']]).transpose()\n",
        "a.columns = ['mean', 'n_val']\n",
        "sns.jointplot(a['n_val'], a['mean'], alpha=0.25);\n",
        "thres = 10000\n",
        "sns.jointplot(a[a['n_val']<thres]['n_val'], a[a['n_val']<thres]['mean'], alpha=0.25);"
      ],
      "execution_count": 32,
      "outputs": [
        {
          "output_type": "display_data",
          "data": {
            "image/png": "[encoded data removed]",
            "text/plain": [
              "<Figure size 432x432 with 3 Axes>"
            ]
          },
          "metadata": {
            "tags": []
          }
        },
        {
          "output_type": "display_data",
          "data": {
            "image/png": "[encoded data removed]",
            "text/plain": [
              "<Figure size 432x432 with 3 Axes>"
            ]
          },
          "metadata": {
            "tags": []
          }
        }
      ]
    },
    {
      "cell_type": "markdown",
      "metadata": {
        "id": "g8_LIRbIYcWt",
        "colab_type": "text"
      },
      "source": [
        "<font color=\"red\">**Question:**\n",
        "    In the above commands, what does the alpha parameter stand for?\n",
        "</font>"
      ]
    },
    {
      "cell_type": "markdown",
      "metadata": {
        "colab_type": "text",
        "id": "4BBai06xp8eh"
      },
      "source": [
        "#Your answer here\n",
        "\n",
        "The alpha parameter is used to change the opacity of the points. "
      ]
    },
    {
      "cell_type": "markdown",
      "metadata": {
        "id": "HNp0HTLAYcWv",
        "colab_type": "text"
      },
      "source": [
        "Several sites with a lot of occurrences in the dataset have a click frequency very different from the mean. It is relevant to keep the column 'site_id' at least for the modalities for which 'count' is very high.\n",
        "\n",
        "<font color=\"red\">**Question:**\n",
        "    Do the same work on the 'device_id' column. What do you notice? What could be the isolated point?\n",
        "</font>"
      ]
    },
    {
      "cell_type": "code",
      "metadata": {
        "id": "bLhTwP7yYcWw",
        "colab_type": "code",
        "outputId": "31c78fb4-3c8a-47c6-dedc-f29a30dae6df",
        "colab": {
          "base_uri": "https://localhost:8080/",
          "height": 865
        }
      },
      "source": [
        "col = \"device_id\" # Fill here\n",
        "a = pd.DataFrame([df.groupby(col).mean()['click'], df.groupby(col).count()['click']]).transpose()\n",
        "a.columns = ['mean', 'n_val']\n",
        "sns.jointplot(a['n_val'], a['mean'], alpha=0.25);\n",
        "thres = 10000\n",
        "sns.jointplot(a[a['n_val']<thres]['n_val'], a[a['n_val']<thres]['mean'], alpha=0.25);\n",
        "\n",
        "#NB: the graph contains for each group od device_id on x: the number of occurences , on y: the CTR "
      ],
      "execution_count": 33,
      "outputs": [
        {
          "output_type": "display_data",
          "data": {
            "image/png": "[encoded data removed]",
            "text/plain": [
              "<Figure size 432x432 with 3 Axes>"
            ]
          },
          "metadata": {
            "tags": []
          }
        },
        {
          "output_type": "display_data",
          "data": {
            "image/png": "[encoded data removed]",
            "text/plain": [
              "<Figure size 432x432 with 3 Axes>"
            ]
          },
          "metadata": {
            "tags": []
          }
        }
      ]
    },
    {
      "cell_type": "markdown",
      "metadata": {
        "colab_type": "text",
        "id": "HxFRNmVyqI3v"
      },
      "source": [
        "#Your answer here\n",
        "\n",
        "we can notice that for the device_id feature points are less dense!!\n",
        "\n",
        "the isolated point is 800000 with CTR = 0.2"
      ]
    },
    {
      "cell_type": "markdown",
      "metadata": {
        "id": "q3_evYNkYcWy",
        "colab_type": "text"
      },
      "source": [
        "<font color=\"red\">**Question**:   \n",
        "    In the column df['device_id'], spot the value V corresponding to the largest number of 'count' (using '.value_counts' method). Create a new column df['user'] defined as follows:\n",
        "</font>\n",
        "$$\n",
        "\\text{user} = \\left\\{\\begin{array}[h]{ll} \\text{device_ip + device_model} & \\text{if device_id = V}\\\\ \\text{device_id} & \\text{else.}\\end{array}\\right.\n",
        "$$"
      ]
    },
    {
      "cell_type": "code",
      "metadata": {
        "id": "6_KH9aypYcWz",
        "colab_type": "code",
        "colab": {}
      },
      "source": [
        "V = df[\"device_id\"].value_counts().max() # Fill here\n",
        "df['user'] = (df['device_ip'] + df['device_model']) * (df['device_id']==V) + df['device_id'] * (df['device_id']!=V)"
      ],
      "execution_count": 0,
      "outputs": []
    },
    {
      "cell_type": "markdown",
      "metadata": {
        "id": "9irHlnubYcW2",
        "colab_type": "text"
      },
      "source": [
        "<font color=\"red\">**Question**:\n",
        "    Drop the following columns: 'device_id', 'device_model' and 'device_ip'\n",
        "</font>"
      ]
    },
    {
      "cell_type": "code",
      "metadata": {
        "id": "0EfKNjkIYcW3",
        "colab_type": "code",
        "outputId": "6e38c780-3c42-46a1-92ee-cd0260c57c5b",
        "colab": {
          "base_uri": "https://localhost:8080/",
          "height": 424
        }
      },
      "source": [
        "df.drop(['device_id','device_model','device_ip'], axis = 1)"
      ],
      "execution_count": 35,
      "outputs": [
        {
          "output_type": "execute_result",
          "data": {
            "text/html": [
              "<div>\n",
              "<style scoped>\n",
              "    .dataframe tbody tr th:only-of-type {\n",
              "        vertical-align: middle;\n",
              "    }\n",
              "\n",
              "    .dataframe tbody tr th {\n",
              "        vertical-align: top;\n",
              "    }\n",
              "\n",
              "    .dataframe thead th {\n",
              "        text-align: right;\n",
              "    }\n",
              "</style>\n",
              "<table border=\"1\" class=\"dataframe\">\n",
              "  <thead>\n",
              "    <tr style=\"text-align: right;\">\n",
              "      <th></th>\n",
              "      <th>id</th>\n",
              "      <th>click</th>\n",
              "      <th>hour</th>\n",
              "      <th>C1</th>\n",
              "      <th>banner_pos</th>\n",
              "      <th>site_id</th>\n",
              "      <th>site_domain</th>\n",
              "      <th>site_category</th>\n",
              "      <th>app_id</th>\n",
              "      <th>app_domain</th>\n",
              "      <th>app_category</th>\n",
              "      <th>device_type</th>\n",
              "      <th>device_conn_type</th>\n",
              "      <th>C14</th>\n",
              "      <th>C15</th>\n",
              "      <th>C16</th>\n",
              "      <th>C17</th>\n",
              "      <th>C18</th>\n",
              "      <th>C19</th>\n",
              "      <th>C20</th>\n",
              "      <th>C21</th>\n",
              "      <th>user</th>\n",
              "    </tr>\n",
              "  </thead>\n",
              "  <tbody>\n",
              "    <tr>\n",
              "      <th>0</th>\n",
              "      <td>3.983206e+18</td>\n",
              "      <td>0</td>\n",
              "      <td>14102915</td>\n",
              "      <td>1005</td>\n",
              "      <td>1</td>\n",
              "      <td>e151e245</td>\n",
              "      <td>7e091613</td>\n",
              "      <td>f028772b</td>\n",
              "      <td>ecad2386</td>\n",
              "      <td>7801e8d9</td>\n",
              "      <td>07d7df22</td>\n",
              "      <td>1</td>\n",
              "      <td>2</td>\n",
              "      <td>4687</td>\n",
              "      <td>320</td>\n",
              "      <td>50</td>\n",
              "      <td>423</td>\n",
              "      <td>2</td>\n",
              "      <td>39</td>\n",
              "      <td>100148</td>\n",
              "      <td>32</td>\n",
              "      <td>a99f214a</td>\n",
              "    </tr>\n",
              "    <tr>\n",
              "      <th>1</th>\n",
              "      <td>7.756884e+18</td>\n",
              "      <td>0</td>\n",
              "      <td>14103007</td>\n",
              "      <td>1002</td>\n",
              "      <td>0</td>\n",
              "      <td>cb809abf</td>\n",
              "      <td>74acf31a</td>\n",
              "      <td>50e219e0</td>\n",
              "      <td>ecad2386</td>\n",
              "      <td>7801e8d9</td>\n",
              "      <td>07d7df22</td>\n",
              "      <td>0</td>\n",
              "      <td>0</td>\n",
              "      <td>17894</td>\n",
              "      <td>320</td>\n",
              "      <td>50</td>\n",
              "      <td>2039</td>\n",
              "      <td>2</td>\n",
              "      <td>39</td>\n",
              "      <td>100077</td>\n",
              "      <td>32</td>\n",
              "      <td>9b7af851</td>\n",
              "    </tr>\n",
              "    <tr>\n",
              "      <th>2</th>\n",
              "      <td>6.941774e+17</td>\n",
              "      <td>0</td>\n",
              "      <td>14102711</td>\n",
              "      <td>1005</td>\n",
              "      <td>0</td>\n",
              "      <td>85f751fd</td>\n",
              "      <td>c4e18dd6</td>\n",
              "      <td>50e219e0</td>\n",
              "      <td>e9739828</td>\n",
              "      <td>df32afa9</td>\n",
              "      <td>cef3e649</td>\n",
              "      <td>1</td>\n",
              "      <td>0</td>\n",
              "      <td>22684</td>\n",
              "      <td>320</td>\n",
              "      <td>50</td>\n",
              "      <td>2619</td>\n",
              "      <td>1</td>\n",
              "      <td>163</td>\n",
              "      <td>100055</td>\n",
              "      <td>71</td>\n",
              "      <td>a99f214a</td>\n",
              "    </tr>\n",
              "    <tr>\n",
              "      <th>3</th>\n",
              "      <td>2.664154e+18</td>\n",
              "      <td>1</td>\n",
              "      <td>14102903</td>\n",
              "      <td>1005</td>\n",
              "      <td>0</td>\n",
              "      <td>85f751fd</td>\n",
              "      <td>c4e18dd6</td>\n",
              "      <td>50e219e0</td>\n",
              "      <td>a5184c22</td>\n",
              "      <td>b8d325c3</td>\n",
              "      <td>0f2161f8</td>\n",
              "      <td>1</td>\n",
              "      <td>0</td>\n",
              "      <td>23222</td>\n",
              "      <td>320</td>\n",
              "      <td>50</td>\n",
              "      <td>2676</td>\n",
              "      <td>0</td>\n",
              "      <td>35</td>\n",
              "      <td>100176</td>\n",
              "      <td>221</td>\n",
              "      <td>a99f214a</td>\n",
              "    </tr>\n",
              "    <tr>\n",
              "      <th>4</th>\n",
              "      <td>1.480510e+19</td>\n",
              "      <td>0</td>\n",
              "      <td>14102902</td>\n",
              "      <td>1005</td>\n",
              "      <td>1</td>\n",
              "      <td>791b5571</td>\n",
              "      <td>fd13bc73</td>\n",
              "      <td>f028772b</td>\n",
              "      <td>ecad2386</td>\n",
              "      <td>7801e8d9</td>\n",
              "      <td>07d7df22</td>\n",
              "      <td>1</td>\n",
              "      <td>0</td>\n",
              "      <td>8330</td>\n",
              "      <td>320</td>\n",
              "      <td>50</td>\n",
              "      <td>761</td>\n",
              "      <td>3</td>\n",
              "      <td>175</td>\n",
              "      <td>100081</td>\n",
              "      <td>23</td>\n",
              "      <td>a99f214a</td>\n",
              "    </tr>\n",
              "    <tr>\n",
              "      <th>...</th>\n",
              "      <td>...</td>\n",
              "      <td>...</td>\n",
              "      <td>...</td>\n",
              "      <td>...</td>\n",
              "      <td>...</td>\n",
              "      <td>...</td>\n",
              "      <td>...</td>\n",
              "      <td>...</td>\n",
              "      <td>...</td>\n",
              "      <td>...</td>\n",
              "      <td>...</td>\n",
              "      <td>...</td>\n",
              "      <td>...</td>\n",
              "      <td>...</td>\n",
              "      <td>...</td>\n",
              "      <td>...</td>\n",
              "      <td>...</td>\n",
              "      <td>...</td>\n",
              "      <td>...</td>\n",
              "      <td>...</td>\n",
              "      <td>...</td>\n",
              "      <td>...</td>\n",
              "    </tr>\n",
              "    <tr>\n",
              "      <th>999995</th>\n",
              "      <td>1.160473e+19</td>\n",
              "      <td>0</td>\n",
              "      <td>14102602</td>\n",
              "      <td>1005</td>\n",
              "      <td>0</td>\n",
              "      <td>5b08c53b</td>\n",
              "      <td>7687a86e</td>\n",
              "      <td>3e814130</td>\n",
              "      <td>ecad2386</td>\n",
              "      <td>7801e8d9</td>\n",
              "      <td>07d7df22</td>\n",
              "      <td>1</td>\n",
              "      <td>0</td>\n",
              "      <td>19016</td>\n",
              "      <td>300</td>\n",
              "      <td>250</td>\n",
              "      <td>2162</td>\n",
              "      <td>2</td>\n",
              "      <td>39</td>\n",
              "      <td>-1</td>\n",
              "      <td>33</td>\n",
              "      <td>a99f214a</td>\n",
              "    </tr>\n",
              "    <tr>\n",
              "      <th>999996</th>\n",
              "      <td>2.530099e+18</td>\n",
              "      <td>1</td>\n",
              "      <td>14102101</td>\n",
              "      <td>1005</td>\n",
              "      <td>0</td>\n",
              "      <td>1fbe01fe</td>\n",
              "      <td>f3845767</td>\n",
              "      <td>28905ebd</td>\n",
              "      <td>ecad2386</td>\n",
              "      <td>7801e8d9</td>\n",
              "      <td>07d7df22</td>\n",
              "      <td>1</td>\n",
              "      <td>0</td>\n",
              "      <td>15701</td>\n",
              "      <td>320</td>\n",
              "      <td>50</td>\n",
              "      <td>1722</td>\n",
              "      <td>0</td>\n",
              "      <td>35</td>\n",
              "      <td>-1</td>\n",
              "      <td>79</td>\n",
              "      <td>a99f214a</td>\n",
              "    </tr>\n",
              "    <tr>\n",
              "      <th>999997</th>\n",
              "      <td>8.916528e+18</td>\n",
              "      <td>0</td>\n",
              "      <td>14102318</td>\n",
              "      <td>1005</td>\n",
              "      <td>1</td>\n",
              "      <td>f61eaaae</td>\n",
              "      <td>6b59f079</td>\n",
              "      <td>f028772b</td>\n",
              "      <td>ecad2386</td>\n",
              "      <td>7801e8d9</td>\n",
              "      <td>07d7df22</td>\n",
              "      <td>1</td>\n",
              "      <td>0</td>\n",
              "      <td>16615</td>\n",
              "      <td>320</td>\n",
              "      <td>50</td>\n",
              "      <td>1863</td>\n",
              "      <td>3</td>\n",
              "      <td>39</td>\n",
              "      <td>-1</td>\n",
              "      <td>23</td>\n",
              "      <td>a99f214a</td>\n",
              "    </tr>\n",
              "    <tr>\n",
              "      <th>999998</th>\n",
              "      <td>1.307924e+19</td>\n",
              "      <td>0</td>\n",
              "      <td>14102908</td>\n",
              "      <td>1005</td>\n",
              "      <td>1</td>\n",
              "      <td>57ef2c87</td>\n",
              "      <td>bd6d812f</td>\n",
              "      <td>f028772b</td>\n",
              "      <td>ecad2386</td>\n",
              "      <td>7801e8d9</td>\n",
              "      <td>07d7df22</td>\n",
              "      <td>1</td>\n",
              "      <td>0</td>\n",
              "      <td>19772</td>\n",
              "      <td>320</td>\n",
              "      <td>50</td>\n",
              "      <td>2227</td>\n",
              "      <td>0</td>\n",
              "      <td>935</td>\n",
              "      <td>-1</td>\n",
              "      <td>48</td>\n",
              "      <td>a99f214a</td>\n",
              "    </tr>\n",
              "    <tr>\n",
              "      <th>999999</th>\n",
              "      <td>1.658970e+18</td>\n",
              "      <td>0</td>\n",
              "      <td>14102600</td>\n",
              "      <td>1005</td>\n",
              "      <td>0</td>\n",
              "      <td>85f751fd</td>\n",
              "      <td>c4e18dd6</td>\n",
              "      <td>50e219e0</td>\n",
              "      <td>03528b27</td>\n",
              "      <td>2347f47a</td>\n",
              "      <td>8ded1f7a</td>\n",
              "      <td>1</td>\n",
              "      <td>0</td>\n",
              "      <td>17017</td>\n",
              "      <td>320</td>\n",
              "      <td>50</td>\n",
              "      <td>1873</td>\n",
              "      <td>3</td>\n",
              "      <td>39</td>\n",
              "      <td>-1</td>\n",
              "      <td>23</td>\n",
              "      <td>572e7feb</td>\n",
              "    </tr>\n",
              "  </tbody>\n",
              "</table>\n",
              "<p>1000000 rows × 22 columns</p>\n",
              "</div>"
            ],
            "text/plain": [
              "                  id  click      hour    C1  ...  C19     C20  C21      user\n",
              "0       3.983206e+18      0  14102915  1005  ...   39  100148   32  a99f214a\n",
              "1       7.756884e+18      0  14103007  1002  ...   39  100077   32  9b7af851\n",
              "2       6.941774e+17      0  14102711  1005  ...  163  100055   71  a99f214a\n",
              "3       2.664154e+18      1  14102903  1005  ...   35  100176  221  a99f214a\n",
              "4       1.480510e+19      0  14102902  1005  ...  175  100081   23  a99f214a\n",
              "...              ...    ...       ...   ...  ...  ...     ...  ...       ...\n",
              "999995  1.160473e+19      0  14102602  1005  ...   39      -1   33  a99f214a\n",
              "999996  2.530099e+18      1  14102101  1005  ...   35      -1   79  a99f214a\n",
              "999997  8.916528e+18      0  14102318  1005  ...   39      -1   23  a99f214a\n",
              "999998  1.307924e+19      0  14102908  1005  ...  935      -1   48  a99f214a\n",
              "999999  1.658970e+18      0  14102600  1005  ...   39      -1   23  572e7feb\n",
              "\n",
              "[1000000 rows x 22 columns]"
            ]
          },
          "metadata": {
            "tags": []
          },
          "execution_count": 35
        }
      ]
    },
    {
      "cell_type": "markdown",
      "metadata": {
        "id": "Re0avpAtYcW7",
        "colab_type": "text"
      },
      "source": [
        "<font color=\"red\">**Question**:\n",
        "    One could look at the similarity between 'site_id' and 'site_domain'. Merge those columns into a new 'site' column (using the '+' operator)  and delete the old 'site_id' and 'site_domain' columns.\n",
        "</font>"
      ]
    },
    {
      "cell_type": "code",
      "metadata": {
        "id": "RPrMudxPYcW7",
        "colab_type": "code",
        "outputId": "14aad62c-ac3a-4b91-e4bb-1477dcd186c1",
        "colab": {
          "base_uri": "https://localhost:8080/",
          "height": 424
        }
      },
      "source": [
        "df[\"site\"] = df[\"site_id\"] + df[\"site_domain\"]\n",
        "df.drop(['site_id',\"site_domain\"], axis = 1)"
      ],
      "execution_count": 36,
      "outputs": [
        {
          "output_type": "execute_result",
          "data": {
            "text/html": [
              "<div>\n",
              "<style scoped>\n",
              "    .dataframe tbody tr th:only-of-type {\n",
              "        vertical-align: middle;\n",
              "    }\n",
              "\n",
              "    .dataframe tbody tr th {\n",
              "        vertical-align: top;\n",
              "    }\n",
              "\n",
              "    .dataframe thead th {\n",
              "        text-align: right;\n",
              "    }\n",
              "</style>\n",
              "<table border=\"1\" class=\"dataframe\">\n",
              "  <thead>\n",
              "    <tr style=\"text-align: right;\">\n",
              "      <th></th>\n",
              "      <th>id</th>\n",
              "      <th>click</th>\n",
              "      <th>hour</th>\n",
              "      <th>C1</th>\n",
              "      <th>banner_pos</th>\n",
              "      <th>site_category</th>\n",
              "      <th>app_id</th>\n",
              "      <th>app_domain</th>\n",
              "      <th>app_category</th>\n",
              "      <th>device_id</th>\n",
              "      <th>device_ip</th>\n",
              "      <th>device_model</th>\n",
              "      <th>device_type</th>\n",
              "      <th>device_conn_type</th>\n",
              "      <th>C14</th>\n",
              "      <th>C15</th>\n",
              "      <th>C16</th>\n",
              "      <th>C17</th>\n",
              "      <th>C18</th>\n",
              "      <th>C19</th>\n",
              "      <th>C20</th>\n",
              "      <th>C21</th>\n",
              "      <th>user</th>\n",
              "      <th>site</th>\n",
              "    </tr>\n",
              "  </thead>\n",
              "  <tbody>\n",
              "    <tr>\n",
              "      <th>0</th>\n",
              "      <td>3.983206e+18</td>\n",
              "      <td>0</td>\n",
              "      <td>14102915</td>\n",
              "      <td>1005</td>\n",
              "      <td>1</td>\n",
              "      <td>f028772b</td>\n",
              "      <td>ecad2386</td>\n",
              "      <td>7801e8d9</td>\n",
              "      <td>07d7df22</td>\n",
              "      <td>a99f214a</td>\n",
              "      <td>fb6566d3</td>\n",
              "      <td>be87996b</td>\n",
              "      <td>1</td>\n",
              "      <td>2</td>\n",
              "      <td>4687</td>\n",
              "      <td>320</td>\n",
              "      <td>50</td>\n",
              "      <td>423</td>\n",
              "      <td>2</td>\n",
              "      <td>39</td>\n",
              "      <td>100148</td>\n",
              "      <td>32</td>\n",
              "      <td>a99f214a</td>\n",
              "      <td>e151e2457e091613</td>\n",
              "    </tr>\n",
              "    <tr>\n",
              "      <th>1</th>\n",
              "      <td>7.756884e+18</td>\n",
              "      <td>0</td>\n",
              "      <td>14103007</td>\n",
              "      <td>1002</td>\n",
              "      <td>0</td>\n",
              "      <td>50e219e0</td>\n",
              "      <td>ecad2386</td>\n",
              "      <td>7801e8d9</td>\n",
              "      <td>07d7df22</td>\n",
              "      <td>9b7af851</td>\n",
              "      <td>ac5a4a77</td>\n",
              "      <td>7e6190f3</td>\n",
              "      <td>0</td>\n",
              "      <td>0</td>\n",
              "      <td>17894</td>\n",
              "      <td>320</td>\n",
              "      <td>50</td>\n",
              "      <td>2039</td>\n",
              "      <td>2</td>\n",
              "      <td>39</td>\n",
              "      <td>100077</td>\n",
              "      <td>32</td>\n",
              "      <td>9b7af851</td>\n",
              "      <td>cb809abf74acf31a</td>\n",
              "    </tr>\n",
              "    <tr>\n",
              "      <th>2</th>\n",
              "      <td>6.941774e+17</td>\n",
              "      <td>0</td>\n",
              "      <td>14102711</td>\n",
              "      <td>1005</td>\n",
              "      <td>0</td>\n",
              "      <td>50e219e0</td>\n",
              "      <td>e9739828</td>\n",
              "      <td>df32afa9</td>\n",
              "      <td>cef3e649</td>\n",
              "      <td>a99f214a</td>\n",
              "      <td>748e298a</td>\n",
              "      <td>3c55fad5</td>\n",
              "      <td>1</td>\n",
              "      <td>0</td>\n",
              "      <td>22684</td>\n",
              "      <td>320</td>\n",
              "      <td>50</td>\n",
              "      <td>2619</td>\n",
              "      <td>1</td>\n",
              "      <td>163</td>\n",
              "      <td>100055</td>\n",
              "      <td>71</td>\n",
              "      <td>a99f214a</td>\n",
              "      <td>85f751fdc4e18dd6</td>\n",
              "    </tr>\n",
              "    <tr>\n",
              "      <th>3</th>\n",
              "      <td>2.664154e+18</td>\n",
              "      <td>1</td>\n",
              "      <td>14102903</td>\n",
              "      <td>1005</td>\n",
              "      <td>0</td>\n",
              "      <td>50e219e0</td>\n",
              "      <td>a5184c22</td>\n",
              "      <td>b8d325c3</td>\n",
              "      <td>0f2161f8</td>\n",
              "      <td>a99f214a</td>\n",
              "      <td>a50da3d4</td>\n",
              "      <td>c5cc73c1</td>\n",
              "      <td>1</td>\n",
              "      <td>0</td>\n",
              "      <td>23222</td>\n",
              "      <td>320</td>\n",
              "      <td>50</td>\n",
              "      <td>2676</td>\n",
              "      <td>0</td>\n",
              "      <td>35</td>\n",
              "      <td>100176</td>\n",
              "      <td>221</td>\n",
              "      <td>a99f214a</td>\n",
              "      <td>85f751fdc4e18dd6</td>\n",
              "    </tr>\n",
              "    <tr>\n",
              "      <th>4</th>\n",
              "      <td>1.480510e+19</td>\n",
              "      <td>0</td>\n",
              "      <td>14102902</td>\n",
              "      <td>1005</td>\n",
              "      <td>1</td>\n",
              "      <td>f028772b</td>\n",
              "      <td>ecad2386</td>\n",
              "      <td>7801e8d9</td>\n",
              "      <td>07d7df22</td>\n",
              "      <td>a99f214a</td>\n",
              "      <td>d5f88679</td>\n",
              "      <td>a5bce124</td>\n",
              "      <td>1</td>\n",
              "      <td>0</td>\n",
              "      <td>8330</td>\n",
              "      <td>320</td>\n",
              "      <td>50</td>\n",
              "      <td>761</td>\n",
              "      <td>3</td>\n",
              "      <td>175</td>\n",
              "      <td>100081</td>\n",
              "      <td>23</td>\n",
              "      <td>a99f214a</td>\n",
              "      <td>791b5571fd13bc73</td>\n",
              "    </tr>\n",
              "    <tr>\n",
              "      <th>...</th>\n",
              "      <td>...</td>\n",
              "      <td>...</td>\n",
              "      <td>...</td>\n",
              "      <td>...</td>\n",
              "      <td>...</td>\n",
              "      <td>...</td>\n",
              "      <td>...</td>\n",
              "      <td>...</td>\n",
              "      <td>...</td>\n",
              "      <td>...</td>\n",
              "      <td>...</td>\n",
              "      <td>...</td>\n",
              "      <td>...</td>\n",
              "      <td>...</td>\n",
              "      <td>...</td>\n",
              "      <td>...</td>\n",
              "      <td>...</td>\n",
              "      <td>...</td>\n",
              "      <td>...</td>\n",
              "      <td>...</td>\n",
              "      <td>...</td>\n",
              "      <td>...</td>\n",
              "      <td>...</td>\n",
              "      <td>...</td>\n",
              "    </tr>\n",
              "    <tr>\n",
              "      <th>999995</th>\n",
              "      <td>1.160473e+19</td>\n",
              "      <td>0</td>\n",
              "      <td>14102602</td>\n",
              "      <td>1005</td>\n",
              "      <td>0</td>\n",
              "      <td>3e814130</td>\n",
              "      <td>ecad2386</td>\n",
              "      <td>7801e8d9</td>\n",
              "      <td>07d7df22</td>\n",
              "      <td>a99f214a</td>\n",
              "      <td>9a8dbe7f</td>\n",
              "      <td>68dabce1</td>\n",
              "      <td>1</td>\n",
              "      <td>0</td>\n",
              "      <td>19016</td>\n",
              "      <td>300</td>\n",
              "      <td>250</td>\n",
              "      <td>2162</td>\n",
              "      <td>2</td>\n",
              "      <td>39</td>\n",
              "      <td>-1</td>\n",
              "      <td>33</td>\n",
              "      <td>a99f214a</td>\n",
              "      <td>5b08c53b7687a86e</td>\n",
              "    </tr>\n",
              "    <tr>\n",
              "      <th>999996</th>\n",
              "      <td>2.530099e+18</td>\n",
              "      <td>1</td>\n",
              "      <td>14102101</td>\n",
              "      <td>1005</td>\n",
              "      <td>0</td>\n",
              "      <td>28905ebd</td>\n",
              "      <td>ecad2386</td>\n",
              "      <td>7801e8d9</td>\n",
              "      <td>07d7df22</td>\n",
              "      <td>a99f214a</td>\n",
              "      <td>3b6f9f67</td>\n",
              "      <td>c6263d8a</td>\n",
              "      <td>1</td>\n",
              "      <td>0</td>\n",
              "      <td>15701</td>\n",
              "      <td>320</td>\n",
              "      <td>50</td>\n",
              "      <td>1722</td>\n",
              "      <td>0</td>\n",
              "      <td>35</td>\n",
              "      <td>-1</td>\n",
              "      <td>79</td>\n",
              "      <td>a99f214a</td>\n",
              "      <td>1fbe01fef3845767</td>\n",
              "    </tr>\n",
              "    <tr>\n",
              "      <th>999997</th>\n",
              "      <td>8.916528e+18</td>\n",
              "      <td>0</td>\n",
              "      <td>14102318</td>\n",
              "      <td>1005</td>\n",
              "      <td>1</td>\n",
              "      <td>f028772b</td>\n",
              "      <td>ecad2386</td>\n",
              "      <td>7801e8d9</td>\n",
              "      <td>07d7df22</td>\n",
              "      <td>a99f214a</td>\n",
              "      <td>2348915f</td>\n",
              "      <td>744ae245</td>\n",
              "      <td>1</td>\n",
              "      <td>0</td>\n",
              "      <td>16615</td>\n",
              "      <td>320</td>\n",
              "      <td>50</td>\n",
              "      <td>1863</td>\n",
              "      <td>3</td>\n",
              "      <td>39</td>\n",
              "      <td>-1</td>\n",
              "      <td>23</td>\n",
              "      <td>a99f214a</td>\n",
              "      <td>f61eaaae6b59f079</td>\n",
              "    </tr>\n",
              "    <tr>\n",
              "      <th>999998</th>\n",
              "      <td>1.307924e+19</td>\n",
              "      <td>0</td>\n",
              "      <td>14102908</td>\n",
              "      <td>1005</td>\n",
              "      <td>1</td>\n",
              "      <td>f028772b</td>\n",
              "      <td>ecad2386</td>\n",
              "      <td>7801e8d9</td>\n",
              "      <td>07d7df22</td>\n",
              "      <td>a99f214a</td>\n",
              "      <td>3ca7f719</td>\n",
              "      <td>3e7932d7</td>\n",
              "      <td>1</td>\n",
              "      <td>0</td>\n",
              "      <td>19772</td>\n",
              "      <td>320</td>\n",
              "      <td>50</td>\n",
              "      <td>2227</td>\n",
              "      <td>0</td>\n",
              "      <td>935</td>\n",
              "      <td>-1</td>\n",
              "      <td>48</td>\n",
              "      <td>a99f214a</td>\n",
              "      <td>57ef2c87bd6d812f</td>\n",
              "    </tr>\n",
              "    <tr>\n",
              "      <th>999999</th>\n",
              "      <td>1.658970e+18</td>\n",
              "      <td>0</td>\n",
              "      <td>14102600</td>\n",
              "      <td>1005</td>\n",
              "      <td>0</td>\n",
              "      <td>50e219e0</td>\n",
              "      <td>03528b27</td>\n",
              "      <td>2347f47a</td>\n",
              "      <td>8ded1f7a</td>\n",
              "      <td>572e7feb</td>\n",
              "      <td>bd697e93</td>\n",
              "      <td>58ff66fc</td>\n",
              "      <td>1</td>\n",
              "      <td>0</td>\n",
              "      <td>17017</td>\n",
              "      <td>320</td>\n",
              "      <td>50</td>\n",
              "      <td>1873</td>\n",
              "      <td>3</td>\n",
              "      <td>39</td>\n",
              "      <td>-1</td>\n",
              "      <td>23</td>\n",
              "      <td>572e7feb</td>\n",
              "      <td>85f751fdc4e18dd6</td>\n",
              "    </tr>\n",
              "  </tbody>\n",
              "</table>\n",
              "<p>1000000 rows × 24 columns</p>\n",
              "</div>"
            ],
            "text/plain": [
              "                  id  click      hour  ...  C21      user              site\n",
              "0       3.983206e+18      0  14102915  ...   32  a99f214a  e151e2457e091613\n",
              "1       7.756884e+18      0  14103007  ...   32  9b7af851  cb809abf74acf31a\n",
              "2       6.941774e+17      0  14102711  ...   71  a99f214a  85f751fdc4e18dd6\n",
              "3       2.664154e+18      1  14102903  ...  221  a99f214a  85f751fdc4e18dd6\n",
              "4       1.480510e+19      0  14102902  ...   23  a99f214a  791b5571fd13bc73\n",
              "...              ...    ...       ...  ...  ...       ...               ...\n",
              "999995  1.160473e+19      0  14102602  ...   33  a99f214a  5b08c53b7687a86e\n",
              "999996  2.530099e+18      1  14102101  ...   79  a99f214a  1fbe01fef3845767\n",
              "999997  8.916528e+18      0  14102318  ...   23  a99f214a  f61eaaae6b59f079\n",
              "999998  1.307924e+19      0  14102908  ...   48  a99f214a  57ef2c87bd6d812f\n",
              "999999  1.658970e+18      0  14102600  ...   23  572e7feb  85f751fdc4e18dd6\n",
              "\n",
              "[1000000 rows x 24 columns]"
            ]
          },
          "metadata": {
            "tags": []
          },
          "execution_count": 36
        }
      ]
    },
    {
      "cell_type": "markdown",
      "metadata": {
        "id": "qBWWV6pnYcW_",
        "colab_type": "text"
      },
      "source": [
        "<font color=\"red\">**Question**:\n",
        "    Once again, split the modified DataFrame 'df' into a train and a test set (with options: test_size=0.1 and random_state=100).\n",
        "    <br>\n",
        "    Warning: do not use 'id' as a feature.\n",
        "</font>"
      ]
    },
    {
      "cell_type": "code",
      "metadata": {
        "id": "XmJrvxlEYcXA",
        "colab_type": "code",
        "outputId": "e9f7868c-e798-45bc-f880-0b601f2c389a",
        "colab": {
          "base_uri": "https://localhost:8080/",
          "height": 217
        }
      },
      "source": [
        "df.drop(\"id\",axis = 1)\n",
        "\n",
        "Y = df.click.values\n",
        "X = df.drop(\"click\", axis = 1).values\n",
        "Xtrain, Xtest, ytrain, ytest =  train_test_split(X,Y,test_size = 0.1, random_state = 100)\n",
        "df[\"user\"]"
      ],
      "execution_count": 37,
      "outputs": [
        {
          "output_type": "execute_result",
          "data": {
            "text/plain": [
              "0         a99f214a\n",
              "1         9b7af851\n",
              "2         a99f214a\n",
              "3         a99f214a\n",
              "4         a99f214a\n",
              "            ...   \n",
              "999995    a99f214a\n",
              "999996    a99f214a\n",
              "999997    a99f214a\n",
              "999998    a99f214a\n",
              "999999    572e7feb\n",
              "Name: user, Length: 1000000, dtype: object"
            ]
          },
          "metadata": {
            "tags": []
          },
          "execution_count": 37
        }
      ]
    },
    {
      "cell_type": "markdown",
      "metadata": {
        "id": "b7zoMXC5YcXC",
        "colab_type": "text"
      },
      "source": [
        "<font color=\"red\">**Question**:\n",
        "    Define a OneHotEncoder and then, 'fit_transform' the train set.\n",
        "</font>"
      ]
    },
    {
      "cell_type": "code",
      "metadata": {
        "id": "U4RSRj7LYcXC",
        "colab_type": "code",
        "colab": {}
      },
      "source": [
        "ohe = OneHotEncoder(handle_unknown= \"ignore\")\n",
        "Xtrain_oh =ohe.fit_transform(Xtrain) # Fill here"
      ],
      "execution_count": 0,
      "outputs": []
    },
    {
      "cell_type": "markdown",
      "metadata": {
        "id": "9p2yNLblYcXF",
        "colab_type": "text"
      },
      "source": [
        "<font color=\"red\">**Question**:\n",
        "    Transform the test set. If an error occurs, analyze it and try to solve it by modifying the parameter \"handle_unkown\" of the OneHotEncoder. \n",
        "    <br>\n",
        "    Explain your the problem you encouter and how you solved it. \n",
        "</font>"
      ]
    },
    {
      "cell_type": "code",
      "metadata": {
        "id": "7MeYRj1IYcXG",
        "colab_type": "code",
        "colab": {}
      },
      "source": [
        "\n",
        "Xtest_oh = ohe.transform(Xtest) # Fill here"
      ],
      "execution_count": 0,
      "outputs": []
    },
    {
      "cell_type": "markdown",
      "metadata": {
        "colab_type": "text",
        "id": "zKXtU2rBwAd-"
      },
      "source": [
        "Your answer here\n",
        "\n",
        "during the transfrom of the test set, i got an error because some categorical features where unknown and the parameter *handle_unknow* in the definition of the ohe had as default values \"error\". so i solved the problem by simply setting it to \"ignore\"!!"
      ]
    },
    {
      "cell_type": "markdown",
      "metadata": {
        "id": "lrihsX2dYcXH",
        "colab_type": "text"
      },
      "source": [
        "<font color=\"red\">**Question**:\n",
        "    What is the new number of features?\n",
        "</font>"
      ]
    },
    {
      "cell_type": "code",
      "metadata": {
        "id": "8HF2CHhxYcXI",
        "colab_type": "code",
        "outputId": "e4aea8b7-d280-4829-83e5-0259b692de1a",
        "colab": {
          "base_uri": "https://localhost:8080/",
          "height": 33
        }
      },
      "source": [
        "print(len(Xtrain_oh[1,:].toarray()[0]))"
      ],
      "execution_count": 40,
      "outputs": [
        {
          "output_type": "stream",
          "text": [
            "1705485\n"
          ],
          "name": "stdout"
        }
      ]
    },
    {
      "cell_type": "markdown",
      "metadata": {
        "colab_type": "text",
        "id": "lZ9kHweWwDEt"
      },
      "source": [
        "Your answer here\n",
        "\n",
        "The new number of features is **1705485**"
      ]
    },
    {
      "cell_type": "markdown",
      "metadata": {
        "id": "KTjjUA6JYcXJ",
        "colab_type": "text"
      },
      "source": [
        "<font color=\"red\">**Question**:\n",
        "    How many modalities have been seen more than a 100 times?\n",
        "</font>"
      ]
    },
    {
      "cell_type": "code",
      "metadata": {
        "id": "Egt0JgByYcXK",
        "colab_type": "code",
        "outputId": "f1942166-7c89-49f3-bb83-ae6fc331fa0a",
        "colab": {
          "base_uri": "https://localhost:8080/",
          "height": 50
        }
      },
      "source": [
        "# The following 'n_ones' vector below gives the number of '1' in each column/modality of the Xtrain_oh design matrix.\n",
        "n_ones = np.array(Xtrain_oh.sum(axis=0))\n",
        "print(len(n_ones[0]))\n",
        "more_than_100 = n_ones[n_ones > 100] # Fill here using 'n_ones'\n",
        "print(\"The total number of column/modality which appear more 100 time sin the design matrix is\",len(more_than_100))"
      ],
      "execution_count": 41,
      "outputs": [
        {
          "output_type": "stream",
          "text": [
            "1705485\n",
            "The total number of column/modality which appear more 100 time sin the design matrix is 3708\n"
          ],
          "name": "stdout"
        }
      ]
    },
    {
      "cell_type": "markdown",
      "metadata": {
        "colab_type": "text",
        "id": "3bNDd-2dwD3_"
      },
      "source": [
        "Your answer here\n",
        "\n",
        "The total number of column/modality which appear more 100 time sin the design matrix is **3708**"
      ]
    },
    {
      "cell_type": "markdown",
      "metadata": {
        "id": "U0h74pNxYcXN",
        "colab_type": "text"
      },
      "source": [
        "The list 'cols_to_keep' below is used to store the indices of the modalities seen more than a 100 times. \n",
        "\n",
        "<font color=\"red\">**Question**:\n",
        "    How does the `enumerate` function work?\n",
        "</font>"
      ]
    },
    {
      "cell_type": "code",
      "metadata": {
        "id": "_YknbprTYcXO",
        "colab_type": "code",
        "outputId": "1173dc0b-6f32-456e-8c2a-f250ae4f098f",
        "colab": {
          "base_uri": "https://localhost:8080/",
          "height": 33
        }
      },
      "source": [
        "useful = np.array(n_ones>100)[0] # this is different from more_than_100 = n_ones[n_ones > 100] because the dirst contanìins an array of boolean while the second of integer\n",
        "\n",
        "#cols_to_keep contains the index of all the columns to keep.\n",
        "cols_to_keep = [i for i,b in enumerate(useful) if b]\n",
        "cols_to_delete = [index for index,value in enumerate(useful) if not value]\n",
        "print(type(Xtrain_oh))\n"
      ],
      "execution_count": 42,
      "outputs": [
        {
          "output_type": "stream",
          "text": [
            "<class 'scipy.sparse.csr.csr_matrix'>\n"
          ],
          "name": "stdout"
        }
      ]
    },
    {
      "cell_type": "markdown",
      "metadata": {
        "colab_type": "text",
        "id": "xMCS7vM9yjt0"
      },
      "source": [
        "Your answer here\n",
        "\n",
        "**enumarate** is a python built in function that allows us to iterate over a list of elemtn and have an automatic counter. Moreover, it has an optiional parameter that allows to specify where the start the index.\n",
        "\n",
        "eg : \n",
        "\n",
        "    for counter, el in enumarete([\"el1\", \"el2\", \"el3\"],1) :\n",
        "       print(counter,el)\n",
        "\n",
        "  will output : \n",
        "\n",
        "    1 el1\n",
        "\n",
        "    2 el2\n",
        "\n",
        "    3 el3  "
      ]
    },
    {
      "cell_type": "markdown",
      "metadata": {
        "id": "X0fiY2NBYcXP",
        "colab_type": "text"
      },
      "source": [
        "<font color=\"red\">**Question**:\n",
        "    Using only our restriction on the 'cols_to_keep' columns, retrain a logistic regression model and compare its performance in terms of 'log_loss' and 'roc_auc_curve'.\n",
        "</font>"
      ]
    },
    {
      "cell_type": "code",
      "metadata": {
        "id": "ajFA_JMJYcXR",
        "colab_type": "code",
        "outputId": "b3a9dcb5-497f-4600-f80c-e5072b38e099",
        "colab": {
          "base_uri": "https://localhost:8080/",
          "height": 87
        }
      },
      "source": [
        "#since cols_to_keep contains the index in the design matrix of the columns to keep, this opeation will filter out the ones that we do not want to keep.\n",
        "Xtrain_oh = Xtrain_oh[:,cols_to_keep]\n",
        "Xtest_oh = Xtest_oh[:,cols_to_keep]\n",
        "print(Xtrain_oh.shape)\n",
        "lr = LogisticRegression(C=1e15)\n",
        "lr.fit(Xtrain_oh,ytrain)\n",
        "soft = lr.predict_proba(Xtest_oh)\n",
        "hard = lr.predict(Xtest_oh)"
      ],
      "execution_count": 43,
      "outputs": [
        {
          "output_type": "stream",
          "text": [
            "(900000, 3708)\n"
          ],
          "name": "stdout"
        },
        {
          "output_type": "stream",
          "text": [
            "/usr/local/lib/python3.6/dist-packages/sklearn/linear_model/logistic.py:432: FutureWarning: Default solver will be changed to 'lbfgs' in 0.22. Specify a solver to silence this warning.\n",
            "  FutureWarning)\n"
          ],
          "name": "stderr"
        }
      ]
    },
    {
      "cell_type": "code",
      "metadata": {
        "id": "28ILuu2BoixM",
        "colab_type": "code",
        "colab": {
          "base_uri": "https://localhost:8080/",
          "height": 33
        },
        "outputId": "7fa7259c-38fe-4e50-8beb-28b700938267"
      },
      "source": [
        "loss = log_loss(ytest,soft[:,1])\n",
        "area =roc_auc_score(ytest,soft[:,1]) \n",
        "\n",
        "print(loss,area)"
      ],
      "execution_count": 44,
      "outputs": [
        {
          "output_type": "stream",
          "text": [
            "0.3986942560697941 0.7445844168483858\n"
          ],
          "name": "stdout"
        }
      ]
    },
    {
      "cell_type": "markdown",
      "metadata": {
        "id": "lahZdWm6YcXT",
        "colab_type": "text"
      },
      "source": [
        "# Gradient Boosting Decision Trees"
      ]
    },
    {
      "cell_type": "markdown",
      "metadata": {
        "id": "RkeyRzzmYcXU",
        "colab_type": "text"
      },
      "source": [
        "<font color=\"red\">**Question**:\n",
        "    <br>\n",
        "    - Import GradientBoostingClassifier from scikit learn. \n",
        "    <br>\n",
        "    - Initialize it using 50 estimators and a learning rate of 0.8. Set 'verbose=True' to monitor the progress of the training step.\n",
        "    <br>\n",
        "    - Fit it on the same columns 'cols_to_keep' of Xtrain_oh than for the previous logistic regression.\n",
        "    <br>\n",
        "    - Evaluate its performance as in the previous step.\n",
        "</font>"
      ]
    },
    {
      "cell_type": "code",
      "metadata": {
        "id": "H8XZdPUXYcXV",
        "colab_type": "code",
        "colab": {}
      },
      "source": [
        "from sklearn.ensemble import GradientBoostingClassifier\n",
        "gb = GradientBoostingClassifier(learning_rate = 0.8,verbose = 1,n_estimators = 50) # Fill here"
      ],
      "execution_count": 0,
      "outputs": []
    },
    {
      "cell_type": "code",
      "metadata": {
        "id": "et4JbJETYcXb",
        "colab_type": "code",
        "colab": {
          "base_uri": "https://localhost:8080/",
          "height": 435
        },
        "outputId": "5d989bd4-d026-4301-b77d-49ea44e3ecf2"
      },
      "source": [
        "gb.fit(Xtrain_oh,ytrain)"
      ],
      "execution_count": 46,
      "outputs": [
        {
          "output_type": "stream",
          "text": [
            "      Iter       Train Loss   Remaining Time \n",
            "         1           0.8743            7.23m\n",
            "         2           0.8639            6.83m\n",
            "         3           0.8574            6.84m\n",
            "         4           0.8524            6.72m\n",
            "         5           0.8491            6.43m\n",
            "         6           0.8450            6.15m\n",
            "         7           0.8432            6.13m\n",
            "         8           0.8417            5.86m\n",
            "         9           0.8398            5.66m\n",
            "        10           0.8374            5.39m\n",
            "        20           0.8271            3.77m\n",
            "        30           0.8212            2.50m\n",
            "        40           0.8173            1.24m\n",
            "        50           0.8134            0.00s\n"
          ],
          "name": "stdout"
        },
        {
          "output_type": "execute_result",
          "data": {
            "text/plain": [
              "GradientBoostingClassifier(criterion='friedman_mse', init=None,\n",
              "                           learning_rate=0.8, loss='deviance', max_depth=3,\n",
              "                           max_features=None, max_leaf_nodes=None,\n",
              "                           min_impurity_decrease=0.0, min_impurity_split=None,\n",
              "                           min_samples_leaf=1, min_samples_split=2,\n",
              "                           min_weight_fraction_leaf=0.0, n_estimators=50,\n",
              "                           n_iter_no_change=None, presort='auto',\n",
              "                           random_state=None, subsample=1.0, tol=0.0001,\n",
              "                           validation_fraction=0.1, verbose=1,\n",
              "                           warm_start=False)"
            ]
          },
          "metadata": {
            "tags": []
          },
          "execution_count": 46
        }
      ]
    },
    {
      "cell_type": "code",
      "metadata": {
        "id": "2mD8vNR-YcXd",
        "colab_type": "code",
        "colab": {
          "base_uri": "https://localhost:8080/",
          "height": 33
        },
        "outputId": "81785cfc-2220-47d7-9363-0724fceee7ad"
      },
      "source": [
        "soft = gb.predict(Xtest_oh)\n",
        "log_loss(ytest, soft), roc_auc_score(ytest, soft)"
      ],
      "execution_count": 47,
      "outputs": [
        {
          "output_type": "execute_result",
          "data": {
            "text/plain": [
              "(5.763149088794323, 0.5351757001693583)"
            ]
          },
          "metadata": {
            "tags": []
          },
          "execution_count": 47
        }
      ]
    },
    {
      "cell_type": "markdown",
      "metadata": {
        "id": "LwRasRUrYcXe",
        "colab_type": "text"
      },
      "source": [
        "<font color=\"red\">**Question**:\n",
        "    What does the 'gb.estimators_' output?\n",
        "</font>"
      ]
    },
    {
      "cell_type": "code",
      "metadata": {
        "id": "93aySiwVYcXf",
        "colab_type": "code",
        "colab": {
          "base_uri": "https://localhost:8080/",
          "height": 33
        },
        "outputId": "baf01d3f-a997-4e55-d753-0c94c651da7c"
      },
      "source": [
        "print(gb.estimators_.shape)"
      ],
      "execution_count": 48,
      "outputs": [
        {
          "output_type": "stream",
          "text": [
            "(50, 1)\n"
          ],
          "name": "stdout"
        }
      ]
    },
    {
      "cell_type": "markdown",
      "metadata": {
        "colab_type": "text",
        "id": "XR6NDWxJ3_et"
      },
      "source": [
        "#Your answer here\n",
        "\n",
        "The gb.estimators_ output the list of decision trees that have been built after fitting the gradient boost estimator with data."
      ]
    },
    {
      "cell_type": "markdown",
      "metadata": {
        "id": "ti_dNmw8YcXi",
        "colab_type": "text"
      },
      "source": [
        "We now try to use the 'gb' classifier to generate features that will be relevant inputs for the logistic regression.\n",
        "\n",
        "<font color=\"red\">**Question**:\n",
        "    With the 'gb.apply()' method, generate a transformation 'leafs_train' of the training set 'Xtrain_oh[:, cols_to_keep]' for which the n-th column corresponds to the number of the leaf returned by the estimator n.\n",
        "</font>\n",
        "\n",
        "gb.apply(self,X): \n",
        "\n",
        "* X : {array-like, sparse matrix}, shape (n_samples, n_features) is the input array.\n",
        "\n",
        "* returns X_leaves : array-like, shape (n_samples, n_estimators, n_classes), where nclasses = 1 in the case of a binary classification problem."
      ]
    },
    {
      "cell_type": "code",
      "metadata": {
        "id": "cmJhb7tcYcXi",
        "colab_type": "code",
        "colab": {}
      },
      "source": [
        "# Test here the gb.apply method on Xtrain[:, cols_to_keep]\n",
        "#Xtrain_o is already of the because it has been sliced previously!!\n",
        "leafs_train = gb.apply(Xtrain_oh)[:,:,0]\n",
        "leafs_test = gb.apply(Xtest_oh)[:,:,0]"
      ],
      "execution_count": 0,
      "outputs": []
    },
    {
      "cell_type": "markdown",
      "metadata": {
        "id": "f88rLF6fYcXk",
        "colab_type": "text"
      },
      "source": [
        "After your applied gb.apply on Xtrain_oh[:, cols_to_keep], remember that we have only one class to predict (click = 0 or 1). So, do not forget to slice your output with [:, :, 0] in order to keep, firstly, all the samples, and secondly all your 50 estimators.\n",
        "\n",
        "Hint: you can have a look at the dimensions of your output with .shape !"
      ]
    },
    {
      "cell_type": "code",
      "metadata": {
        "id": "jiZ-Q28JYcXk",
        "colab_type": "code",
        "colab": {
          "base_uri": "https://localhost:8080/",
          "height": 216
        },
        "outputId": "b543b9a4-1751-4b40-f16d-bb8d2440cf5a"
      },
      "source": [
        "leafs_train = pd.DataFrame(leafs_train) # Fill here\n",
        "leafs_test = pd.DataFrame(leafs_test)\n",
        "leafs_train.head()"
      ],
      "execution_count": 50,
      "outputs": [
        {
          "output_type": "execute_result",
          "data": {
            "text/html": [
              "<div>\n",
              "<style scoped>\n",
              "    .dataframe tbody tr th:only-of-type {\n",
              "        vertical-align: middle;\n",
              "    }\n",
              "\n",
              "    .dataframe tbody tr th {\n",
              "        vertical-align: top;\n",
              "    }\n",
              "\n",
              "    .dataframe thead th {\n",
              "        text-align: right;\n",
              "    }\n",
              "</style>\n",
              "<table border=\"1\" class=\"dataframe\">\n",
              "  <thead>\n",
              "    <tr style=\"text-align: right;\">\n",
              "      <th></th>\n",
              "      <th>0</th>\n",
              "      <th>1</th>\n",
              "      <th>2</th>\n",
              "      <th>3</th>\n",
              "      <th>4</th>\n",
              "      <th>5</th>\n",
              "      <th>6</th>\n",
              "      <th>7</th>\n",
              "      <th>8</th>\n",
              "      <th>9</th>\n",
              "      <th>10</th>\n",
              "      <th>11</th>\n",
              "      <th>12</th>\n",
              "      <th>13</th>\n",
              "      <th>14</th>\n",
              "      <th>15</th>\n",
              "      <th>16</th>\n",
              "      <th>17</th>\n",
              "      <th>18</th>\n",
              "      <th>19</th>\n",
              "      <th>20</th>\n",
              "      <th>21</th>\n",
              "      <th>22</th>\n",
              "      <th>23</th>\n",
              "      <th>24</th>\n",
              "      <th>25</th>\n",
              "      <th>26</th>\n",
              "      <th>27</th>\n",
              "      <th>28</th>\n",
              "      <th>29</th>\n",
              "      <th>30</th>\n",
              "      <th>31</th>\n",
              "      <th>32</th>\n",
              "      <th>33</th>\n",
              "      <th>34</th>\n",
              "      <th>35</th>\n",
              "      <th>36</th>\n",
              "      <th>37</th>\n",
              "      <th>38</th>\n",
              "      <th>39</th>\n",
              "      <th>40</th>\n",
              "      <th>41</th>\n",
              "      <th>42</th>\n",
              "      <th>43</th>\n",
              "      <th>44</th>\n",
              "      <th>45</th>\n",
              "      <th>46</th>\n",
              "      <th>47</th>\n",
              "      <th>48</th>\n",
              "      <th>49</th>\n",
              "    </tr>\n",
              "  </thead>\n",
              "  <tbody>\n",
              "    <tr>\n",
              "      <th>0</th>\n",
              "      <td>3.0</td>\n",
              "      <td>3.0</td>\n",
              "      <td>3.0</td>\n",
              "      <td>3.0</td>\n",
              "      <td>3.0</td>\n",
              "      <td>3.0</td>\n",
              "      <td>3.0</td>\n",
              "      <td>3.0</td>\n",
              "      <td>3.0</td>\n",
              "      <td>3.0</td>\n",
              "      <td>3.0</td>\n",
              "      <td>3.0</td>\n",
              "      <td>3.0</td>\n",
              "      <td>4.0</td>\n",
              "      <td>3.0</td>\n",
              "      <td>3.0</td>\n",
              "      <td>4.0</td>\n",
              "      <td>3.0</td>\n",
              "      <td>3.0</td>\n",
              "      <td>3.0</td>\n",
              "      <td>3.0</td>\n",
              "      <td>3.0</td>\n",
              "      <td>3.0</td>\n",
              "      <td>3.0</td>\n",
              "      <td>3.0</td>\n",
              "      <td>3.0</td>\n",
              "      <td>3.0</td>\n",
              "      <td>3.0</td>\n",
              "      <td>3.0</td>\n",
              "      <td>3.0</td>\n",
              "      <td>3.0</td>\n",
              "      <td>4.0</td>\n",
              "      <td>3.0</td>\n",
              "      <td>3.0</td>\n",
              "      <td>3.0</td>\n",
              "      <td>3.0</td>\n",
              "      <td>3.0</td>\n",
              "      <td>3.0</td>\n",
              "      <td>3.0</td>\n",
              "      <td>3.0</td>\n",
              "      <td>3.0</td>\n",
              "      <td>3.0</td>\n",
              "      <td>6.0</td>\n",
              "      <td>3.0</td>\n",
              "      <td>3.0</td>\n",
              "      <td>3.0</td>\n",
              "      <td>3.0</td>\n",
              "      <td>3.0</td>\n",
              "      <td>3.0</td>\n",
              "      <td>3.0</td>\n",
              "    </tr>\n",
              "    <tr>\n",
              "      <th>1</th>\n",
              "      <td>3.0</td>\n",
              "      <td>3.0</td>\n",
              "      <td>3.0</td>\n",
              "      <td>3.0</td>\n",
              "      <td>3.0</td>\n",
              "      <td>3.0</td>\n",
              "      <td>3.0</td>\n",
              "      <td>3.0</td>\n",
              "      <td>3.0</td>\n",
              "      <td>3.0</td>\n",
              "      <td>3.0</td>\n",
              "      <td>3.0</td>\n",
              "      <td>3.0</td>\n",
              "      <td>4.0</td>\n",
              "      <td>3.0</td>\n",
              "      <td>3.0</td>\n",
              "      <td>4.0</td>\n",
              "      <td>3.0</td>\n",
              "      <td>3.0</td>\n",
              "      <td>3.0</td>\n",
              "      <td>3.0</td>\n",
              "      <td>3.0</td>\n",
              "      <td>3.0</td>\n",
              "      <td>3.0</td>\n",
              "      <td>3.0</td>\n",
              "      <td>3.0</td>\n",
              "      <td>3.0</td>\n",
              "      <td>3.0</td>\n",
              "      <td>3.0</td>\n",
              "      <td>3.0</td>\n",
              "      <td>3.0</td>\n",
              "      <td>4.0</td>\n",
              "      <td>3.0</td>\n",
              "      <td>3.0</td>\n",
              "      <td>3.0</td>\n",
              "      <td>3.0</td>\n",
              "      <td>3.0</td>\n",
              "      <td>3.0</td>\n",
              "      <td>3.0</td>\n",
              "      <td>3.0</td>\n",
              "      <td>3.0</td>\n",
              "      <td>3.0</td>\n",
              "      <td>6.0</td>\n",
              "      <td>3.0</td>\n",
              "      <td>3.0</td>\n",
              "      <td>3.0</td>\n",
              "      <td>3.0</td>\n",
              "      <td>3.0</td>\n",
              "      <td>3.0</td>\n",
              "      <td>3.0</td>\n",
              "    </tr>\n",
              "    <tr>\n",
              "      <th>2</th>\n",
              "      <td>3.0</td>\n",
              "      <td>3.0</td>\n",
              "      <td>3.0</td>\n",
              "      <td>3.0</td>\n",
              "      <td>3.0</td>\n",
              "      <td>3.0</td>\n",
              "      <td>3.0</td>\n",
              "      <td>3.0</td>\n",
              "      <td>3.0</td>\n",
              "      <td>3.0</td>\n",
              "      <td>3.0</td>\n",
              "      <td>3.0</td>\n",
              "      <td>3.0</td>\n",
              "      <td>3.0</td>\n",
              "      <td>3.0</td>\n",
              "      <td>3.0</td>\n",
              "      <td>4.0</td>\n",
              "      <td>3.0</td>\n",
              "      <td>3.0</td>\n",
              "      <td>3.0</td>\n",
              "      <td>4.0</td>\n",
              "      <td>3.0</td>\n",
              "      <td>3.0</td>\n",
              "      <td>3.0</td>\n",
              "      <td>3.0</td>\n",
              "      <td>3.0</td>\n",
              "      <td>3.0</td>\n",
              "      <td>3.0</td>\n",
              "      <td>3.0</td>\n",
              "      <td>3.0</td>\n",
              "      <td>3.0</td>\n",
              "      <td>3.0</td>\n",
              "      <td>3.0</td>\n",
              "      <td>3.0</td>\n",
              "      <td>3.0</td>\n",
              "      <td>3.0</td>\n",
              "      <td>3.0</td>\n",
              "      <td>3.0</td>\n",
              "      <td>3.0</td>\n",
              "      <td>3.0</td>\n",
              "      <td>3.0</td>\n",
              "      <td>3.0</td>\n",
              "      <td>6.0</td>\n",
              "      <td>3.0</td>\n",
              "      <td>3.0</td>\n",
              "      <td>3.0</td>\n",
              "      <td>3.0</td>\n",
              "      <td>3.0</td>\n",
              "      <td>3.0</td>\n",
              "      <td>3.0</td>\n",
              "    </tr>\n",
              "    <tr>\n",
              "      <th>3</th>\n",
              "      <td>3.0</td>\n",
              "      <td>3.0</td>\n",
              "      <td>3.0</td>\n",
              "      <td>3.0</td>\n",
              "      <td>3.0</td>\n",
              "      <td>7.0</td>\n",
              "      <td>3.0</td>\n",
              "      <td>3.0</td>\n",
              "      <td>3.0</td>\n",
              "      <td>3.0</td>\n",
              "      <td>3.0</td>\n",
              "      <td>3.0</td>\n",
              "      <td>3.0</td>\n",
              "      <td>3.0</td>\n",
              "      <td>3.0</td>\n",
              "      <td>3.0</td>\n",
              "      <td>4.0</td>\n",
              "      <td>3.0</td>\n",
              "      <td>3.0</td>\n",
              "      <td>3.0</td>\n",
              "      <td>3.0</td>\n",
              "      <td>3.0</td>\n",
              "      <td>3.0</td>\n",
              "      <td>3.0</td>\n",
              "      <td>3.0</td>\n",
              "      <td>3.0</td>\n",
              "      <td>3.0</td>\n",
              "      <td>3.0</td>\n",
              "      <td>3.0</td>\n",
              "      <td>3.0</td>\n",
              "      <td>3.0</td>\n",
              "      <td>3.0</td>\n",
              "      <td>3.0</td>\n",
              "      <td>3.0</td>\n",
              "      <td>3.0</td>\n",
              "      <td>3.0</td>\n",
              "      <td>10.0</td>\n",
              "      <td>3.0</td>\n",
              "      <td>3.0</td>\n",
              "      <td>3.0</td>\n",
              "      <td>3.0</td>\n",
              "      <td>3.0</td>\n",
              "      <td>6.0</td>\n",
              "      <td>3.0</td>\n",
              "      <td>3.0</td>\n",
              "      <td>3.0</td>\n",
              "      <td>3.0</td>\n",
              "      <td>3.0</td>\n",
              "      <td>3.0</td>\n",
              "      <td>3.0</td>\n",
              "    </tr>\n",
              "    <tr>\n",
              "      <th>4</th>\n",
              "      <td>3.0</td>\n",
              "      <td>13.0</td>\n",
              "      <td>3.0</td>\n",
              "      <td>3.0</td>\n",
              "      <td>3.0</td>\n",
              "      <td>6.0</td>\n",
              "      <td>3.0</td>\n",
              "      <td>3.0</td>\n",
              "      <td>3.0</td>\n",
              "      <td>10.0</td>\n",
              "      <td>3.0</td>\n",
              "      <td>3.0</td>\n",
              "      <td>3.0</td>\n",
              "      <td>4.0</td>\n",
              "      <td>3.0</td>\n",
              "      <td>3.0</td>\n",
              "      <td>4.0</td>\n",
              "      <td>3.0</td>\n",
              "      <td>3.0</td>\n",
              "      <td>3.0</td>\n",
              "      <td>3.0</td>\n",
              "      <td>3.0</td>\n",
              "      <td>3.0</td>\n",
              "      <td>3.0</td>\n",
              "      <td>3.0</td>\n",
              "      <td>3.0</td>\n",
              "      <td>3.0</td>\n",
              "      <td>3.0</td>\n",
              "      <td>3.0</td>\n",
              "      <td>3.0</td>\n",
              "      <td>3.0</td>\n",
              "      <td>4.0</td>\n",
              "      <td>3.0</td>\n",
              "      <td>3.0</td>\n",
              "      <td>3.0</td>\n",
              "      <td>3.0</td>\n",
              "      <td>3.0</td>\n",
              "      <td>3.0</td>\n",
              "      <td>3.0</td>\n",
              "      <td>3.0</td>\n",
              "      <td>3.0</td>\n",
              "      <td>3.0</td>\n",
              "      <td>6.0</td>\n",
              "      <td>3.0</td>\n",
              "      <td>3.0</td>\n",
              "      <td>3.0</td>\n",
              "      <td>3.0</td>\n",
              "      <td>3.0</td>\n",
              "      <td>3.0</td>\n",
              "      <td>3.0</td>\n",
              "    </tr>\n",
              "  </tbody>\n",
              "</table>\n",
              "</div>"
            ],
            "text/plain": [
              "    0     1    2    3    4    5    6   ...   43   44   45   46   47   48   49\n",
              "0  3.0   3.0  3.0  3.0  3.0  3.0  3.0  ...  3.0  3.0  3.0  3.0  3.0  3.0  3.0\n",
              "1  3.0   3.0  3.0  3.0  3.0  3.0  3.0  ...  3.0  3.0  3.0  3.0  3.0  3.0  3.0\n",
              "2  3.0   3.0  3.0  3.0  3.0  3.0  3.0  ...  3.0  3.0  3.0  3.0  3.0  3.0  3.0\n",
              "3  3.0   3.0  3.0  3.0  3.0  7.0  3.0  ...  3.0  3.0  3.0  3.0  3.0  3.0  3.0\n",
              "4  3.0  13.0  3.0  3.0  3.0  6.0  3.0  ...  3.0  3.0  3.0  3.0  3.0  3.0  3.0\n",
              "\n",
              "[5 rows x 50 columns]"
            ]
          },
          "metadata": {
            "tags": []
          },
          "execution_count": 50
        }
      ]
    },
    {
      "cell_type": "markdown",
      "metadata": {
        "id": "qzp8_EGTYcXm",
        "colab_type": "text"
      },
      "source": [
        "<font color=\"red\">**Question**:\n",
        "    Encode these new features into dummies.\n",
        "</font>"
      ]
    },
    {
      "cell_type": "code",
      "metadata": {
        "id": "9NJku301YcXn",
        "colab_type": "code",
        "colab": {}
      },
      "source": [
        "ohe = OneHotEncoder(handle_unknown=\"ignore\") # Fill here an argument if needed\n",
        "leafs_train_oh = ohe.fit_transform(leafs_train)\n",
        "leafs_test_oh = ohe.transform(leafs_test)"
      ],
      "execution_count": 0,
      "outputs": []
    },
    {
      "cell_type": "markdown",
      "metadata": {
        "id": "2HLSbinZYcXp",
        "colab_type": "text"
      },
      "source": [
        "<font color=\"red\">**Question**:\n",
        "    With the \"hstack\" function, create a new matrix of features by concatenating horizontally our new features \"leafs_train_oh\" and \"leafs_test_oh\", and previous features used for logistic regression (e.g. in \"Xtrain_oh[:, cols_to_keep]\").\n",
        "</font>\n",
        "<br><br>\n",
        "**Remark**: we use \"hstack\" from scipy.sparse (and not from numpy) because the output of our OneHotEncoder is a sparse array. You can verify it with the command \"type(Xtrain_oh)\"."
      ]
    },
    {
      "cell_type": "code",
      "metadata": {
        "id": "wjhhFyZvYcXp",
        "colab_type": "code",
        "colab": {}
      },
      "source": [
        "from scipy.sparse import csr_matrix, hstack\n",
        "\n",
        "Xtrain_concat = hstack([Xtrain_oh,leafs_train]) # Fill here\n",
        "Xtest_concat = hstack([Xtest_oh,leafs_test])"
      ],
      "execution_count": 0,
      "outputs": []
    },
    {
      "cell_type": "markdown",
      "metadata": {
        "id": "xU9nmnoAYcXr",
        "colab_type": "text"
      },
      "source": [
        "<font color=\"red\">**Question**:\n",
        "    Run a logistic regression on the new features and evaluate its performance as before. \n",
        "    <br>\n",
        "    Warning: be patient, fitting should take about 5 minutes on Google Colab.\n",
        "</font>"
      ]
    },
    {
      "cell_type": "code",
      "metadata": {
        "id": "GENT6fHnYcXs",
        "colab_type": "code",
        "colab": {
          "base_uri": "https://localhost:8080/",
          "height": 154
        },
        "outputId": "3eb024a9-b001-461b-9fd6-9ab67bfaa5cc"
      },
      "source": [
        "lr = LogisticRegression(C=1e15)\n",
        "lr.fit(Xtrain_concat,ytrain)\n",
        "\n"
      ],
      "execution_count": 53,
      "outputs": [
        {
          "output_type": "stream",
          "text": [
            "/usr/local/lib/python3.6/dist-packages/sklearn/linear_model/logistic.py:432: FutureWarning: Default solver will be changed to 'lbfgs' in 0.22. Specify a solver to silence this warning.\n",
            "  FutureWarning)\n"
          ],
          "name": "stderr"
        },
        {
          "output_type": "execute_result",
          "data": {
            "text/plain": [
              "LogisticRegression(C=1000000000000000.0, class_weight=None, dual=False,\n",
              "                   fit_intercept=True, intercept_scaling=1, l1_ratio=None,\n",
              "                   max_iter=100, multi_class='warn', n_jobs=None, penalty='l2',\n",
              "                   random_state=None, solver='warn', tol=0.0001, verbose=0,\n",
              "                   warm_start=False)"
            ]
          },
          "metadata": {
            "tags": []
          },
          "execution_count": 53
        }
      ]
    },
    {
      "cell_type": "code",
      "metadata": {
        "id": "7zO0WucTy2CH",
        "colab_type": "code",
        "colab": {
          "base_uri": "https://localhost:8080/",
          "height": 33
        },
        "outputId": "d39b587f-c4b4-4355-c1f7-772e71caf586"
      },
      "source": [
        "#MODEL EVALUATION\n",
        "soft = lr.predict_proba(Xtest_concat)\n",
        "area =  roc_auc_score(ytest,soft[:,1])\n",
        "loss = log_loss(ytest,soft[:,1])\n",
        "print(loss,area)"
      ],
      "execution_count": 54,
      "outputs": [
        {
          "output_type": "stream",
          "text": [
            "0.3981537900341594 0.7457658066637322\n"
          ],
          "name": "stdout"
        }
      ]
    },
    {
      "cell_type": "markdown",
      "metadata": {
        "id": "3vDy-1CZ436y",
        "colab_type": "text"
      },
      "source": [
        "We can notice how the performance of the lr is similar to the one of the revious lr wiht a subset of features!! "
      ]
    },
    {
      "cell_type": "markdown",
      "metadata": {
        "id": "0ZtUqINfYcX2",
        "colab_type": "text"
      },
      "source": [
        "<font color=\"red\">**Question**:\n",
        "    <br>\n",
        "    - Import XGBClassifier from xgboost package.\n",
        "    <br>\n",
        "    - Initialize it using the same number of estimators and learning rate as before. Set the 'n_jobs' to -1.\n",
        "    <br>\n",
        "    - Fit it on the same columns 'cols_to_keep' of Xtrain_oh than for the previous logistic regression.\n",
        "    <br>\n",
        "    - Evaluate its performance and compare it to the GradientBoosting classifier of scikit learn. How is the error? Does it take more time to run?\n",
        "</font>"
      ]
    },
    {
      "cell_type": "code",
      "metadata": {
        "id": "n2SeSnz_YcX3",
        "colab_type": "code",
        "colab": {
          "base_uri": "https://localhost:8080/",
          "height": 1000
        },
        "outputId": "a20a0976-75b3-4c03-ba47-1eab0f4c9442"
      },
      "source": [
        "from xgboost import XGBClassifier\n",
        "\n",
        "xgb = XGBClassifier(learning_rate=0.8,n_estimators=100,n_jobs=-1,verbosity =2)\n",
        "%time xgb.fit(Xtrain_oh,ytrain)"
      ],
      "execution_count": 55,
      "outputs": [
        {
          "output_type": "stream",
          "text": [
            "[16:00:49] INFO: /workspace/src/tree/updater_prune.cc:74: tree pruning end, 1 roots, 14 extra nodes, 0 pruned nodes, max_depth=3\n",
            "[16:00:50] INFO: /workspace/src/tree/updater_prune.cc:74: tree pruning end, 1 roots, 14 extra nodes, 0 pruned nodes, max_depth=3\n",
            "[16:00:50] INFO: /workspace/src/tree/updater_prune.cc:74: tree pruning end, 1 roots, 14 extra nodes, 0 pruned nodes, max_depth=3\n",
            "[16:00:51] INFO: /workspace/src/tree/updater_prune.cc:74: tree pruning end, 1 roots, 14 extra nodes, 0 pruned nodes, max_depth=3\n",
            "[16:00:52] INFO: /workspace/src/tree/updater_prune.cc:74: tree pruning end, 1 roots, 14 extra nodes, 0 pruned nodes, max_depth=3\n",
            "[16:00:53] INFO: /workspace/src/tree/updater_prune.cc:74: tree pruning end, 1 roots, 12 extra nodes, 0 pruned nodes, max_depth=3\n",
            "[16:00:53] INFO: /workspace/src/tree/updater_prune.cc:74: tree pruning end, 1 roots, 14 extra nodes, 0 pruned nodes, max_depth=3\n",
            "[16:00:54] INFO: /workspace/src/tree/updater_prune.cc:74: tree pruning end, 1 roots, 14 extra nodes, 0 pruned nodes, max_depth=3\n",
            "[16:00:55] INFO: /workspace/src/tree/updater_prune.cc:74: tree pruning end, 1 roots, 14 extra nodes, 0 pruned nodes, max_depth=3\n",
            "[16:00:55] INFO: /workspace/src/tree/updater_prune.cc:74: tree pruning end, 1 roots, 12 extra nodes, 0 pruned nodes, max_depth=3\n",
            "[16:00:56] INFO: /workspace/src/tree/updater_prune.cc:74: tree pruning end, 1 roots, 14 extra nodes, 0 pruned nodes, max_depth=3\n",
            "[16:00:57] INFO: /workspace/src/tree/updater_prune.cc:74: tree pruning end, 1 roots, 14 extra nodes, 0 pruned nodes, max_depth=3\n",
            "[16:00:57] INFO: /workspace/src/tree/updater_prune.cc:74: tree pruning end, 1 roots, 14 extra nodes, 0 pruned nodes, max_depth=3\n",
            "[16:00:58] INFO: /workspace/src/tree/updater_prune.cc:74: tree pruning end, 1 roots, 14 extra nodes, 0 pruned nodes, max_depth=3\n",
            "[16:00:59] INFO: /workspace/src/tree/updater_prune.cc:74: tree pruning end, 1 roots, 14 extra nodes, 0 pruned nodes, max_depth=3\n",
            "[16:01:00] INFO: /workspace/src/tree/updater_prune.cc:74: tree pruning end, 1 roots, 14 extra nodes, 0 pruned nodes, max_depth=3\n",
            "[16:01:00] INFO: /workspace/src/tree/updater_prune.cc:74: tree pruning end, 1 roots, 14 extra nodes, 0 pruned nodes, max_depth=3\n",
            "[16:01:01] INFO: /workspace/src/tree/updater_prune.cc:74: tree pruning end, 1 roots, 14 extra nodes, 0 pruned nodes, max_depth=3\n",
            "[16:01:01] INFO: /workspace/src/tree/updater_prune.cc:74: tree pruning end, 1 roots, 12 extra nodes, 0 pruned nodes, max_depth=3\n",
            "[16:01:02] INFO: /workspace/src/tree/updater_prune.cc:74: tree pruning end, 1 roots, 12 extra nodes, 0 pruned nodes, max_depth=3\n",
            "[16:01:03] INFO: /workspace/src/tree/updater_prune.cc:74: tree pruning end, 1 roots, 12 extra nodes, 0 pruned nodes, max_depth=3\n",
            "[16:01:03] INFO: /workspace/src/tree/updater_prune.cc:74: tree pruning end, 1 roots, 12 extra nodes, 0 pruned nodes, max_depth=3\n",
            "[16:01:04] INFO: /workspace/src/tree/updater_prune.cc:74: tree pruning end, 1 roots, 14 extra nodes, 0 pruned nodes, max_depth=3\n",
            "[16:01:05] INFO: /workspace/src/tree/updater_prune.cc:74: tree pruning end, 1 roots, 14 extra nodes, 0 pruned nodes, max_depth=3\n",
            "[16:01:05] INFO: /workspace/src/tree/updater_prune.cc:74: tree pruning end, 1 roots, 14 extra nodes, 0 pruned nodes, max_depth=3\n",
            "[16:01:06] INFO: /workspace/src/tree/updater_prune.cc:74: tree pruning end, 1 roots, 14 extra nodes, 0 pruned nodes, max_depth=3\n",
            "[16:01:07] INFO: /workspace/src/tree/updater_prune.cc:74: tree pruning end, 1 roots, 14 extra nodes, 0 pruned nodes, max_depth=3\n",
            "[16:01:07] INFO: /workspace/src/tree/updater_prune.cc:74: tree pruning end, 1 roots, 12 extra nodes, 0 pruned nodes, max_depth=3\n",
            "[16:01:08] INFO: /workspace/src/tree/updater_prune.cc:74: tree pruning end, 1 roots, 14 extra nodes, 0 pruned nodes, max_depth=3\n",
            "[16:01:09] INFO: /workspace/src/tree/updater_prune.cc:74: tree pruning end, 1 roots, 12 extra nodes, 0 pruned nodes, max_depth=3\n",
            "[16:01:10] INFO: /workspace/src/tree/updater_prune.cc:74: tree pruning end, 1 roots, 14 extra nodes, 0 pruned nodes, max_depth=3\n",
            "[16:01:10] INFO: /workspace/src/tree/updater_prune.cc:74: tree pruning end, 1 roots, 14 extra nodes, 0 pruned nodes, max_depth=3\n",
            "[16:01:11] INFO: /workspace/src/tree/updater_prune.cc:74: tree pruning end, 1 roots, 12 extra nodes, 0 pruned nodes, max_depth=3\n",
            "[16:01:12] INFO: /workspace/src/tree/updater_prune.cc:74: tree pruning end, 1 roots, 14 extra nodes, 0 pruned nodes, max_depth=3\n",
            "[16:01:12] INFO: /workspace/src/tree/updater_prune.cc:74: tree pruning end, 1 roots, 8 extra nodes, 0 pruned nodes, max_depth=3\n",
            "[16:01:13] INFO: /workspace/src/tree/updater_prune.cc:74: tree pruning end, 1 roots, 8 extra nodes, 0 pruned nodes, max_depth=3\n",
            "[16:01:14] INFO: /workspace/src/tree/updater_prune.cc:74: tree pruning end, 1 roots, 14 extra nodes, 0 pruned nodes, max_depth=3\n",
            "[16:01:15] INFO: /workspace/src/tree/updater_prune.cc:74: tree pruning end, 1 roots, 14 extra nodes, 0 pruned nodes, max_depth=3\n",
            "[16:01:15] INFO: /workspace/src/tree/updater_prune.cc:74: tree pruning end, 1 roots, 12 extra nodes, 0 pruned nodes, max_depth=3\n",
            "[16:01:16] INFO: /workspace/src/tree/updater_prune.cc:74: tree pruning end, 1 roots, 14 extra nodes, 0 pruned nodes, max_depth=3\n",
            "[16:01:16] INFO: /workspace/src/tree/updater_prune.cc:74: tree pruning end, 1 roots, 14 extra nodes, 0 pruned nodes, max_depth=3\n",
            "[16:01:17] INFO: /workspace/src/tree/updater_prune.cc:74: tree pruning end, 1 roots, 12 extra nodes, 0 pruned nodes, max_depth=3\n",
            "[16:01:18] INFO: /workspace/src/tree/updater_prune.cc:74: tree pruning end, 1 roots, 14 extra nodes, 0 pruned nodes, max_depth=3\n",
            "[16:01:18] INFO: /workspace/src/tree/updater_prune.cc:74: tree pruning end, 1 roots, 12 extra nodes, 0 pruned nodes, max_depth=3\n",
            "[16:01:19] INFO: /workspace/src/tree/updater_prune.cc:74: tree pruning end, 1 roots, 14 extra nodes, 0 pruned nodes, max_depth=3\n",
            "[16:01:20] INFO: /workspace/src/tree/updater_prune.cc:74: tree pruning end, 1 roots, 14 extra nodes, 0 pruned nodes, max_depth=3\n",
            "[16:01:21] INFO: /workspace/src/tree/updater_prune.cc:74: tree pruning end, 1 roots, 14 extra nodes, 0 pruned nodes, max_depth=3\n",
            "[16:01:21] INFO: /workspace/src/tree/updater_prune.cc:74: tree pruning end, 1 roots, 14 extra nodes, 0 pruned nodes, max_depth=3\n",
            "[16:01:22] INFO: /workspace/src/tree/updater_prune.cc:74: tree pruning end, 1 roots, 14 extra nodes, 0 pruned nodes, max_depth=3\n",
            "[16:01:23] INFO: /workspace/src/tree/updater_prune.cc:74: tree pruning end, 1 roots, 12 extra nodes, 0 pruned nodes, max_depth=3\n",
            "[16:01:23] INFO: /workspace/src/tree/updater_prune.cc:74: tree pruning end, 1 roots, 12 extra nodes, 0 pruned nodes, max_depth=3\n",
            "[16:01:24] INFO: /workspace/src/tree/updater_prune.cc:74: tree pruning end, 1 roots, 12 extra nodes, 0 pruned nodes, max_depth=3\n",
            "[16:01:25] INFO: /workspace/src/tree/updater_prune.cc:74: tree pruning end, 1 roots, 12 extra nodes, 0 pruned nodes, max_depth=3\n",
            "[16:01:26] INFO: /workspace/src/tree/updater_prune.cc:74: tree pruning end, 1 roots, 12 extra nodes, 0 pruned nodes, max_depth=3\n",
            "[16:01:26] INFO: /workspace/src/tree/updater_prune.cc:74: tree pruning end, 1 roots, 12 extra nodes, 0 pruned nodes, max_depth=3\n",
            "[16:01:27] INFO: /workspace/src/tree/updater_prune.cc:74: tree pruning end, 1 roots, 14 extra nodes, 0 pruned nodes, max_depth=3\n",
            "[16:01:27] INFO: /workspace/src/tree/updater_prune.cc:74: tree pruning end, 1 roots, 14 extra nodes, 0 pruned nodes, max_depth=3\n",
            "[16:01:28] INFO: /workspace/src/tree/updater_prune.cc:74: tree pruning end, 1 roots, 14 extra nodes, 0 pruned nodes, max_depth=3\n",
            "[16:01:29] INFO: /workspace/src/tree/updater_prune.cc:74: tree pruning end, 1 roots, 12 extra nodes, 0 pruned nodes, max_depth=3\n",
            "[16:01:29] INFO: /workspace/src/tree/updater_prune.cc:74: tree pruning end, 1 roots, 12 extra nodes, 0 pruned nodes, max_depth=3\n",
            "[16:01:30] INFO: /workspace/src/tree/updater_prune.cc:74: tree pruning end, 1 roots, 12 extra nodes, 0 pruned nodes, max_depth=3\n",
            "[16:01:31] INFO: /workspace/src/tree/updater_prune.cc:74: tree pruning end, 1 roots, 12 extra nodes, 0 pruned nodes, max_depth=3\n",
            "[16:01:31] INFO: /workspace/src/tree/updater_prune.cc:74: tree pruning end, 1 roots, 8 extra nodes, 0 pruned nodes, max_depth=3\n",
            "[16:01:32] INFO: /workspace/src/tree/updater_prune.cc:74: tree pruning end, 1 roots, 14 extra nodes, 0 pruned nodes, max_depth=3\n",
            "[16:01:33] INFO: /workspace/src/tree/updater_prune.cc:74: tree pruning end, 1 roots, 12 extra nodes, 0 pruned nodes, max_depth=3\n",
            "[16:01:33] INFO: /workspace/src/tree/updater_prune.cc:74: tree pruning end, 1 roots, 14 extra nodes, 0 pruned nodes, max_depth=3\n",
            "[16:01:34] INFO: /workspace/src/tree/updater_prune.cc:74: tree pruning end, 1 roots, 14 extra nodes, 0 pruned nodes, max_depth=3\n",
            "[16:01:35] INFO: /workspace/src/tree/updater_prune.cc:74: tree pruning end, 1 roots, 14 extra nodes, 0 pruned nodes, max_depth=3\n",
            "[16:01:35] INFO: /workspace/src/tree/updater_prune.cc:74: tree pruning end, 1 roots, 14 extra nodes, 0 pruned nodes, max_depth=3\n",
            "[16:01:36] INFO: /workspace/src/tree/updater_prune.cc:74: tree pruning end, 1 roots, 12 extra nodes, 0 pruned nodes, max_depth=3\n",
            "[16:01:37] INFO: /workspace/src/tree/updater_prune.cc:74: tree pruning end, 1 roots, 14 extra nodes, 0 pruned nodes, max_depth=3\n",
            "[16:01:37] INFO: /workspace/src/tree/updater_prune.cc:74: tree pruning end, 1 roots, 14 extra nodes, 0 pruned nodes, max_depth=3\n",
            "[16:01:38] INFO: /workspace/src/tree/updater_prune.cc:74: tree pruning end, 1 roots, 12 extra nodes, 0 pruned nodes, max_depth=3\n",
            "[16:01:39] INFO: /workspace/src/tree/updater_prune.cc:74: tree pruning end, 1 roots, 12 extra nodes, 0 pruned nodes, max_depth=3\n",
            "[16:01:39] INFO: /workspace/src/tree/updater_prune.cc:74: tree pruning end, 1 roots, 14 extra nodes, 0 pruned nodes, max_depth=3\n",
            "[16:01:40] INFO: /workspace/src/tree/updater_prune.cc:74: tree pruning end, 1 roots, 8 extra nodes, 0 pruned nodes, max_depth=3\n",
            "[16:01:41] INFO: /workspace/src/tree/updater_prune.cc:74: tree pruning end, 1 roots, 12 extra nodes, 0 pruned nodes, max_depth=3\n",
            "[16:01:41] INFO: /workspace/src/tree/updater_prune.cc:74: tree pruning end, 1 roots, 14 extra nodes, 0 pruned nodes, max_depth=3\n",
            "[16:01:42] INFO: /workspace/src/tree/updater_prune.cc:74: tree pruning end, 1 roots, 14 extra nodes, 0 pruned nodes, max_depth=3\n",
            "[16:01:43] INFO: /workspace/src/tree/updater_prune.cc:74: tree pruning end, 1 roots, 14 extra nodes, 0 pruned nodes, max_depth=3\n",
            "[16:01:43] INFO: /workspace/src/tree/updater_prune.cc:74: tree pruning end, 1 roots, 14 extra nodes, 0 pruned nodes, max_depth=3\n",
            "[16:01:44] INFO: /workspace/src/tree/updater_prune.cc:74: tree pruning end, 1 roots, 14 extra nodes, 0 pruned nodes, max_depth=3\n",
            "[16:01:45] INFO: /workspace/src/tree/updater_prune.cc:74: tree pruning end, 1 roots, 14 extra nodes, 0 pruned nodes, max_depth=3\n",
            "[16:01:45] INFO: /workspace/src/tree/updater_prune.cc:74: tree pruning end, 1 roots, 14 extra nodes, 0 pruned nodes, max_depth=3\n",
            "[16:01:46] INFO: /workspace/src/tree/updater_prune.cc:74: tree pruning end, 1 roots, 12 extra nodes, 0 pruned nodes, max_depth=3\n",
            "[16:01:47] INFO: /workspace/src/tree/updater_prune.cc:74: tree pruning end, 1 roots, 8 extra nodes, 0 pruned nodes, max_depth=3\n",
            "[16:01:47] INFO: /workspace/src/tree/updater_prune.cc:74: tree pruning end, 1 roots, 14 extra nodes, 0 pruned nodes, max_depth=3\n",
            "[16:01:48] INFO: /workspace/src/tree/updater_prune.cc:74: tree pruning end, 1 roots, 8 extra nodes, 0 pruned nodes, max_depth=3\n",
            "[16:01:49] INFO: /workspace/src/tree/updater_prune.cc:74: tree pruning end, 1 roots, 12 extra nodes, 0 pruned nodes, max_depth=3\n",
            "[16:01:49] INFO: /workspace/src/tree/updater_prune.cc:74: tree pruning end, 1 roots, 8 extra nodes, 0 pruned nodes, max_depth=3\n",
            "[16:01:50] INFO: /workspace/src/tree/updater_prune.cc:74: tree pruning end, 1 roots, 12 extra nodes, 0 pruned nodes, max_depth=3\n",
            "[16:01:51] INFO: /workspace/src/tree/updater_prune.cc:74: tree pruning end, 1 roots, 8 extra nodes, 0 pruned nodes, max_depth=3\n",
            "[16:01:51] INFO: /workspace/src/tree/updater_prune.cc:74: tree pruning end, 1 roots, 14 extra nodes, 0 pruned nodes, max_depth=3\n",
            "[16:01:52] INFO: /workspace/src/tree/updater_prune.cc:74: tree pruning end, 1 roots, 14 extra nodes, 0 pruned nodes, max_depth=3\n",
            "[16:01:53] INFO: /workspace/src/tree/updater_prune.cc:74: tree pruning end, 1 roots, 12 extra nodes, 0 pruned nodes, max_depth=3\n",
            "[16:01:53] INFO: /workspace/src/tree/updater_prune.cc:74: tree pruning end, 1 roots, 14 extra nodes, 0 pruned nodes, max_depth=3\n",
            "[16:01:54] INFO: /workspace/src/tree/updater_prune.cc:74: tree pruning end, 1 roots, 12 extra nodes, 0 pruned nodes, max_depth=3\n",
            "[16:01:55] INFO: /workspace/src/tree/updater_prune.cc:74: tree pruning end, 1 roots, 12 extra nodes, 0 pruned nodes, max_depth=3\n",
            "[16:01:56] INFO: /workspace/src/tree/updater_prune.cc:74: tree pruning end, 1 roots, 14 extra nodes, 0 pruned nodes, max_depth=3\n",
            "[16:01:56] INFO: /workspace/src/tree/updater_prune.cc:74: tree pruning end, 1 roots, 12 extra nodes, 0 pruned nodes, max_depth=3\n",
            "CPU times: user 2min 20s, sys: 784 ms, total: 2min 21s\n",
            "Wall time: 1min 15s\n"
          ],
          "name": "stdout"
        },
        {
          "output_type": "execute_result",
          "data": {
            "text/plain": [
              "XGBClassifier(base_score=0.5, booster='gbtree', colsample_bylevel=1,\n",
              "              colsample_bynode=1, colsample_bytree=1, gamma=0,\n",
              "              learning_rate=0.8, max_delta_step=0, max_depth=3,\n",
              "              min_child_weight=1, missing=None, n_estimators=100, n_jobs=-1,\n",
              "              nthread=None, objective='binary:logistic', random_state=0,\n",
              "              reg_alpha=0, reg_lambda=1, scale_pos_weight=1, seed=None,\n",
              "              silent=None, subsample=1, verbosity=2)"
            ]
          },
          "metadata": {
            "tags": []
          },
          "execution_count": 55
        }
      ]
    },
    {
      "cell_type": "code",
      "metadata": {
        "id": "TSIwpa1i6r58",
        "colab_type": "code",
        "colab": {
          "base_uri": "https://localhost:8080/",
          "height": 382
        },
        "outputId": "b1b97f56-238a-497d-c346-307239026f40"
      },
      "source": [
        "#EVALUATION OF THE PERFORMANCE\n",
        "soft = xgb.predict_proba(Xtest_oh)\n",
        "print(soft.shape)\n",
        "loss = log_loss(Xtest_oh,soft[:,1])\n",
        "accuracy = accuracy_score(ytest,soft[:,1])\n",
        "area = roc_auc_score(ytest,soft[:,1])\n",
        "\n",
        "print(\"accuracy :\",accuracy, \"roc area :\" , area,\"loss_log\" , loss)"
      ],
      "execution_count": 56,
      "outputs": [
        {
          "output_type": "stream",
          "text": [
            "(100000, 2)\n"
          ],
          "name": "stdout"
        },
        {
          "output_type": "error",
          "ename": "ValueError",
          "evalue": "ignored",
          "traceback": [
            "\u001b[0;31m---------------------------------------------------------------------------\u001b[0m",
            "\u001b[0;31mValueError\u001b[0m                                Traceback (most recent call last)",
            "\u001b[0;32m<ipython-input-56-aee2acf3826a>\u001b[0m in \u001b[0;36m<module>\u001b[0;34m()\u001b[0m\n\u001b[1;32m      1\u001b[0m \u001b[0msoft\u001b[0m \u001b[0;34m=\u001b[0m \u001b[0mxgb\u001b[0m\u001b[0;34m.\u001b[0m\u001b[0mpredict_proba\u001b[0m\u001b[0;34m(\u001b[0m\u001b[0mXtest_oh\u001b[0m\u001b[0;34m)\u001b[0m\u001b[0;34m\u001b[0m\u001b[0;34m\u001b[0m\u001b[0m\n\u001b[1;32m      2\u001b[0m \u001b[0mprint\u001b[0m\u001b[0;34m(\u001b[0m\u001b[0msoft\u001b[0m\u001b[0;34m.\u001b[0m\u001b[0mshape\u001b[0m\u001b[0;34m)\u001b[0m\u001b[0;34m\u001b[0m\u001b[0;34m\u001b[0m\u001b[0m\n\u001b[0;32m----> 3\u001b[0;31m \u001b[0mloss\u001b[0m \u001b[0;34m=\u001b[0m \u001b[0mlog_loss\u001b[0m\u001b[0;34m(\u001b[0m\u001b[0mXtest_oh\u001b[0m\u001b[0;34m,\u001b[0m\u001b[0msoft\u001b[0m\u001b[0;34m[\u001b[0m\u001b[0;34m:\u001b[0m\u001b[0;34m,\u001b[0m\u001b[0;36m1\u001b[0m\u001b[0;34m]\u001b[0m\u001b[0;34m)\u001b[0m\u001b[0;34m\u001b[0m\u001b[0;34m\u001b[0m\u001b[0m\n\u001b[0m\u001b[1;32m      4\u001b[0m \u001b[0maccuracy\u001b[0m \u001b[0;34m=\u001b[0m \u001b[0maccuracy_score\u001b[0m\u001b[0;34m(\u001b[0m\u001b[0mytest\u001b[0m\u001b[0;34m,\u001b[0m\u001b[0msoft\u001b[0m\u001b[0;34m[\u001b[0m\u001b[0;34m:\u001b[0m\u001b[0;34m,\u001b[0m\u001b[0;36m1\u001b[0m\u001b[0;34m]\u001b[0m\u001b[0;34m)\u001b[0m\u001b[0;34m\u001b[0m\u001b[0;34m\u001b[0m\u001b[0m\n\u001b[1;32m      5\u001b[0m \u001b[0marea\u001b[0m \u001b[0;34m=\u001b[0m \u001b[0mroc_auc_score\u001b[0m\u001b[0;34m(\u001b[0m\u001b[0mytest\u001b[0m\u001b[0;34m,\u001b[0m\u001b[0msoft\u001b[0m\u001b[0;34m[\u001b[0m\u001b[0;34m:\u001b[0m\u001b[0;34m,\u001b[0m\u001b[0;36m1\u001b[0m\u001b[0;34m]\u001b[0m\u001b[0;34m)\u001b[0m\u001b[0;34m\u001b[0m\u001b[0;34m\u001b[0m\u001b[0m\n",
            "\u001b[0;32m/usr/local/lib/python3.6/dist-packages/sklearn/metrics/classification.py\u001b[0m in \u001b[0;36mlog_loss\u001b[0;34m(y_true, y_pred, eps, normalize, sample_weight, labels)\u001b[0m\n\u001b[1;32m   2164\u001b[0m                              \"y_true: {2}\".format(transformed_labels.shape[1],\n\u001b[1;32m   2165\u001b[0m                                                   \u001b[0my_pred\u001b[0m\u001b[0;34m.\u001b[0m\u001b[0mshape\u001b[0m\u001b[0;34m[\u001b[0m\u001b[0;36m1\u001b[0m\u001b[0;34m]\u001b[0m\u001b[0;34m,\u001b[0m\u001b[0;34m\u001b[0m\u001b[0;34m\u001b[0m\u001b[0m\n\u001b[0;32m-> 2166\u001b[0;31m                                                   lb.classes_))\n\u001b[0m\u001b[1;32m   2167\u001b[0m         \u001b[0;32melse\u001b[0m\u001b[0;34m:\u001b[0m\u001b[0;34m\u001b[0m\u001b[0;34m\u001b[0m\u001b[0m\n\u001b[1;32m   2168\u001b[0m             raise ValueError('The number of classes in labels is different '\n",
            "\u001b[0;31mValueError\u001b[0m: y_true and y_pred contain different number of classes 3708, 2. Please provide the true labels explicitly through the labels argument. Classes found in y_true: [   0    1    2 ... 3705 3706 3707]"
          ]
        }
      ]
    },
    {
      "cell_type": "markdown",
      "metadata": {
        "id": "55dxXIaDYcX6",
        "colab_type": "text"
      },
      "source": [
        "<font color=\"red\">**Question**:\n",
        "    Increase the number of estimators and visualize the impact on performance. You might have to adapt the learning rate. On Google Colab, here are the approximate training times<br> \n",
        "    - nb_estimators=256  and lr=0.8 ~  4 min<br>\n",
        "    - nb_estimators=512  and lr=0.6 ~  8 min<br>\n",
        "    - nb_estimators=1024 and lr=0.5 ~ 16 min\n",
        "</font>"
      ]
    },
    {
      "cell_type": "code",
      "metadata": {
        "id": "Ggzx0320YcX7",
        "colab_type": "code",
        "colab": {}
      },
      "source": [
        "xgb = XGBClassifier(n_estimators=512,verbosity=2 ,learning_rate=0.8,n_jobs=-1 )\n",
        "\n",
        "xgb.fit(Xtrain_oh,ytrain)"
      ],
      "execution_count": 0,
      "outputs": []
    },
    {
      "cell_type": "code",
      "metadata": {
        "id": "ukJR4ew78dfg",
        "colab_type": "code",
        "colab": {}
      },
      "source": [
        "#EVALUATION OF THE PERFORMANCE\n",
        "soft = xgb.predict(Xtest_oh)\n",
        "print(soft.shape)\n",
        "loss = log_loss(Xtest_oh,soft[:,1])\n",
        "accuracy = accuracy_score(ytest,soft[:,1])\n",
        "area = roc_auc_score(ytest,soft[:,1])\n",
        "\n",
        "print(\"accuracy :\",accuracy, \"roc area :\" , area,\"loss_log\" , loss)"
      ],
      "execution_count": 0,
      "outputs": []
    },
    {
      "cell_type": "markdown",
      "metadata": {
        "id": "CdGiGxdHYcX-",
        "colab_type": "text"
      },
      "source": [
        "# Features hashing and random forest"
      ]
    },
    {
      "cell_type": "markdown",
      "metadata": {
        "id": "Xl78yaijYcX_",
        "colab_type": "text"
      },
      "source": [
        "We restart with raw features before dummy encoding: Xtrain, Xtest.\n",
        "\n",
        "<font color=\"red\">**Question**:\n",
        "    Display again the number of modalities per feature in Xtrain. Use '.nunique()'\n",
        "</font>"
      ]
    },
    {
      "cell_type": "code",
      "metadata": {
        "id": "Pq6zsDXsYcYA",
        "colab_type": "code",
        "colab": {}
      },
      "source": [
        "# Fill here\n",
        "df = pd.read_csv(full_path)\n",
        "print(df.nunique())\n",
        "y = df[\"click\"].values\n",
        "df = df.drop(labels=[\"id\",\"click\"],axis=1)\n",
        "#X = df.values\n",
        "Xtrain,Xtest,ytrain,ytest = train_test_split(df,y,test_size = 0.1,random_state =100)"
      ],
      "execution_count": 0,
      "outputs": []
    },
    {
      "cell_type": "markdown",
      "metadata": {
        "id": "qIcJGDaxYcYC",
        "colab_type": "text"
      },
      "source": [
        "We want to define a transformation which regroups the least frequent modalities into a label 'isRare'. In order to do so, we decide to define our own Transformer.\n",
        "\n",
        "<font color=\"red\">**Question**:\n",
        "    Understand the different steps of 'fit' and 'transform'.\n",
        "</font>"
      ]
    },
    {
      "cell_type": "code",
      "metadata": {
        "id": "a7rJE9cSYcYC",
        "colab_type": "code",
        "colab": {}
      },
      "source": [
        "from sklearn.base import BaseEstimator, TransformerMixin\n",
        "\n",
        "#In genral, this class takes an input and transform each column either into the value contains in the column if the value is frequent, or into rare if the value is not frequent. \n",
        "class MergeRareTransformer(BaseEstimator, TransformerMixin):\n",
        "    \n",
        "    def __init__(self, col_names, threshold):\n",
        "        self.col_names = col_names\n",
        "        self.threshold = threshold\n",
        "\n",
        "    def fit(self, X, y=None):\n",
        "\n",
        "        X = pd.DataFrame(X)\n",
        "        counts_dict_list = []\n",
        "        ################## READ THIS #########################\n",
        "        for i in range(len(self.col_names)):\n",
        "            \n",
        "            serie = X[self.col_names[i]].value_counts()  # Série des counts de chaque modalité\n",
        "            rare_indexes = serie[serie<self.threshold[i]].index  # A quoi correspondent ces indices ?\n",
        "            #they correspond to the rare indexes for column i according to the threshold fixed in column i NB: indexes are actual value in column i\n",
        "            frequent_indexes = serie[serie >= self.threshold[i]].index  # A quoi correspondent ces indices ?\n",
        "            #they correspond to the frequent index for column i according to the threshold fixedin column i\n",
        "            dico = {x:'isRare' for x in rare_indexes}\n",
        "            dico.update({x: str(x) for x in frequent_indexes})\n",
        "            counts_dict_list.append(dico)   # Quel est le dictionnaire obtenu ?\n",
        "            #a dictionay contains all the values for the column i as key, and as value either isRare or the key according to idf the key is frequent or not.\n",
        "            \n",
        "        ######################################################\n",
        "            \n",
        "        self.counts_dict_list_ = counts_dict_list\n",
        "        return self\n",
        "\n",
        "    def transform(self, X):\n",
        "\n",
        "        Xt = pd.DataFrame()\n",
        "        ################## READ THIS #########################\n",
        "        for col, count_dict in zip(self.col_names, self.counts_dict_list_):\n",
        "            Xt[col] = X[col].apply(lambda x:count_dict[x] if x in count_dict else 'isRare')\n",
        "            # A quoi sert le \"else 'isRare'\" dans la transformation de la colonne ?\n",
        "            #il est utile si lors de la transfromation d'une colonne,on recontre un element qui n'as pas ete rencontré lors de la fit\n",
        "        ######################################################\n",
        "\n",
        "        return Xt       \n"
      ],
      "execution_count": 0,
      "outputs": []
    },
    {
      "cell_type": "markdown",
      "metadata": {
        "id": "IJqAjGMkYcYE",
        "colab_type": "text"
      },
      "source": [
        "<font color=\"red\">**Question:**\n",
        "    <br>\n",
        "    - Fit and transform the training set. To do so, merge all mmodalities occuring at least 20 times in each column.\n",
        "    <br>\n",
        "    - Transform the test set.\n",
        "</font>"
      ]
    },
    {
      "cell_type": "code",
      "metadata": {
        "id": "cO4wJxgOYcYF",
        "colab_type": "code",
        "colab": {}
      },
      "source": [
        "mg = MergeRareTransformer(col_names=Xtrain.columns, threshold=[20]*len(Xtrain.columns))\n",
        "Xtrain_mg = mg.fit_transform(Xtrain) # Fill here with fit_transform\n",
        "Xtest_mg = mg.transform(Xtest)"
      ],
      "execution_count": 0,
      "outputs": []
    },
    {
      "cell_type": "markdown",
      "metadata": {
        "id": "M0X1rEVJYcYI",
        "colab_type": "text"
      },
      "source": [
        "<font color=\"red\">**Question:**\n",
        "   How many elements of the column Xtrain_mg['app_domain'] are now labeled as 'rare'? Use the '.value_counts()' method.\n",
        "</font>"
      ]
    },
    {
      "cell_type": "code",
      "metadata": {
        "id": "5A3oL0BgYcYI",
        "colab_type": "code",
        "colab": {}
      },
      "source": [
        "# Fill here\n",
        "Xtrain_mg[\"app_domain\"].value_counts()\n",
        "#the answer is 513"
      ],
      "execution_count": 0,
      "outputs": []
    },
    {
      "cell_type": "markdown",
      "metadata": {
        "id": "4YqrBBiSYcYK",
        "colab_type": "text"
      },
      "source": [
        "<font color=\"red\">**Question:**\n",
        "   In the new train set, display the number of modalities for each feature.\n",
        "</font>"
      ]
    },
    {
      "cell_type": "code",
      "metadata": {
        "id": "g_jA_EBDYcYL",
        "colab_type": "code",
        "colab": {}
      },
      "source": [
        "# Fill here\n",
        "\n",
        "Xtrain.nunique()"
      ],
      "execution_count": 0,
      "outputs": []
    },
    {
      "cell_type": "markdown",
      "metadata": {
        "id": "0W2O7eoxYcYO",
        "colab_type": "text"
      },
      "source": [
        "Modalities are arbitrary object, such as '234', 'isRare', etc. We will now transorm them into integers with the hashing trick.\n",
        "\n",
        "<font color=\"red\">**Question:**\n",
        "   To better understand how the 'hash' function is working, apply it to a string of your choice.\n",
        "</font>"
      ]
    },
    {
      "cell_type": "code",
      "metadata": {
        "id": "4Xn6l5okYcYP",
        "colab_type": "code",
        "colab": {}
      },
      "source": [
        "import hashlib\n",
        "h =hash(\"ciao\") # Fill here"
      ],
      "execution_count": 0,
      "outputs": []
    },
    {
      "cell_type": "markdown",
      "metadata": {
        "id": "m0xFTKrSYcYT",
        "colab_type": "text"
      },
      "source": [
        "<font color=\"red\">**Question:**\n",
        "   Create two new datasets 'Xtrain_ha' and 'Xtest_ha' containing the output of the hashing process. Use the '.apply' method to transform iteratively the columns by mapping to each value its remainder in the euclidean division of the hash by 1000000. \n",
        "   Example:\n",
        "</font>\n",
        "</font>\n",
        "<p>\n",
        "<center>\n",
        "2060777048690<font color=\"red\">918393</font>  -->  918393\n",
        "</center>\n",
        "Remark: do not forget that the function 'hash' has to take a string as input."
      ]
    },
    {
      "cell_type": "code",
      "metadata": {
        "id": "Su-b4TJKYcYT",
        "colab_type": "code",
        "colab": {}
      },
      "source": [
        "Xtrain_ha = pd.DataFrame()\n",
        "Xtest_ha = pd.DataFrame()\n",
        "divisor = 1000000\n",
        "for col in Xtrain_mg.columns:\n",
        "    Xtrain_ha[col] = Xtrain_mg[col].apply(lambda x : hash(x)%divisor ) # Fill here defining a lambda function\n",
        "    Xtest_ha[col] = Xtest_mg[col].apply(lambda x : hash(x)%divisor )"
      ],
      "execution_count": 0,
      "outputs": []
    },
    {
      "cell_type": "markdown",
      "metadata": {
        "id": "uvVesMxDYcYV",
        "colab_type": "text"
      },
      "source": [
        "<font color=\"red\">**Question:**\n",
        "   Visualize the content of the DataFrames you have obtained.\n",
        "</font>"
      ]
    },
    {
      "cell_type": "code",
      "metadata": {
        "id": "lJAHncnZYcYW",
        "colab_type": "code",
        "colab": {}
      },
      "source": [
        "# Fill here\n",
        "print(Xtrain_ha)\n",
        "print(Xtest_ha)"
      ],
      "execution_count": 0,
      "outputs": []
    },
    {
      "cell_type": "markdown",
      "metadata": {
        "id": "4Xt7l9rvYcYX",
        "colab_type": "text"
      },
      "source": [
        "<font color=\"red\">**Question:**\n",
        "    <br>\n",
        "    - Train a RandomForestClassifier on Xtrain_ha and evaluate its performance on Xtest_ha. Chose 256 estimators, min_samples_leaf=20 and verbose=1 in order to monitor the fitting step. (If you have enough time, try later with 1024 estimators and min_samples_leaf=20).\n",
        "    <br>\n",
        "    - How do you fix 'n_jobs'? \n",
        "</font>\n",
        "i fix n_jobs by putting -1 which means i want to use all the processors availabel on the machine."
      ]
    },
    {
      "cell_type": "code",
      "metadata": {
        "id": "1CtFMlwKYcYX",
        "colab_type": "code",
        "colab": {}
      },
      "source": [
        "from sklearn.ensemble import RandomForestClassifier # Fill here\n",
        "rf =  RandomForestClassifier(n_estimators=256, min_samples_leaf=20,verbose=1,n_jobs= -1 )\n",
        "rf.fit(Xtrain_ha,ytrain)"
      ],
      "execution_count": 0,
      "outputs": []
    },
    {
      "cell_type": "code",
      "metadata": {
        "id": "h170ZelZYcYa",
        "colab_type": "code",
        "colab": {}
      },
      "source": [
        "soft = df.predict_proba(Xtest)\n",
        "log_loss(ytest, soft), roc_auc_score(ytest, soft)"
      ],
      "execution_count": 0,
      "outputs": []
    },
    {
      "cell_type": "markdown",
      "metadata": {
        "id": "3V1PmiFGYcYb",
        "colab_type": "text"
      },
      "source": [
        "<font color=\"red\">**Question:**\n",
        "   Compare with xgboost performance on the same hashed dataset, with n_estimators=256, n_jobs=-1, learning_rate=1.0. (If you have enough time try n_estimators=1024, n_jobs=-1, learning_rate=0.5, it will perform better than a Random Forest of 1024 trees).\n",
        "</font>"
      ]
    },
    {
      "cell_type": "code",
      "metadata": {
        "id": "efxpo945YcYc",
        "colab_type": "code",
        "colab": {}
      },
      "source": [
        "gdb = XGBClassifier(n_estimators=256,learning_rate=0.1,n_jobs = -1)  # Fill here\n",
        "%time xgb.fit(Xtrain_ha,ytrain) # the '%time' command will return the execution time of the fitting step"
      ],
      "execution_count": 0,
      "outputs": []
    },
    {
      "cell_type": "markdown",
      "metadata": {
        "id": "sQEvD6v9YcYf",
        "colab_type": "text"
      },
      "source": [
        "<font color=\"red\">**Question:**\n",
        "    Plot the ROC and the lift curves for the obtained classifier (xgboost on hashed data). What is the lift of the first fifth of the population identified by the test?\n",
        "</font>"
      ]
    },
    {
      "cell_type": "code",
      "metadata": {
        "id": "BTaxpNu8YcYg",
        "colab_type": "code",
        "colab": {}
      },
      "source": [
        "# Plot the ROC curve here"
      ],
      "execution_count": 0,
      "outputs": []
    },
    {
      "cell_type": "code",
      "metadata": {
        "id": "t5X212VxYcYf",
        "colab_type": "code",
        "colab": {}
      },
      "source": [
        "# Plot the lift curve here"
      ],
      "execution_count": 0,
      "outputs": []
    },
    {
      "cell_type": "markdown",
      "metadata": {
        "colab_type": "text",
        "id": "drSyzM_M8YJk"
      },
      "source": [
        "Your answer here\n",
        "\n",
        "..."
      ]
    },
    {
      "cell_type": "markdown",
      "metadata": {
        "id": "bs1_k3-hYcYj",
        "colab_type": "text"
      },
      "source": [
        "Hashing produces columns of integers arbitrarily ordered. One can wonder if adding more columns hashed in a different fashion would lead to better performance. \n",
        "\n",
        "<font color=\"red\">**Question:**\n",
        "    Add hashed columns by recursively hashing the previous ones: complete the following code. \n",
        "</font>"
      ]
    },
    {
      "cell_type": "code",
      "metadata": {
        "id": "q2X9YoNvYcYj",
        "colab_type": "code",
        "colab": {}
      },
      "source": [
        "Xtrain_haha = pd.DataFrame(Xtrain_ha).copy()\n",
        "Xtest_haha = pd.DataFrame(Xtest_ha).copy()\n",
        "\n",
        "n_hash = 3\n",
        "cols = Xtrain_ha.columns\n",
        "for l in range(n_hash):\n",
        "    for col in cols:\n",
        "        Xtrain_haha[col + '-hash'] = Xtrain_haha[col].apply(lambda x : hash(x)%divisor)\n",
        "        Xtest_haha[col + '-hash'] = Xtest_haha[col].apply(lambda x : hash(x)%divisor)\n",
        "    cols = [col + '-hash' for col in cols]"
      ],
      "execution_count": 0,
      "outputs": []
    },
    {
      "cell_type": "markdown",
      "metadata": {
        "id": "OgdtITAfYcYq",
        "colab_type": "text"
      },
      "source": [
        "<font color=\"red\">**Question:**\n",
        "    Evaluate the performance of a random forest and/or an xgboost clasifier (chose 256 estimators first and learning rate of 1.0 for xgboost) on these enlarged dataset. Is the performance better than when hasing features once?\n",
        "</font>"
      ]
    },
    {
      "cell_type": "code",
      "metadata": {
        "id": "DOk1idKAYcYr",
        "colab_type": "code",
        "colab": {}
      },
      "source": [
        "# Fill here\n",
        "\n",
        "rf =  RandomForestClassifier(n_estimators=256, min_samples_leaf=20,verbose=1,n_jobs= -1 )\n",
        "rf.fit(Xtrain_haha,ytrain)"
      ],
      "execution_count": 0,
      "outputs": []
    },
    {
      "cell_type": "code",
      "metadata": {
        "id": "BRZ72cTHdQ53",
        "colab_type": "code",
        "colab": {}
      },
      "source": [
        "gdb = XGBClassifier(n_estimators=256,learning_rate= 1.0,n_jobs = -1)  # Fill here\n",
        "%time xgb.fit(Xtrain_haha,ytrain) # the '%time' command will return the execution time of the fitting step"
      ],
      "execution_count": 0,
      "outputs": []
    },
    {
      "cell_type": "code",
      "metadata": {
        "id": "QW3nb8YKYcYt",
        "colab_type": "code",
        "colab": {}
      },
      "source": [
        "# Fill here\n",
        "\n",
        "soft_rf = df.predict_proba(Xtest)\n",
        "log_loss(ytest, soft_rf), roc_auc_score(ytest, soft_rf)\n",
        "\n",
        "soft_xgb = df.predict_proba(Xtest)\n",
        "log_loss(ytest, soft_xgb), roc_auc_score(ytest, soft_xgb)"
      ],
      "execution_count": 0,
      "outputs": []
    },
    {
      "cell_type": "markdown",
      "metadata": {
        "colab_type": "text",
        "id": "xusvruj8NWTp"
      },
      "source": [
        "Your answer here\n",
        "\n",
        "..."
      ]
    },
    {
      "cell_type": "markdown",
      "metadata": {
        "id": "7CxxdsyAYcYu",
        "colab_type": "text"
      },
      "source": [
        "Good job! :-) "
      ]
    },
    {
      "cell_type": "markdown",
      "metadata": {
        "colab_type": "text",
        "id": "3NTILkwg8fFQ"
      },
      "source": [
        "<font color=\"red\">**Bonus Question:**\n",
        "    If you have enough time (about 2 hours ...), try to fit both random forest and xgboost models with 1024 estimators (and a learning rate of 0.5 for xgboost) on these enlarged datasets.<br>\n",
        "    - Which one performs better?<br> \n",
        "    - Can you see the improvement due to the addition of more hashed features?\n",
        "</font>"
      ]
    },
    {
      "cell_type": "code",
      "metadata": {
        "id": "MO88fPXO8-9E",
        "colab_type": "code",
        "colab": {}
      },
      "source": [
        "# Fill here\n",
        "\n",
        "rf =  RandomForestClassifier(n_estimators=1024, min_samples_leaf=20,verbose=1,n_jobs= -1 )\n",
        "rf.fit(Xtrain_haha,ytrain)\n"
      ],
      "execution_count": 0,
      "outputs": []
    },
    {
      "cell_type": "code",
      "metadata": {
        "id": "RCM6SOn9e4k0",
        "colab_type": "code",
        "colab": {}
      },
      "source": [
        "gdb = XGBClassifier(n_estimators=1024,learning_rate= 1.0,n_jobs = -1)  # Fill here\n",
        "%time xgb.fit(Xtrain_haha,ytrain) # the '%time' command will return the execution time of the fitting step"
      ],
      "execution_count": 0,
      "outputs": []
    },
    {
      "cell_type": "code",
      "metadata": {
        "id": "edg7PuHne74F",
        "colab_type": "code",
        "colab": {}
      },
      "source": [
        "# Fill here\n",
        "\n",
        "soft_rf = df.predict_proba(Xtest)\n",
        "log_loss(ytest, soft_rf), roc_auc_score(ytest, soft_rf)\n",
        "\n",
        "soft_xgb = df.predict_proba(Xtest)\n",
        "log_loss(ytest, soft_xgb), roc_auc_score(ytest, soft_xgb)"
      ],
      "execution_count": 0,
      "outputs": []
    },
    {
      "cell_type": "markdown",
      "metadata": {
        "collapsed": true,
        "id": "gmT_UJvZIIWT",
        "colab_type": "text"
      },
      "source": [
        "# Field-aware Factorization Machines\n",
        "<br>\n",
        "<font color=\"red\">\n",
        "Display the names of the columns of the matrix Xtrain_ha\n",
        "</font>"
      ]
    },
    {
      "cell_type": "code",
      "metadata": {
        "id": "gLVRw6AtIIWU",
        "colab_type": "code",
        "colab": {}
      },
      "source": [
        "print(Xtrain_ha.columns)"
      ],
      "execution_count": 0,
      "outputs": []
    },
    {
      "cell_type": "markdown",
      "metadata": {
        "id": "jePx6DkuIIWU",
        "colab_type": "text"
      },
      "source": [
        "<font color=\"red\">\n",
        "Create a list of lists of the columns. The n-th sub-list is composed of the names of the columns of the n-th field.</font>"
      ]
    },
    {
      "cell_type": "code",
      "metadata": {
        "id": "Xw5rYhwJIIWV",
        "colab_type": "code",
        "colab": {}
      },
      "source": [
        "fields = []\n",
        "fields.append( liste_colonnes_du_premier_champ )\n",
        "fields.append( liste_colonnes_du_deuxième_champ )\n",
        "fields.append( etc. )\n"
      ],
      "execution_count": 0,
      "outputs": []
    },
    {
      "cell_type": "markdown",
      "metadata": {
        "id": "ZUu2FXaSIIWW",
        "colab_type": "text"
      },
      "source": [
        "<font color=\"red\">\n",
        "With the enumerate function, let generate a dictionary which associates each column name with its field.\n"
      ]
    },
    {
      "cell_type": "code",
      "metadata": {
        "id": "tWzYMksxIIWX",
        "colab_type": "code",
        "colab": {}
      },
      "source": [
        "dicFields = { ... : ...  for i,f in enumerate(fields) for name_col in f}"
      ],
      "execution_count": 0,
      "outputs": []
    },
    {
      "cell_type": "markdown",
      "metadata": {
        "id": "o2Scxx_CIIWZ",
        "colab_type": "text"
      },
      "source": [
        "We need to make sure that two different columns have different modalities. For this, we add in front of each modality a characteristic string of the column.\n",
        "\n",
        "<font color=\"red\">Perform this transformation with the apply method</font>\n"
      ]
    },
    {
      "cell_type": "code",
      "metadata": {
        "id": "Y253v6YBIIWa",
        "colab_type": "code",
        "colab": {}
      },
      "source": [
        "Xtrain_ffm = pd.DataFrame()\n",
        "Xtest_ffm = pd.DataFrame()\n",
        "for col in Xtrain_ha.columns:\n",
        "    Xtrain_ffm[col] = Xtrain_ha[col].apply( ... )\n",
        "    Xtest_ffm[col] = Xtest_ha[col].apply( ... )"
      ],
      "execution_count": 0,
      "outputs": []
    },
    {
      "cell_type": "markdown",
      "metadata": {
        "id": "yrhsnGjIIIWb",
        "colab_type": "text"
      },
      "source": [
        "With np.unique, we create the list of all the modalities appearing in all the columns."
      ]
    },
    {
      "cell_type": "code",
      "metadata": {
        "id": "7fcTcK4rIIWb",
        "colab_type": "code",
        "colab": {}
      },
      "source": [
        "allvals = []\n",
        "allcols_ffm = [col for f in fields for col in f]  # Toutes les colonnes appartenant à l'un des champ\n",
        "for col in allcols_ffm:\n",
        "    allvals.append(np.unique(Xtrain_ffm[col]))\n",
        "allvals= [val for sublist in allvals for val in sublist]"
      ],
      "execution_count": 0,
      "outputs": []
    },
    {
      "cell_type": "markdown",
      "metadata": {
        "id": "OBLCa95zIIWc",
        "colab_type": "text"
      },
      "source": [
        "<font color=\"red\">\n",
        "Using enumerate method, create a dictionary that at each value associates its rank in the allvals list.</font>"
      ]
    },
    {
      "cell_type": "code",
      "metadata": {
        "id": "TlcO1vu0IIWc",
        "colab_type": "code",
        "colab": {}
      },
      "source": [
        "dicFeat = {val:i for i,val in ... }"
      ],
      "execution_count": 0,
      "outputs": []
    },
    {
      "cell_type": "markdown",
      "metadata": {
        "id": "qS4cP1SgIIWd",
        "colab_type": "text"
      },
      "source": [
        "We build dataframe from dicFeat as follows:\n",
        "in each \"col\" column, the value \"x\" is replaced by the string \"f: v: 1\", where f is the field associated with the column and v is the index of the modality x.\n",
        "<font color=\"red\">\n",
        "Study the following code</font>"
      ]
    },
    {
      "cell_type": "code",
      "metadata": {
        "id": "FLXawWuYIIWd",
        "colab_type": "code",
        "colab": {}
      },
      "source": [
        "for col in allcols_ffm:\n",
        "    f = dicFields[col]\n",
        "    Xtrain_ffm[col] = Xtrain_ffm[col].apply(lambda x:\"{}:{}:1\".format(f,dicFeat[x]) if x in dicFeat else \"\")\n",
        "    Xtest_ffm[col] = Xtest_ffm[col].apply(lambda x:\"{}:{}:1\".format(f,dicFeat[x]) if x in dicFeat else \"\")"
      ],
      "execution_count": 0,
      "outputs": []
    },
    {
      "cell_type": "markdown",
      "metadata": {
        "id": "O8jnU8x8IIWe",
        "colab_type": "text"
      },
      "source": [
        "<font color=\"red\">For the two resulting dataframes, concatenate on the left the corresponding ytrain (or ytest) click column</font>"
      ]
    },
    {
      "cell_type": "code",
      "metadata": {
        "id": "6vVXBrtVIIWe",
        "colab_type": "code",
        "colab": {}
      },
      "source": [
        "yXtrain_ffm = pd.concat( ... ,axis=1)\n",
        "yXtest_ffm = pd.concat( ... ,axis=1)"
      ],
      "execution_count": 0,
      "outputs": []
    },
    {
      "cell_type": "markdown",
      "metadata": {
        "id": "2yKP8AdSIIWf",
        "colab_type": "text"
      },
      "source": [
        "<font color=\"red\">What does the following cell produce?</font>"
      ]
    },
    {
      "cell_type": "code",
      "metadata": {
        "id": "vlCgqefuIIWg",
        "colab_type": "code",
        "colab": {}
      },
      "source": [
        "train_w = yXtrain_ffm.apply(lambda row:' '.join(row.values),axis=1).values\n",
        "test_w = yXtest_ffm.apply(lambda row:' '.join(row.values),axis=1).values"
      ],
      "execution_count": 0,
      "outputs": []
    },
    {
      "cell_type": "markdown",
      "metadata": {
        "id": "7VI0cKgcIIWm",
        "colab_type": "text"
      },
      "source": [
        "<font color=\"red\">Write the above dataframe in a text file</font>"
      ]
    },
    {
      "cell_type": "code",
      "metadata": {
        "id": "fdJFgYQuIIWo",
        "colab_type": "code",
        "colab": {}
      },
      "source": [
        "thefile = open('train.txt','w')\n",
        "for item in train_w:\n",
        "    thefile.write(\"%s\\n\" % item)\n",
        "\n",
        "# Faire de même pour le test set\n"
      ],
      "execution_count": 0,
      "outputs": []
    },
    {
      "cell_type": "markdown",
      "metadata": {
        "id": "Z3-j2EGuIIWo",
        "colab_type": "text"
      },
      "source": [
        "To learn the FFM model, we use the LibFFM library https://www.csie.ntu.edu.tw/~cjlin/libffm/\n",
        "In the notebooks / directory there are two executables: ffm-train and ffm-predict.\n",
        "In jupyter notebook, the exclamation point! allows to launch a bash command.\n",
        "The use is as follows:\n",
        "\n",
        "-   `ffm-train'\n",
        "\n",
        "    usage: ffm-train [options] training_set_file [model_file]\n",
        "\n",
        "    options:  \n",
        "    -l <lambda>: set regularization parameter (default 0.00002)  \n",
        "    -k <factor>: set number of latent factors (default 4)  \n",
        "    -t <iteration>: set number of iterations (default 15)  \n",
        "    -r <eta>: set learning rate (default 0.2)  \n",
        "    -s <nr_threads>: set number of threads (default 1)  \n",
        "    -p <path>: set path to the validation set  \n",
        "    --quiet: quiet model (no output)  \n",
        "    --no-norm: disable instance-wise normalization  \n",
        "    --auto-stop: stop at the iteration that achieves the best validation loss (must be used with -p)  \n",
        "<br>\n",
        "<font color=\"red\">Learn the model. We can :\n",
        "- use an regularizer of 0.00001\n",
        "- use a learning rate of 0.05\n",
        "- use of the order of 15 latent factors\n",
        "- carry out the order of 30 iterations\n",
        "- with the -p option, change the test file to validation parameters\n",
        "- activate the --autostop mode\n",
        "</font> "
      ]
    },
    {
      "cell_type": "code",
      "metadata": {
        "id": "zgFB_Wz7IIWp",
        "colab_type": "code",
        "colab": {}
      },
      "source": [
        ""
      ],
      "execution_count": 0,
      "outputs": []
    },
    {
      "cell_type": "markdown",
      "metadata": {
        "id": "ksgNKsj8IIWs",
        "colab_type": "text"
      },
      "source": [
        "The use of ffm-predict is: ffm-predict filename-test file-name-model file-in-which-write-the-prediction \n",
        "<font color=\"red\">Perform the prediction</font>"
      ]
    },
    {
      "cell_type": "code",
      "metadata": {
        "id": "8J6KBW8OIIWs",
        "colab_type": "code",
        "colab": {}
      },
      "source": [
        ""
      ],
      "execution_count": 0,
      "outputs": []
    },
    {
      "cell_type": "markdown",
      "metadata": {
        "id": "pp02SsNnIIWt",
        "colab_type": "text"
      },
      "source": [
        "\n",
        "\n",
        "```\n",
        "# Ce texte est au format code\n",
        "```\n",
        "\n",
        "<font color=\"red\">Compute the log_loss and area under the roc curve (ROC AUC).</font>"
      ]
    },
    {
      "cell_type": "code",
      "metadata": {
        "id": "nFFrqJyZIIWu",
        "colab_type": "code",
        "colab": {}
      },
      "source": [
        ""
      ],
      "execution_count": 0,
      "outputs": []
    },
    {
      "cell_type": "markdown",
      "metadata": {
        "collapsed": true,
        "colab_type": "text",
        "id": "vqR8fOOBOqxx"
      },
      "source": [
        "# Blending"
      ]
    },
    {
      "cell_type": "markdown",
      "metadata": {
        "colab_type": "text",
        "id": "7-3iP_FwOqxw"
      },
      "source": [
        "<font color=\"red\">\n",
        "Split Xtrain in two: Xtrain_meth and Xtrain_blend.</font>"
      ]
    },
    {
      "cell_type": "code",
      "metadata": {
        "colab_type": "code",
        "id": "VOz5fHUgOqxr",
        "colab": {}
      },
      "source": [
        "Xtrain_meth, Xtrain_blend, ytrain_meth, ytrain_blend = train_test_split(Xtrain,ytrain,test_size=0.2)"
      ],
      "execution_count": 0,
      "outputs": []
    },
    {
      "cell_type": "markdown",
      "metadata": {
        "collapsed": true,
        "colab_type": "text",
        "id": "taRGY6UDOqxq"
      },
      "source": [
        "<font color=\"red\">\n",
        "Train a logistic regression on XTrain_meth. Then compute its score on Xtrain_blend and save the score in a vector.</font>"
      ]
    },
    {
      "cell_type": "code",
      "metadata": {
        "colab_type": "code",
        "id": "iLZ9eMbEOqxo",
        "colab": {}
      },
      "source": [
        ""
      ],
      "execution_count": 0,
      "outputs": []
    },
    {
      "cell_type": "markdown",
      "metadata": {
        "colab_type": "text",
        "id": "dENR18QvOqxn"
      },
      "source": [
        "<font color=\"red\">\n",
        "Do the same thing with XGBoost (save the score).</font>"
      ]
    },
    {
      "cell_type": "code",
      "metadata": {
        "colab_type": "code",
        "id": "8H4Z6I86Oqxl",
        "colab": {}
      },
      "source": [
        ""
      ],
      "execution_count": 0,
      "outputs": []
    },
    {
      "cell_type": "markdown",
      "metadata": {
        "colab_type": "text",
        "id": "b8voXiEwOqxk"
      },
      "source": [
        "<font color=\"red\">\n",
        "Do the same with a RandomForest (save the score).</font>"
      ]
    },
    {
      "cell_type": "code",
      "metadata": {
        "colab_type": "code",
        "id": "At6NVRKZOqxi",
        "colab": {}
      },
      "source": [
        ""
      ],
      "execution_count": 0,
      "outputs": []
    },
    {
      "cell_type": "markdown",
      "metadata": {
        "colab_type": "text",
        "id": "iJcPtHjLOqxh"
      },
      "source": [
        "<font color=\"red\">\n",
        "Now with an extraTrees.</font>"
      ]
    },
    {
      "cell_type": "code",
      "metadata": {
        "colab_type": "code",
        "id": "3GVkx2YjOqxf",
        "colab": {}
      },
      "source": [
        ""
      ],
      "execution_count": 0,
      "outputs": []
    },
    {
      "cell_type": "markdown",
      "metadata": {
        "colab_type": "text",
        "id": "wUy2BfQSOqxe"
      },
      "source": [
        "<font color=\"red\">\n",
        "And again with FFM.</font>"
      ]
    },
    {
      "cell_type": "code",
      "metadata": {
        "colab_type": "code",
        "id": "PmSahlQCOqxb",
        "colab": {}
      },
      "source": [
        ""
      ],
      "execution_count": 0,
      "outputs": []
    },
    {
      "cell_type": "markdown",
      "metadata": {
        "colab_type": "text",
        "id": "Jk56lAPTOqxZ"
      },
      "source": [
        "<font color=\"red\">\n",
        "Concatenate all scores on Xtrain_blend to form a Zblend design matrix.</font>"
      ]
    },
    {
      "cell_type": "code",
      "metadata": {
        "colab_type": "code",
        "id": "y4Fz0wSLOqxT",
        "colab": {}
      },
      "source": [
        ""
      ],
      "execution_count": 0,
      "outputs": []
    },
    {
      "cell_type": "markdown",
      "metadata": {
        "colab_type": "text",
        "id": "px1CkkL7OqxR"
      },
      "source": [
        "<font color=\"red\">\n",
        "Train a logistic regression on (Zblend,ytrain_blend).</font>"
      ]
    },
    {
      "cell_type": "code",
      "metadata": {
        "colab_type": "code",
        "id": "awqpZTPhOqxN",
        "colab": {}
      },
      "source": [
        ""
      ],
      "execution_count": 0,
      "outputs": []
    },
    {
      "cell_type": "markdown",
      "metadata": {
        "colab_type": "text",
        "id": "nzWT4vH-OqxJ"
      },
      "source": [
        "<font color=\"red\">\n",
        "Evaluate the performance of this model on the test dataset.</font>"
      ]
    },
    {
      "cell_type": "code",
      "metadata": {
        "colab_type": "code",
        "id": "zq_IriMnOqw6",
        "colab": {}
      },
      "source": [
        ""
      ],
      "execution_count": 0,
      "outputs": []
    }
  ]
}