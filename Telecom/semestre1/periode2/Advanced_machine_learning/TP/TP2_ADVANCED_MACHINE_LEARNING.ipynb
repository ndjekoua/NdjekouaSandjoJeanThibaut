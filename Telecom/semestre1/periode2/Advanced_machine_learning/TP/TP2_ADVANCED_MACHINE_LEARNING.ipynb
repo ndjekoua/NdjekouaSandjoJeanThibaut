{
  "nbformat": 4,
  "nbformat_minor": 0,
  "metadata": {
    "colab": {
      "name": "TP2_ADVANCED_MACHINE_LEARNING.ipynb",
      "provenance": []
    },
    "kernelspec": {
      "name": "python3",
      "display_name": "Python 3"
    }
  },
  "cells": [
    {
      "cell_type": "markdown",
      "metadata": {
        "id": "re57d_16sTzR",
        "colab_type": "text"
      },
      "source": [
        "#1 define M, N and the loss matrix"
      ]
    },
    {
      "cell_type": "code",
      "metadata": {
        "id": "fT2KnjkMq_xH",
        "colab_type": "code",
        "colab": {}
      },
      "source": [
        "import numpy as np\n",
        "\n",
        "M =3\n",
        "N =3\n",
        "#the loss matrix is defined with respect to one of the players.\n",
        "loss_matrix = np.array([[0,-1,1],[1,0,-1],[-1,1,0]])"
      ],
      "execution_count": 0,
      "outputs": []
    },
    {
      "cell_type": "markdown",
      "metadata": {
        "id": "AjH-8kIfsaBY",
        "colab_type": "text"
      },
      "source": [
        "#2) implementation of EWA"
      ]
    },
    {
      "cell_type": "markdown",
      "metadata": {
        "id": "MjO5xKtnsgg8",
        "colab_type": "text"
      },
      "source": [
        "#a) implement the function rand_exp\n"
      ]
    },
    {
      "cell_type": "code",
      "metadata": {
        "id": "RlHmBAJysemw",
        "colab_type": "code",
        "colab": {}
      },
      "source": [
        "def rand_exp(probability_vector):\n",
        "  action_index =np.random.randomchoice(range(M),P)\n",
        "  return probability_vector[action_index]"
      ],
      "execution_count": 0,
      "outputs": []
    },
    {
      "cell_type": "markdown",
      "metadata": {
        "id": "IB5UEgh-uKt4",
        "colab_type": "text"
      },
      "source": [
        "#b) define the function EWA_update"
      ]
    },
    {
      "cell_type": "code",
      "metadata": {
        "id": "DrXHxSTCuQ8R",
        "colab_type": "code",
        "colab": {}
      },
      "source": [
        "def EWA_update(probability_vector, loss_vector,eta,M):\n",
        "  denominator = 0\n",
        "  for j in range(M):\n",
        "    denominator+=probability_vector*(np.exp(-eta*loss_vector))\n",
        "  pt_next = probability_vector*(np.exp(-eta*loss_vector))/denominator\n",
        "  return pt_next "
      ],
      "execution_count": 0,
      "outputs": []
    },
    {
      "cell_type": "markdown",
      "metadata": {
        "id": "rtRrrkCVyKjo",
        "colab_type": "text"
      },
      "source": [
        "#3) simulation"
      ]
    },
    {
      "cell_type": "markdown",
      "metadata": {
        "id": "7He8D7wHyO2i",
        "colab_type": "text"
      },
      "source": [
        "#a)Simulation against a fixed adversary"
      ]
    },
    {
      "cell_type": "code",
      "metadata": {
        "id": "nAha2-ydyUCs",
        "colab_type": "code",
        "colab": {}
      },
      "source": [
        "qt = [1/2,1/4,1/4]\n"
      ],
      "execution_count": 0,
      "outputs": []
    }
  ]
}